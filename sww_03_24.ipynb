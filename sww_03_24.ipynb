{
 "cells": [
  {
   "cell_type": "code",
   "execution_count": 3,
   "id": "7cc44e83-ccce-4fd4-b076-b442905a1a4d",
   "metadata": {},
   "outputs": [
    {
     "name": "stdout",
     "output_type": "stream",
     "text": [
      "2 10 20\n"
     ]
    }
   ],
   "source": [
    "# 1000원짜리 지폐를 500원으로, 100원짜리 동전으로 교환\n",
    "money = 1000\n",
    "won_500 = money // 500\n",
    "won_100 = money // 100\n",
    "won_50 = money // 50\n",
    "print (won_500, won_100, won_50)"
   ]
  },
  {
   "cell_type": "code",
   "execution_count": 13,
   "id": "d4a0b4d1-efc0-4cac-9ac6-1c6db6fc0402",
   "metadata": {},
   "outputs": [
    {
     "name": "stdout",
     "output_type": "stream",
     "text": [
      "14 개 350 원\n",
      "0 원\n",
      "3 원\n",
      "1 원\n"
     ]
    }
   ],
   "source": [
    "# 구입 가능한 사탕의 수\n",
    "money = 18550\n",
    "candy = 1300\n",
    "# 사탕을 몇개 살 수 있고, 잔돈은 얼마인가?\n",
    "candy1= money // candy\n",
    "change = money % candy\n",
    "print(candy1,'개', change,'원')\n",
    "change_500 = change // 500\n",
    "change_100 = (change % 500) // 100\n",
    "change_50 = (change % 100) // 50\n",
    "print(change_500,'원')\n",
    "print(change_100,'원')\n",
    "print(change_50,'원')"
   ]
  },
  {
   "cell_type": "code",
   "execution_count": 21,
   "id": "2d08f3c1-1fd8-40cb-90b1-3770fff21b96",
   "metadata": {},
   "outputs": [
    {
     "name": "stdout",
     "output_type": "stream",
     "text": [
      "합계: 270 점\n",
      "평균: 90.0 점\n"
     ]
    }
   ],
   "source": [
    "# 세 과목에 대한 성적을 각각 변수에 저장한 후 합계와 평균을 출력\n",
    "kor,eng,mat = 100,90,80\n",
    "sum = kor + eng + mat\n",
    "avg = sum/3\n",
    "print('합계:',sum,'점')\n",
    "print('평균:',avg,'점')"
   ]
  },
  {
   "cell_type": "code",
   "execution_count": 23,
   "id": "56fa32dd-af90-47ff-9c34-7606b7d04367",
   "metadata": {},
   "outputs": [
    {
     "name": "stdout",
     "output_type": "stream",
     "text": [
      "3 8 4\n"
     ]
    }
   ],
   "source": [
    "n=384\n",
    "d100= (n//100)\n",
    "d10 = (n%100) // 10\n",
    "d1 = n%10\n",
    "print(d100,d10,d1)"
   ]
  },
  {
   "cell_type": "code",
   "execution_count": 31,
   "id": "14a0bfd3-aafe-4efa-a3a4-2f2fa5106af3",
   "metadata": {},
   "outputs": [
    {
     "name": "stdout",
     "output_type": "stream",
     "text": [
      "1 시간 2 분 30 초\n"
     ]
    }
   ],
   "source": [
    "time = 3750\n",
    "h = time // (60*60)\n",
    "m = time % (60*60) // 60\n",
    "s = time % 60\n",
    "print (h,'시간',m,'분',s,'초')"
   ]
  },
  {
   "cell_type": "code",
   "execution_count": 33,
   "id": "5d2d231c-15eb-4809-a263-146e441c1ab5",
   "metadata": {},
   "outputs": [
    {
     "name": "stdout",
     "output_type": "stream",
     "text": [
      "총 매출액: 110000\n",
      "재료비: 100000\n",
      "순이익: 10000\n"
     ]
    }
   ],
   "source": [
    "ame = 2000\n",
    "cafelatee = 3000\n",
    "cafemoca = 4000\n",
    "total= (ame*20)+(cafelatee*10)+(cafemoca*10)\n",
    "mat_price = 100000\n",
    "profit = total - mat_price\n",
    "print('총 매출액:',total)\n",
    "print('재료비:',mat_price)\n",
    "print('순이익:',profit)"
   ]
  },
  {
   "cell_type": "code",
   "execution_count": 35,
   "id": "a4cd1d57-c9a5-4d97-9430-9d531bc34b44",
   "metadata": {},
   "outputs": [
    {
     "name": "stdout",
     "output_type": "stream",
     "text": [
      "당신의 이름은 무엇입니까?\n"
     ]
    },
    {
     "name": "stdin",
     "output_type": "stream",
     "text": [
      " 서원우\n"
     ]
    },
    {
     "name": "stdout",
     "output_type": "stream",
     "text": [
      "당신의 이름은: 서원우\n"
     ]
    }
   ],
   "source": [
    "print('당신의 이름은 무엇입니까?')\n",
    "name= input()\n",
    "print('당신의 이름은:',name)"
   ]
  },
  {
   "cell_type": "code",
   "execution_count": 37,
   "id": "595163b0-47a5-4fc7-9c80-8a9c569ad3cb",
   "metadata": {},
   "outputs": [
    {
     "name": "stdin",
     "output_type": "stream",
     "text": [
      "당신의 나이는 무엇입니까? 24\n"
     ]
    },
    {
     "name": "stdout",
     "output_type": "stream",
     "text": [
      "242424\n"
     ]
    }
   ],
   "source": [
    "age = input('당신의 나이는 무엇입니까?')\n",
    "print(age*3)\n",
    "#input을 통해 입력받은 데이터는는 무조건 문자로 저장된다."
   ]
  },
  {
   "cell_type": "code",
   "execution_count": 39,
   "id": "0f2b1812-cabf-4f6f-97a6-e7f767668bd5",
   "metadata": {},
   "outputs": [
    {
     "name": "stdin",
     "output_type": "stream",
     "text": [
      "첫번째 수를 입력하시오 10\n",
      "두번째 수를 입력하시오 20\n"
     ]
    },
    {
     "name": "stdout",
     "output_type": "stream",
     "text": [
      "두 수의 합은: 1020\n"
     ]
    }
   ],
   "source": [
    "n1 = input('첫번째 수를 입력하시오')\n",
    "n2 = input('두번째 수를 입력하시오')\n",
    "print('두 수의 합은:',n1+n2)"
   ]
  },
  {
   "cell_type": "code",
   "execution_count": 41,
   "id": "cd9b5def-cee0-48b5-a644-bcfcdf5317f8",
   "metadata": {},
   "outputs": [
    {
     "name": "stdin",
     "output_type": "stream",
     "text": [
      "첫번째 수를 입력하시오 10\n",
      "두번째 수를 입력하시오 20\n"
     ]
    },
    {
     "name": "stdout",
     "output_type": "stream",
     "text": [
      "두 수의 합은: 30\n"
     ]
    }
   ],
   "source": [
    "n1 = int(input('첫번째 수를 입력하시오'))\n",
    "n2 = int(input('두번째 수를 입력하시오'))\n",
    "print('두 수의 합은:',n1+n2)"
   ]
  },
  {
   "cell_type": "code",
   "execution_count": 45,
   "id": "93663282-9f06-478f-832f-5a5ccc3b06ad",
   "metadata": {},
   "outputs": [
    {
     "name": "stdin",
     "output_type": "stream",
     "text": [
      "첫번째 수를 입력하시오 30\n",
      "두번째 수를 입력하시오 60\n"
     ]
    },
    {
     "name": "stdout",
     "output_type": "stream",
     "text": [
      "두 수의 합은: 90\n"
     ]
    }
   ],
   "source": [
    "n1 = input('첫번째 수를 입력하시오')\n",
    "n2 = input('두번째 수를 입력하시오')\n",
    "print('두 수의 합은:',int(n1)+int(n2))"
   ]
  },
  {
   "cell_type": "code",
   "execution_count": 77,
   "id": "6f91c9e4-6a92-47b6-b839-25efdb3f4da9",
   "metadata": {},
   "outputs": [
    {
     "name": "stdout",
     "output_type": "stream",
     "text": [
      "박재영은 25 세이다\n",
      "박재영은25세이다\n",
      "박재영은25세이다\n"
     ]
    }
   ],
   "source": [
    "#'박재영은 25세이다'\n",
    "print('박재영은',25,'세이다')\n",
    "print('박재영은'+str(25)+'세이다')\n",
    "print('박재영은'+'25'+'세이다')"
   ]
  },
  {
   "cell_type": "code",
   "execution_count": 97,
   "id": "8f1c8555-bf9a-4b9c-a31e-91c3e8e46d2a",
   "metadata": {},
   "outputs": [
    {
     "name": "stdin",
     "output_type": "stream",
     "text": [
      "숫자 입력: 12.215\n"
     ]
    },
    {
     "name": "stdout",
     "output_type": "stream",
     "text": [
      "24.43\n"
     ]
    }
   ],
   "source": [
    "c=float(input('숫자 입력:'))\n",
    "print(c*2)"
   ]
  },
  {
   "cell_type": "code",
   "execution_count": 129,
   "id": "5dd8ca1e-ac8d-4660-bad5-e1968e9de770",
   "metadata": {},
   "outputs": [
    {
     "name": "stdin",
     "output_type": "stream",
     "text": [
      "당신의 이름을 입력: 서원우\n"
     ]
    },
    {
     "name": "stdout",
     "output_type": "stream",
     "text": [
      "당신의 이름은서원우입니다\n",
      "당신의 이름은 서원우 입니다\n"
     ]
    }
   ],
   "source": [
    "name = input('당신의 이름을 입력:')\n",
    "print('당신의 이름은'+name+'입니다')\n",
    "print('당신의 이름은',name,'입니다')"
   ]
  },
  {
   "cell_type": "code",
   "execution_count": 127,
   "id": "48f4a5e6-f664-48ac-9b21-b682d506f80d",
   "metadata": {},
   "outputs": [
    {
     "name": "stdin",
     "output_type": "stream",
     "text": [
      "당신의 이름을 입력: 서원우\n",
      "당신의 이름은서원우입니다 yes\n"
     ]
    },
    {
     "name": "stdout",
     "output_type": "stream",
     "text": [
      "안녕하세요서원우님\n"
     ]
    }
   ],
   "source": [
    "name = input('당신의 이름을 입력:')\n",
    "que=input('당신의 이름은'+name+'입니다')\n",
    "if que == 'y'  or que == 'yes' :\n",
    "        print('안녕하세요'+name+'님')\n",
    "else :\n",
    "    print('이름을 다시 입력해주세요:')"
   ]
  },
  {
   "cell_type": "code",
   "execution_count": 123,
   "id": "cf067168-f5a8-48a7-a2e2-efd85f57140c",
   "metadata": {},
   "outputs": [
    {
     "name": "stdout",
     "output_type": "stream",
     "text": [
      "5 + 10 = 16\n"
     ]
    }
   ],
   "source": [
    "#format 연산자\n",
    "print(\"{} + {} = {}\".format(5,10,6+10))"
   ]
  },
  {
   "cell_type": "code",
   "execution_count": 125,
   "id": "739472ad-7f9c-4c1d-8335-d6f7d0b75697",
   "metadata": {},
   "outputs": [
    {
     "name": "stdout",
     "output_type": "stream",
     "text": [
      "서원우는 24세이고, 혈액형은 ab이다.\n"
     ]
    }
   ],
   "source": [
    "print(\"{}는 {}세이고, 혈액형은 {}이다.\".format('서원우',24,'ab'))"
   ]
  },
  {
   "cell_type": "code",
   "execution_count": null,
   "id": "d9eb2624-a2f4-40fa-b79e-054bba42b3cd",
   "metadata": {},
   "outputs": [],
   "source": []
  }
 ],
 "metadata": {
  "kernelspec": {
   "display_name": "Python 3 (ipykernel)",
   "language": "python",
   "name": "python3"
  },
  "language_info": {
   "codemirror_mode": {
    "name": "ipython",
    "version": 3
   },
   "file_extension": ".py",
   "mimetype": "text/x-python",
   "name": "python",
   "nbconvert_exporter": "python",
   "pygments_lexer": "ipython3",
   "version": "3.12.4"
  }
 },
 "nbformat": 4,
 "nbformat_minor": 5
}
