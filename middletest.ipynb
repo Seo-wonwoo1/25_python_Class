{
 "cells": [
  {
   "cell_type": "code",
   "execution_count": 124,
   "id": "4cbd1cdf-164e-4fec-8552-f0edab508be7",
   "metadata": {},
   "outputs": [
    {
     "name": "stdout",
     "output_type": "stream",
     "text": [
      "********************\n",
      "서원우서원우\n",
      "********************\n"
     ]
    }
   ],
   "source": [
    "#주석은 프로그램에 영향을 전혀 주지않음.\n",
    "print('*' *20) #문자표시는 소따옴표를 사용\n",
    "print('서원우' *2)\n",
    "print('*' *20)\n",
    "\n",
    "#모드- 에드트 모드, 컨트롤 모드\n",
    "#에디트 모드 - 프로그램 작성 편집모드라고 한다..\n",
    "#컨트롤 모드 - 셀간 이동이나 단축키 적용을 위한, 제어모드\n",
    "#단축키 - \n",
    "# b: 아래에 빈셀을 추가\n",
    "# a: 위에 빈셀을 추가\n",
    "# c: 셀 복사\n",
    "# v: 셀 붙여넣기\n",
    "# dd: 셀 삭제\n",
    "# x: 셀 삭제\n",
    "# z: 되돌리기\n",
    "# m: 마크다운 모드\n",
    "# y: 코드 모드\n",
    "# ctrl + enter: 그냥실행\n",
    "# shift + enter: 아레셀로 이동(셀이없을경우 생성)\n",
    "# alt + enter: 아레셀 추가 및 이동\n",
    "# Code - 코드 편집(작성)을 위한 모드\n",
    "# Markdown - 문서 편집을 위한 모드\n",
    "\n",
    "\n",
    "# snake : test_file_last\n",
    "# camel : testFileLast\n",
    "# paskal: TestFileLast"
   ]
  },
  {
   "cell_type": "code",
   "execution_count": 126,
   "id": "7a43fb98-0fff-444a-a479-3bb9e5bea743",
   "metadata": {},
   "outputs": [],
   "source": [
    "# 변수 이름(변수명)을 정하는 규칙\n",
    "# 1. 변수에 할당되는 데이터의 의미에 맞도록 만들자.\n",
    "# 2. 변수명을 만들때, 영어, 숫자, 특수문자 사용가능\n",
    "# 3. 변수의 맨 앞에는 숫자가 올 수 없다. (num3 (o), 3num (x) )\n",
    "# 4. 특수문자는 오로지 _(언더바)만 사용이 가능하다.\n",
    "# !@#$%^ (x) _ (o)\n",
    "# 5. 대소문자가 구별된다.\n",
    "# 6. 띄어쓰기는 허용하지 않는다. (manage) (x), (man_age) (o)\n",
    "        # man_age, manAge, ManAge\n",
    "# 7. 예약어는 사용할 수 없다. \n",
    "# print, for, if, while, else, def, False, True, int"
   ]
  },
  {
   "cell_type": "code",
   "execution_count": null,
   "id": "2c7c1f63-0f04-40d5-b594-0ea07235e9c0",
   "metadata": {},
   "outputs": [],
   "source": [
    "# python을 사용하는이유\n",
    "# 1. 문법이쉽고 프로그램 작성이 간편하다.\n",
    "# 2. 실무에서 많이사용되어 활용된다.\n",
    "# 3. 학습 환경이 풍부하다\n",
    "# 4. 다른프로그래밍 언어와 결합하여 다양한 환경에서 실행할 수 있다.\n",
    "\n",
    "# python으로 할 수 있는 것\n",
    "# 1. 시스템유틸리티 제작\n",
    "# 2. GUI 프로그래밍\n",
    "# 3. 웹 프로그래밍\n",
    "# 4. 수치연산 프로그래밍\n",
    "# 5. 데이터 분석\n",
    "\n",
    "# 문장을 끝내는 방식을 줄바꿈을 사용\n",
    "\n",
    "# 변수의 개념\n",
    "# 1. 변수(variable)는 쉽게 변하는 수로 프로그램이 동작하면서 어떤 상황 혹은 상태에 따라 변화하는 어떤 자료를 담아두기위해 개념이다.\n",
    "# 2. 변수명 = 값 형식으로 사용하며 특정 값을 저장하고 기억하기 위한 목적으로 사용된다.\n",
    "# 3. 변수에는 숫자형(정수,실수),문자형(문자열형), 불, 리스트,딕셔너리 등 거의 대부분의 무언가를 할당할 수 있다.\n",
    "# 4. 컴퓨터에서 값을 저장하는 기억장치(메모리) 공간으로 변수를 사용하면 효율적인 프로그램을 작성할 수 있다.\n",
    "\n",
    "# 변수 특징\n",
    "# 1. 일시적으로 자료를 저장하는 공간\n",
    "# 2. 변수에 저장된 값은 변할 수 있다.\n",
    "# 3. 변수에는 숫자,문자열 등 모든 자료형을 저장할 수 있다.\n",
    "# 4. 변수에는 다른 변수의 값도 저장할 수 있다.\n",
    "# 5. 변수는 사용되기 전에 반드시 할당되어 있어야 한다. -> NameError\n",
    "\n",
    "# 변수 생성 및 규칙\n",
    "# 1. 영문자,숫자,밑줄 로 구성될 수 있으며 첫 글자는 반드시 영문자/언더바 로 시작한다. 언더바이외의 특수문자는 사용할 수 있다\n",
    "# 2. 공백이 들어가면 안된다\n",
    "# 3. 대문자와 소문자를 구별한다.\n",
    "# 4. 파이썬에서 다른 용도로 사용되는 예약어는 변수명으로 사용할 수 없다.\n",
    "\n",
    "# 다이나믹 타이핑, 객체지향 프로그래밍 \n",
    "\n",
    "# 변수의 종류\n",
    "# 1.정수형 int\n",
    "# 2.실수형 float\n",
    "# 3.문자열형 str\n",
    "# 4.불형 bool\n",
    "\n",
    "# 연산자\n",
    "# 1. 산술 연산자\n",
    "#     1 더하기 :+\n",
    "#     2 뺴기  :-\n",
    "#     3 곱하기 :*\n",
    "#     4 나누기 :/   -> 반드시 실수형\n",
    "#     5 나머지 :%\n",
    "#     6 제곱  :**\n",
    "#     7 몫   ://\n",
    "\n",
    "# 2. 대입 연산자\n",
    "#     1 =\n",
    "#     2 +=\n",
    "#     3 -=\n",
    "#     4 *=\n",
    "#     5 /=\n",
    "#     6 %=\n",
    "#     7 **=\n",
    "#     8 //=\n",
    "\n",
    "# 3. 비교 연산자\n",
    "#    1 ==\n",
    "#    2 !=\n",
    "#    3 >\n",
    "#    4 >=\n",
    "#    5 <\n",
    "#    6 <=\n",
    "\n",
    "# 4. 논리 연산자\n",
    "#    1 and\n",
    "#    2 or\n",
    "#    3 not\n",
    "\n",
    "# 5. 문자열 연산자\n",
    "#    1 +\n",
    "#    2 *"
   ]
  },
  {
   "cell_type": "code",
   "execution_count": 130,
   "id": "232322c3-f01f-464e-a2fe-e10b3a5443c6",
   "metadata": {},
   "outputs": [
    {
     "data": {
      "text/plain": [
       "True"
      ]
     },
     "execution_count": 130,
     "metadata": {},
     "output_type": "execute_result"
    }
   ],
   "source": [
    "# 학년이 1학년이고, 평균 취득 학점이 4.5 이상을 만족하는 조건식\n",
    "# year == 1 and score >= 4.5\n",
    "addr ='서울'\n",
    "toeic = 900\n",
    "com ='A'\n",
    "addr == '서울' or addr == '경기도'\n",
    "toeic >= 800 or com =='A학점'"
   ]
  },
  {
   "cell_type": "code",
   "execution_count": null,
   "id": "e44abddd-3822-4b7a-a644-5f6739662ccb",
   "metadata": {},
   "outputs": [],
   "source": [
    "# input() : 자료를 입력받는다\n",
    "# input 으로 입력받은 모든 자료를 문자열로 저장"
   ]
  },
  {
   "cell_type": "code",
   "execution_count": 24,
   "id": "cc150059-bae1-49cb-8514-cb3235f814c9",
   "metadata": {},
   "outputs": [
    {
     "name": "stdout",
     "output_type": "stream",
     "text": [
      "이름은: 서원우 나이는: 24\n",
      "이름은: 서원우 나이는: 24\n",
      "이름은: 서원우 나이는: 24\n",
      "이름은: 서원우 나이는: 24\n"
     ]
    }
   ],
   "source": [
    "# 출력\n",
    "# 1. 콤마  \n",
    "# 2. %형식지정자\n",
    "# 3. format()\n",
    "# 4. f-string\n",
    "\n",
    "name = '서원우'\n",
    "age = 24\n",
    "print('이름은:',name,'나이는:',age)\n",
    "print('이름은: %s 나이는: %d' %(name,age))\n",
    "print('이름은: {} 나이는: {}'.format(name,age))\n",
    "print(f'이름은: {name} 나이는: {age}')"
   ]
  },
  {
   "cell_type": "code",
   "execution_count": 60,
   "id": "72b5f209-ea68-46fc-a1a9-5da6b7d0fb6d",
   "metadata": {},
   "outputs": [
    {
     "name": "stdout",
     "output_type": "stream",
     "text": [
      "이름은: 서원우 나이는: 24.11\n",
      "이름은: 서원우 나이는: 24.1\n",
      "이름은: 서원우 나이는: 24.11\n",
      "이름은: 서원우 나이는: 24.11\n"
     ]
    }
   ],
   "source": [
    "name = '서원우'\n",
    "age = 24.11\n",
    "print('이름은:',name,'나이는:',age)\n",
    "print('이름은: %s 나이는: %.1f' % (name,age))\n",
    "print('이름은: {} 나이는: {:.2f}'.format(name,age))\n",
    "print(f'이름은: {name} 나이는: {age:.2f}')"
   ]
  },
  {
   "cell_type": "code",
   "execution_count": 82,
   "id": "2ce0cdd4-e4d3-44cb-bd34-9cfee126980f",
   "metadata": {},
   "outputs": [
    {
     "name": "stdin",
     "output_type": "stream",
     "text": [
      "키 입력: 169.1245\n"
     ]
    },
    {
     "name": "stdout",
     "output_type": "stream",
     "text": [
      "79.1\n",
      "79.125\n",
      "79\n"
     ]
    }
   ],
   "source": [
    "height = float(input('키 입력:'))\n",
    "weight = height -100 *0.9\n",
    "print(f'{weight:.1f}')\n",
    "print('%.3f' %weight)\n",
    "print(int(weight))"
   ]
  },
  {
   "cell_type": "code",
   "execution_count": 108,
   "id": "dfc0e8bf-e138-493b-82fb-c2238132a5dc",
   "metadata": {},
   "outputs": [
    {
     "name": "stdin",
     "output_type": "stream",
     "text": [
      "숫자1 입력: 20\n",
      "숫자2 입력: 10\n"
     ]
    },
    {
     "name": "stdout",
     "output_type": "stream",
     "text": [
      "20 + 10 = 30\n",
      "20 - 10 = 10\n",
      "20 * 10 = 200\n",
      "20 / 10 = 2.00\n"
     ]
    }
   ],
   "source": [
    "a = int(input('숫자1 입력:'))\n",
    "b = int(input('숫자2 입력:'))\n",
    "\n",
    "print(a,'+',b,'=',a+b)\n",
    "print('%d - %d = %d' %(a,b,a-b))\n",
    "print('{} * {} = {}'.format(a,b,a*b))\n",
    "print(f'{a} / {b} = {a/b:.2f}')"
   ]
  },
  {
   "cell_type": "code",
   "execution_count": 118,
   "id": "4d37a765-bc26-43b8-99af-3808fc1cdc49",
   "metadata": {},
   "outputs": [
    {
     "name": "stdout",
     "output_type": "stream",
     "text": [
      "[1, 2, [3, 4], 5, 6, '서', '원', '우', '김지웅']\n",
      "김지웅\n"
     ]
    },
    {
     "data": {
      "text/plain": [
       "'김지웅'"
      ]
     },
     "execution_count": 118,
     "metadata": {},
     "output_type": "execute_result"
    }
   ],
   "source": [
    "a = [1,2]\n",
    "a.extend([[3,4]])\n",
    "a.extend([5,6])\n",
    "a.extend('서원우')\n",
    "a.extend(['김지웅'])\n",
    "print(a)\n",
    "print(a[8])\n",
    "a[8]"
   ]
  },
  {
   "cell_type": "code",
   "execution_count": 116,
   "id": "1514a1ba-1219-452e-88ae-ce13daf73e81",
   "metadata": {},
   "outputs": [
    {
     "name": "stdout",
     "output_type": "stream",
     "text": [
      "good luck\n",
      "good luck\n"
     ]
    }
   ],
   "source": [
    "c = 'good luck'\n",
    "print(c[:])\n",
    "print(c)"
   ]
  },
  {
   "cell_type": "code",
   "execution_count": 122,
   "id": "bb5c527a-07de-440c-bea9-fe50e8a59ddd",
   "metadata": {},
   "outputs": [
    {
     "name": "stdout",
     "output_type": "stream",
     "text": [
      "서원우\n"
     ]
    }
   ],
   "source": [
    "d ='서원우'\n",
    "print(d)"
   ]
  },
  {
   "cell_type": "code",
   "execution_count": null,
   "id": "df2c6b11-60c8-4e6f-be58-f025d915c5a1",
   "metadata": {},
   "outputs": [],
   "source": [
    "컬렉션자료형: 리스트, 튜플, 딕셔너리, 집합\n",
    "리스트: 콤마로구분, 요소(element)"
   ]
  },
  {
   "cell_type": "code",
   "execution_count": 132,
   "id": "537a7284-7a84-48b9-ac97-9284f899f0d6",
   "metadata": {},
   "outputs": [],
   "source": [
    "# 리스트, 튜플, 딕셔너리, 집합(set)\n",
    "# 리스트의 메서드(method)는 리스트객체에서 사용하는 내장 함수\n",
    "#추가\n",
    "# 1.append-붙이다 a.append(11) a.append([11,12])    -마지막에추가, 1개의원소만 받을 수 있음\n",
    "# 2.extend-확장   a.extend([11,12])  extend('문자열'): 문자열을 쪼개서 넣음 , \n",
    "#                                                    정수를 이렇게 넣으면 에러\n",
    "#                                   extend(['문자열']): 문자열을 그대로 넣음  \n",
    "\n",
    "# 3.insert       a.insert(0,1)   0번인덱스에 1추가\n",
    "\n",
    "# #삭제\n",
    "# 4.clear        a.clear()     -모든 요소 제거\n",
    "# 5.remove       a.remove(11)  -앞에 있는 요소 삭제\n",
    "# 6.pop          a.pop(), - 맨마지막 요소 제거및반환  a.pop(11)- 11번인덱스 제거및반환\n",
    "\n",
    "# #정렬\n",
    "# 7.sort         a.sort()     -리스트 오름차순 정렬\n",
    "# 8.reverse      a.reverse()  -리스트 순서 반전\n",
    "\n",
    "# #기타\n",
    "# 9.copy         a.copy()      -얕은,깊은복사\n",
    "# 10.count       a.count(11)   -11이 몇번 나오는지 세기\n",
    "# 11.index       a.index(11)   -11의 첫번째 인덱스 반환     \n",
    "# 번외- len       len(a)       -리스트의 메서드가 아닌 파이썬의 내장함수\n",
    "#                               객체의 길이(크기)를 반환하는 함수, 요소의 개수 반환\n",
    "\n",
    "#*** 리스트안의 문자열에는 반드시 '' 가 붙음."
   ]
  },
  {
   "cell_type": "code",
   "execution_count": 134,
   "id": "145e2085-54b3-4324-bb5a-e96a8dd37ace",
   "metadata": {},
   "outputs": [
    {
     "name": "stdout",
     "output_type": "stream",
     "text": [
      "[1, 3, 2, 4, 0]\n",
      "[0, 1, 2, 3, 4]\n"
     ]
    }
   ],
   "source": [
    "n6 = [1,3,2,4,0]\n",
    "n7 = sorted(n6) # 원본을 유지하고 싶으면 sorted 사용\n",
    "print(n6)\n",
    "print(n7)"
   ]
  },
  {
   "cell_type": "code",
   "execution_count": 136,
   "id": "8f13a703-83b1-4f07-9eb1-df8b3c5c4259",
   "metadata": {},
   "outputs": [
    {
     "data": {
      "text/plain": [
       "[4, 3, 2, 1, 0]"
      ]
     },
     "execution_count": 136,
     "metadata": {},
     "output_type": "execute_result"
    }
   ],
   "source": [
    "n6 = [1,3,2,4,0]\n",
    "n7 = n6.copy()\n",
    "n7.sort(reverse=True) # 내림차순\n",
    "n7"
   ]
  },
  {
   "cell_type": "code",
   "execution_count": null,
   "id": "26ed06fa-de46-46c7-b77b-a05748ef25ce",
   "metadata": {},
   "outputs": [],
   "source": []
  }
 ],
 "metadata": {
  "kernelspec": {
   "display_name": "Python 3 (ipykernel)",
   "language": "python",
   "name": "python3"
  },
  "language_info": {
   "codemirror_mode": {
    "name": "ipython",
    "version": 3
   },
   "file_extension": ".py",
   "mimetype": "text/x-python",
   "name": "python",
   "nbconvert_exporter": "python",
   "pygments_lexer": "ipython3",
   "version": "3.12.4"
  }
 },
 "nbformat": 4,
 "nbformat_minor": 5
}
