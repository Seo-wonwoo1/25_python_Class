{
 "cells": [
  {
   "cell_type": "code",
   "execution_count": 1,
   "id": "bae825d9-765e-4ae7-b12b-3987639fcf5c",
   "metadata": {},
   "outputs": [],
   "source": [
    "# 리스트, 튜플\n",
    "# 딕셔너리, 집합\n",
    "# 연습문제, 도전문제"
   ]
  },
  {
   "cell_type": "code",
   "execution_count": 33,
   "id": "fcd0efb3-789c-4cb2-87bf-ee921fb24738",
   "metadata": {},
   "outputs": [
    {
     "data": {
      "text/plain": [
       "[0, 1, 2, 3]"
      ]
     },
     "execution_count": 33,
     "metadata": {},
     "output_type": "execute_result"
    }
   ],
   "source": [
    "l1 = [1,2,3]\n",
    "l1.insert(0,0)\n",
    "l1"
   ]
  },
  {
   "cell_type": "code",
   "execution_count": 35,
   "id": "318fb9aa-d7f5-43b9-9602-0d76c28c8d1f",
   "metadata": {},
   "outputs": [
    {
     "data": {
      "text/plain": [
       "[0, 1, 2, 3, 4, 5]"
      ]
     },
     "execution_count": 35,
     "metadata": {},
     "output_type": "execute_result"
    }
   ],
   "source": [
    "l1.extend([4,5])\n",
    "l1"
   ]
  },
  {
   "cell_type": "code",
   "execution_count": 37,
   "id": "4946ac5c-97b4-4d12-ac65-ec666c403e74",
   "metadata": {},
   "outputs": [
    {
     "data": {
      "text/plain": [
       "[0, 1, 2, 3, 4, 5, 6, 7]"
      ]
     },
     "execution_count": 37,
     "metadata": {},
     "output_type": "execute_result"
    }
   ],
   "source": [
    "l1.extend([6,7])\n",
    "l1"
   ]
  },
  {
   "cell_type": "code",
   "execution_count": 39,
   "id": "a5f910c6-f914-4b2d-acc3-c6eb333ec30c",
   "metadata": {},
   "outputs": [
    {
     "data": {
      "text/plain": [
       "[0, 1, 2, 3, 4, 5, 6, 7, 8]"
      ]
     },
     "execution_count": 39,
     "metadata": {},
     "output_type": "execute_result"
    }
   ],
   "source": [
    "l1.append(8)\n",
    "l1"
   ]
  },
  {
   "cell_type": "code",
   "execution_count": 41,
   "id": "cf1fa638-80dc-4d61-91fd-54dfabe1d9a5",
   "metadata": {},
   "outputs": [
    {
     "data": {
      "text/plain": [
       "8"
      ]
     },
     "execution_count": 41,
     "metadata": {},
     "output_type": "execute_result"
    }
   ],
   "source": [
    "l1.pop()"
   ]
  },
  {
   "cell_type": "code",
   "execution_count": 43,
   "id": "9e8e5859-6500-4758-b8dc-7fcc40f949c2",
   "metadata": {},
   "outputs": [
    {
     "data": {
      "text/plain": [
       "[0, 1, 2, 3, 4, 5, 6, 7]"
      ]
     },
     "execution_count": 43,
     "metadata": {},
     "output_type": "execute_result"
    }
   ],
   "source": [
    "l1"
   ]
  },
  {
   "cell_type": "code",
   "execution_count": 49,
   "id": "62876283-6a10-4eb5-ba1e-dccaef60d93b",
   "metadata": {},
   "outputs": [
    {
     "data": {
      "text/plain": [
       "[0, 1, 2, 3, 4, 5]"
      ]
     },
     "execution_count": 49,
     "metadata": {},
     "output_type": "execute_result"
    }
   ],
   "source": [
    "l1.remove(7)\n",
    "l1"
   ]
  },
  {
   "cell_type": "code",
   "execution_count": 51,
   "id": "c2fba9a8-f9a9-4d76-8d11-d77160bb1ae8",
   "metadata": {},
   "outputs": [
    {
     "data": {
      "text/plain": [
       "0"
      ]
     },
     "execution_count": 51,
     "metadata": {},
     "output_type": "execute_result"
    }
   ],
   "source": [
    "l1.pop(0)"
   ]
  },
  {
   "cell_type": "code",
   "execution_count": 53,
   "id": "52c42740-423d-461b-a6c3-3b8f1e817ab5",
   "metadata": {},
   "outputs": [
    {
     "data": {
      "text/plain": [
       "[1, 2, 3, 4, 5]"
      ]
     },
     "execution_count": 53,
     "metadata": {},
     "output_type": "execute_result"
    }
   ],
   "source": [
    "l1"
   ]
  },
  {
   "cell_type": "code",
   "execution_count": 55,
   "id": "1528c795-0faa-4a03-9a84-af60135799c0",
   "metadata": {},
   "outputs": [
    {
     "data": {
      "text/plain": [
       "1"
      ]
     },
     "execution_count": 55,
     "metadata": {},
     "output_type": "execute_result"
    }
   ],
   "source": [
    "l1.count(1)"
   ]
  },
  {
   "cell_type": "code",
   "execution_count": 57,
   "id": "ac3bbddd-ba5b-45f7-8955-445a56039b43",
   "metadata": {},
   "outputs": [
    {
     "data": {
      "text/plain": [
       "0"
      ]
     },
     "execution_count": 57,
     "metadata": {},
     "output_type": "execute_result"
    }
   ],
   "source": [
    "l1.count(0)"
   ]
  },
  {
   "cell_type": "code",
   "execution_count": 59,
   "id": "f04a93e4-8600-4aff-89f7-d3dfc9d4af9c",
   "metadata": {},
   "outputs": [
    {
     "data": {
      "text/plain": [
       "[5, 4, 3, 2, 1]"
      ]
     },
     "execution_count": 59,
     "metadata": {},
     "output_type": "execute_result"
    }
   ],
   "source": [
    "l1.reverse()\n",
    "l1"
   ]
  },
  {
   "cell_type": "code",
   "execution_count": 61,
   "id": "949f9e59-eef3-45f8-af4f-4468354ef8b5",
   "metadata": {},
   "outputs": [
    {
     "data": {
      "text/plain": [
       "[1, 2, 3, 4, 5]"
      ]
     },
     "execution_count": 61,
     "metadata": {},
     "output_type": "execute_result"
    }
   ],
   "source": [
    "l1.sort()\n",
    "l1"
   ]
  },
  {
   "cell_type": "code",
   "execution_count": 63,
   "id": "25c32a8f-6ed3-49e3-9c6c-b3762ed24b30",
   "metadata": {},
   "outputs": [
    {
     "data": {
      "text/plain": [
       "[1, 2, 3, 4, 5, 6]"
      ]
     },
     "execution_count": 63,
     "metadata": {},
     "output_type": "execute_result"
    }
   ],
   "source": [
    "l2 = l1\n",
    "l2.append(6)\n",
    "l2"
   ]
  },
  {
   "cell_type": "code",
   "execution_count": 65,
   "id": "443e552d-0ebb-4d2d-bcee-bc36a93e72d0",
   "metadata": {},
   "outputs": [
    {
     "data": {
      "text/plain": [
       "[1, 2, 3, 4, 5, 6]"
      ]
     },
     "execution_count": 65,
     "metadata": {},
     "output_type": "execute_result"
    }
   ],
   "source": [
    "l1"
   ]
  },
  {
   "cell_type": "code",
   "execution_count": 67,
   "id": "0352b13d-81e5-4f32-9b12-48ba47503067",
   "metadata": {},
   "outputs": [
    {
     "data": {
      "text/plain": [
       "[1, 2, 3, 4, 5, 6]"
      ]
     },
     "execution_count": 67,
     "metadata": {},
     "output_type": "execute_result"
    }
   ],
   "source": [
    "l3 = l1.copy()\n",
    "l3"
   ]
  },
  {
   "cell_type": "code",
   "execution_count": 69,
   "id": "febcb519-a930-4bec-b47d-0ee0c1ed8c23",
   "metadata": {},
   "outputs": [
    {
     "data": {
      "text/plain": [
       "0"
      ]
     },
     "execution_count": 69,
     "metadata": {},
     "output_type": "execute_result"
    }
   ],
   "source": [
    "l1.index(1)"
   ]
  },
  {
   "cell_type": "code",
   "execution_count": 71,
   "id": "fb4a3d7f-519c-4818-9621-50150a0397f6",
   "metadata": {},
   "outputs": [
    {
     "data": {
      "text/plain": [
       "(1, 2, 3, 1, 2, 3)"
      ]
     },
     "execution_count": 71,
     "metadata": {},
     "output_type": "execute_result"
    }
   ],
   "source": [
    "t1 = (1,2,3)\n",
    "t1 *2"
   ]
  },
  {
   "cell_type": "code",
   "execution_count": 73,
   "id": "55f98456-3c95-423d-94b5-49c8c4a938d1",
   "metadata": {},
   "outputs": [
    {
     "data": {
      "text/plain": [
       "(1, 2, 3, 4, 5, 6)"
      ]
     },
     "execution_count": 73,
     "metadata": {},
     "output_type": "execute_result"
    }
   ],
   "source": [
    "t1 + (4,5,6)"
   ]
  },
  {
   "cell_type": "code",
   "execution_count": 75,
   "id": "f5385301-0dc8-42ff-96d0-3ccfc97b71e8",
   "metadata": {},
   "outputs": [
    {
     "data": {
      "text/plain": [
       "(1, 2, 3)"
      ]
     },
     "execution_count": 75,
     "metadata": {},
     "output_type": "execute_result"
    }
   ],
   "source": [
    "t1"
   ]
  },
  {
   "cell_type": "code",
   "execution_count": 77,
   "id": "00307ae4-cbfb-476d-ad89-4970eeb930fc",
   "metadata": {},
   "outputs": [
    {
     "data": {
      "text/plain": [
       "1"
      ]
     },
     "execution_count": 77,
     "metadata": {},
     "output_type": "execute_result"
    }
   ],
   "source": [
    "t1[0]"
   ]
  },
  {
   "cell_type": "code",
   "execution_count": 79,
   "id": "447f579d-c0a0-48f1-bc13-0aa619742610",
   "metadata": {},
   "outputs": [
    {
     "ename": "TypeError",
     "evalue": "'tuple' object does not support item assignment",
     "output_type": "error",
     "traceback": [
      "\u001b[1;31m---------------------------------------------------------------------------\u001b[0m",
      "\u001b[1;31mTypeError\u001b[0m                                 Traceback (most recent call last)",
      "Cell \u001b[1;32mIn[79], line 1\u001b[0m\n\u001b[1;32m----> 1\u001b[0m t1[\u001b[38;5;241m0\u001b[39m] \u001b[38;5;241m=\u001b[39m \u001b[38;5;241m3\u001b[39m\n",
      "\u001b[1;31mTypeError\u001b[0m: 'tuple' object does not support item assignment"
     ]
    }
   ],
   "source": [
    "t1[0] = 3"
   ]
  },
  {
   "cell_type": "code",
   "execution_count": 87,
   "id": "1aff3442-02d2-4347-8e8a-05a16e614f2b",
   "metadata": {},
   "outputs": [
    {
     "data": {
      "text/plain": [
       "{'충민': 4344, '용빈': '0187'}"
      ]
     },
     "execution_count": 87,
     "metadata": {},
     "output_type": "execute_result"
    }
   ],
   "source": [
    "# 딕셔너리 (dictionary) - dict(), {}\n",
    "# key와 value로 쌍을 이룬다\n",
    "d1 = {'충민':4344, '용빈':'0187'}\n",
    "d1"
   ]
  },
  {
   "cell_type": "code",
   "execution_count": 89,
   "id": "68398b4e-1a1e-42a0-948e-36fca839efda",
   "metadata": {},
   "outputs": [
    {
     "data": {
      "text/plain": [
       "{'love': '사랑', 'alchol': '참이슬', 'money': '돈', 'tech': '기술', 'believe in': '믿다'}"
      ]
     },
     "execution_count": 89,
     "metadata": {},
     "output_type": "execute_result"
    }
   ],
   "source": [
    "d2 = {'love': '사랑', 'alchol': '참이슬', 'money':'돈', 'tech':'기술', 'believe in':'믿다'}\n",
    "d2"
   ]
  },
  {
   "cell_type": "code",
   "execution_count": 91,
   "id": "3ea90e96-185b-43e4-b42c-1c5942ac7e02",
   "metadata": {},
   "outputs": [
    {
     "data": {
      "text/plain": [
       "dict"
      ]
     },
     "execution_count": 91,
     "metadata": {},
     "output_type": "execute_result"
    }
   ],
   "source": [
    "type(d2)"
   ]
  },
  {
   "cell_type": "code",
   "execution_count": 93,
   "id": "7fa70bdc-3867-4067-9dcf-7abeb3bda5ce",
   "metadata": {},
   "outputs": [
    {
     "data": {
      "text/plain": [
       "5"
      ]
     },
     "execution_count": 93,
     "metadata": {},
     "output_type": "execute_result"
    }
   ],
   "source": [
    "len(d2)  # 쌍의 갯수"
   ]
  },
  {
   "cell_type": "code",
   "execution_count": 95,
   "id": "91b24acd-46cc-4c16-96f8-53e852796ae3",
   "metadata": {},
   "outputs": [
    {
     "data": {
      "text/plain": [
       "'사랑'"
      ]
     },
     "execution_count": 95,
     "metadata": {},
     "output_type": "execute_result"
    }
   ],
   "source": [
    "d2['love']   # 딕셔너리에서 값을 가져오려면 대괄호 사용, 중괄호는 딕셔너리를 생성할때만 사용"
   ]
  },
  {
   "cell_type": "code",
   "execution_count": 99,
   "id": "067c94ed-208c-4106-b6c8-c28e72320a43",
   "metadata": {},
   "outputs": [
    {
     "data": {
      "text/plain": [
       "'돈'"
      ]
     },
     "execution_count": 99,
     "metadata": {},
     "output_type": "execute_result"
    }
   ],
   "source": [
    "d2['money']"
   ]
  },
  {
   "cell_type": "code",
   "execution_count": 101,
   "id": "8d213a33-2a8f-4e93-99c9-6249d3c04c5d",
   "metadata": {},
   "outputs": [
    {
     "data": {
      "text/plain": [
       "{'love': '사랑',\n",
       " 'alchol': '좋은데이',\n",
       " 'money': '돈',\n",
       " 'tech': '기술',\n",
       " 'believe in': '믿다'}"
      ]
     },
     "execution_count": 101,
     "metadata": {},
     "output_type": "execute_result"
    }
   ],
   "source": [
    "d2['alchol'] = '좋은데이'\n",
    "d2"
   ]
  },
  {
   "cell_type": "code",
   "execution_count": 105,
   "id": "14f4b3c4-11e9-47f9-88a4-08e1ee54986d",
   "metadata": {},
   "outputs": [
    {
     "data": {
      "text/plain": [
       "'좋은데이'"
      ]
     },
     "execution_count": 105,
     "metadata": {},
     "output_type": "execute_result"
    }
   ],
   "source": [
    "d2['alchol']"
   ]
  },
  {
   "cell_type": "code",
   "execution_count": 107,
   "id": "13aba0f3-a071-4dc1-8256-77b573acee84",
   "metadata": {},
   "outputs": [
    {
     "data": {
      "text/plain": [
       "dict_keys(['love', 'alchol', 'money', 'tech', 'believe in'])"
      ]
     },
     "execution_count": 107,
     "metadata": {},
     "output_type": "execute_result"
    }
   ],
   "source": [
    "# key, values, items, clear, pop, get\n",
    "d2.keys()"
   ]
  },
  {
   "cell_type": "code",
   "execution_count": 113,
   "id": "ab6a95a1-df0b-4474-975f-2a79d29bdb87",
   "metadata": {},
   "outputs": [],
   "source": [
    "l1 = d2.keys()\n",
    "l2 = list(d2.keys())"
   ]
  },
  {
   "cell_type": "code",
   "execution_count": 117,
   "id": "a0021f4a-6b3b-41f6-9125-bdb50715df5a",
   "metadata": {},
   "outputs": [
    {
     "name": "stdout",
     "output_type": "stream",
     "text": [
      "dict_keys(['love', 'alchol', 'money', 'tech', 'believe in'])\n",
      "['love', 'alchol', 'money', 'tech', 'believe in']\n"
     ]
    }
   ],
   "source": [
    "print(l1)\n",
    "print(l2)"
   ]
  },
  {
   "cell_type": "code",
   "execution_count": 119,
   "id": "c28fb037-b999-43e2-ac0d-8b97ac30d857",
   "metadata": {},
   "outputs": [
    {
     "data": {
      "text/plain": [
       "'love'"
      ]
     },
     "execution_count": 119,
     "metadata": {},
     "output_type": "execute_result"
    }
   ],
   "source": [
    "l2[0]"
   ]
  },
  {
   "cell_type": "code",
   "execution_count": 121,
   "id": "299818e7-aca4-445e-adba-0fa0e8f590b1",
   "metadata": {},
   "outputs": [
    {
     "data": {
      "text/plain": [
       "dict_values(['사랑', '좋은데이', '돈', '기술', '믿다'])"
      ]
     },
     "execution_count": 121,
     "metadata": {},
     "output_type": "execute_result"
    }
   ],
   "source": [
    "d2.values()"
   ]
  },
  {
   "cell_type": "code",
   "execution_count": 129,
   "id": "ba737219-2a5b-4923-a449-a9060fecd989",
   "metadata": {},
   "outputs": [
    {
     "data": {
      "text/plain": [
       "['사랑', '좋은데이', '돈', '기술', '믿다']"
      ]
     },
     "execution_count": 129,
     "metadata": {},
     "output_type": "execute_result"
    }
   ],
   "source": [
    "l3 = list(d2.values())\n",
    "l3"
   ]
  },
  {
   "cell_type": "code",
   "execution_count": 131,
   "id": "f41f2d7f-e23f-4195-bda3-b8605ae0e6a7",
   "metadata": {},
   "outputs": [
    {
     "data": {
      "text/plain": [
       "'돈'"
      ]
     },
     "execution_count": 131,
     "metadata": {},
     "output_type": "execute_result"
    }
   ],
   "source": [
    "l3[2]"
   ]
  },
  {
   "cell_type": "code",
   "execution_count": 133,
   "id": "49b068ac-bdd2-4a3e-bb97-3837d02b510d",
   "metadata": {},
   "outputs": [
    {
     "data": {
      "text/plain": [
       "dict_values(['사랑', '좋은데이', '돈', '기술', '믿다'])"
      ]
     },
     "execution_count": 133,
     "metadata": {},
     "output_type": "execute_result"
    }
   ],
   "source": [
    "l4 = d2.values()\n",
    "l4"
   ]
  },
  {
   "cell_type": "code",
   "execution_count": 137,
   "id": "1190809c-ffb5-48ba-9e2e-1aac417dcb47",
   "metadata": {},
   "outputs": [
    {
     "ename": "TypeError",
     "evalue": "'dict_values' object is not subscriptable",
     "output_type": "error",
     "traceback": [
      "\u001b[1;31m---------------------------------------------------------------------------\u001b[0m",
      "\u001b[1;31mTypeError\u001b[0m                                 Traceback (most recent call last)",
      "Cell \u001b[1;32mIn[137], line 1\u001b[0m\n\u001b[1;32m----> 1\u001b[0m l4[\u001b[38;5;241m2\u001b[39m]\n",
      "\u001b[1;31mTypeError\u001b[0m: 'dict_values' object is not subscriptable"
     ]
    }
   ],
   "source": [
    "l4[2]    # 인덱싱을 사용하기 위해서는 리스트로 변환해야 함."
   ]
  },
  {
   "cell_type": "code",
   "execution_count": 139,
   "id": "779bf84b-6131-4400-b321-b8b10352ba6c",
   "metadata": {},
   "outputs": [
    {
     "data": {
      "text/plain": [
       "dict_items([('love', '사랑'), ('alchol', '좋은데이'), ('money', '돈'), ('tech', '기술'), ('believe in', '믿다')])"
      ]
     },
     "execution_count": 139,
     "metadata": {},
     "output_type": "execute_result"
    }
   ],
   "source": [
    "d2.items() #key와 value의 쌍을 튜플로 묶은 값을 반환"
   ]
  },
  {
   "cell_type": "code",
   "execution_count": 143,
   "id": "98ed2807-274c-4dc7-87b7-0d279d040a43",
   "metadata": {},
   "outputs": [
    {
     "data": {
      "text/plain": [
       "[('love', '사랑'),\n",
       " ('alchol', '좋은데이'),\n",
       " ('money', '돈'),\n",
       " ('tech', '기술'),\n",
       " ('believe in', '믿다')]"
      ]
     },
     "execution_count": 143,
     "metadata": {},
     "output_type": "execute_result"
    }
   ],
   "source": [
    "l5 = list(d2.items())\n",
    "l5"
   ]
  },
  {
   "cell_type": "code",
   "execution_count": 145,
   "id": "7249161c-98fd-4663-b54f-25c7eef16ea9",
   "metadata": {},
   "outputs": [
    {
     "data": {
      "text/plain": [
       "('alchol', '좋은데이')"
      ]
     },
     "execution_count": 145,
     "metadata": {},
     "output_type": "execute_result"
    }
   ],
   "source": [
    "l5[1]"
   ]
  },
  {
   "cell_type": "code",
   "execution_count": 147,
   "id": "c644a6ee-0914-4f66-ae30-9e4209bd58fb",
   "metadata": {},
   "outputs": [
    {
     "data": {
      "text/plain": [
       "[('love', '사랑'), '진로', ('money', '돈'), ('tech', '기술'), ('believe in', '믿다')]"
      ]
     },
     "execution_count": 147,
     "metadata": {},
     "output_type": "execute_result"
    }
   ],
   "source": [
    "l6 = l5.copy()\n",
    "l6[1] = '진로'\n",
    "l6"
   ]
  },
  {
   "cell_type": "code",
   "execution_count": 149,
   "id": "ec1b825d-a3f0-4e7d-b755-f462d80177ea",
   "metadata": {},
   "outputs": [
    {
     "ename": "TypeError",
     "evalue": "list indices must be integers or slices, not str",
     "output_type": "error",
     "traceback": [
      "\u001b[1;31m---------------------------------------------------------------------------\u001b[0m",
      "\u001b[1;31mTypeError\u001b[0m                                 Traceback (most recent call last)",
      "Cell \u001b[1;32mIn[149], line 1\u001b[0m\n\u001b[1;32m----> 1\u001b[0m l6[\u001b[38;5;124m'\u001b[39m\u001b[38;5;124mlove\u001b[39m\u001b[38;5;124m'\u001b[39m]\u001b[38;5;241m=\u001b[39m \u001b[38;5;124m'\u001b[39m\u001b[38;5;124m사아랑\u001b[39m\u001b[38;5;124m'\u001b[39m\n\u001b[0;32m      2\u001b[0m l6\n",
      "\u001b[1;31mTypeError\u001b[0m: list indices must be integers or slices, not str"
     ]
    }
   ],
   "source": [
    "l6['love']= '사아랑'    #리스트로 변환한뒤에는 인덱스를 사용해서 값을 변경해야함.\n",
    "l6"
   ]
  },
  {
   "cell_type": "code",
   "execution_count": 151,
   "id": "6a1a22dd-83f7-47aa-91a9-07f924e95e44",
   "metadata": {},
   "outputs": [
    {
     "data": {
      "text/plain": [
       "('love', '사랑')"
      ]
     },
     "execution_count": 151,
     "metadata": {},
     "output_type": "execute_result"
    }
   ],
   "source": [
    "l6[0]"
   ]
  },
  {
   "cell_type": "code",
   "execution_count": 153,
   "id": "5c92f2ee-ab33-4b80-a98d-83a442cc4798",
   "metadata": {},
   "outputs": [
    {
     "ename": "AttributeError",
     "evalue": "'list' object has no attribute 'keys'",
     "output_type": "error",
     "traceback": [
      "\u001b[1;31m---------------------------------------------------------------------------\u001b[0m",
      "\u001b[1;31mAttributeError\u001b[0m                            Traceback (most recent call last)",
      "Cell \u001b[1;32mIn[153], line 1\u001b[0m\n\u001b[1;32m----> 1\u001b[0m l6\u001b[38;5;241m.\u001b[39mkeys()\n",
      "\u001b[1;31mAttributeError\u001b[0m: 'list' object has no attribute 'keys'"
     ]
    }
   ],
   "source": [
    "l6.keys()  # 리스트로 변환한 뒤에는 key와 value가 아니라 하나의 튜플로 만들어짐"
   ]
  },
  {
   "cell_type": "code",
   "execution_count": 155,
   "id": "cf773f18-b9ae-4f99-91af-b70db0a6bfd7",
   "metadata": {},
   "outputs": [
    {
     "data": {
      "text/plain": [
       "{'love': '사랑',\n",
       " 'alchol': '좋은데이',\n",
       " 'money': '돈',\n",
       " 'tech': '기술',\n",
       " 'believe in': '믿다'}"
      ]
     },
     "execution_count": 155,
     "metadata": {},
     "output_type": "execute_result"
    }
   ],
   "source": [
    "d2"
   ]
  },
  {
   "cell_type": "code",
   "execution_count": 157,
   "id": "351c494d-58f3-4992-bc55-beb82048b0a5",
   "metadata": {},
   "outputs": [
    {
     "ename": "TypeError",
     "evalue": "pop expected at least 1 argument, got 0",
     "output_type": "error",
     "traceback": [
      "\u001b[1;31m---------------------------------------------------------------------------\u001b[0m",
      "\u001b[1;31mTypeError\u001b[0m                                 Traceback (most recent call last)",
      "Cell \u001b[1;32mIn[157], line 1\u001b[0m\n\u001b[1;32m----> 1\u001b[0m d2\u001b[38;5;241m.\u001b[39mpop()\n",
      "\u001b[1;31mTypeError\u001b[0m: pop expected at least 1 argument, got 0"
     ]
    }
   ],
   "source": [
    "d2.pop() # 리스트의 pop은 마지막 요소를 제거하지만, 딕셔너리에서는 제거할 키를 꼭 지정해야함."
   ]
  },
  {
   "cell_type": "code",
   "execution_count": 159,
   "id": "626d5a97-da67-4ba1-9fcf-9a58280e1f80",
   "metadata": {},
   "outputs": [
    {
     "data": {
      "text/plain": [
       "'좋은데이'"
      ]
     },
     "execution_count": 159,
     "metadata": {},
     "output_type": "execute_result"
    }
   ],
   "source": [
    "d2.pop('alchol') # key와 value 한 쌍을 제거"
   ]
  },
  {
   "cell_type": "code",
   "execution_count": 161,
   "id": "e02a31d2-9345-44b6-8019-2f33b3b3e6c9",
   "metadata": {},
   "outputs": [
    {
     "data": {
      "text/plain": [
       "{'love': '사랑', 'money': '돈', 'tech': '기술', 'believe in': '믿다'}"
      ]
     },
     "execution_count": 161,
     "metadata": {},
     "output_type": "execute_result"
    }
   ],
   "source": [
    "d2"
   ]
  },
  {
   "cell_type": "code",
   "execution_count": 163,
   "id": "e47ded22-f138-477c-96de-c3c32414d36c",
   "metadata": {},
   "outputs": [
    {
     "ename": "KeyError",
     "evalue": "'사랑'",
     "output_type": "error",
     "traceback": [
      "\u001b[1;31m---------------------------------------------------------------------------\u001b[0m",
      "\u001b[1;31mKeyError\u001b[0m                                  Traceback (most recent call last)",
      "Cell \u001b[1;32mIn[163], line 1\u001b[0m\n\u001b[1;32m----> 1\u001b[0m d2\u001b[38;5;241m.\u001b[39mpop(\u001b[38;5;124m'\u001b[39m\u001b[38;5;124m사랑\u001b[39m\u001b[38;5;124m'\u001b[39m)\n",
      "\u001b[1;31mKeyError\u001b[0m: '사랑'"
     ]
    }
   ],
   "source": [
    "d2.pop('사랑') # value 값을 넣으면 에러 -> key값으로만 사용가능"
   ]
  },
  {
   "cell_type": "code",
   "execution_count": 165,
   "id": "a1cedffe-7497-496d-a3c1-88b760da5501",
   "metadata": {},
   "outputs": [
    {
     "data": {
      "text/plain": [
       "'사랑'"
      ]
     },
     "execution_count": 165,
     "metadata": {},
     "output_type": "execute_result"
    }
   ],
   "source": [
    "d2['love']"
   ]
  },
  {
   "cell_type": "code",
   "execution_count": 167,
   "id": "13a03601-e4e2-497f-8903-25be578a6f97",
   "metadata": {},
   "outputs": [
    {
     "ename": "KeyError",
     "evalue": "'healthy'",
     "output_type": "error",
     "traceback": [
      "\u001b[1;31m---------------------------------------------------------------------------\u001b[0m",
      "\u001b[1;31mKeyError\u001b[0m                                  Traceback (most recent call last)",
      "Cell \u001b[1;32mIn[167], line 1\u001b[0m\n\u001b[1;32m----> 1\u001b[0m d2[\u001b[38;5;124m'\u001b[39m\u001b[38;5;124mhealthy\u001b[39m\u001b[38;5;124m'\u001b[39m]\n",
      "\u001b[1;31mKeyError\u001b[0m: 'healthy'"
     ]
    }
   ],
   "source": [
    "d2['healthy'] #없는 키 값을 입력하면 에러  -> KeyError"
   ]
  },
  {
   "cell_type": "code",
   "execution_count": 169,
   "id": "10da5114-5f48-434a-9c44-d3fd627436f7",
   "metadata": {},
   "outputs": [
    {
     "data": {
      "text/plain": [
       "{'love': '사랑', 'money': '돈', 'tech': '기술', 'believe in': '믿다', 'healthy': '건강'}"
      ]
     },
     "execution_count": 169,
     "metadata": {},
     "output_type": "execute_result"
    }
   ],
   "source": [
    "d2['healthy'] = '건강'\n",
    "d2"
   ]
  },
  {
   "cell_type": "code",
   "execution_count": 171,
   "id": "1d14bd6f-fbc7-4d44-8fbc-02309da2fa3b",
   "metadata": {},
   "outputs": [
    {
     "ename": "KeyError",
     "evalue": "slice('family', '가족', None)",
     "output_type": "error",
     "traceback": [
      "\u001b[1;31m---------------------------------------------------------------------------\u001b[0m",
      "\u001b[1;31mKeyError\u001b[0m                                  Traceback (most recent call last)",
      "Cell \u001b[1;32mIn[171], line 1\u001b[0m\n\u001b[1;32m----> 1\u001b[0m d2[\u001b[38;5;124m'\u001b[39m\u001b[38;5;124mfamily\u001b[39m\u001b[38;5;124m'\u001b[39m:\u001b[38;5;124m'\u001b[39m\u001b[38;5;124m가족\u001b[39m\u001b[38;5;124m'\u001b[39m]\n",
      "\u001b[1;31mKeyError\u001b[0m: slice('family', '가족', None)"
     ]
    }
   ],
   "source": [
    "d2['family':'가족'] # 파이썬에서 슬라이스로 인식하여 에러발생."
   ]
  },
  {
   "cell_type": "code",
   "execution_count": 173,
   "id": "26f002c7-b389-4709-a6f3-a231484d6fce",
   "metadata": {},
   "outputs": [
    {
     "ename": "SyntaxError",
     "evalue": "invalid syntax (449950660.py, line 1)",
     "output_type": "error",
     "traceback": [
      "\u001b[1;36m  Cell \u001b[1;32mIn[173], line 1\u001b[1;36m\u001b[0m\n\u001b[1;33m    d2{'family':'가족'}\u001b[0m\n\u001b[1;37m      ^\u001b[0m\n\u001b[1;31mSyntaxError\u001b[0m\u001b[1;31m:\u001b[0m invalid syntax\n"
     ]
    }
   ],
   "source": [
    "d2{'family':'가족'} # 딕셔너리를 조회하거나 수정할때는 반드시 대괄호, \n",
    "                    #중괄호는 딕셔너리를 만들때만 사용"
   ]
  },
  {
   "cell_type": "code",
   "execution_count": 175,
   "id": "179583cc-ec87-4e00-92c2-8acadb27c13d",
   "metadata": {},
   "outputs": [
    {
     "data": {
      "text/plain": [
       "{'love': '사랑',\n",
       " 'money': '돈',\n",
       " 'tech': '기술',\n",
       " 'believe in': '믿다',\n",
       " 'healthy': '건강',\n",
       " 'family': '가족'}"
      ]
     },
     "execution_count": 175,
     "metadata": {},
     "output_type": "execute_result"
    }
   ],
   "source": [
    "d2['family'] = '가족'\n",
    "d2"
   ]
  },
  {
   "cell_type": "code",
   "execution_count": 177,
   "id": "df314cdd-f93d-4495-959c-137591e30cf8",
   "metadata": {},
   "outputs": [
    {
     "name": "stdout",
     "output_type": "stream",
     "text": [
      "12\n"
     ]
    },
    {
     "ename": "KeyError",
     "evalue": "'mind'",
     "output_type": "error",
     "traceback": [
      "\u001b[1;31m---------------------------------------------------------------------------\u001b[0m",
      "\u001b[1;31mKeyError\u001b[0m                                  Traceback (most recent call last)",
      "Cell \u001b[1;32mIn[177], line 2\u001b[0m\n\u001b[0;32m      1\u001b[0m \u001b[38;5;28mprint\u001b[39m(\u001b[38;5;241m3\u001b[39m\u001b[38;5;241m*\u001b[39m\u001b[38;5;241m4\u001b[39m)\n\u001b[1;32m----> 2\u001b[0m d2[\u001b[38;5;124m'\u001b[39m\u001b[38;5;124mmind\u001b[39m\u001b[38;5;124m'\u001b[39m]\n\u001b[0;32m      3\u001b[0m \u001b[38;5;28mprint\u001b[39m(\u001b[38;5;241m4\u001b[39m\u001b[38;5;241m*\u001b[39m\u001b[38;5;241m5\u001b[39m)\n",
      "\u001b[1;31mKeyError\u001b[0m: 'mind'"
     ]
    }
   ],
   "source": [
    "print(3*4)\n",
    "d2['mind']  # 없는 키값을 입력해서 오류발생\n",
    "print(4*5)"
   ]
  },
  {
   "cell_type": "code",
   "execution_count": 179,
   "id": "160da41f-9fca-42ec-91b2-71de2ce86175",
   "metadata": {},
   "outputs": [
    {
     "name": "stdout",
     "output_type": "stream",
     "text": [
      "12\n"
     ]
    },
    {
     "data": {
      "text/plain": [
       "'no'"
      ]
     },
     "execution_count": 179,
     "metadata": {},
     "output_type": "execute_result"
    }
   ],
   "source": [
    "print(3*4)\n",
    "d2.get('mind', 'no')\n",
    "# get -> 올바른 키 값을 입력하면 밸류값이 나오고, 존재하지 않는 키값을 입력하면 '정해진값' 출력"
   ]
  },
  {
   "cell_type": "code",
   "execution_count": 181,
   "id": "db30eb16-203c-4d23-a038-6bd62b01130b",
   "metadata": {},
   "outputs": [
    {
     "data": {
      "text/plain": [
       "'없음'"
      ]
     },
     "execution_count": 181,
     "metadata": {},
     "output_type": "execute_result"
    }
   ],
   "source": [
    "d2.get('mind', '없음')  # -> 에러를 발생시키지 않고, 해당명령어가 실행되었는지 확인할 때 사용"
   ]
  },
  {
   "cell_type": "code",
   "execution_count": 183,
   "id": "2bd0f0a2-b33c-4e58-9438-cb501a93e9d2",
   "metadata": {},
   "outputs": [
    {
     "data": {
      "text/plain": [
       "{}"
      ]
     },
     "execution_count": 183,
     "metadata": {},
     "output_type": "execute_result"
    }
   ],
   "source": [
    "d2.clear()\n",
    "d2"
   ]
  },
  {
   "cell_type": "code",
   "execution_count": 185,
   "id": "bb8bc89d-e8ac-44c9-9f54-076748d5ed92",
   "metadata": {},
   "outputs": [
    {
     "data": {
      "text/plain": [
       "[]"
      ]
     },
     "execution_count": 185,
     "metadata": {},
     "output_type": "execute_result"
    }
   ],
   "source": [
    "l10 = [1,2,3,4,5]\n",
    "l10.clear()\n",
    "l10"
   ]
  },
  {
   "cell_type": "code",
   "execution_count": 187,
   "id": "b73b1c5c-a17e-413e-be0b-137e37aa09a0",
   "metadata": {},
   "outputs": [
    {
     "data": {
      "text/plain": [
       "{'man': '사람'}"
      ]
     },
     "execution_count": 187,
     "metadata": {},
     "output_type": "execute_result"
    }
   ],
   "source": [
    "d2['man'] = '사람'\n",
    "d2"
   ]
  },
  {
   "cell_type": "code",
   "execution_count": 189,
   "id": "3310e139-842a-4922-b81f-22cdc1f34d1f",
   "metadata": {},
   "outputs": [
    {
     "data": {
      "text/plain": [
       "[]"
      ]
     },
     "execution_count": 189,
     "metadata": {},
     "output_type": "execute_result"
    }
   ],
   "source": [
    "d3 = []\n",
    "d3"
   ]
  },
  {
   "cell_type": "code",
   "execution_count": 191,
   "id": "33af77e7-9da7-4143-b43d-d8dbdeae5fba",
   "metadata": {},
   "outputs": [
    {
     "data": {
      "text/plain": [
       "{}"
      ]
     },
     "execution_count": 191,
     "metadata": {},
     "output_type": "execute_result"
    }
   ],
   "source": [
    "d4 = dict()   # d = dict(love='사랑', tech='기술') 처럼 사용\n",
    "d4"
   ]
  },
  {
   "cell_type": "code",
   "execution_count": 193,
   "id": "394e5bf9-6d56-44a9-86ce-1c39515c857d",
   "metadata": {},
   "outputs": [
    {
     "data": {
      "text/plain": [
       "{}"
      ]
     },
     "execution_count": 193,
     "metadata": {},
     "output_type": "execute_result"
    }
   ],
   "source": [
    "d5 = {}  # d = dict()   <->  d = {}    같은동작\n",
    "d5"
   ]
  },
  {
   "cell_type": "code",
   "execution_count": 197,
   "id": "c2538ef2-6bb3-4573-aa2e-cc44e52e89a2",
   "metadata": {},
   "outputs": [
    {
     "data": {
      "text/plain": [
       "{'key': 'value'}"
      ]
     },
     "execution_count": 197,
     "metadata": {},
     "output_type": "execute_result"
    }
   ],
   "source": [
    "d4['key'] = 'value'\n",
    "d4"
   ]
  },
  {
   "cell_type": "code",
   "execution_count": 199,
   "id": "32e97d8f-2a81-4551-8834-5d721852dc25",
   "metadata": {},
   "outputs": [
    {
     "ename": "SyntaxError",
     "evalue": "cannot assign to function call here. Maybe you meant '==' instead of '='? (1158367233.py, line 1)",
     "output_type": "error",
     "traceback": [
      "\u001b[1;36m  Cell \u001b[1;32mIn[199], line 1\u001b[1;36m\u001b[0m\n\u001b[1;33m    d4('keys') = 'values'\u001b[0m\n\u001b[1;37m    ^\u001b[0m\n\u001b[1;31mSyntaxError\u001b[0m\u001b[1;31m:\u001b[0m cannot assign to function call here. Maybe you meant '==' instead of '='?\n"
     ]
    }
   ],
   "source": [
    "d4('keys') = 'values'  # 딕셔너리가아닌 함수 호출로 인식하여 에러발생, 반드시 대괄호사용\n",
    "d4"
   ]
  },
  {
   "cell_type": "code",
   "execution_count": 201,
   "id": "c9eb9f9a-2210-4ec7-a95a-b784f8c17cf8",
   "metadata": {},
   "outputs": [
    {
     "data": {
      "text/plain": [
       "dict"
      ]
     },
     "execution_count": 201,
     "metadata": {},
     "output_type": "execute_result"
    }
   ],
   "source": [
    "type(d4)"
   ]
  },
  {
   "cell_type": "code",
   "execution_count": 203,
   "id": "d99f8dda-9d2d-461c-afc2-0bba1bd793bd",
   "metadata": {},
   "outputs": [
    {
     "name": "stdout",
     "output_type": "stream",
     "text": [
      "<class 'dict'>\n"
     ]
    }
   ],
   "source": [
    "print(type(d4))"
   ]
  },
  {
   "cell_type": "code",
   "execution_count": 205,
   "id": "62668c1b-4d31-4a03-96a0-cafcd6da0cd2",
   "metadata": {},
   "outputs": [],
   "source": [
    "# 집합\n",
    "# set() - {10,20}\n",
    "\n",
    "# 중복되지 않는다.\n",
    "# 순서가 없다."
   ]
  },
  {
   "cell_type": "code",
   "execution_count": 207,
   "id": "6a036e9d-3964-4b7c-a1fb-201375db0878",
   "metadata": {},
   "outputs": [
    {
     "data": {
      "text/plain": [
       "{10, 20, 30}"
      ]
     },
     "execution_count": 207,
     "metadata": {},
     "output_type": "execute_result"
    }
   ],
   "source": [
    "s = {10,20,30,20,10}\n",
    "s"
   ]
  },
  {
   "cell_type": "code",
   "execution_count": 209,
   "id": "c07665b5-2cd5-48bb-8299-f023281b33a6",
   "metadata": {},
   "outputs": [
    {
     "data": {
      "text/plain": [
       "{1, 2, 3, 4, 6, 7, 8}"
      ]
     },
     "execution_count": 209,
     "metadata": {},
     "output_type": "execute_result"
    }
   ],
   "source": [
    "b = [1,2,3,4,2,3,4,6,7,8,4,6,6]\n",
    "s1 = set(b)\n",
    "s1  # 중복되지 않는다."
   ]
  },
  {
   "cell_type": "code",
   "execution_count": 213,
   "id": "8e8b4e8e-9fd1-430f-b3a1-a2d653ce68df",
   "metadata": {},
   "outputs": [
    {
     "ename": "TypeError",
     "evalue": "'set' object is not subscriptable",
     "output_type": "error",
     "traceback": [
      "\u001b[1;31m---------------------------------------------------------------------------\u001b[0m",
      "\u001b[1;31mTypeError\u001b[0m                                 Traceback (most recent call last)",
      "Cell \u001b[1;32mIn[213], line 1\u001b[0m\n\u001b[1;32m----> 1\u001b[0m s1[\u001b[38;5;241m0\u001b[39m]\n",
      "\u001b[1;31mTypeError\u001b[0m: 'set' object is not subscriptable"
     ]
    }
   ],
   "source": [
    "s1[0]  # 순서(index)가 없기 때문에 에러"
   ]
  },
  {
   "cell_type": "code",
   "execution_count": 225,
   "id": "08584096-258f-4722-aa7f-4318fe1e1f49",
   "metadata": {},
   "outputs": [
    {
     "data": {
      "text/plain": [
       "{1, 3, 5}"
      ]
     },
     "execution_count": 225,
     "metadata": {},
     "output_type": "execute_result"
    }
   ],
   "source": [
    "a = {1,2,3,4,5}\n",
    "b = {1,3,5,7,9}\n",
    "# 교집합, 합집합, 차집합,     공집힙\n",
    "\n",
    "a & b # 교집합"
   ]
  },
  {
   "cell_type": "code",
   "execution_count": 227,
   "id": "b122e353-ef2c-4e70-a94e-78e8c4081f2b",
   "metadata": {},
   "outputs": [
    {
     "data": {
      "text/plain": [
       "{1, 2, 3, 4, 5, 7, 9}"
      ]
     },
     "execution_count": 227,
     "metadata": {},
     "output_type": "execute_result"
    }
   ],
   "source": [
    "a | b  # 합집합"
   ]
  },
  {
   "cell_type": "code",
   "execution_count": 229,
   "id": "7250ce13-17e3-4810-82f7-11751943754e",
   "metadata": {},
   "outputs": [
    {
     "data": {
      "text/plain": [
       "{2, 4}"
      ]
     },
     "execution_count": 229,
     "metadata": {},
     "output_type": "execute_result"
    }
   ],
   "source": [
    "a - b  # 차집합"
   ]
  },
  {
   "cell_type": "code",
   "execution_count": 231,
   "id": "ebe9073f-79b1-4b71-aef5-928c463994c2",
   "metadata": {},
   "outputs": [
    {
     "data": {
      "text/plain": [
       "{7, 9}"
      ]
     },
     "execution_count": 231,
     "metadata": {},
     "output_type": "execute_result"
    }
   ],
   "source": [
    "b - a # 차집합"
   ]
  },
  {
   "cell_type": "code",
   "execution_count": 233,
   "id": "015beffc-5542-44ed-9892-dbddfaec49ed",
   "metadata": {},
   "outputs": [
    {
     "data": {
      "text/plain": [
       "{1, 2, 3, 4, 5}"
      ]
     },
     "execution_count": 233,
     "metadata": {},
     "output_type": "execute_result"
    }
   ],
   "source": [
    "a"
   ]
  },
  {
   "cell_type": "code",
   "execution_count": 235,
   "id": "ad4856bf-b11a-46e6-8cc7-86c49f39aed5",
   "metadata": {},
   "outputs": [
    {
     "data": {
      "text/plain": [
       "set"
      ]
     },
     "execution_count": 235,
     "metadata": {},
     "output_type": "execute_result"
    }
   ],
   "source": [
    "type(a)"
   ]
  },
  {
   "cell_type": "code",
   "execution_count": 237,
   "id": "ac8f21f0-13fb-455f-b18a-c644710c0adb",
   "metadata": {},
   "outputs": [
    {
     "name": "stdout",
     "output_type": "stream",
     "text": [
      "<class 'set'>\n"
     ]
    }
   ],
   "source": [
    "print(type(a))"
   ]
  },
  {
   "cell_type": "code",
   "execution_count": 239,
   "id": "d54ee9f3-75fc-49fe-ae04-05e2e9dfd10f",
   "metadata": {},
   "outputs": [
    {
     "data": {
      "text/plain": [
       "{1, 2, 3, 4, 5, 6}"
      ]
     },
     "execution_count": 239,
     "metadata": {},
     "output_type": "execute_result"
    }
   ],
   "source": [
    "# add, update,    remove,clear,      pop\n",
    "a.add(6)\n",
    "a"
   ]
  },
  {
   "cell_type": "code",
   "execution_count": 241,
   "id": "3806f356-b1c6-4a61-8276-4904d53a4e2b",
   "metadata": {},
   "outputs": [
    {
     "data": {
      "text/plain": [
       "{0, 1, 2, 3, 4, 5, 6}"
      ]
     },
     "execution_count": 241,
     "metadata": {},
     "output_type": "execute_result"
    }
   ],
   "source": [
    "a.add(0)\n",
    "a    # 순서대로 들어가는 것처럼 보이지만 그렇지 않다.(랜덤)"
   ]
  },
  {
   "cell_type": "code",
   "execution_count": 243,
   "id": "4929e7df-fa8c-42eb-9e11-6a2856257eda",
   "metadata": {},
   "outputs": [
    {
     "ename": "TypeError",
     "evalue": "'int' object is not iterable",
     "output_type": "error",
     "traceback": [
      "\u001b[1;31m---------------------------------------------------------------------------\u001b[0m",
      "\u001b[1;31mTypeError\u001b[0m                                 Traceback (most recent call last)",
      "Cell \u001b[1;32mIn[243], line 1\u001b[0m\n\u001b[1;32m----> 1\u001b[0m a\u001b[38;5;241m.\u001b[39mupdate(\u001b[38;5;241m7\u001b[39m,\u001b[38;5;241m8\u001b[39m)\n\u001b[0;32m      2\u001b[0m a\n",
      "\u001b[1;31mTypeError\u001b[0m: 'int' object is not iterable"
     ]
    }
   ],
   "source": [
    "a.update(7,8)  \n",
    "a             # 7,8 은 정수라서 iterable이 아님\n",
    "              #iterable: 한번에 한 개씩 값을 반환할 수 있는 데이터(객체)"
   ]
  },
  {
   "cell_type": "code",
   "execution_count": 245,
   "id": "fedffe7b-e5c5-4c9e-b640-55d4cf650ad5",
   "metadata": {},
   "outputs": [
    {
     "data": {
      "text/plain": [
       "{0, 1, 2, 3, 4, 5, 6, 7, 8}"
      ]
     },
     "execution_count": 245,
     "metadata": {},
     "output_type": "execute_result"
    }
   ],
   "source": [
    "a.update([7,8])\n",
    "a"
   ]
  },
  {
   "cell_type": "code",
   "execution_count": 247,
   "id": "e84b76fa-bcd0-4aa9-b859-6047f0ff68c0",
   "metadata": {},
   "outputs": [
    {
     "data": {
      "text/plain": [
       "{0, 1, 2, 3, 4, 5, 6, 7}"
      ]
     },
     "execution_count": 247,
     "metadata": {},
     "output_type": "execute_result"
    }
   ],
   "source": [
    "a.remove(8)\n",
    "a"
   ]
  },
  {
   "cell_type": "code",
   "execution_count": 249,
   "id": "6f5b8e89-b4e7-4fd4-a955-d3a825ec27af",
   "metadata": {},
   "outputs": [
    {
     "data": {
      "text/plain": [
       "{1, 2, 3, 4, 5, 6, 7}"
      ]
     },
     "execution_count": 249,
     "metadata": {},
     "output_type": "execute_result"
    }
   ],
   "source": [
    "a.pop()\n",
    "a  # 랜덤하게제거,  잘 사용 안함"
   ]
  },
  {
   "cell_type": "code",
   "execution_count": 257,
   "id": "0fc57263-6ecc-4ca6-bf13-50dc72e6e00f",
   "metadata": {},
   "outputs": [
    {
     "data": {
      "text/plain": [
       "{4, 6, 7}"
      ]
     },
     "execution_count": 257,
     "metadata": {},
     "output_type": "execute_result"
    }
   ],
   "source": [
    "a1 = {1,4,6,7}\n",
    "a1.pop()\n",
    "a1"
   ]
  },
  {
   "cell_type": "code",
   "execution_count": 261,
   "id": "72049b87-4a6f-4db4-a1fa-63a24035af38",
   "metadata": {},
   "outputs": [
    {
     "ename": "TypeError",
     "evalue": "set.pop() takes no arguments (1 given)",
     "output_type": "error",
     "traceback": [
      "\u001b[1;31m---------------------------------------------------------------------------\u001b[0m",
      "\u001b[1;31mTypeError\u001b[0m                                 Traceback (most recent call last)",
      "Cell \u001b[1;32mIn[261], line 1\u001b[0m\n\u001b[1;32m----> 1\u001b[0m a1\u001b[38;5;241m.\u001b[39mpop(\u001b[38;5;241m1\u001b[39m)\n\u001b[0;32m      2\u001b[0m a1\n",
      "\u001b[1;31mTypeError\u001b[0m: set.pop() takes no arguments (1 given)"
     ]
    }
   ],
   "source": [
    "a1.pop(1)\n",
    "a1       # pop(1) 은 set에서는 인덱스가 없기때문에 지정할수가 없음 \n",
    "         # 특정값을 제거하려면 remove()사용"
   ]
  },
  {
   "cell_type": "code",
   "execution_count": 267,
   "id": "030b2605-8252-4f03-abfd-014eb3922c94",
   "metadata": {},
   "outputs": [
    {
     "data": {
      "text/plain": [
       "set()"
      ]
     },
     "execution_count": 267,
     "metadata": {},
     "output_type": "execute_result"
    }
   ],
   "source": [
    "a.clear()\n",
    "a"
   ]
  },
  {
   "cell_type": "code",
   "execution_count": 269,
   "id": "96ea980c-e92d-4087-8cdf-27b5a5197097",
   "metadata": {},
   "outputs": [
    {
     "data": {
      "text/plain": [
       "[1, 2, 3, 4, 5]"
      ]
     },
     "execution_count": 269,
     "metadata": {},
     "output_type": "execute_result"
    }
   ],
   "source": [
    "a = list(range(1,6))  # 1부터 6-1 까지, 6-1개\n",
    "a"
   ]
  },
  {
   "cell_type": "code",
   "execution_count": 271,
   "id": "54632339-b6a8-40fa-b9f7-d1c9cb608c31",
   "metadata": {},
   "outputs": [
    {
     "data": {
      "text/plain": [
       "[6, 7, 8, 9, 10, 11, 12, 13, 14, 15, 16, 17, 18, 19]"
      ]
     },
     "execution_count": 271,
     "metadata": {},
     "output_type": "execute_result"
    }
   ],
   "source": [
    "a = list(range(6,20))  # 6부터 20-1까지, 20-6개\n",
    "a"
   ]
  },
  {
   "cell_type": "code",
   "execution_count": 273,
   "id": "2249606e-f21f-4af0-955a-42e2ba5a6ceb",
   "metadata": {},
   "outputs": [
    {
     "data": {
      "text/plain": [
       "[0, 1, 2, 3, 4, 5]"
      ]
     },
     "execution_count": 273,
     "metadata": {},
     "output_type": "execute_result"
    }
   ],
   "source": [
    "a = list(range(6))  # 0부터 6-1까지, 6개\n",
    "a"
   ]
  },
  {
   "cell_type": "code",
   "execution_count": 275,
   "id": "6969aaf9-d0b7-44ea-8e63-bb5604c23655",
   "metadata": {},
   "outputs": [
    {
     "name": "stdout",
     "output_type": "stream",
     "text": [
      "['red', 'yellow', 'green']\n",
      "['red', 'yellow']\n",
      "['red', 'orange', 'yellow']\n",
      "1\n",
      "3\n"
     ]
    }
   ],
   "source": [
    "# 실습 5-1\n",
    "color =['red','yellow']\n",
    "color.append('green')\n",
    "print(color)\n",
    "color.pop()\n",
    "print(color)\n",
    "color.insert(1,'orange')\n",
    "print(color)\n",
    "print(color.index('orange'))\n",
    "print(len(color))"
   ]
  },
  {
   "cell_type": "code",
   "execution_count": 277,
   "id": "a0cfa95e-c466-4f6d-9d29-44aa77550d73",
   "metadata": {},
   "outputs": [
    {
     "name": "stdout",
     "output_type": "stream",
     "text": [
      "[1, 2, 3, 4, 5]\n",
      "3\n",
      "[1, 2, 3]\n",
      "5\n",
      "[3, 4]\n",
      "[4, 5]\n"
     ]
    }
   ],
   "source": [
    "# 실습 5-2\n",
    "score =list(range(1,6))\n",
    "print(score)\n",
    "print(score[2])\n",
    "print(score[:3])\n",
    "print(score[-1])\n",
    "print(score[2:4])\n",
    "print(score[3:])\n"
   ]
  },
  {
   "cell_type": "code",
   "execution_count": 279,
   "id": "6acbeca4-7f4f-44a0-b91e-15c2a475b1e3",
   "metadata": {},
   "outputs": [
    {
     "name": "stdout",
     "output_type": "stream",
     "text": [
      "{1, 2, 3, 4, 5}\n",
      "{3}\n",
      "{1, 2}\n"
     ]
    }
   ],
   "source": [
    "# 실습 5-3\n",
    "A={1,2,3}\n",
    "B={3,4,5,5}\n",
    "print(A | B)\n",
    "print(A & B)\n",
    "print(A - B)"
   ]
  },
  {
   "cell_type": "code",
   "execution_count": 283,
   "id": "ed2a15ad-8cb5-4ad2-888b-15e8e4201ec2",
   "metadata": {},
   "outputs": [
    {
     "data": {
      "text/plain": [
       "['홍대', '대학로']"
      ]
     },
     "execution_count": 283,
     "metadata": {},
     "output_type": "execute_result"
    }
   ],
   "source": [
    "# 도전 1-1\n",
    "spot=['명동', '가로수길', '홍대', '대학로']\n",
    "select = spot[2:]\n",
    "select"
   ]
  },
  {
   "cell_type": "code",
   "execution_count": 289,
   "id": "22cca571-0d64-4924-864f-76dd8cbb808d",
   "metadata": {},
   "outputs": [
    {
     "data": {
      "text/plain": [
       "[40, 50, 70]"
      ]
     },
     "execution_count": 289,
     "metadata": {},
     "output_type": "execute_result"
    }
   ],
   "source": [
    "# 도전 1-2\n",
    "num=[50,30,70,40]\n",
    "num.sort()\n",
    "num.remove(30)\n",
    "# num.pop(0)\n",
    "num"
   ]
  },
  {
   "cell_type": "code",
   "execution_count": 315,
   "id": "962e79b4-b374-4944-bbf6-afd4247c55c3",
   "metadata": {},
   "outputs": [
    {
     "data": {
      "text/plain": [
       "[100, 200, 300]"
      ]
     },
     "execution_count": 315,
     "metadata": {},
     "output_type": "execute_result"
    }
   ],
   "source": [
    "# 도전 1-3\n",
    "people={100:'yang', 200:'jang', 300:'o'}\n",
    "list(people.keys())"
   ]
  },
  {
   "cell_type": "code",
   "execution_count": 293,
   "id": "c3df3f30-518a-46ce-bdb6-cb9b46c4c744",
   "metadata": {},
   "outputs": [
    {
     "data": {
      "text/plain": [
       "['yang', 'jang', 'o']"
      ]
     },
     "execution_count": 293,
     "metadata": {},
     "output_type": "execute_result"
    }
   ],
   "source": [
    "list(people.values())"
   ]
  },
  {
   "cell_type": "code",
   "execution_count": 295,
   "id": "4ac46aea-28ca-4353-aaa7-b568d1a0315a",
   "metadata": {},
   "outputs": [
    {
     "data": {
      "text/plain": [
       "[(100, 'yang'), (200, 'jang'), (300, 'o')]"
      ]
     },
     "execution_count": 295,
     "metadata": {},
     "output_type": "execute_result"
    }
   ],
   "source": [
    "list(people.items())"
   ]
  },
  {
   "cell_type": "code",
   "execution_count": 299,
   "id": "c7cf3fed-3b30-466d-a237-b62c9b12924c",
   "metadata": {},
   "outputs": [
    {
     "data": {
      "text/plain": [
       "'jang'"
      ]
     },
     "execution_count": 299,
     "metadata": {},
     "output_type": "execute_result"
    }
   ],
   "source": [
    "# people[200]\n",
    "people.get(200)   # 이렇게 하는 것이 더 좋음"
   ]
  },
  {
   "cell_type": "code",
   "execution_count": 311,
   "id": "7e917d1b-64ab-4d15-bc16-3d3a0e5f82d7",
   "metadata": {},
   "outputs": [
    {
     "data": {
      "text/plain": [
       "{100: 'yang', 200: 'jang', 300: 'o'}"
      ]
     },
     "execution_count": 311,
     "metadata": {},
     "output_type": "execute_result"
    }
   ],
   "source": [
    "people"
   ]
  },
  {
   "cell_type": "code",
   "execution_count": 317,
   "id": "4a151154-e52c-4340-8772-623bee0a04f4",
   "metadata": {},
   "outputs": [
    {
     "data": {
      "text/plain": [
       "{200: 'jang', 300: 'o'}"
      ]
     },
     "execution_count": 317,
     "metadata": {},
     "output_type": "execute_result"
    }
   ],
   "source": [
    "# del(people[100])  \n",
    "people.pop(100) # 이렇게 하는 것이 일반적\n",
    "people"
   ]
  },
  {
   "cell_type": "code",
   "execution_count": 333,
   "id": "626be30f-9fb9-4052-b65d-8dd316a3b1ca",
   "metadata": {},
   "outputs": [
    {
     "name": "stdout",
     "output_type": "stream",
     "text": [
      "{'최재원': '010-1111-1234', '최지윤': '010-2222-1234', '김연수': '010-3333-1234', '김연우': '010-4444-1234', '김가현': '010-5555-1234', '김혜현': '010-6666-1234'}\n",
      "\n"
     ]
    },
    {
     "name": "stdin",
     "output_type": "stream",
     "text": [
      "search name : 서원우\n"
     ]
    },
    {
     "data": {
      "text/plain": [
       "'not Found'"
      ]
     },
     "execution_count": 333,
     "metadata": {},
     "output_type": "execute_result"
    }
   ],
   "source": [
    "# 도전 2-2\n",
    "addr={}\n",
    "\n",
    "addr['최재원'] = '010-1111-1234'\n",
    "addr['최지윤'] = '010-2222-1234'\n",
    "addr['김연수'] = '010-3333-1234'\n",
    "addr['김연우'] = '010-4444-1234'\n",
    "addr['김가현'] = '010-5555-1234'\n",
    "addr['김혜현'] = '010-6666-1234'\n",
    "\n",
    "print(addr)\n",
    "print()\n",
    "\n",
    "list(addr.keys())\n",
    "name = input('search name :')\n",
    "addr.get(name, 'not Found')"
   ]
  },
  {
   "cell_type": "code",
   "execution_count": 337,
   "id": "c42bea0a-94e7-4b5a-8f06-4a574815ef14",
   "metadata": {},
   "outputs": [
    {
     "name": "stdout",
     "output_type": "stream",
     "text": [
      "{'hwang', 'lee', 'kim', 'choi', 'park'}\n",
      "{'park'}\n",
      "{'hwang', 'kim'}\n",
      "{'choi', 'lee'}\n",
      "{'hwang', 'yang', 'park', 'kim'}\n",
      "{'choi', 'park'}\n"
     ]
    }
   ],
   "source": [
    "# 도전 2-3\n",
    "clubA={'kim','park','hwang'}\n",
    "clubB={'park','lee','choi'}\n",
    "\n",
    "clubC= clubA | clubB\n",
    "print(clubC)\n",
    "print(clubA & clubB)\n",
    "print(clubA - clubB)\n",
    "print(clubB - clubA)\n",
    "clubA.update(['yang'])\n",
    "clubB.remove('lee')\n",
    "print(clubA)\n",
    "print(clubB)\n"
   ]
  },
  {
   "cell_type": "code",
   "execution_count": null,
   "id": "7ef3cf0f-3248-43bb-86a6-7456b433cc64",
   "metadata": {},
   "outputs": [],
   "source": []
  }
 ],
 "metadata": {
  "kernelspec": {
   "display_name": "Python 3 (ipykernel)",
   "language": "python",
   "name": "python3"
  },
  "language_info": {
   "codemirror_mode": {
    "name": "ipython",
    "version": 3
   },
   "file_extension": ".py",
   "mimetype": "text/x-python",
   "name": "python",
   "nbconvert_exporter": "python",
   "pygments_lexer": "ipython3",
   "version": "3.12.4"
  }
 },
 "nbformat": 4,
 "nbformat_minor": 5
}
