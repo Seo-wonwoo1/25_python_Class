{
 "cells": [
  {
   "cell_type": "code",
   "execution_count": 6,
   "id": "88942286-c369-4820-b0fa-f41798bfc05b",
   "metadata": {},
   "outputs": [
    {
     "name": "stdout",
     "output_type": "stream",
     "text": [
      "********************\n",
      "서원우서원우\n",
      "********************\n"
     ]
    }
   ],
   "source": [
    "#주석은 프로그램에 영향을 전혀 주지않음\n",
    "print('*' *20) #문자표시는 소따옴표를 사용\n",
    "print('서원우' *2)\n",
    "print('*' *20)"
   ]
  },
  {
   "cell_type": "code",
   "execution_count": 8,
   "id": "996d7b87-cfc9-4f17-92ce-801a1769707b",
   "metadata": {},
   "outputs": [],
   "source": [
    "#모드 - 에디트 모드, 컨트롤 모드\n",
    "#에디트 모드 - 프로그램 작성 편집모드라고 한다.\n",
    "# 컨트롤 모드 - 셀간 이동이나 단축키 적용을 위한, 제어모드\n",
    "# 단축키 -\n",
    "# b: 아래에 빈셀을 추가\n",
    "# a: 위에 빈셀을 추가\n",
    "# c: 셀 복사\n",
    "# v: 셀 붙여넣기\n",
    "# dd: 셀 삭제\n",
    "# x: 셀 삭제\n",
    "# z: 되돌리기\n",
    "# m: 마크다운 모드\n",
    "# y: 코드모드\n",
    "# ctrl + enter: 그냥실행\n",
    "# shift + enter: 아래셀로 이동(셀이 없을경우 생성)\n",
    "# alt + enter: 아래셀 추가 및 이동"
   ]
  },
  {
   "cell_type": "code",
   "execution_count": 10,
   "id": "3b347708-2e68-4c25-bfef-adec4cecd813",
   "metadata": {},
   "outputs": [],
   "source": [
    "# Code - 코드 편집(작성)을 위한 모드\n",
    "# Markdown - 문서 편집을 위한 모드"
   ]
  },
  {
   "cell_type": "code",
   "execution_count": null,
   "id": "a94339fd-9ad6-452f-b9af-a25b21fae38b",
   "metadata": {},
   "outputs": [],
   "source": [
    "# 동해물과 백두산이 \n",
    "## 마르고 닳도록\n",
    "### 하느님이 보우하사 우리나라 만세\n",
    "#### 무궁화 삼천리 화려강산\n",
    "##### 대한사람 대한으로 길이 보전하세.\n",
    "- 과대 : 이충민\n",
    "- 총무 : 박재영\n",
    "\n",
    "1.김규민 - 2002  \n",
    "2.김규민 - 2005  \n",
    "메카트로닉스과  \n",
    "화이팅"
   ]
  },
  {
   "cell_type": "code",
   "execution_count": 16,
   "id": "0e20aa77-0b69-48ca-a741-d9689ab7666f",
   "metadata": {},
   "outputs": [],
   "source": [
    "# 2장 - 변수와 연산자"
   ]
  },
  {
   "cell_type": "code",
   "execution_count": 22,
   "id": "159e5320-05af-4177-b4e0-22b16c4bfdb2",
   "metadata": {},
   "outputs": [],
   "source": [
    "# 파이썬의 기본 자료형\n",
    "# 4가지 : int, float, bool, str.\n",
    "n = 10 # 정수 (양, 0, 음), integer\n",
    "n = '서원우' # 문자 (문자열) '', 이때 \"\" 상관없음. str\n",
    "n= 3.14 # 실수 (부동소수점) float\n",
    "n = False # 불형 (True / False), bool\n",
    "# 리스트, 딕셔너리, 튜플, set"
   ]
  },
  {
   "cell_type": "code",
   "execution_count": 24,
   "id": "daaca862-1fc9-4d46-bb92-e8abdc86a505",
   "metadata": {},
   "outputs": [
    {
     "name": "stdout",
     "output_type": "stream",
     "text": [
      "3.14\n"
     ]
    }
   ],
   "source": [
    "x = 3.14\n",
    "print (x)"
   ]
  },
  {
   "cell_type": "code",
   "execution_count": 26,
   "id": "f204b62d-9e5e-4d7e-9204-6805bccb2c38",
   "metadata": {},
   "outputs": [
    {
     "name": "stdout",
     "output_type": "stream",
     "text": [
      "이름 : 서원우 , 나이 : 24\n"
     ]
    }
   ],
   "source": [
    "name = '서원우'\n",
    "age = 24\n",
    "sex = 'man'\n",
    "town = '남해'\n",
    "print ('이름', ':', name, ',', '나이', ':', age)"
   ]
  },
  {
   "cell_type": "code",
   "execution_count": 28,
   "id": "29ba396d-b78c-4e56-be03-678a93147fbf",
   "metadata": {},
   "outputs": [],
   "source": [
    "a = 1\n",
    "num = 1\n",
    "num1 = 100\n",
    "num2 = 90\n",
    "num3 = 80"
   ]
  },
  {
   "cell_type": "code",
   "execution_count": 30,
   "id": "c0d8af92-6b3c-4490-9152-f12199046df8",
   "metadata": {},
   "outputs": [],
   "source": [
    "# 변수 이름(변수명)을 정하는 규칙\n",
    "# 1. 변수에 할당되는 데이터의 의미에 맞도록 만들자.\n",
    "# 2. 변수명을 만들때, 영어, 숫자, 특수문자, 사용가능\n",
    "# 3. 변수의 맨 앞에는 숫자가 올 수 없다. (num3 (o), 3num (x) )\n",
    "# 4. 특수문자는 오로지 _(언더바)만 사용이 가능하다.\n",
    "# !@#$%^ (x) _ (o)\n",
    "# 5. 대소문자는 구별된다.\n",
    "# 6. 띄어쓰기는 허용하지 않는다 (manage) (x), (man_age) (o)\n",
    "#     man_age (스네이크 형식) manAge (카멜 형식) ManAge(파스칼 형식)\n",
    "# 7. 예약어는 사용할 수 없다.\n",
    "# print, for, if, while, else, def, false, true, int"
   ]
  },
  {
   "cell_type": "code",
   "execution_count": 32,
   "id": "dc64da72-6f48-4b5d-9c8b-07548d72ef23",
   "metadata": {},
   "outputs": [
    {
     "name": "stdout",
     "output_type": "stream",
     "text": [
      "서원우 24\n"
     ]
    }
   ],
   "source": [
    "name = '서원우'\n",
    "age = 24\n",
    "print (name,     age)"
   ]
  },
  {
   "cell_type": "code",
   "execution_count": 34,
   "id": "ce16ab8b-9d0e-466d-b8d2-4846eca5579a",
   "metadata": {},
   "outputs": [],
   "source": [
    "# type() : 변수의 타입을 확인할 때 사용."
   ]
  },
  {
   "cell_type": "code",
   "execution_count": 36,
   "id": "39a9f91d-27ed-47e8-836f-2e43485b95fb",
   "metadata": {},
   "outputs": [
    {
     "name": "stdout",
     "output_type": "stream",
     "text": [
      "이름 : 서원우 , 나이 : 24\n"
     ]
    },
    {
     "data": {
      "text/plain": [
       "bool"
      ]
     },
     "execution_count": 36,
     "metadata": {},
     "output_type": "execute_result"
    }
   ],
   "source": [
    "name = '서원우'\n",
    "age = 24\n",
    "sex = 'man'\n",
    "town = '남해'\n",
    "pi = 3.14\n",
    "con = False\n",
    "print ('이름', ':', name, ',', '나이', ':', age)\n",
    "\n",
    "type (con)"
   ]
  },
  {
   "cell_type": "code",
   "execution_count": 38,
   "id": "9c553e7e-4957-45d5-ab2f-2729b8b6cc07",
   "metadata": {},
   "outputs": [
    {
     "name": "stdout",
     "output_type": "stream",
     "text": [
      "1\n",
      "2\n",
      "0\n",
      "65536\n",
      "1.4142135623730951\n"
     ]
    }
   ],
   "source": [
    "# 연산자 (operator)\n",
    "# 대입(할당)연산자\n",
    "\n",
    "# num = num4 (복합할당연산자)\n",
    "# num = num +1 <=> num += 1\n",
    "# num = num -2 <=> num -= 2\n",
    "# num = num *3 <=> num *= 3\n",
    "# num = num /4 <=> num /= 4\n",
    "\n",
    "num = 3\n",
    "print(5//3) # 몫 1\n",
    "print(5%3) # 나머지 2\n",
    "print(15%3) \n",
    "print(2**16) # 2**16 = 65536, 2**10 = 1024, 2**8 = 256\n",
    "print(2**(1/2))\n",
    "#비교연산자\n",
    "\n",
    "#논리연산자"
   ]
  },
  {
   "cell_type": "code",
   "execution_count": 40,
   "id": "bca56734-acf5-49d5-ae58-b79bdf34da10",
   "metadata": {},
   "outputs": [
    {
     "name": "stdout",
     "output_type": "stream",
     "text": [
      "25\n"
     ]
    }
   ],
   "source": [
    "age = 24\n",
    "age += 1\n",
    "print (age)"
   ]
  },
  {
   "cell_type": "code",
   "execution_count": 44,
   "id": "567235c3-2905-430f-9001-7b83138cf3e4",
   "metadata": {},
   "outputs": [
    {
     "name": "stdout",
     "output_type": "stream",
     "text": [
      "사탕은 66 개 샀고 ,  잔돈은 100 원이 남았다.\n"
     ]
    }
   ],
   "source": [
    "# 문제: 10,000원을 내면 150원짜리 사탕을 몇개 사고\n",
    "# 또, 잔돈은 얼마가 남는가?\n",
    "\n",
    "money = 10000\n",
    "candy = 150\n",
    "\n",
    "num = money//candy\n",
    "change = money%candy\n",
    "\n",
    "print('사탕은', num, '개 샀고 , ','잔돈은', change, '원이 남았다.')"
   ]
  },
  {
   "cell_type": "code",
   "execution_count": null,
   "id": "f7762a3a-7a3a-44da-afa7-3e96648e2454",
   "metadata": {},
   "outputs": [],
   "source": []
  }
 ],
 "metadata": {
  "kernelspec": {
   "display_name": "Python 3 (ipykernel)",
   "language": "python",
   "name": "python3"
  },
  "language_info": {
   "codemirror_mode": {
    "name": "ipython",
    "version": 3
   },
   "file_extension": ".py",
   "mimetype": "text/x-python",
   "name": "python",
   "nbconvert_exporter": "python",
   "pygments_lexer": "ipython3",
   "version": "3.12.4"
  }
 },
 "nbformat": 4,
 "nbformat_minor": 5
}
