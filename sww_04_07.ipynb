{
 "cells": [
  {
   "cell_type": "markdown",
   "id": "2ca0c32d-2711-4077-be39-391c2def9146",
   "metadata": {},
   "source": [
    "# 4장. 기본 자료형"
   ]
  },
  {
   "cell_type": "code",
   "execution_count": 2,
   "id": "e36db266-ac64-477f-9401-3268e5f15642",
   "metadata": {},
   "outputs": [
    {
     "name": "stdin",
     "output_type": "stream",
     "text": [
      "첫번째 수를 입력하시오 10\n",
      "두번째 수를 입력하시오 20\n"
     ]
    },
    {
     "data": {
      "text/plain": [
       "30"
      ]
     },
     "execution_count": 2,
     "metadata": {},
     "output_type": "execute_result"
    }
   ],
   "source": [
    "# 다음주 - 리스트, 튜플, 딕셔너리, 집합\n",
    "# 기본 자료형 - int, str, float, bool\n",
    "# type(3.14)\n",
    "# 문자의 인덱싱과 슬라이싱\n",
    "num1 = input('첫번째 수를 입력하시오')\n",
    "num2 = input('두번째 수를 입력하시오')\n",
    "int(num1)+int(num2)"
   ]
  },
  {
   "cell_type": "code",
   "execution_count": 4,
   "id": "21ef260c-9080-4f98-9e53-cfba0362125d",
   "metadata": {},
   "outputs": [
    {
     "name": "stdin",
     "output_type": "stream",
     "text": [
      "첫번째 수를 입력하시오 10\n",
      "두번째 수를 입력하시오 20\n"
     ]
    },
    {
     "data": {
      "text/plain": [
       "30"
      ]
     },
     "execution_count": 4,
     "metadata": {},
     "output_type": "execute_result"
    }
   ],
   "source": [
    "num1 = int(input('첫번째 수를 입력하시오'))\n",
    "num2 = int(input('두번째 수를 입력하시오'))\n",
    "num1 + num2"
   ]
  },
  {
   "cell_type": "code",
   "execution_count": 10,
   "id": "ad2db414-4ab4-4b9c-9779-5ef23ef0b50c",
   "metadata": {},
   "outputs": [
    {
     "name": "stdin",
     "output_type": "stream",
     "text": [
      "첫번째 수를 입력하시오 10\n"
     ]
    },
    {
     "name": "stdout",
     "output_type": "stream",
     "text": [
      "<class 'float'> 10.0\n"
     ]
    }
   ],
   "source": [
    "num1 = float(input('첫번째 수를 입력하시오'))\n",
    "print(type(num1),num1)"
   ]
  },
  {
   "cell_type": "code",
   "execution_count": 14,
   "id": "68febb72-4c06-41a8-886c-24ed7031c7ef",
   "metadata": {},
   "outputs": [],
   "source": [
    " / #항상실수"
   ]
  },
  {
   "cell_type": "code",
   "execution_count": 16,
   "id": "bfd0f5e7-235b-4360-a59d-d9ba4a2faf11",
   "metadata": {},
   "outputs": [
    {
     "data": {
      "text/plain": [
       "6.0"
      ]
     },
     "execution_count": 16,
     "metadata": {},
     "output_type": "execute_result"
    }
   ],
   "source": [
    "3 + 3.0 "
   ]
  },
  {
   "cell_type": "code",
   "execution_count": 18,
   "id": "6555fee4-9f7c-4228-907f-424331f053d7",
   "metadata": {},
   "outputs": [
    {
     "data": {
      "text/plain": [
       "3"
      ]
     },
     "execution_count": 18,
     "metadata": {},
     "output_type": "execute_result"
    }
   ],
   "source": [
    "int(3.94)"
   ]
  },
  {
   "cell_type": "code",
   "execution_count": 20,
   "id": "367880ef-894b-4f27-97ea-1c2e8db140b1",
   "metadata": {},
   "outputs": [
    {
     "data": {
      "text/plain": [
       "9.0"
      ]
     },
     "execution_count": 20,
     "metadata": {},
     "output_type": "execute_result"
    }
   ],
   "source": [
    "3*3.0"
   ]
  },
  {
   "cell_type": "code",
   "execution_count": 22,
   "id": "597a17c9-d8de-4a33-b4fb-823fae0465e5",
   "metadata": {},
   "outputs": [
    {
     "data": {
      "text/plain": [
       "6"
      ]
     },
     "execution_count": 22,
     "metadata": {},
     "output_type": "execute_result"
    }
   ],
   "source": [
    "name = '이충민박재영'\n",
    "len(name)"
   ]
  },
  {
   "cell_type": "code",
   "execution_count": 24,
   "id": "8c9f3f21-f3d1-4886-8503-c66467c58505",
   "metadata": {},
   "outputs": [
    {
     "data": {
      "text/plain": [
       "43"
      ]
     },
     "execution_count": 24,
     "metadata": {},
     "output_type": "execute_result"
    }
   ],
   "source": [
    "s = 'sdfsdgfdsfjhdlkgjahrgkhdirguhasdlghasdlfkjh'\n",
    "len(s)"
   ]
  },
  {
   "cell_type": "code",
   "execution_count": 28,
   "id": "88892d6e-9c59-4309-b170-aa72bb2a1286",
   "metadata": {},
   "outputs": [
    {
     "data": {
      "text/plain": [
       "6"
      ]
     },
     "execution_count": 28,
     "metadata": {},
     "output_type": "execute_result"
    }
   ],
   "source": [
    "# 문자는 문자와 결합(덧셈)된다\n",
    "s1 = '이충민'+'박재영'\n",
    "len(s1)"
   ]
  },
  {
   "cell_type": "code",
   "execution_count": 30,
   "id": "477dded0-f3a8-490f-96d7-434579617b0e",
   "metadata": {},
   "outputs": [
    {
     "data": {
      "text/plain": [
       "'이충민박재영이충민박재영'"
      ]
     },
     "execution_count": 30,
     "metadata": {},
     "output_type": "execute_result"
    }
   ],
   "source": [
    "# 문자는 곱셈도 된다\n",
    "s1 *2"
   ]
  },
  {
   "cell_type": "code",
   "execution_count": 32,
   "id": "817f14a1-baf2-474d-94e3-d492c68c2ba5",
   "metadata": {},
   "outputs": [
    {
     "data": {
      "text/plain": [
       "'이충민'"
      ]
     },
     "execution_count": 32,
     "metadata": {},
     "output_type": "execute_result"
    }
   ],
   "source": [
    "# 인덱싱- 인덱스 번호로 데이터를 추출하는 행위\n",
    "s1[1]\n",
    "s1[0] +s1[1]+s1[2]"
   ]
  },
  {
   "cell_type": "code",
   "execution_count": 42,
   "id": "d7ea41be-7f80-4784-a635-4301ffb11b82",
   "metadata": {},
   "outputs": [
    {
     "data": {
      "text/plain": [
       "'?'"
      ]
     },
     "execution_count": 42,
     "metadata": {},
     "output_type": "execute_result"
    }
   ],
   "source": [
    "s2 = 'mechatronics fighting!!!?'\n",
    "len(s2)\n",
    "s2[24]"
   ]
  },
  {
   "cell_type": "code",
   "execution_count": 44,
   "id": "4b93d07d-1cdb-421f-97ac-25b466889a45",
   "metadata": {},
   "outputs": [
    {
     "data": {
      "text/plain": [
       "'mech'"
      ]
     },
     "execution_count": 44,
     "metadata": {},
     "output_type": "execute_result"
    }
   ],
   "source": [
    "# 슬라이싱- ~부터 ~ 까지 잘라내는 행위\n",
    "s2[0:4] # 시작 인덱스번호는 포함하고, 곧 인덱스 범위는 포함하지 않는다."
   ]
  },
  {
   "cell_type": "code",
   "execution_count": 46,
   "id": "764644e4-b702-41a7-857a-36795a344817",
   "metadata": {},
   "outputs": [
    {
     "data": {
      "text/plain": [
       "'mechatronics'"
      ]
     },
     "execution_count": 46,
     "metadata": {},
     "output_type": "execute_result"
    }
   ],
   "source": [
    "s2[0:12]"
   ]
  },
  {
   "cell_type": "code",
   "execution_count": 48,
   "id": "97ceb442-fe5b-4cd7-8c12-93cc1f66d81a",
   "metadata": {},
   "outputs": [
    {
     "data": {
      "text/plain": [
       "'mechatronics fighting!!!?'"
      ]
     },
     "execution_count": 48,
     "metadata": {},
     "output_type": "execute_result"
    }
   ],
   "source": [
    "s2[:]"
   ]
  },
  {
   "cell_type": "code",
   "execution_count": 50,
   "id": "67eb9bb6-2056-402b-b0f9-e477692af418",
   "metadata": {},
   "outputs": [
    {
     "data": {
      "text/plain": [
       "'ma'"
      ]
     },
     "execution_count": 50,
     "metadata": {},
     "output_type": "execute_result"
    }
   ],
   "source": [
    "s2[0:5:4] #[시작:끝:스텝]"
   ]
  },
  {
   "cell_type": "code",
   "execution_count": 54,
   "id": "44391c45-a704-4efd-bfc2-2044b1adcce4",
   "metadata": {},
   "outputs": [
    {
     "name": "stdin",
     "output_type": "stream",
     "text": [
      "A과목: 90\n",
      "B과목: 80\n",
      "C과목: 70\n"
     ]
    },
    {
     "name": "stdout",
     "output_type": "stream",
     "text": [
      "평균:80\n",
      "평균: 80.0\n",
      "평균:80\n",
      "평균:80\n",
      "총합:240\n",
      "총합: 240\n",
      "총합: 240\n",
      "총합: 240\n"
     ]
    }
   ],
   "source": [
    "A=int(input('A과목:'))\n",
    "B=int(input('B과목:'))\n",
    "C=int(input('C과목:'))\n",
    "total= A+B+C\n",
    "avg= total/3\n",
    "\n",
    "print(f'평균:{avg:.0f}')\n",
    "print('평균:',avg)\n",
    "print('평균:{:.0f}'.format(avg))\n",
    "print('평균:%d'%(avg))\n",
    "\n",
    "\n",
    "print(f'총합:{total}')\n",
    "print('총합: %d' %(total))\n",
    "print('총합: {}'.format(total))\n",
    "print('총합:',total)"
   ]
  },
  {
   "cell_type": "code",
   "execution_count": 58,
   "id": "9d340ac0-4e49-46a9-8d2e-332cb75bfbe6",
   "metadata": {},
   "outputs": [
    {
     "name": "stdin",
     "output_type": "stream",
     "text": [
      "구입 음악 개수 : 9\n"
     ]
    },
    {
     "name": "stdout",
     "output_type": "stream",
     "text": [
      "총 가격: 3600 원\n",
      "할인금액 : 1080원\n",
      "총 구입 가격:2520원\n"
     ]
    }
   ],
   "source": [
    "music=int(input('구입 음악 개수 :'))\n",
    "total = music*400\n",
    "sale = total*0.3\n",
    "price = total - sale\n",
    "print('총 가격:',total,'원')\n",
    "print('할인금액 : {:.0f}원'.format(sale))\n",
    "print(f'총 구입 가격:{price:.0f}원')"
   ]
  },
  {
   "cell_type": "code",
   "execution_count": 62,
   "id": "0d26bdba-df32-478e-aabb-3619c745e298",
   "metadata": {},
   "outputs": [
    {
     "name": "stdin",
     "output_type": "stream",
     "text": [
      "이름: 김규민\n",
      "연락처: 010-6974-9999\n"
     ]
    },
    {
     "name": "stdout",
     "output_type": "stream",
     "text": [
      "김규민 01069749999\n"
     ]
    }
   ],
   "source": [
    "name = input('이름:')\n",
    "phone = input('연락처:')\n",
    "print(name,phone[:3]+phone[4:8]+phone[9:])"
   ]
  },
  {
   "cell_type": "code",
   "execution_count": 64,
   "id": "61f4ffc4-1af0-4a09-964b-7c4a7c053c74",
   "metadata": {},
   "outputs": [
    {
     "data": {
      "text/plain": [
       "list"
      ]
     },
     "execution_count": 64,
     "metadata": {},
     "output_type": "execute_result"
    }
   ],
   "source": [
    "# 리스트 (중요)\n",
    "a = [1,2,3,4,5]\n",
    "type(a)"
   ]
  },
  {
   "cell_type": "code",
   "execution_count": 66,
   "id": "6e03ee2e-5e5b-4171-af90-3dd44ea5cec0",
   "metadata": {},
   "outputs": [
    {
     "data": {
      "text/plain": [
       "(15, 5, 1)"
      ]
     },
     "execution_count": 66,
     "metadata": {},
     "output_type": "execute_result"
    }
   ],
   "source": [
    "sum(a),max(a),min(a)"
   ]
  },
  {
   "cell_type": "code",
   "execution_count": 68,
   "id": "8008c747-a7c9-4ae1-b253-69c883c9fe3a",
   "metadata": {},
   "outputs": [
    {
     "name": "stdout",
     "output_type": "stream",
     "text": [
      "합계: 150 평균: 30.0\n"
     ]
    }
   ],
   "source": [
    "# 리스트를 사용하는 이유\n",
    "n1 = 10\n",
    "n2 = 20\n",
    "n3 = 30\n",
    "n4 = 40\n",
    "n5 = 50\n",
    "total = n1 + n2 + n3 + n4 + n5\n",
    "avg = total / 5\n",
    "print('합계:', total, '평균:', avg)"
   ]
  },
  {
   "cell_type": "code",
   "execution_count": 70,
   "id": "97c0fc06-c2ed-449f-b6e3-afd1b6550cc9",
   "metadata": {},
   "outputs": [
    {
     "name": "stdout",
     "output_type": "stream",
     "text": [
      "합계: 150 평균: 30.0\n"
     ]
    }
   ],
   "source": [
    "n = [10,20,30,40,50]\n",
    "total = n[0]+n[1]+n[2]+n[3]+n[4]\n",
    "avg = total/5\n",
    "print('합계: {} 평균: {}'.format(total,avg))"
   ]
  },
  {
   "cell_type": "code",
   "execution_count": 72,
   "id": "d18ff222-5f36-49f8-b86a-4dfaf55d1aaa",
   "metadata": {},
   "outputs": [
    {
     "data": {
      "text/plain": [
       "[10, 30, 50]"
      ]
     },
     "execution_count": 72,
     "metadata": {},
     "output_type": "execute_result"
    }
   ],
   "source": [
    "n[::2]"
   ]
  },
  {
   "cell_type": "code",
   "execution_count": 76,
   "id": "6fbdd822-b6b5-4aee-9d5d-4e930408d07e",
   "metadata": {},
   "outputs": [],
   "source": [
    "n = [10,20,'박재영','이충민','1B',[10,20]]"
   ]
  },
  {
   "cell_type": "code",
   "execution_count": 78,
   "id": "cdfa29c7-3e96-471f-a769-8f61363c381e",
   "metadata": {},
   "outputs": [
    {
     "data": {
      "text/plain": [
       "20"
      ]
     },
     "execution_count": 78,
     "metadata": {},
     "output_type": "execute_result"
    }
   ],
   "source": [
    "n[-1][-1]"
   ]
  },
  {
   "cell_type": "code",
   "execution_count": 80,
   "id": "05eb8b52-6df5-4b5f-9764-5aa5f843798a",
   "metadata": {},
   "outputs": [
    {
     "data": {
      "text/plain": [
       "[10, 20, '박재영', '이충민', '1B', '담요']"
      ]
     },
     "execution_count": 80,
     "metadata": {},
     "output_type": "execute_result"
    }
   ],
   "source": [
    "n[-1] = '담요'\n",
    "n"
   ]
  },
  {
   "cell_type": "code",
   "execution_count": 84,
   "id": "0b9e6b65-7544-45b0-b648-60a2a44e7317",
   "metadata": {},
   "outputs": [
    {
     "data": {
      "text/plain": [
       "'이충민담요'"
      ]
     },
     "execution_count": 84,
     "metadata": {},
     "output_type": "execute_result"
    }
   ],
   "source": [
    "n[3]+n[5]"
   ]
  },
  {
   "cell_type": "code",
   "execution_count": 86,
   "id": "208029f5-bcbd-46f7-bc1d-0bad7ebe1306",
   "metadata": {},
   "outputs": [
    {
     "data": {
      "text/plain": [
       "6"
      ]
     },
     "execution_count": 86,
     "metadata": {},
     "output_type": "execute_result"
    }
   ],
   "source": [
    "len(n)"
   ]
  },
  {
   "cell_type": "code",
   "execution_count": 90,
   "id": "3b8073b7-1afe-43c4-9c3f-598594e449f6",
   "metadata": {},
   "outputs": [
    {
     "data": {
      "text/plain": [
       "'영'"
      ]
     },
     "execution_count": 90,
     "metadata": {},
     "output_type": "execute_result"
    }
   ],
   "source": [
    "n[2][2]"
   ]
  },
  {
   "cell_type": "code",
   "execution_count": 94,
   "id": "7deed4bc-ba33-4a1b-8468-5bc1d65ffea0",
   "metadata": {},
   "outputs": [
    {
     "data": {
      "text/plain": [
       "30"
      ]
     },
     "execution_count": 94,
     "metadata": {},
     "output_type": "execute_result"
    }
   ],
   "source": [
    "n[0]+n[1]"
   ]
  },
  {
   "cell_type": "code",
   "execution_count": 108,
   "id": "fae30a47-5e8d-4729-984f-57c853ef21b8",
   "metadata": {},
   "outputs": [],
   "source": [
    "#리스트의 메서드(method) (기능(function:함수, 메서드))\n",
    "#append - 붙이다. #appendix 첨부.\n",
    "#count\n",
    "#copy\n",
    "#clear\n",
    "#insert\n",
    "#index\n",
    "#pop\n",
    "#remove\n",
    "#reverse\n",
    "#sort\n",
    "n.append('메카')"
   ]
  },
  {
   "cell_type": "code",
   "execution_count": 112,
   "id": "cb1d8c22-f4a2-43b4-8603-36e8ee4805c5",
   "metadata": {},
   "outputs": [
    {
     "data": {
      "text/plain": [
       "[10, 20, '박재영', '이충민', '1B', '담요', '메카', '메카', '메카']"
      ]
     },
     "execution_count": 112,
     "metadata": {},
     "output_type": "execute_result"
    }
   ],
   "source": [
    "n[:]"
   ]
  },
  {
   "cell_type": "code",
   "execution_count": 110,
   "id": "c8dbb7af-f01f-4c5b-b6cf-a2674cb07b89",
   "metadata": {},
   "outputs": [
    {
     "data": {
      "text/plain": [
       "3"
      ]
     },
     "execution_count": 110,
     "metadata": {},
     "output_type": "execute_result"
    }
   ],
   "source": [
    "n.count('메카')"
   ]
  },
  {
   "cell_type": "code",
   "execution_count": 114,
   "id": "fcfefe33-0b17-40f0-82c9-3f72e07265bd",
   "metadata": {},
   "outputs": [
    {
     "data": {
      "text/plain": [
       "[10, 20, '박재영', '이충민', '1B', '담요', '메카', '메카', '메카']"
      ]
     },
     "execution_count": 114,
     "metadata": {},
     "output_type": "execute_result"
    }
   ],
   "source": [
    "n1 = n\n",
    "n"
   ]
  },
  {
   "cell_type": "code",
   "execution_count": 116,
   "id": "9cb54df7-5323-4b60-b5d9-b68ac1d7a892",
   "metadata": {},
   "outputs": [
    {
     "data": {
      "text/plain": [
       "[10, 20, '박재영', '이충민', '1B', '담요', '메카', '메카', '메카']"
      ]
     },
     "execution_count": 116,
     "metadata": {},
     "output_type": "execute_result"
    }
   ],
   "source": [
    "n1 = n.copy()\n",
    "n1"
   ]
  },
  {
   "cell_type": "code",
   "execution_count": 118,
   "id": "560ae178-5783-48e4-bc08-db0d2409eccb",
   "metadata": {},
   "outputs": [
    {
     "data": {
      "text/plain": [
       "[10, 20, 'park', '이충민', '1B', '담요', '메카', '메카', '메카']"
      ]
     },
     "execution_count": 118,
     "metadata": {},
     "output_type": "execute_result"
    }
   ],
   "source": [
    "n1 = n #얕은복사 -> 원본과 사본을 합침\n",
    "n1[2] = 'park'\n",
    "n1"
   ]
  },
  {
   "cell_type": "code",
   "execution_count": 120,
   "id": "cd466a92-94c9-47ea-9166-e0510ed59943",
   "metadata": {},
   "outputs": [
    {
     "data": {
      "text/plain": [
       "[10, 20, 'park', '이충민', '1B', '담요', '메카', '메카', '메카']"
      ]
     },
     "execution_count": 120,
     "metadata": {},
     "output_type": "execute_result"
    }
   ],
   "source": [
    "n"
   ]
  },
  {
   "cell_type": "code",
   "execution_count": 122,
   "id": "f4cc2378-6c25-42d6-8166-2bd90ccd1bee",
   "metadata": {},
   "outputs": [
    {
     "data": {
      "text/plain": [
       "[10, 20, '박재영', '이충민', '1B', '담요', '메카', '메카', '메카']"
      ]
     },
     "execution_count": 122,
     "metadata": {},
     "output_type": "execute_result"
    }
   ],
   "source": [
    "n2 = n.copy() #깊은복사 -> 원본과 사본을 분리하기위함\n",
    "n2[2]='박재영'\n",
    "n2"
   ]
  },
  {
   "cell_type": "code",
   "execution_count": 124,
   "id": "f3b67f73-88a1-4c2f-95c1-f3c9d51843cb",
   "metadata": {},
   "outputs": [
    {
     "data": {
      "text/plain": [
       "[10, 20, 'park', '이충민', '1B', '담요', '메카', '메카', '메카']"
      ]
     },
     "execution_count": 124,
     "metadata": {},
     "output_type": "execute_result"
    }
   ],
   "source": [
    "n"
   ]
  },
  {
   "cell_type": "code",
   "execution_count": null,
   "id": "2543b095-2bda-4597-940d-d3d74bc8b726",
   "metadata": {},
   "outputs": [],
   "source": []
  }
 ],
 "metadata": {
  "kernelspec": {
   "display_name": "Python 3 (ipykernel)",
   "language": "python",
   "name": "python3"
  },
  "language_info": {
   "codemirror_mode": {
    "name": "ipython",
    "version": 3
   },
   "file_extension": ".py",
   "mimetype": "text/x-python",
   "name": "python",
   "nbconvert_exporter": "python",
   "pygments_lexer": "ipython3",
   "version": "3.12.4"
  }
 },
 "nbformat": 4,
 "nbformat_minor": 5
}
