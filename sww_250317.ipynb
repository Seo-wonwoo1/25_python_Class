{
 "cells": [
  {
   "cell_type": "markdown",
   "id": "8e1c024f",
   "metadata": {},
   "source": [
    "3*4"
   ]
  },
  {
   "cell_type": "code",
   "execution_count": 15,
   "id": "cd841238",
   "metadata": {
    "scrolled": false
   },
   "outputs": [
    {
     "name": "stdout",
     "output_type": "stream",
     "text": [
      "********************\n",
      "서원우서원우\n",
      "********************\n"
     ]
    }
   ],
   "source": [
    "#주석은 프로그램에 영향을 전혀 주지않음.\n",
    "print('*' *20) #문자표시는 소따옴표를 사용\n",
    "print('서원우' *2)\n",
    "print('*' *20)"
   ]
  },
  {
   "cell_type": "code",
   "execution_count": null,
   "id": "47312a44",
   "metadata": {},
   "outputs": [],
   "source": [
    "#모드- 에드트 모드, 컨트롤 모드\n",
    "#에디트 모드 - 프로그램 작성 편집모드라고 한다.\n",
    "#컨트롤 모드 - 셀간 이동이나 단축키 적용을 위한, 제어모드\n",
    "#단축키 - \n",
    "# b: 아래에 빈셀을 추가\n",
    "# a: 위에 빈셀을 추가\n",
    "# c: 셀 복사\n",
    "# v: 셀 붙여넣기\n",
    "# dd: 셀 삭제\n",
    "# x: 셀 삭제\n",
    "# z: 되돌리기\n",
    "# m: 마크다운 모드\n",
    "# y: 코드 모드\n",
    "# ctrl + enter: 그냥실행\n",
    "# shift + enter: 아레셀로 이동(셀이없을경우 생성)\n",
    "# alt + enter: 아레셀 추가 및 이동"
   ]
  },
  {
   "cell_type": "code",
   "execution_count": null,
   "id": "e393fd8f",
   "metadata": {},
   "outputs": [],
   "source": [
    "# Code - 코드 편집(작성)을 위한 모드\n",
    "# Markdown - 문서 편집을 위한 모드"
   ]
  },
  {
   "cell_type": "markdown",
   "id": "23f54de2",
   "metadata": {},
   "source": [
    "# 동해물과 백두산이\n",
    "## 마르고 닳도록\n",
    "### 하느님이 보우하사 우리나라 만세\n",
    "#### 무궁화 삼천리 화려강산 \n",
    "##### 대한사람 대한으로 길이 보전하세.\n",
    "- 과대 : 이충민\n",
    "- 총무 : 박재영\n",
    "1. 김규민 - 2002\n",
    "2. 김규민 - 2005  \n",
    "메카트로닉스과  \n",
    "화이팅"
   ]
  },
  {
   "cell_type": "markdown",
   "id": "5954efbf",
   "metadata": {},
   "source": [
    "# 2장 - 변수와 연산자"
   ]
  },
  {
   "cell_type": "code",
   "execution_count": 25,
   "id": "ada841a1",
   "metadata": {},
   "outputs": [
    {
     "data": {
      "text/plain": [
       "'서원우서원우서원우서원우서원우'"
      ]
     },
     "execution_count": 25,
     "metadata": {},
     "output_type": "execute_result"
    }
   ],
   "source": [
    "'서원우'*5"
   ]
  },
  {
   "cell_type": "code",
   "execution_count": null,
   "id": "cb0b0698",
   "metadata": {},
   "outputs": [],
   "source": [
    "# 파이썬의 기본 자료형\n",
    "# 4가지 : int, float, bool, str.\n",
    "n = 10 # 정수 ( 양, 0, 음), integer\n",
    "n = 서원우 # 문자 (문자열) '', 이때 \"\" 상관없다. str\n",
    "n = 3.14 # 실수 (부동소수점) float\n",
    "n = False # 불형 (True / False), bool\n",
    "# 리스트, 딕셔너리 , 튜플, set."
   ]
  },
  {
   "cell_type": "code",
   "execution_count": 27,
   "id": "3b703aeb",
   "metadata": {},
   "outputs": [
    {
     "name": "stdout",
     "output_type": "stream",
     "text": [
      "3.14\n"
     ]
    }
   ],
   "source": [
    "x = 3.14\n",
    "print (x)"
   ]
  },
  {
   "cell_type": "code",
   "execution_count": 3,
   "id": "d0d9ede4",
   "metadata": {},
   "outputs": [
    {
     "name": "stdout",
     "output_type": "stream",
     "text": [
      "이름 : 서원우 , 나이 : 24\n"
     ]
    }
   ],
   "source": [
    "name = '서원우'\n",
    "age = 24\n",
    "sex = 'man'\n",
    "town = '남해'\n",
    "\n",
    "print ('이름',':',name,',', '나이',':',age)"
   ]
  },
  {
   "cell_type": "code",
   "execution_count": null,
   "id": "de70da11",
   "metadata": {},
   "outputs": [],
   "source": [
    "a = 1\n",
    "num = 1\n",
    "num1 = 100\n",
    "num2 = 90\n",
    "num3 = 80"
   ]
  },
  {
   "cell_type": "code",
   "execution_count": null,
   "id": "6e7f17d3",
   "metadata": {},
   "outputs": [],
   "source": [
    "# 변수 이름(변수명)을 정하는 규칙\n",
    "# 1. 변수에 할당되는 데이터의 의미에 맞도록 만들자.\n",
    "# 2. 변수명을 만들때, 영어, 숫자, 특수문자 사용가능\n",
    "# 3. 변수의 맨 앞에는 숫자가 올 수 없다. (num3 (o), 3num (x) )\n",
    "# 4. 특수문자는 오로지 _(언더바)만 사용이 가능하다.\n",
    "# !@#$%^ (x) _ (o)\n",
    "# 5. 대소문자가 구별된다.\n",
    "# 6. 띄어쓰기는 허용하지 않는다. (manage) (x), (man_age) (o)\n",
    "        man_age, manAge, ManAge\n",
    "# 7. 예약어는 사용할 수 없다. \n",
    "# print, for, if, while, else, def, False, True, int"
   ]
  },
  {
   "cell_type": "code",
   "execution_count": 37,
   "id": "845c05b0",
   "metadata": {},
   "outputs": [
    {
     "name": "stdout",
     "output_type": "stream",
     "text": [
      "서원우 24\n"
     ]
    }
   ],
   "source": [
    "name = '서원우'\n",
    "age = 24\n",
    "print (name,    age)"
   ]
  },
  {
   "cell_type": "code",
   "execution_count": null,
   "id": "038ae96c",
   "metadata": {},
   "outputs": [],
   "source": [
    "# type() : 변수의 타입을 확인할 때 사용."
   ]
  },
  {
   "cell_type": "code",
   "execution_count": 42,
   "id": "50d1a223",
   "metadata": {},
   "outputs": [
    {
     "name": "stdout",
     "output_type": "stream",
     "text": [
      "이름 : 서원우 , 나이 : 24\n"
     ]
    },
    {
     "data": {
      "text/plain": [
       "bool"
      ]
     },
     "execution_count": 42,
     "metadata": {},
     "output_type": "execute_result"
    }
   ],
   "source": [
    "name = '서원우'\n",
    "age = 24\n",
    "sex = 'man'\n",
    "town = '남해'\n",
    "pi = 3.14\n",
    "con = False\n",
    "print ('이름',':',name,',', '나이',':',age)\n",
    "\n",
    "type(con)"
   ]
  },
  {
   "cell_type": "code",
   "execution_count": 7,
   "id": "77299dd1",
   "metadata": {},
   "outputs": [
    {
     "name": "stdout",
     "output_type": "stream",
     "text": [
      "3.0\n",
      "1\n",
      "2\n",
      "0\n",
      "65536\n",
      "1.4142135623730951\n"
     ]
    }
   ],
   "source": [
    "# 연산자 (operator)\n",
    "# 대입(할당)연산자\n",
    "\n",
    "# num = num+4 (복합할당연산자)\n",
    "# num = num +1 <=> num += 1\n",
    "# num = num -2 <=> num -= 2\n",
    "# num = num *3 <=> num *= 3\n",
    "# num = num /4 <=> num /= 4\n",
    "\n",
    "num = 3\n",
    "print(9 / num) #  // 연산의 경우 항상 실수형으로 표시\n",
    "\n",
    "# 산술연산자(숫자의 계산)\n",
    "# +, -, *, /, %(나머지), //(몫), **(지수)\n",
    "\n",
    "print(5//3) #// 몫 1\n",
    "print(5%3) # % 나머지 2\n",
    "print(15%3)\n",
    "print(2**16) #2**16 =65536, 2**10 =1024, 2**8 =256\n",
    "print(2**(1/2))\n",
    "# 비교연산자\n",
    "\n",
    "# 논리연산자"
   ]
  },
  {
   "cell_type": "code",
   "execution_count": 44,
   "id": "97b01949",
   "metadata": {},
   "outputs": [
    {
     "name": "stdout",
     "output_type": "stream",
     "text": [
      "25\n"
     ]
    }
   ],
   "source": [
    "age = 24\n",
    "age += 1\n",
    "print (age)"
   ]
  },
  {
   "cell_type": "code",
   "execution_count": 2,
   "id": "ffb2250c",
   "metadata": {},
   "outputs": [
    {
     "name": "stdout",
     "output_type": "stream",
     "text": [
      "사탕은 66 개 살 수 있고  100 원이 남는다\n"
     ]
    }
   ],
   "source": [
    "# 문제: 10,000원 내면, 150 사탕을 몇개 사고,\n",
    "#        또, 잔돈은 얼마가 남는가?\n",
    "money = 10000\n",
    "candy = 150\n",
    "# 몫\n",
    "num = money // candy\n",
    "# 나머지\n",
    "change = money % candy\n",
    "print (\"사탕은\", num,\"개 살 수 있고 \", change, \"원이 남는다\")"
   ]
  },
  {
   "cell_type": "code",
   "execution_count": 4,
   "id": "6588c7ae",
   "metadata": {},
   "outputs": [],
   "source": [
    "#03-24"
   ]
  },
  {
   "cell_type": "code",
   "execution_count": 6,
   "id": "62b7b295",
   "metadata": {},
   "outputs": [
    {
     "name": "stdout",
     "output_type": "stream",
     "text": [
      "500원 2 개\n",
      "100원 10 개\n",
      "50원 20 개\n"
     ]
    }
   ],
   "source": [
    "# 1000원짜리 지폐를 500원으로, 100원짜리 동전으로 교환\n",
    "money = 1000\n",
    "won_500 = money//500\n",
    "won_100 = money//100\n",
    "won_50 = money//50\n",
    "print('500원', won_500, '개')\n",
    "print('100원', won_100, '개')\n",
    "print('50원', won_50, '개')"
   ]
  },
  {
   "cell_type": "code",
   "execution_count": 8,
   "id": "a5ed5b2d",
   "metadata": {},
   "outputs": [
    {
     "name": "stdout",
     "output_type": "stream",
     "text": [
      "구매가능한 수: 66 개\n",
      "잔돈: 100 원\n"
     ]
    }
   ],
   "source": [
    "# 구입 가능한 사탕의 수\n",
    "money = 10000\n",
    "candy = 150\n",
    "# 사탕을 몇개 살 수 있고, 잔돈은 얼마인가?\n",
    "candy_num = money // candy\n",
    "change = money%candy\n",
    "print('구매가능한 수:', candy_num, '개')\n",
    "print('잔돈:', change, '원')"
   ]
  },
  {
   "cell_type": "code",
   "execution_count": 14,
   "id": "af49102b",
   "metadata": {},
   "outputs": [],
   "source": [
    "n1 = 10"
   ]
  },
  {
   "cell_type": "code",
   "execution_count": 16,
   "id": "07ff2ebc",
   "metadata": {},
   "outputs": [
    {
     "data": {
      "text/plain": [
       "12"
      ]
     },
     "execution_count": 16,
     "metadata": {},
     "output_type": "execute_result"
    }
   ],
   "source": [
    "n1 += 1\n",
    "n1"
   ]
  },
  {
   "cell_type": "markdown",
   "id": "c6ce5ae5",
   "metadata": {},
   "source": [
    "비교 연산자"
   ]
  },
  {
   "cell_type": "code",
   "execution_count": 20,
   "id": "9745706c",
   "metadata": {},
   "outputs": [],
   "source": [
    "# >\n",
    "# <\n",
    "# == (같다)\n",
    "# >=\n",
    "# <=\n",
    "# != (같지않다)\n",
    "# 6개의 연산자가 사용되고,\n",
    "#연산의 결과는 참(True)과 거짓(false)으로 반환한다."
   ]
  },
  {
   "cell_type": "code",
   "execution_count": 19,
   "id": "c3d55a8c",
   "metadata": {},
   "outputs": [
    {
     "data": {
      "text/plain": [
       "True"
      ]
     },
     "execution_count": 19,
     "metadata": {},
     "output_type": "execute_result"
    }
   ],
   "source": [
    "5 > 3"
   ]
  },
  {
   "cell_type": "markdown",
   "id": "4bd72e22",
   "metadata": {},
   "source": [
    "### 논리연산자"
   ]
  },
  {
   "cell_type": "code",
   "execution_count": 27,
   "id": "3aadf3e6",
   "metadata": {},
   "outputs": [],
   "source": [
    "# 논리연산의 결과는 True 또는 False으로 나온다.\n",
    "# and ex) 비교연산식 and 비교연산식  (5 > 3) and (7 > 2)\n",
    "# or      비교연산식 or 비교연산식   (5 > 3) or (7 > 2)\n",
    "# not     not 비교연산식    not 5 > 3\n",
    "\n",
    "# and\n",
    "# True and True -> True\n",
    "# True and False -> False\n",
    "# False and False -> False\n",
    "# False and True -> False\n",
    "\n",
    "# or\n",
    "# True or True -> True\n",
    "# True or False -> True\n",
    "# False or False -> False\n",
    "# False or True -> True\n",
    "\n",
    "# not\n",
    "# not True -> False\n",
    "# not False -> True"
   ]
  },
  {
   "cell_type": "code",
   "execution_count": 28,
   "id": "d0812592",
   "metadata": {},
   "outputs": [
    {
     "data": {
      "text/plain": [
       "False"
      ]
     },
     "execution_count": 28,
     "metadata": {},
     "output_type": "execute_result"
    }
   ],
   "source": [
    "not 5 > 3"
   ]
  },
  {
   "cell_type": "markdown",
   "id": "11d6d56d",
   "metadata": {},
   "source": [
    "# 문자열 연산자"
   ]
  },
  {
   "cell_type": "code",
   "execution_count": 41,
   "id": "b7c4f330",
   "metadata": {},
   "outputs": [
    {
     "data": {
      "text/plain": [
       "' 이충민  과대 30세'"
      ]
     },
     "execution_count": 41,
     "metadata": {},
     "output_type": "execute_result"
    }
   ],
   "source": [
    "' 이충민 ' + ' 과대 ' +'30세'"
   ]
  },
  {
   "cell_type": "code",
   "execution_count": 42,
   "id": "c8d87023",
   "metadata": {},
   "outputs": [
    {
     "data": {
      "text/plain": [
       "' 이충민  이충민 '"
      ]
     },
     "execution_count": 42,
     "metadata": {},
     "output_type": "execute_result"
    }
   ],
   "source": [
    "' 이충민 ' *2"
   ]
  },
  {
   "cell_type": "code",
   "execution_count": 50,
   "id": "972315bf",
   "metadata": {},
   "outputs": [
    {
     "name": "stdout",
     "output_type": "stream",
     "text": [
      "잔돈:  900 원\n",
      "500원: 1 개\n",
      "100원: 4 개\n"
     ]
    }
   ],
   "source": [
    "money1 = 2900  # 투입한 돈\n",
    "price = 1000   # 물건 값\n",
    "\n",
    "change1 = money1 % price  # 잔돈\n",
    "print('잔돈: ', change1 , '원')\n",
    "\n",
    "won_1 = change1 // 500\n",
    "won_2 = change1 % 500\n",
    "won_3 = won_2 // 100\n",
    "print('500원:', won_1, '개')\n",
    "print('100원:', won_3, '개')"
   ]
  },
  {
   "cell_type": "code",
   "execution_count": 58,
   "id": "16b5bd04",
   "metadata": {},
   "outputs": [
    {
     "name": "stdout",
     "output_type": "stream",
     "text": [
      "합은: 255  평균은: 85.0\n"
     ]
    }
   ],
   "source": [
    "# 세 과목에 대한 성적을 각각 변수에 저장한 후 합계와 평균을 출력\n",
    "kor,eng,math=100,75,80\n",
    "\n",
    "kor,eng,math\n",
    "sum = kor+eng+math\n",
    "avg = sum/3 \n",
    "print('합은:',sum, ' 평균은:', avg)"
   ]
  },
  {
   "cell_type": "code",
   "execution_count": 60,
   "id": "e537a5f3",
   "metadata": {},
   "outputs": [],
   "source": [
    "# 학년이 1학년이고, 평균 취득 학점이 4.5 이상을 만족하는 조건식\n",
    "# year == 1 and score >= 4.5"
   ]
  },
  {
   "cell_type": "code",
   "execution_count": null,
   "id": "290bfafb",
   "metadata": {},
   "outputs": [],
   "source": [
    "addr == '서울' or addr == '경기도'\n",
    "toeic >= 800 or com =='A학점'"
   ]
  },
  {
   "cell_type": "code",
   "execution_count": 66,
   "id": "3e144dc0",
   "metadata": {},
   "outputs": [
    {
     "name": "stdout",
     "output_type": "stream",
     "text": [
      "3 8 4\n"
     ]
    }
   ],
   "source": [
    "n = 384\n",
    "# d100 = n // 100\n",
    "# n = n % 100 \n",
    "# d10 = n // 10\n",
    "# n = n % 10\n",
    "# d1 = n // 1\n",
    "# n = n % 1\n",
    "\n",
    "d100 = n //100\n",
    "d10 = (n % 100) // 10\n",
    "d1 = n % 10\n",
    "print(d100, d10, d1)\n",
    "\n"
   ]
  },
  {
   "cell_type": "code",
   "execution_count": 74,
   "id": "9448555a",
   "metadata": {},
   "outputs": [
    {
     "name": "stdout",
     "output_type": "stream",
     "text": [
      "1 h 2 m 30 s\n"
     ]
    }
   ],
   "source": [
    "time = 3750\n",
    "minute = time // 60\n",
    "second = time % 60\n",
    "\n",
    "hour = minute // 60\n",
    "minute = minute % 60\n",
    "print(hour, 'h', minute,'m', second,'s')"
   ]
  },
  {
   "cell_type": "code",
   "execution_count": 105,
   "id": "205b2ab2",
   "metadata": {},
   "outputs": [
    {
     "ename": "TypeError",
     "evalue": "'str' object is not callable",
     "output_type": "error",
     "traceback": [
      "\u001b[1;31m---------------------------------------------------------------------------\u001b[0m",
      "\u001b[1;31mTypeError\u001b[0m                                 Traceback (most recent call last)",
      "\u001b[1;32m<ipython-input-105-49565be3bff0>\u001b[0m in \u001b[0;36m<module>\u001b[1;34m\u001b[0m\n\u001b[0;32m      4\u001b[0m \u001b[0msecond\u001b[0m \u001b[1;33m=\u001b[0m \u001b[0mtime\u001b[0m \u001b[1;33m%\u001b[0m \u001b[1;36m60\u001b[0m\u001b[1;33m\u001b[0m\u001b[1;33m\u001b[0m\u001b[0m\n\u001b[0;32m      5\u001b[0m \u001b[0msecond\u001b[0m\u001b[1;33m\u001b[0m\u001b[1;33m\u001b[0m\u001b[0m\n\u001b[1;32m----> 6\u001b[1;33m \u001b[0mprint\u001b[0m\u001b[1;33m(\u001b[0m\u001b[0mhour\u001b[0m\u001b[1;33m,\u001b[0m\u001b[0mminute\u001b[0m\u001b[1;33m,\u001b[0m\u001b[0msecond\u001b[0m\u001b[1;33m)\u001b[0m\u001b[1;33m\u001b[0m\u001b[1;33m\u001b[0m\u001b[0m\n\u001b[0m",
      "\u001b[1;31mTypeError\u001b[0m: 'str' object is not callable"
     ]
    }
   ],
   "source": [
    "time = 3700\n",
    "hour = time // (60 * 60)\n",
    "minute = time % (60*60) // 60\n",
    "second = time % 60\n",
    "second\n",
    "print(hour,minute,second)"
   ]
  },
  {
   "cell_type": "code",
   "execution_count": 84,
   "id": "669f509e",
   "metadata": {},
   "outputs": [
    {
     "name": "stdout",
     "output_type": "stream",
     "text": [
      "총 매출액: 110000 원\n",
      "순이익: 10000 원\n"
     ]
    }
   ],
   "source": [
    "ame = 2000\n",
    "cafelatee = 3000\n",
    "cafemoca = 4000\n",
    "total = (ame*20) +(cafelatee*10)+(cafemoca*10)\n",
    "mat_price = 100000\n",
    "profit= total - mat_price\n",
    "print('총 매출액:',total, '원')\n",
    "print('순이익:',profit, '원')"
   ]
  },
  {
   "cell_type": "markdown",
   "id": "0cd0c052",
   "metadata": {},
   "source": [
    "### 3장 입력과 출력"
   ]
  },
  {
   "cell_type": "code",
   "execution_count": 104,
   "id": "189e0b94",
   "metadata": {},
   "outputs": [
    {
     "ename": "TypeError",
     "evalue": "'str' object is not callable",
     "output_type": "error",
     "traceback": [
      "\u001b[1;31m---------------------------------------------------------------------------\u001b[0m",
      "\u001b[1;31mTypeError\u001b[0m                                 Traceback (most recent call last)",
      "\u001b[1;32m<ipython-input-104-950aea5aa185>\u001b[0m in \u001b[0;36m<module>\u001b[1;34m\u001b[0m\n\u001b[1;32m----> 1\u001b[1;33m \u001b[0mprint\u001b[0m\u001b[1;33m(\u001b[0m\u001b[1;34m'당신의 이름은 무엇입니까?'\u001b[0m\u001b[1;33m)\u001b[0m\u001b[1;33m\u001b[0m\u001b[1;33m\u001b[0m\u001b[0m\n\u001b[0m\u001b[0;32m      2\u001b[0m \u001b[0mneme\u001b[0m \u001b[1;33m=\u001b[0m \u001b[0minput\u001b[0m\u001b[1;33m(\u001b[0m\u001b[1;33m)\u001b[0m\u001b[1;33m\u001b[0m\u001b[1;33m\u001b[0m\u001b[0m\n\u001b[0;32m      3\u001b[0m \u001b[0mprint\u001b[0m\u001b[1;33m(\u001b[0m\u001b[1;34m'이름:'\u001b[0m\u001b[1;33m,\u001b[0m\u001b[0mname\u001b[0m\u001b[1;33m)\u001b[0m\u001b[1;33m\u001b[0m\u001b[1;33m\u001b[0m\u001b[0m\n",
      "\u001b[1;31mTypeError\u001b[0m: 'str' object is not callable"
     ]
    }
   ],
   "source": [
    "print('당신의 이름은 무엇입니까?')\n",
    "neme = input()\n",
    "print('이름:',name)"
   ]
  },
  {
   "cell_type": "code",
   "execution_count": 88,
   "id": "c23eaff5",
   "metadata": {},
   "outputs": [
    {
     "name": "stdout",
     "output_type": "stream",
     "text": [
      "당신의 혈액형은 무엇입니까?\n",
      "ab\n",
      "ab\n"
     ]
    }
   ],
   "source": [
    "print('당신의 혈액형은 무엇입니까?')\n",
    "b_type = input()\n",
    "print(b_type)"
   ]
  },
  {
   "cell_type": "code",
   "execution_count": 89,
   "id": "d25a0a3b",
   "metadata": {},
   "outputs": [
    {
     "name": "stdout",
     "output_type": "stream",
     "text": [
      "당신의 이름은 무엇입니까?서원우\n"
     ]
    }
   ],
   "source": [
    "name = input('당신의 이름은 무엇입니까?')\n",
    "print =(name*3)"
   ]
  },
  {
   "cell_type": "code",
   "execution_count": 3,
   "id": "c44e79fd",
   "metadata": {},
   "outputs": [
    {
     "name": "stdout",
     "output_type": "stream",
     "text": [
      "당신은 몇살 입니까?20\n",
      "2020\n"
     ]
    }
   ],
   "source": [
    "age = input('당신은 몇살 입니까?')\n",
    "print(age*2)\n",
    "#input()을 통해 입력받은 데이터는 무조건 문자로 저장된다."
   ]
  },
  {
   "cell_type": "code",
   "execution_count": 2,
   "id": "8439a597",
   "metadata": {
    "scrolled": true
   },
   "outputs": [
    {
     "name": "stdout",
     "output_type": "stream",
     "text": [
      "첫번째 수를 입력하시오10\n",
      "두번째 수를 입력하시오20\n",
      "두 수의 합은 30\n"
     ]
    }
   ],
   "source": [
    "n1 = input('첫번째 수를 입력하시오')\n",
    "n2 = input('두번째 수를 입력하시오')\n",
    "print('두 수의 합은', int(n1)+int(n2))"
   ]
  },
  {
   "cell_type": "code",
   "execution_count": 6,
   "id": "f9b160c3",
   "metadata": {
    "scrolled": true
   },
   "outputs": [
    {
     "name": "stdout",
     "output_type": "stream",
     "text": [
      "첫번째 수를 입력하시오10\n",
      "두번째 수를 입력하시오20\n",
      "두 수의 합은 30\n"
     ]
    }
   ],
   "source": [
    "n1 = int(input('첫번째 수를 입력하시오'))\n",
    "n2 = int(input('두번째 수를 입력하시오'))\n",
    "print('두 수의 합은',n1+n2)"
   ]
  },
  {
   "cell_type": "code",
   "execution_count": 1,
   "id": "ed8c0de6",
   "metadata": {},
   "outputs": [
    {
     "name": "stdout",
     "output_type": "stream",
     "text": [
      "박재영은 25 세이다\n",
      "박재영은25세이다\n"
     ]
    }
   ],
   "source": [
    "#'박재영은 25세이다'\n",
    "print('박재영은',25,'세이다')\n",
    "print('박재영은'+str(25)+'세이다')"
   ]
  },
  {
   "cell_type": "code",
   "execution_count": 7,
   "id": "5b5a61b1",
   "metadata": {},
   "outputs": [
    {
     "name": "stdout",
     "output_type": "stream",
     "text": [
      "3.4\n"
     ]
    }
   ],
   "source": [
    "c=float(input())"
   ]
  },
  {
   "cell_type": "code",
   "execution_count": 10,
   "id": "4a35ac2c",
   "metadata": {},
   "outputs": [
    {
     "name": "stdout",
     "output_type": "stream",
     "text": [
      "이름 입력: 서원우\n",
      "당신의 이름은 서원우입니다\n",
      "당신의 이름은  서원우 입니다\n"
     ]
    }
   ],
   "source": [
    "name =  input('이름 입력: ')\n",
    "print(\"당신의 이름은 \"+ name+ '입니다')\n",
    "print(\"당신의 이름은 \", name, '입니다')"
   ]
  },
  {
   "cell_type": "code",
   "execution_count": 14,
   "id": "e96d950c",
   "metadata": {},
   "outputs": [
    {
     "name": "stdout",
     "output_type": "stream",
     "text": [
      "이름 입력: 서원우\n",
      "당신의 이름은 서원우입니다yes\n",
      "안녕하세요 서원우님\n"
     ]
    }
   ],
   "source": [
    "name =  input('이름 입력: ')\n",
    "que = input(\"당신의 이름은 \"+ name+ '입니다')\n",
    "if que == 'y' or que == 'y' or que == 'yes' or que == 'yes':\n",
    "    print(\"안녕하세요 \"+name+'님')\n",
    "else :\n",
    "    print(\"이름을 다시 입력하세요\")"
   ]
  },
  {
   "cell_type": "code",
   "execution_count": 17,
   "id": "364a078f",
   "metadata": {},
   "outputs": [
    {
     "name": "stdout",
     "output_type": "stream",
     "text": [
      "5 + 10 = 15\n"
     ]
    }
   ],
   "source": [
    "#format 연산자\n",
    "print(\"{} + {} = {}\".format(5,10,5+10))"
   ]
  },
  {
   "cell_type": "code",
   "execution_count": 20,
   "id": "6af815a6",
   "metadata": {},
   "outputs": [
    {
     "name": "stdout",
     "output_type": "stream",
     "text": [
      "서원우는  24세이고, 혈액형은 ab이다.\n"
     ]
    }
   ],
   "source": [
    "print(\"{}는  {}세이고, 혈액형은 {}이다.\".format('서원우',24,'ab'))"
   ]
  },
  {
   "cell_type": "code",
   "execution_count": null,
   "id": "0438f2ea",
   "metadata": {},
   "outputs": [],
   "source": []
  }
 ],
 "metadata": {
  "kernelspec": {
   "display_name": "Python 3",
   "language": "python",
   "name": "python3"
  },
  "language_info": {
   "codemirror_mode": {
    "name": "ipython",
    "version": 3
   },
   "file_extension": ".py",
   "mimetype": "text/x-python",
   "name": "python",
   "nbconvert_exporter": "python",
   "pygments_lexer": "ipython3",
   "version": "3.8.8"
  }
 },
 "nbformat": 4,
 "nbformat_minor": 5
}
