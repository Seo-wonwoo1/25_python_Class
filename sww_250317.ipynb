{
 "cells": [
  {
   "cell_type": "markdown",
   "id": "8e1c024f",
   "metadata": {},
   "source": [
    "3*4"
   ]
  },
  {
   "cell_type": "code",
   "execution_count": 15,
   "id": "cd841238",
   "metadata": {
    "scrolled": false
   },
   "outputs": [
    {
     "name": "stdout",
     "output_type": "stream",
     "text": [
      "********************\n",
      "서원우서원우\n",
      "********************\n"
     ]
    }
   ],
   "source": [
    "#주석은 프로그램에 영향을 전혀 주지않음.\n",
    "print('*' *20) #문자표시는 소따옴표를 사용\n",
    "print('서원우' *2)\n",
    "print('*' *20)"
   ]
  },
  {
   "cell_type": "code",
   "execution_count": null,
   "id": "47312a44",
   "metadata": {},
   "outputs": [],
   "source": [
    "#모드- 에드트 모드, 컨트롤 모드\n",
    "#에디트 모드 - 프로그램 작성 편집모드라고 한다.\n",
    "#컨트롤 모드 - 셀간 이동이나 단축키 적용을 위한, 제어모드\n",
    "#단축키 - \n",
    "# b: 아래에 빈셀을 추가\n",
    "# a: 위에 빈셀을 추가\n",
    "# c: 셀 복사\n",
    "# v: 셀 붙여넣기\n",
    "# dd: 셀 삭제\n",
    "# x: 셀 삭제\n",
    "# z: 되돌리기\n",
    "# m: 마크다운 모드\n",
    "# y: 코드 모드\n",
    "# ctrl + enter: 그냥실행\n",
    "# shift + enter: 아레셀로 이동(셀이없을경우 생성)\n",
    "# alt + enter: 아레셀 추가 및 이동"
   ]
  },
  {
   "cell_type": "code",
   "execution_count": null,
   "id": "e393fd8f",
   "metadata": {},
   "outputs": [],
   "source": [
    "# Code - 코드 편집(작성)을 위한 모드\n",
    "# Markdown - 문서 편집을 위한 모드"
   ]
  },
  {
   "cell_type": "markdown",
   "id": "23f54de2",
   "metadata": {},
   "source": [
    "# 동해물과 백두산이\n",
    "## 마르고 닳도록\n",
    "### 하느님이 보우하사 우리나라 만세\n",
    "#### 무궁화 삼천리 화려강산 \n",
    "##### 대한사람 대한으로 길이 보전하세.\n",
    "- 과대 : 이충민\n",
    "- 총무 : 박재영\n",
    "1. 김규민 - 2002\n",
    "2. 김규민 - 2005  \n",
    "메카트로닉스과  \n",
    "화이팅"
   ]
  },
  {
   "cell_type": "markdown",
   "id": "5954efbf",
   "metadata": {},
   "source": [
    "# 2장 - 변수와 연산자"
   ]
  },
  {
   "cell_type": "code",
   "execution_count": 25,
   "id": "ada841a1",
   "metadata": {},
   "outputs": [
    {
     "data": {
      "text/plain": [
       "'서원우서원우서원우서원우서원우'"
      ]
     },
     "execution_count": 25,
     "metadata": {},
     "output_type": "execute_result"
    }
   ],
   "source": [
    "'서원우'*5"
   ]
  },
  {
   "cell_type": "code",
   "execution_count": null,
   "id": "cb0b0698",
   "metadata": {},
   "outputs": [],
   "source": [
    "# 파이썬의 기본 자료형\n",
    "# 4가지 : int, float, bool, str.\n",
    "n = 10 # 정수 ( 양, 0, 음), integer\n",
    "n = 서원우 # 문자 (문자열) '', 이때 \"\" 상관없다. str\n",
    "n = 3.14 # 실수 (부동소수점) float\n",
    "n = False # 불형 (True / False), bool\n",
    "# 리스트, 딕셔너리 , 튜플, set."
   ]
  },
  {
   "cell_type": "code",
   "execution_count": 27,
   "id": "3b703aeb",
   "metadata": {},
   "outputs": [
    {
     "name": "stdout",
     "output_type": "stream",
     "text": [
      "3.14\n"
     ]
    }
   ],
   "source": [
    "x = 3.14\n",
    "print (x)"
   ]
  },
  {
   "cell_type": "code",
   "execution_count": 3,
   "id": "d0d9ede4",
   "metadata": {},
   "outputs": [
    {
     "name": "stdout",
     "output_type": "stream",
     "text": [
      "이름 : 서원우 , 나이 : 24\n"
     ]
    }
   ],
   "source": [
    "name = '서원우'\n",
    "age = 24\n",
    "sex = 'man'\n",
    "town = '남해'\n",
    "\n",
    "print ('이름',':',name,',', '나이',':',age)"
   ]
  },
  {
   "cell_type": "code",
   "execution_count": null,
   "id": "de70da11",
   "metadata": {},
   "outputs": [],
   "source": [
    "a = 1\n",
    "num = 1\n",
    "num1 = 100\n",
    "num2 = 90\n",
    "num3 = 80"
   ]
  },
  {
   "cell_type": "code",
   "execution_count": null,
   "id": "6e7f17d3",
   "metadata": {},
   "outputs": [],
   "source": [
    "# 변수 이름(변수명)을 정하는 규칙\n",
    "# 1. 변수에 할당되는 데이터의 의미에 맞도록 만들자.\n",
    "# 2. 변수명을 만들때, 영어, 숫자, 특수문자 사용가능\n",
    "# 3. 변수의 맨 앞에는 숫자가 올 수 없다. (num3 (o), 3num (x) )\n",
    "# 4. 특수문자는 오로지 _(언더바)만 사용이 가능하다.\n",
    "# !@#$%^ (x) _ (o)\n",
    "# 5. 대소문자가 구별된다.\n",
    "# 6. 띄어쓰기는 허용하지 않는다. (manage) (x), (man_age) (o)\n",
    "        man_age, manAge, ManAge\n",
    "# 7. 예약어는 사용할 수 없다. \n",
    "# print, for, if, while, else, def, False, True, int"
   ]
  },
  {
   "cell_type": "code",
   "execution_count": 37,
   "id": "845c05b0",
   "metadata": {},
   "outputs": [
    {
     "name": "stdout",
     "output_type": "stream",
     "text": [
      "서원우 24\n"
     ]
    }
   ],
   "source": [
    "name = '서원우'\n",
    "age = 24\n",
    "print (name,    age)"
   ]
  },
  {
   "cell_type": "code",
   "execution_count": null,
   "id": "038ae96c",
   "metadata": {},
   "outputs": [],
   "source": [
    "# type() : 변수의 타입을 확인할 때 사용."
   ]
  },
  {
   "cell_type": "code",
   "execution_count": 42,
   "id": "50d1a223",
   "metadata": {},
   "outputs": [
    {
     "name": "stdout",
     "output_type": "stream",
     "text": [
      "이름 : 서원우 , 나이 : 24\n"
     ]
    },
    {
     "data": {
      "text/plain": [
       "bool"
      ]
     },
     "execution_count": 42,
     "metadata": {},
     "output_type": "execute_result"
    }
   ],
   "source": [
    "name = '서원우'\n",
    "age = 24\n",
    "sex = 'man'\n",
    "town = '남해'\n",
    "pi = 3.14\n",
    "con = False\n",
    "print ('이름',':',name,',', '나이',':',age)\n",
    "\n",
    "type(con)"
   ]
  },
  {
   "cell_type": "code",
   "execution_count": 7,
   "id": "77299dd1",
   "metadata": {},
   "outputs": [
    {
     "name": "stdout",
     "output_type": "stream",
     "text": [
      "3.0\n",
      "1\n",
      "2\n",
      "0\n",
      "65536\n",
      "1.4142135623730951\n"
     ]
    }
   ],
   "source": [
    "# 연산자 (operator)\n",
    "# 대입(할당)연산자\n",
    "\n",
    "# num = num+4 (복합할당연산자)\n",
    "# num = num +1 <=> num += 1\n",
    "# num = num -2 <=> num -= 2\n",
    "# num = num *3 <=> num *= 3\n",
    "# num = num /4 <=> num /= 4\n",
    "\n",
    "num = 3\n",
    "print(9 / num) #  // 연산의 경우 항상 실수형으로 표시\n",
    "\n",
    "# 산술연산자(숫자의 계산)\n",
    "# +, -, *, /, %(나머지), //(몫), **(지수)\n",
    "\n",
    "print(5//3) #// 몫 1\n",
    "print(5%3) # % 나머지 2\n",
    "print(15%3)\n",
    "print(2**16) #2**16 =65536, 2**10 =1024, 2**8 =256\n",
    "print(2**(1/2))\n",
    "# 비교연산자\n",
    "\n",
    "# 논리연산자"
   ]
  },
  {
   "cell_type": "code",
   "execution_count": 44,
   "id": "97b01949",
   "metadata": {},
   "outputs": [
    {
     "name": "stdout",
     "output_type": "stream",
     "text": [
      "25\n"
     ]
    }
   ],
   "source": [
    "age = 24\n",
    "age += 1\n",
    "print (age)"
   ]
  },
  {
   "cell_type": "code",
   "execution_count": 2,
   "id": "ffb2250c",
   "metadata": {},
   "outputs": [
    {
     "name": "stdout",
     "output_type": "stream",
     "text": [
      "사탕은 66 개 살 수 있고  100 원이 남는다\n"
     ]
    }
   ],
   "source": [
    "# 문제: 10,000원 내면, 150 사탕을 몇개 사고,\n",
    "#        또, 잔돈은 얼마가 남는가?\n",
    "money = 10000\n",
    "candy = 150\n",
    "# 몫\n",
    "num = money // candy\n",
    "# 나머지\n",
    "change = money % candy\n",
    "print (\"사탕은\", num,\"개 살 수 있고 \", change, \"원이 남는다\")"
   ]
  },
  {
   "cell_type": "code",
   "execution_count": 4,
   "id": "6588c7ae",
   "metadata": {},
   "outputs": [],
   "source": [
    "#03-24"
   ]
  },
  {
   "cell_type": "code",
   "execution_count": 6,
   "id": "62b7b295",
   "metadata": {},
   "outputs": [
    {
     "name": "stdout",
     "output_type": "stream",
     "text": [
      "500원 2 개\n",
      "100원 10 개\n",
      "50원 20 개\n"
     ]
    }
   ],
   "source": [
    "# 1000원짜리 지폐를 500원으로, 100원짜리 동전으로 교환\n",
    "money = 1000\n",
    "won_500 = money//500\n",
    "won_100 = money//100\n",
    "won_50 = money//50\n",
    "print('500원', won_500, '개')\n",
    "print('100원', won_100, '개')\n",
    "print('50원', won_50, '개')"
   ]
  },
  {
   "cell_type": "code",
   "execution_count": 8,
   "id": "a5ed5b2d",
   "metadata": {},
   "outputs": [
    {
     "name": "stdout",
     "output_type": "stream",
     "text": [
      "구매가능한 수: 66 개\n",
      "잔돈: 100 원\n"
     ]
    }
   ],
   "source": [
    "# 구입 가능한 사탕의 수\n",
    "money = 10000\n",
    "candy = 150\n",
    "# 사탕을 몇개 살 수 있고, 잔돈은 얼마인가?\n",
    "candy_num = money // candy\n",
    "change = money%candy\n",
    "print('구매가능한 수:', candy_num, '개')\n",
    "print('잔돈:', change, '원')"
   ]
  },
  {
   "cell_type": "code",
   "execution_count": 14,
   "id": "af49102b",
   "metadata": {},
   "outputs": [],
   "source": [
    "n1 = 10"
   ]
  },
  {
   "cell_type": "code",
   "execution_count": 16,
   "id": "07ff2ebc",
   "metadata": {},
   "outputs": [
    {
     "data": {
      "text/plain": [
       "12"
      ]
     },
     "execution_count": 16,
     "metadata": {},
     "output_type": "execute_result"
    }
   ],
   "source": [
    "n1 += 1\n",
    "n1"
   ]
  },
  {
   "cell_type": "markdown",
   "id": "c6ce5ae5",
   "metadata": {},
   "source": [
    "비교 연산자"
   ]
  },
  {
   "cell_type": "code",
   "execution_count": 20,
   "id": "9745706c",
   "metadata": {},
   "outputs": [],
   "source": [
    "# >\n",
    "# <\n",
    "# == (같다)\n",
    "# >=\n",
    "# <=\n",
    "# != (같지않다)\n",
    "# 6개의 연산자가 사용되고,\n",
    "#연산의 결과는 참(True)과 거짓(false)으로 반환한다."
   ]
  },
  {
   "cell_type": "code",
   "execution_count": 19,
   "id": "c3d55a8c",
   "metadata": {},
   "outputs": [
    {
     "data": {
      "text/plain": [
       "True"
      ]
     },
     "execution_count": 19,
     "metadata": {},
     "output_type": "execute_result"
    }
   ],
   "source": [
    "5 > 3"
   ]
  },
  {
   "cell_type": "markdown",
   "id": "4bd72e22",
   "metadata": {},
   "source": [
    "### 논리연산자"
   ]
  },
  {
   "cell_type": "code",
   "execution_count": 27,
   "id": "3aadf3e6",
   "metadata": {},
   "outputs": [],
   "source": [
    "# 논리연산의 결과는 True 또는 False으로 나온다.\n",
    "# and ex) 비교연산식 and 비교연산식  (5 > 3) and (7 > 2)\n",
    "# or      비교연산식 or 비교연산식   (5 > 3) or (7 > 2)\n",
    "# not     not 비교연산식    not 5 > 3\n",
    "\n",
    "# and\n",
    "# True and True -> True\n",
    "# True and False -> False\n",
    "# False and False -> False\n",
    "# False and True -> False\n",
    "\n",
    "# or\n",
    "# True or True -> True\n",
    "# True or False -> True\n",
    "# False or False -> False\n",
    "# False or True -> True\n",
    "\n",
    "# not\n",
    "# not True -> False\n",
    "# not False -> True"
   ]
  },
  {
   "cell_type": "code",
   "execution_count": 28,
   "id": "d0812592",
   "metadata": {},
   "outputs": [
    {
     "data": {
      "text/plain": [
       "False"
      ]
     },
     "execution_count": 28,
     "metadata": {},
     "output_type": "execute_result"
    }
   ],
   "source": [
    "not 5 > 3"
   ]
  },
  {
   "cell_type": "markdown",
   "id": "11d6d56d",
   "metadata": {},
   "source": [
    "# 문자열 연산자"
   ]
  },
  {
   "cell_type": "code",
   "execution_count": 41,
   "id": "b7c4f330",
   "metadata": {},
   "outputs": [
    {
     "data": {
      "text/plain": [
       "' 이충민  과대 30세'"
      ]
     },
     "execution_count": 41,
     "metadata": {},
     "output_type": "execute_result"
    }
   ],
   "source": [
    "' 이충민 ' + ' 과대 ' +'30세'"
   ]
  },
  {
   "cell_type": "code",
   "execution_count": 42,
   "id": "c8d87023",
   "metadata": {},
   "outputs": [
    {
     "data": {
      "text/plain": [
       "' 이충민  이충민 '"
      ]
     },
     "execution_count": 42,
     "metadata": {},
     "output_type": "execute_result"
    }
   ],
   "source": [
    "' 이충민 ' *2"
   ]
  },
  {
   "cell_type": "code",
   "execution_count": 50,
   "id": "972315bf",
   "metadata": {},
   "outputs": [
    {
     "name": "stdout",
     "output_type": "stream",
     "text": [
      "잔돈:  900 원\n",
      "500원: 1 개\n",
      "100원: 4 개\n"
     ]
    }
   ],
   "source": [
    "money1 = 2900  # 투입한 돈\n",
    "price = 1000   # 물건 값\n",
    "\n",
    "change1 = money1 % price  # 잔돈\n",
    "print('잔돈: ', change1 , '원')\n",
    "\n",
    "won_1 = change1 // 500\n",
    "won_2 = change1 % 500\n",
    "won_3 = won_2 // 100\n",
    "print('500원:', won_1, '개')\n",
    "print('100원:', won_3, '개')"
   ]
  },
  {
   "cell_type": "code",
   "execution_count": 58,
   "id": "16b5bd04",
   "metadata": {},
   "outputs": [
    {
     "name": "stdout",
     "output_type": "stream",
     "text": [
      "합은: 255  평균은: 85.0\n"
     ]
    }
   ],
   "source": [
    "# 세 과목에 대한 성적을 각각 변수에 저장한 후 합계와 평균을 출력\n",
    "kor,eng,math=100,75,80\n",
    "\n",
    "kor,eng,math\n",
    "sum = kor+eng+math\n",
    "avg = sum/3 \n",
    "print('합은:',sum, ' 평균은:', avg)"
   ]
  },
  {
   "cell_type": "code",
   "execution_count": 60,
   "id": "e537a5f3",
   "metadata": {},
   "outputs": [],
   "source": [
    "# 학년이 1학년이고, 평균 취득 학점이 4.5 이상을 만족하는 조건식\n",
    "# year == 1 and score >= 4.5"
   ]
  },
  {
   "cell_type": "code",
   "execution_count": null,
   "id": "290bfafb",
   "metadata": {},
   "outputs": [],
   "source": [
    "addr == '서울' or addr == '경기도'\n",
    "toeic >= 800 or com =='A학점'"
   ]
  },
  {
   "cell_type": "code",
   "execution_count": 66,
   "id": "3e144dc0",
   "metadata": {},
   "outputs": [
    {
     "name": "stdout",
     "output_type": "stream",
     "text": [
      "3 8 4\n"
     ]
    }
   ],
   "source": [
    "n = 384\n",
    "# d100 = n // 100\n",
    "# n = n % 100 \n",
    "# d10 = n // 10\n",
    "# n = n % 10\n",
    "# d1 = n // 1\n",
    "# n = n % 1\n",
    "\n",
    "d100 = n //100\n",
    "d10 = (n % 100) // 10\n",
    "d1 = n % 10\n",
    "print(d100, d10, d1)\n",
    "\n"
   ]
  },
  {
   "cell_type": "code",
   "execution_count": 74,
   "id": "9448555a",
   "metadata": {},
   "outputs": [
    {
     "name": "stdout",
     "output_type": "stream",
     "text": [
      "1 h 2 m 30 s\n"
     ]
    }
   ],
   "source": [
    "time = 3750\n",
    "minute = time // 60\n",
    "second = time % 60\n",
    "\n",
    "hour = minute // 60\n",
    "minute = minute % 60\n",
    "print(hour, 'h', minute,'m', second,'s')"
   ]
  },
  {
   "cell_type": "code",
   "execution_count": 3,
   "id": "205b2ab2",
   "metadata": {},
   "outputs": [
    {
     "name": "stdout",
     "output_type": "stream",
     "text": [
      "1 1 40\n"
     ]
    }
   ],
   "source": [
    "time = 3700\n",
    "hour = time // (60 * 60)\n",
    "minute = time % (60*60) // 60\n",
    "second = time % 60\n",
    "second\n",
    "print(hour,minute,second)"
   ]
  },
  {
   "cell_type": "code",
   "execution_count": 84,
   "id": "669f509e",
   "metadata": {},
   "outputs": [
    {
     "name": "stdout",
     "output_type": "stream",
     "text": [
      "총 매출액: 110000 원\n",
      "순이익: 10000 원\n"
     ]
    }
   ],
   "source": [
    "ame = 2000\n",
    "cafelatee = 3000\n",
    "cafemoca = 4000\n",
    "total = (ame*20) +(cafelatee*10)+(cafemoca*10)\n",
    "mat_price = 100000\n",
    "profit= total - mat_price\n",
    "print('총 매출액:',total, '원')\n",
    "print('순이익:',profit, '원')"
   ]
  },
  {
   "cell_type": "markdown",
   "id": "0cd0c052",
   "metadata": {},
   "source": [
    "### 3장 입력과 출력"
   ]
  },
  {
   "cell_type": "code",
   "execution_count": 104,
   "id": "189e0b94",
   "metadata": {},
   "outputs": [
    {
     "ename": "TypeError",
     "evalue": "'str' object is not callable",
     "output_type": "error",
     "traceback": [
      "\u001b[1;31m---------------------------------------------------------------------------\u001b[0m",
      "\u001b[1;31mTypeError\u001b[0m                                 Traceback (most recent call last)",
      "\u001b[1;32m<ipython-input-104-950aea5aa185>\u001b[0m in \u001b[0;36m<module>\u001b[1;34m\u001b[0m\n\u001b[1;32m----> 1\u001b[1;33m \u001b[0mprint\u001b[0m\u001b[1;33m(\u001b[0m\u001b[1;34m'당신의 이름은 무엇입니까?'\u001b[0m\u001b[1;33m)\u001b[0m\u001b[1;33m\u001b[0m\u001b[1;33m\u001b[0m\u001b[0m\n\u001b[0m\u001b[0;32m      2\u001b[0m \u001b[0mneme\u001b[0m \u001b[1;33m=\u001b[0m \u001b[0minput\u001b[0m\u001b[1;33m(\u001b[0m\u001b[1;33m)\u001b[0m\u001b[1;33m\u001b[0m\u001b[1;33m\u001b[0m\u001b[0m\n\u001b[0;32m      3\u001b[0m \u001b[0mprint\u001b[0m\u001b[1;33m(\u001b[0m\u001b[1;34m'이름:'\u001b[0m\u001b[1;33m,\u001b[0m\u001b[0mname\u001b[0m\u001b[1;33m)\u001b[0m\u001b[1;33m\u001b[0m\u001b[1;33m\u001b[0m\u001b[0m\n",
      "\u001b[1;31mTypeError\u001b[0m: 'str' object is not callable"
     ]
    }
   ],
   "source": [
    "print('당신의 이름은 무엇입니까?')\n",
    "neme = input()\n",
    "print('이름:',name)"
   ]
  },
  {
   "cell_type": "code",
   "execution_count": 88,
   "id": "c23eaff5",
   "metadata": {},
   "outputs": [
    {
     "name": "stdout",
     "output_type": "stream",
     "text": [
      "당신의 혈액형은 무엇입니까?\n",
      "ab\n",
      "ab\n"
     ]
    }
   ],
   "source": [
    "print('당신의 혈액형은 무엇입니까?')\n",
    "b_type = input()\n",
    "print(b_type)"
   ]
  },
  {
   "cell_type": "code",
   "execution_count": 89,
   "id": "d25a0a3b",
   "metadata": {},
   "outputs": [
    {
     "name": "stdout",
     "output_type": "stream",
     "text": [
      "당신의 이름은 무엇입니까?서원우\n"
     ]
    }
   ],
   "source": [
    "name = input('당신의 이름은 무엇입니까?')\n",
    "print =(name*3)"
   ]
  },
  {
   "cell_type": "code",
   "execution_count": 3,
   "id": "c44e79fd",
   "metadata": {},
   "outputs": [
    {
     "name": "stdout",
     "output_type": "stream",
     "text": [
      "당신은 몇살 입니까?20\n",
      "2020\n"
     ]
    }
   ],
   "source": [
    "age = input('당신은 몇살 입니까?')\n",
    "print(age*2)\n",
    "#input()을 통해 입력받은 데이터는 무조건 문자로 저장된다."
   ]
  },
  {
   "cell_type": "code",
   "execution_count": 2,
   "id": "8439a597",
   "metadata": {
    "scrolled": true
   },
   "outputs": [
    {
     "name": "stdout",
     "output_type": "stream",
     "text": [
      "첫번째 수를 입력하시오10\n",
      "두번째 수를 입력하시오20\n",
      "두 수의 합은 30\n"
     ]
    }
   ],
   "source": [
    "n1 = input('첫번째 수를 입력하시오')\n",
    "n2 = input('두번째 수를 입력하시오')\n",
    "print('두 수의 합은', int(n1)+int(n2))"
   ]
  },
  {
   "cell_type": "code",
   "execution_count": 6,
   "id": "f9b160c3",
   "metadata": {
    "scrolled": true
   },
   "outputs": [
    {
     "name": "stdout",
     "output_type": "stream",
     "text": [
      "첫번째 수를 입력하시오10\n",
      "두번째 수를 입력하시오20\n",
      "두 수의 합은 30\n"
     ]
    }
   ],
   "source": [
    "n1 = int(input('첫번째 수를 입력하시오'))\n",
    "n2 = int(input('두번째 수를 입력하시오'))\n",
    "print('두 수의 합은',n1+n2)"
   ]
  },
  {
   "cell_type": "code",
   "execution_count": 1,
   "id": "ed8c0de6",
   "metadata": {},
   "outputs": [
    {
     "name": "stdout",
     "output_type": "stream",
     "text": [
      "박재영은 25 세이다\n",
      "박재영은25세이다\n"
     ]
    }
   ],
   "source": [
    "#'박재영은 25세이다'\n",
    "print('박재영은',25,'세이다')\n",
    "print('박재영은'+str(25)+'세이다')"
   ]
  },
  {
   "cell_type": "code",
   "execution_count": 7,
   "id": "5b5a61b1",
   "metadata": {},
   "outputs": [
    {
     "name": "stdout",
     "output_type": "stream",
     "text": [
      "3.4\n"
     ]
    }
   ],
   "source": [
    "c=float(input())"
   ]
  },
  {
   "cell_type": "code",
   "execution_count": 10,
   "id": "4a35ac2c",
   "metadata": {},
   "outputs": [
    {
     "name": "stdout",
     "output_type": "stream",
     "text": [
      "이름 입력: 서원우\n",
      "당신의 이름은 서원우입니다\n",
      "당신의 이름은  서원우 입니다\n"
     ]
    }
   ],
   "source": [
    "name =  input('이름 입력: ')\n",
    "print(\"당신의 이름은 \"+ name+ '입니다')\n",
    "print(\"당신의 이름은 \", name, '입니다')"
   ]
  },
  {
   "cell_type": "code",
   "execution_count": 14,
   "id": "e96d950c",
   "metadata": {},
   "outputs": [
    {
     "name": "stdout",
     "output_type": "stream",
     "text": [
      "이름 입력: 서원우\n",
      "당신의 이름은 서원우입니다yes\n",
      "안녕하세요 서원우님\n"
     ]
    }
   ],
   "source": [
    "name =  input('이름 입력: ')\n",
    "que = input(\"당신의 이름은 \"+ name+ '입니다')\n",
    "if que == 'y' or que == 'y' or que == 'yes' or que == 'yes':\n",
    "    print(\"안녕하세요 \"+name+'님')\n",
    "else :\n",
    "    print(\"이름을 다시 입력하세요\")"
   ]
  },
  {
   "cell_type": "code",
   "execution_count": 17,
   "id": "364a078f",
   "metadata": {},
   "outputs": [
    {
     "name": "stdout",
     "output_type": "stream",
     "text": [
      "5 + 10 = 15\n"
     ]
    }
   ],
   "source": [
    "#format 연산자\n",
    "print(\"{} + {} = {}\".format(5,10,5+10))"
   ]
  },
  {
   "cell_type": "code",
   "execution_count": 20,
   "id": "6af815a6",
   "metadata": {},
   "outputs": [
    {
     "name": "stdout",
     "output_type": "stream",
     "text": [
      "서원우는  24세이고, 혈액형은 ab이다.\n"
     ]
    }
   ],
   "source": [
    "print(\"{}는  {}세이고, 혈액형은 {}이다.\".format('서원우',24,'ab'))"
   ]
  },
  {
   "cell_type": "code",
   "execution_count": 2,
   "id": "0438f2ea",
   "metadata": {},
   "outputs": [
    {
     "name": "stdout",
     "output_type": "stream",
     "text": [
      "당신의 이름은 :서원우\n"
     ]
    }
   ],
   "source": [
    "name = input('당신의 이름은 :')"
   ]
  },
  {
   "cell_type": "code",
   "execution_count": 3,
   "id": "e46b0312",
   "metadata": {},
   "outputs": [
    {
     "name": "stdout",
     "output_type": "stream",
     "text": [
      "서원우\n"
     ]
    }
   ],
   "source": [
    "print(name)"
   ]
  },
  {
   "cell_type": "code",
   "execution_count": 6,
   "id": "7f3380cd",
   "metadata": {},
   "outputs": [
    {
     "name": "stdout",
     "output_type": "stream",
     "text": [
      "첫 번째 수를 입력하시오3\n"
     ]
    },
    {
     "data": {
      "text/plain": [
       "3"
      ]
     },
     "execution_count": 6,
     "metadata": {},
     "output_type": "execute_result"
    }
   ],
   "source": [
    "num1 = int(input('첫 번째 수를 입력하시오'))\n",
    "num1"
   ]
  },
  {
   "cell_type": "code",
   "execution_count": 7,
   "id": "bf50411b",
   "metadata": {},
   "outputs": [
    {
     "name": "stdout",
     "output_type": "stream",
     "text": [
      "당신의 이름은 :서원우\n",
      "당신의 나이는 :24\n",
      "당신의 혈액형은 :AB\n"
     ]
    }
   ],
   "source": [
    "name = input('당신의 이름은 :')\n",
    "age = input('당신의 나이는 :')\n",
    "b_t = input('당신의 혈액형은 :')"
   ]
  },
  {
   "cell_type": "markdown",
   "id": "17152617",
   "metadata": {},
   "source": [
    "#  출력형태\n",
    "1. ',' 출력\n",
    "2. %형식지정자\n",
    "3. .format 형식\n",
    "4. f-string 형식"
   ]
  },
  {
   "cell_type": "code",
   "execution_count": 10,
   "id": "5a20a0fc",
   "metadata": {},
   "outputs": [
    {
     "name": "stdout",
     "output_type": "stream",
     "text": [
      "당신의 이름은 서원우이고 나이는 24세 혈액형은 AB형 이다.\n"
     ]
    }
   ],
   "source": [
    "# 1. ',' 출력\n",
    "# 당신의 이름은 이충민이고, 나이는 30세, 혈액형은 O형이다.\n",
    "print('당신의 이름은',name+'이고', '나이는', age+'세','혈액형은',b_t+'형 이다.' )"
   ]
  },
  {
   "cell_type": "code",
   "execution_count": null,
   "id": "8357644f",
   "metadata": {},
   "outputs": [],
   "source": []
  },
  {
   "cell_type": "code",
   "execution_count": 12,
   "id": "7581fb63",
   "metadata": {},
   "outputs": [
    {
     "name": "stdout",
     "output_type": "stream",
     "text": [
      "당신의 이름은 서원우이고 나이는 24세 혈액형은 AB형 이다.\n"
     ]
    }
   ],
   "source": [
    "# 1. ',' 출력\n",
    "# 당신의 이름은 이충민이고, 나이는 30세, 혈액형은 O형이다.\n",
    "print('당신의 이름은 %s이고 나이는 %s세 혈액형은 %s형 이다.' %(name,age,b_t))"
   ]
  },
  {
   "cell_type": "markdown",
   "id": "42c8f9ea",
   "metadata": {},
   "source": [
    "# .fomat"
   ]
  },
  {
   "cell_type": "code",
   "execution_count": 13,
   "id": "6f779169",
   "metadata": {},
   "outputs": [
    {
     "name": "stdout",
     "output_type": "stream",
     "text": [
      "당신의 이름은 서원우이고 나이는 24세 혈액형은 AB형 이다.\n"
     ]
    }
   ],
   "source": [
    "print('당신의 이름은 {}이고 나이는 {}세 혈액형은 {}형 이다.' .format(name,age,b_t))"
   ]
  },
  {
   "cell_type": "code",
   "execution_count": 15,
   "id": "5b69ae85",
   "metadata": {},
   "outputs": [
    {
     "name": "stdout",
     "output_type": "stream",
     "text": [
      "개굴 개굴 개구리 노래를 한다.\n"
     ]
    }
   ],
   "source": [
    "print('{} {} {} 노래를 한다.' .format('개굴','개굴','개구리'))"
   ]
  },
  {
   "cell_type": "code",
   "execution_count": 16,
   "id": "84b25635",
   "metadata": {},
   "outputs": [
    {
     "name": "stdout",
     "output_type": "stream",
     "text": [
      "개굴 개굴 개구리 노래를 한다.\n"
     ]
    }
   ],
   "source": [
    "print('{1} {2} {0} 노래를 한다.' .format('개구리','개굴','개굴'))"
   ]
  },
  {
   "cell_type": "code",
   "execution_count": 17,
   "id": "6d819b94",
   "metadata": {},
   "outputs": [
    {
     "name": "stdout",
     "output_type": "stream",
     "text": [
      "개굴 개굴 개구리 노래를 한다.\n"
     ]
    }
   ],
   "source": [
    "print('{1} {1} {0} 노래를 한다.' .format('개구리','개굴'))"
   ]
  },
  {
   "cell_type": "markdown",
   "id": "209ee426",
   "metadata": {},
   "source": [
    "# f-string"
   ]
  },
  {
   "cell_type": "code",
   "execution_count": 25,
   "id": "0a0394e8",
   "metadata": {},
   "outputs": [
    {
     "name": "stdout",
     "output_type": "stream",
     "text": [
      "서원우의 나이는24세 이고, 혈액형은AB형이다.\n"
     ]
    }
   ],
   "source": [
    "print('{}의 나이는{}세 이고, 혈액형은{}형이다.' .format(name,age,b_t))"
   ]
  },
  {
   "cell_type": "code",
   "execution_count": 5,
   "id": "f2af3e33",
   "metadata": {
    "scrolled": false
   },
   "outputs": [
    {
     "ename": "SyntaxError",
     "evalue": "invalid syntax (<ipython-input-5-0aea5047cda6>, line 1)",
     "output_type": "error",
     "traceback": [
      "\u001b[1;36m  File \u001b[1;32m\"<ipython-input-5-0aea5047cda6>\"\u001b[1;36m, line \u001b[1;32m1\u001b[0m\n\u001b[1;33m    print(f.'{'개굴'} {'개굴'} {'개구리'} 노래를 한다.')\u001b[0m\n\u001b[1;37m            ^\u001b[0m\n\u001b[1;31mSyntaxError\u001b[0m\u001b[1;31m:\u001b[0m invalid syntax\n"
     ]
    }
   ],
   "source": [
    "print(f.'{'개굴'} {'개굴'} {'개구리'} 노래를 한다.')"
   ]
  },
  {
   "cell_type": "code",
   "execution_count": 27,
   "id": "2007bb9f",
   "metadata": {},
   "outputs": [
    {
     "name": "stdout",
     "output_type": "stream",
     "text": [
      "서원우의 나이는24세이고, 혈액형은AB형이다\n"
     ]
    }
   ],
   "source": [
    "print(f'{name}의 나이는{age}세이고, 혈액형은{b_t}형이다')"
   ]
  },
  {
   "cell_type": "code",
   "execution_count": 28,
   "id": "44777eaf",
   "metadata": {},
   "outputs": [
    {
     "name": "stdout",
     "output_type": "stream",
     "text": [
      "1 + 2 = 3\n"
     ]
    }
   ],
   "source": [
    "print(1, '+', 2, '=', 1+2)"
   ]
  },
  {
   "cell_type": "code",
   "execution_count": 29,
   "id": "33d756f4",
   "metadata": {},
   "outputs": [
    {
     "name": "stdout",
     "output_type": "stream",
     "text": [
      "1 + 2 = 3\n"
     ]
    }
   ],
   "source": [
    "print('%d + %d = %d'%(1,2,1+2))"
   ]
  },
  {
   "cell_type": "code",
   "execution_count": 31,
   "id": "9756a068",
   "metadata": {},
   "outputs": [
    {
     "name": "stdout",
     "output_type": "stream",
     "text": [
      "1 + 2 = 3\n"
     ]
    }
   ],
   "source": [
    "print('{} + {} = {}' .format(1,2,1+2))"
   ]
  },
  {
   "cell_type": "code",
   "execution_count": 30,
   "id": "8c8ead27",
   "metadata": {},
   "outputs": [
    {
     "name": "stdout",
     "output_type": "stream",
     "text": [
      "1+2=3\n"
     ]
    }
   ],
   "source": [
    "print(f'{1}+{2}={1+2}')"
   ]
  },
  {
   "cell_type": "code",
   "execution_count": 47,
   "id": "5837f791",
   "metadata": {},
   "outputs": [
    {
     "name": "stdout",
     "output_type": "stream",
     "text": [
      "원주율은 3.14이다.\n"
     ]
    }
   ],
   "source": [
    "pi = 3.141592\n",
    "\"원주율은 3.14이다.\"\n",
    "print('원주율은 {:.2f}이다.' .format(pi))"
   ]
  },
  {
   "cell_type": "code",
   "execution_count": 50,
   "id": "3146b616",
   "metadata": {},
   "outputs": [
    {
     "name": "stdout",
     "output_type": "stream",
     "text": [
      "원주율은 3.14이다.\n"
     ]
    }
   ],
   "source": [
    "print(f'원주율은 {pi:.2f}이다.')"
   ]
  },
  {
   "cell_type": "code",
   "execution_count": 34,
   "id": "48c94680",
   "metadata": {},
   "outputs": [
    {
     "name": "stdout",
     "output_type": "stream",
     "text": [
      "학번 입력:2517110136\n",
      "이름 입력:서원우\n",
      "학번은 2517110136 이고, 이름은 서원우 입니다.\n"
     ]
    }
   ],
   "source": [
    "hakbun = input('학번 입력:')\n",
    "name = input('이름 입력:')\n",
    "print('학번은',hakbun,'이고, 이름은',name,'입니다.')"
   ]
  },
  {
   "cell_type": "code",
   "execution_count": 39,
   "id": "a8102a08",
   "metadata": {},
   "outputs": [
    {
     "name": "stdout",
     "output_type": "stream",
     "text": [
      "반지름 입력:5\n",
      "원의 넓이는 78.50 입니다.\n"
     ]
    }
   ],
   "source": [
    "radius = int(input('반지름 입력:'))\n",
    "area = 3.14 * radius * radius\n",
    "print('원의 넓이는 %.2f 입니다.' %area)"
   ]
  },
  {
   "cell_type": "code",
   "execution_count": 58,
   "id": "e0177c4b",
   "metadata": {},
   "outputs": [
    {
     "name": "stdout",
     "output_type": "stream",
     "text": [
      "시간의 전체 초 입력: 3700\n",
      "3700은, 61분, 40초 \n",
      "3700 초: 61 분 40 초\n",
      "3700초: 61분 40초\n"
     ]
    }
   ],
   "source": [
    "# f-string\n",
    "total = int(input('시간의 전체 초 입력: '))\n",
    "minute = total // 60\n",
    "sec = total %60\n",
    "print(f'{total}은, {minute}분, {sec}초 ') # f-string\n",
    "print(total,'초:',minute,'분',sec,'초')   # 콤마\n",
    "print('{}초: {}분 {}초' .format(total,minute,sec)) # .format"
   ]
  },
  {
   "cell_type": "code",
   "execution_count": 67,
   "id": "713616f6",
   "metadata": {},
   "outputs": [
    {
     "name": "stdout",
     "output_type": "stream",
     "text": [
      "이름 입력:서원우\n",
      "출생년도 입력:2002\n",
      "서원우님의 한국 나이는 24살.\n",
      "서원우님의 한국 나이는 24살.\n",
      "서원우 님의 한국 나이는 24 살.\n",
      "서원우님의 한국 나이는 24살.\n"
     ]
    }
   ],
   "source": [
    "name = input('이름 입력:')\n",
    "year = int(input('출생년도 입력:'))\n",
    "age = 2025 - year +1\n",
    "print(f'{name}님의 한국 나이는 {age}살.')\n",
    "print('{}님의 한국 나이는 {}살.' .format(name,age))\n",
    "print(name,'님의 한국 나이는',age,'살.')\n",
    "print(name+'님의 한국 나이는',str(age) + '살.')"
   ]
  },
  {
   "cell_type": "code",
   "execution_count": 76,
   "id": "f2ba6d31",
   "metadata": {},
   "outputs": [
    {
     "name": "stdout",
     "output_type": "stream",
     "text": [
      "밑변의 길이:3.5\n",
      "높이의 길이:9.7\n",
      "밑변 3.50, 높이 9.70 인 삼각형의 넓이: 16.97\n"
     ]
    }
   ],
   "source": [
    "base = float(input('밑변의 길이:'))\n",
    "height = float(input('높이의 길이:'))\n",
    "area = base * height / 2\n",
    "print(f'밑변 {base:.2f}, 높이 {height:.2f} 인 삼각형의 넓이: {area:.2f}')"
   ]
  },
  {
   "cell_type": "code",
   "execution_count": 82,
   "id": "ea36a22e",
   "metadata": {},
   "outputs": [
    {
     "ename": "SyntaxError",
     "evalue": "invalid syntax (<ipython-input-82-e830203bfeea>, line 4)",
     "output_type": "error",
     "traceback": [
      "\u001b[1;36m  File \u001b[1;32m\"<ipython-input-82-e830203bfeea>\"\u001b[1;36m, line \u001b[1;32m4\u001b[0m\n\u001b[1;33m    print('밑변',base, '높이',height, '인 삼각형의 넓이:',area:.2f)\u001b[0m\n\u001b[1;37m                                                   ^\u001b[0m\n\u001b[1;31mSyntaxError\u001b[0m\u001b[1;31m:\u001b[0m invalid syntax\n"
     ]
    }
   ],
   "source": [
    "base = float(input('밑변의 길이:'))\n",
    "height = float(input('높이의 길이:'))\n",
    "area = base * height / 2\n",
    "print('밑변',base, '높이',height, '인 삼각형의 넓이:',area:.2f)\n",
    "# 콤마로는 실수를 표현할 수 없다."
   ]
  },
  {
   "cell_type": "code",
   "execution_count": 5,
   "id": "1105c905",
   "metadata": {},
   "outputs": [
    {
     "name": "stdout",
     "output_type": "stream",
     "text": [
      "키 입력:18\n",
      "키 18cm 의 표준 체중은 -74kg 입니다.\n",
      "키 18 cm 의 표준 체중은 -73 kg 입니다.\n",
      "키 18cm 의 표준 체중은 -73kg 입니다.\n",
      "키 18cm 의 표준 체중은 -74kg 입니다.\n",
      "키 18.0cm 의 표준 체중은 -73.8kg 입니다.\n"
     ]
    }
   ],
   "source": [
    "height = float(input('키 입력:'))\n",
    "weight = (height - 100)*0.9\n",
    "print(f'키 {height:.0f}cm 의 표준 체중은 {weight:.0f}kg 입니다.')\n",
    "print('키 %d cm 의 표준 체중은 %d kg 입니다.' %(height,weight))\n",
    "\n",
    "print('키 {}cm 의 표준 체중은 {}kg 입니다.' .format(int(height),int(weight)))\n",
    "print('키 {:.0f}cm 의 표준 체중은 {:.0f}kg 입니다.' .format(height,weight))\n",
    "print('키 {}cm 의 표준 체중은 {}kg 입니다.' .format(height,weight))"
   ]
  },
  {
   "cell_type": "code",
   "execution_count": 6,
   "id": "3f44c24d",
   "metadata": {},
   "outputs": [
    {
     "name": "stdout",
     "output_type": "stream",
     "text": [
      "키 18cm 의 표준 체중은 18kg 입니다.\n",
      "키 19cm 의 표준 체중은 18.8kg 입니다.\n"
     ]
    }
   ],
   "source": [
    "print('키 {}cm 의 표준 체중은 {}kg 입니다.' .format(int(18.8),int(18.8)))\n",
    "print('키 {:.0f}cm 의 표준 체중은 {:.1f}kg 입니다.' .format(18.8,18.8))\n",
    "# int로 형을 변환하게 되면, 소숫점을 버림 처리한다.\n",
    "# 보통은 반올림함"
   ]
  },
  {
   "cell_type": "code",
   "execution_count": 15,
   "id": "c6a1df70",
   "metadata": {},
   "outputs": [
    {
     "name": "stdout",
     "output_type": "stream",
     "text": [
      "국어점수86\n",
      "영어점수82\n",
      "수학점수97\n",
      "국어:86점, 영어:82점, 수학:97점 => 총점:265.00, 평균:88.33\n"
     ]
    }
   ],
   "source": [
    "kor = int(input('국어점수'))\n",
    "eng = int(input('영어점수'))\n",
    "met = int(input('수학점수'))\n",
    "sum1 = kor + eng + met \n",
    "avg = sum1 / 3\n",
    "print(f'국어:{kor}점, 영어:{eng}점, 수학:{met}점 => 총점:{sum1:.2f}, 평균:{avg:.2f}')"
   ]
  },
  {
   "cell_type": "markdown",
   "id": "86bd85da",
   "metadata": {},
   "source": [
    "# 4장. 기본 자료형"
   ]
  },
  {
   "cell_type": "code",
   "execution_count": 6,
   "id": "531214a6",
   "metadata": {},
   "outputs": [
    {
     "name": "stdout",
     "output_type": "stream",
     "text": [
      "첫번째 수를 입력하시오2\n",
      "두번째 수를 입력하시오4\n"
     ]
    },
    {
     "data": {
      "text/plain": [
       "6"
      ]
     },
     "execution_count": 6,
     "metadata": {},
     "output_type": "execute_result"
    }
   ],
   "source": [
    "# 다음주 - 리스트, 튜플, 딕셔너리, 집합\n",
    "# 기본 자료형 - int, str, float, bool\n",
    "# type(3.14)\n",
    "# 문자의 인덱싱과 슬라이싱\n",
    "num1 = input('첫번째 수를 입력하시오')\n",
    "num2 = input('두번째 수를 입력하시오')\n",
    "int(num1) + int(num2)"
   ]
  },
  {
   "cell_type": "code",
   "execution_count": 8,
   "id": "06ada0b0",
   "metadata": {},
   "outputs": [
    {
     "name": "stdout",
     "output_type": "stream",
     "text": [
      "첫번째 수를 입력하시오2\n",
      "두번째 수를 입력하시오5\n"
     ]
    },
    {
     "data": {
      "text/plain": [
       "7"
      ]
     },
     "execution_count": 8,
     "metadata": {},
     "output_type": "execute_result"
    }
   ],
   "source": [
    "num1 = int(input('첫번째 수를 입력하시오'))\n",
    "num2 = int(input('두번째 수를 입력하시오'))\n",
    "num1 + num2"
   ]
  },
  {
   "cell_type": "code",
   "execution_count": 11,
   "id": "faeaf907",
   "metadata": {},
   "outputs": [
    {
     "name": "stdout",
     "output_type": "stream",
     "text": [
      "첫번째 수를 입력하시오3.25\n",
      "<class 'float'> 3.25\n"
     ]
    }
   ],
   "source": [
    "num1 = float(input('첫번째 수를 입력하시오'))\n",
    "print (type(num1), num1)"
   ]
  },
  {
   "cell_type": "code",
   "execution_count": 12,
   "id": "efa59e5b",
   "metadata": {},
   "outputs": [
    {
     "data": {
      "text/plain": [
       "2.0"
      ]
     },
     "execution_count": 12,
     "metadata": {},
     "output_type": "execute_result"
    }
   ],
   "source": [
    "4/2 # 항상 실수"
   ]
  },
  {
   "cell_type": "code",
   "execution_count": 13,
   "id": "c67110e8",
   "metadata": {},
   "outputs": [
    {
     "data": {
      "text/plain": [
       "6.0"
      ]
     },
     "execution_count": 13,
     "metadata": {},
     "output_type": "execute_result"
    }
   ],
   "source": [
    " 3 + 3.0"
   ]
  },
  {
   "cell_type": "code",
   "execution_count": 14,
   "id": "1444dc21",
   "metadata": {},
   "outputs": [
    {
     "data": {
      "text/plain": [
       "3"
      ]
     },
     "execution_count": 14,
     "metadata": {},
     "output_type": "execute_result"
    }
   ],
   "source": [
    "int(3.94)"
   ]
  },
  {
   "cell_type": "code",
   "execution_count": 15,
   "id": "e554f1b4",
   "metadata": {},
   "outputs": [
    {
     "data": {
      "text/plain": [
       "9.0"
      ]
     },
     "execution_count": 15,
     "metadata": {},
     "output_type": "execute_result"
    }
   ],
   "source": [
    "3 * 3.0"
   ]
  },
  {
   "cell_type": "code",
   "execution_count": 19,
   "id": "c3a8ea6a",
   "metadata": {},
   "outputs": [
    {
     "data": {
      "text/plain": [
       "6"
      ]
     },
     "execution_count": 19,
     "metadata": {},
     "output_type": "execute_result"
    }
   ],
   "source": [
    "name = '이충민박재영'\n",
    "len(name)"
   ]
  },
  {
   "cell_type": "code",
   "execution_count": 18,
   "id": "a7812c78",
   "metadata": {},
   "outputs": [
    {
     "data": {
      "text/plain": [
       "25"
      ]
     },
     "execution_count": 18,
     "metadata": {},
     "output_type": "execute_result"
    }
   ],
   "source": [
    "s = 'wfwdfdfgdfgdlkfgjdsl;kfgd'\n",
    "len(s)"
   ]
  },
  {
   "cell_type": "code",
   "execution_count": 22,
   "id": "b86f193d",
   "metadata": {},
   "outputs": [
    {
     "data": {
      "text/plain": [
       "7"
      ]
     },
     "execution_count": 22,
     "metadata": {},
     "output_type": "execute_result"
    }
   ],
   "source": [
    "# 문자는 문자와 결합(덧셈)된다\n",
    "s1 ='이충민'+'박재영'+' '\n",
    "len(s1)"
   ]
  },
  {
   "cell_type": "code",
   "execution_count": 23,
   "id": "d0e6eebb",
   "metadata": {},
   "outputs": [
    {
     "data": {
      "text/plain": [
       "'이충민박재영 이충민박재영 '"
      ]
     },
     "execution_count": 23,
     "metadata": {},
     "output_type": "execute_result"
    }
   ],
   "source": [
    "# 문자는 곱셈도 된다.\n",
    "s1 *2"
   ]
  },
  {
   "cell_type": "code",
   "execution_count": 25,
   "id": "eb7fc4e7",
   "metadata": {},
   "outputs": [
    {
     "data": {
      "text/plain": [
       "'이충민'"
      ]
     },
     "execution_count": 25,
     "metadata": {},
     "output_type": "execute_result"
    }
   ],
   "source": [
    "# 인덱싱 - indexing - 인덱스 번호로 데이터를 추출하는 행위\n",
    "s1[1]\n",
    "s1[0] + s1[1] + s1[2]"
   ]
  },
  {
   "cell_type": "code",
   "execution_count": 26,
   "id": "cced8333",
   "metadata": {},
   "outputs": [
    {
     "data": {
      "text/plain": [
       "' '"
      ]
     },
     "execution_count": 26,
     "metadata": {},
     "output_type": "execute_result"
    }
   ],
   "source": [
    "s1[6]"
   ]
  },
  {
   "cell_type": "code",
   "execution_count": 46,
   "id": "755f27a9",
   "metadata": {},
   "outputs": [
    {
     "data": {
      "text/plain": [
       "'?'"
      ]
     },
     "execution_count": 46,
     "metadata": {},
     "output_type": "execute_result"
    }
   ],
   "source": [
    "s2 = 'mechatronics fighting!!!?'\n",
    "len(s2)\n",
    "s2[len(s2)-1]"
   ]
  },
  {
   "cell_type": "code",
   "execution_count": 35,
   "id": "464bb74b",
   "metadata": {},
   "outputs": [
    {
     "data": {
      "text/plain": [
       "'?'"
      ]
     },
     "execution_count": 35,
     "metadata": {},
     "output_type": "execute_result"
    }
   ],
   "source": [
    "s2[24]"
   ]
  },
  {
   "cell_type": "code",
   "execution_count": 36,
   "id": "51f073ec",
   "metadata": {},
   "outputs": [
    {
     "data": {
      "text/plain": [
       "'?'"
      ]
     },
     "execution_count": 36,
     "metadata": {},
     "output_type": "execute_result"
    }
   ],
   "source": [
    "s2[-1]"
   ]
  },
  {
   "cell_type": "code",
   "execution_count": 37,
   "id": "5f9358a3",
   "metadata": {},
   "outputs": [
    {
     "data": {
      "text/plain": [
       "'!'"
      ]
     },
     "execution_count": 37,
     "metadata": {},
     "output_type": "execute_result"
    }
   ],
   "source": [
    "s2[-2]"
   ]
  },
  {
   "cell_type": "code",
   "execution_count": 43,
   "id": "6c46d9d1",
   "metadata": {},
   "outputs": [
    {
     "data": {
      "text/plain": [
       "'mach'"
      ]
     },
     "execution_count": 43,
     "metadata": {},
     "output_type": "execute_result"
    }
   ],
   "source": [
    "#슬라이싱 - ~부터 ~ 까지 잘라내는 행위\n",
    "s2[0:4] # 시작 인덱스 번호는 포함하고, 끝 인덱스 범위는 포함하지 않는다"
   ]
  },
  {
   "cell_type": "code",
   "execution_count": 47,
   "id": "d7752dad",
   "metadata": {},
   "outputs": [
    {
     "data": {
      "text/plain": [
       "'mechatronics'"
      ]
     },
     "execution_count": 47,
     "metadata": {},
     "output_type": "execute_result"
    }
   ],
   "source": [
    "s2[0:12]"
   ]
  },
  {
   "cell_type": "code",
   "execution_count": 48,
   "id": "d355257f",
   "metadata": {},
   "outputs": [
    {
     "data": {
      "text/plain": [
       "'mechatronics'"
      ]
     },
     "execution_count": 48,
     "metadata": {},
     "output_type": "execute_result"
    }
   ],
   "source": [
    "s2[:12]"
   ]
  },
  {
   "cell_type": "code",
   "execution_count": 50,
   "id": "c06cfa78",
   "metadata": {},
   "outputs": [
    {
     "data": {
      "text/plain": [
       "'mechatronics fighting!!!'"
      ]
     },
     "execution_count": 50,
     "metadata": {},
     "output_type": "execute_result"
    }
   ],
   "source": [
    "s2[:-1]"
   ]
  },
  {
   "cell_type": "code",
   "execution_count": 52,
   "id": "a25d9812",
   "metadata": {},
   "outputs": [
    {
     "data": {
      "text/plain": [
       "'mechatronics fighting!!!?'"
      ]
     },
     "execution_count": 52,
     "metadata": {},
     "output_type": "execute_result"
    }
   ],
   "source": [
    "s2[:]"
   ]
  },
  {
   "cell_type": "code",
   "execution_count": 53,
   "id": "dfcd61c6",
   "metadata": {},
   "outputs": [
    {
     "data": {
      "text/plain": [
       "'mechatronics fightin'"
      ]
     },
     "execution_count": 53,
     "metadata": {},
     "output_type": "execute_result"
    }
   ],
   "source": [
    "s2[:-5]"
   ]
  },
  {
   "cell_type": "code",
   "execution_count": 63,
   "id": "cf681e17",
   "metadata": {},
   "outputs": [
    {
     "data": {
      "text/plain": [
       "'ma'"
      ]
     },
     "execution_count": 63,
     "metadata": {},
     "output_type": "execute_result"
    }
   ],
   "source": [
    "s2[0:5:4] #[시작:끝:스텝]"
   ]
  },
  {
   "cell_type": "code",
   "execution_count": 68,
   "id": "c0ae3856",
   "metadata": {},
   "outputs": [
    {
     "data": {
      "text/plain": [
       "'mcarnc ihig!?'"
      ]
     },
     "execution_count": 68,
     "metadata": {},
     "output_type": "execute_result"
    }
   ],
   "source": [
    "s2[::2]"
   ]
  },
  {
   "cell_type": "code",
   "execution_count": 72,
   "id": "3f407961",
   "metadata": {},
   "outputs": [
    {
     "name": "stdout",
     "output_type": "stream",
     "text": [
      "hong\n"
     ]
    }
   ],
   "source": [
    "name = 'hong gilding'\n",
    "family_name= name[:4]\n",
    "print(family_name)"
   ]
  },
  {
   "cell_type": "code",
   "execution_count": 74,
   "id": "11d9d4ac",
   "metadata": {},
   "outputs": [
    {
     "name": "stdout",
     "output_type": "stream",
     "text": [
      "연필개수:4\n",
      "펜 개수:5\n",
      "5600\n"
     ]
    }
   ],
   "source": [
    "pencil=int(input('연필개수:'))\n",
    "pen=int(input('펜 개수:'))\n",
    "total_price=pencil*400+pen*800\n",
    "print(total_price)"
   ]
  },
  {
   "cell_type": "code",
   "execution_count": 1,
   "id": "d1a7f8ad",
   "metadata": {},
   "outputs": [
    {
     "name": "stdout",
     "output_type": "stream",
     "text": [
      "A과목:90\n",
      "B과목:80\n",
      "C과목:70\n",
      "평균:80.0\n",
      "평균: 80.0\n",
      "평균:80.0\n",
      "평균:80\n",
      "총합:240\n"
     ]
    }
   ],
   "source": [
    "A=int(input('A과목:'))\n",
    "B=int(input('B과목:'))\n",
    "C=int(input('C과목:'))\n",
    "total= A+B+C\n",
    "avg= total/3\n",
    "\n",
    "print(f'평균:{avg}')\n",
    "print('평균:',avg)\n",
    "print('평균:{}'.format(avg))\n",
    "print('평균:%d'%(avg))\n",
    "\n",
    "\n",
    "print(f'총합:{total}')"
   ]
  },
  {
   "cell_type": "code",
   "execution_count": 4,
   "id": "d6506138",
   "metadata": {},
   "outputs": [
    {
     "name": "stdout",
     "output_type": "stream",
     "text": [
      "구입 음악 개수 :9\n",
      "총 가격:3600원\n",
      "할인금액 : 1080원\n",
      "총 구입 가격: 2520원\n"
     ]
    }
   ],
   "source": [
    "music=int(input('구입 음악 개수 :'))\n",
    "total = music*400\n",
    "sale = total*0.3\n",
    "price = total-price\n",
    "print(f'총 가격:{total}원')\n",
    "print(f'할인금액 : {sale:.0f}원')\n",
    "print(f'총 구입 가격: {price:.0f}원')\n"
   ]
  },
  {
   "cell_type": "code",
   "execution_count": 11,
   "id": "62ad416f",
   "metadata": {},
   "outputs": [
    {
     "name": "stdout",
     "output_type": "stream",
     "text": [
      "이름 :서원우\n",
      "연락처 :010-5347-3227\n",
      "서원우 01053473227\n"
     ]
    }
   ],
   "source": [
    "name = input('이름 :')\n",
    "phone = input('연락처 :')\n",
    "print(name, phone[:3]+phone[4:8]+phone[9:])"
   ]
  },
  {
   "cell_type": "markdown",
   "id": "35b93c11",
   "metadata": {},
   "source": [
    "# 5장, 컬렉션 자료형(collection type)\n",
    "### 리스트, 튜플, 딕셔너리. 집합(set)"
   ]
  },
  {
   "cell_type": "code",
   "execution_count": 16,
   "id": "d801020e",
   "metadata": {
    "scrolled": true
   },
   "outputs": [
    {
     "data": {
      "text/plain": [
       "list"
      ]
     },
     "execution_count": 16,
     "metadata": {},
     "output_type": "execute_result"
    }
   ],
   "source": [
    "# 리스트 (중요)\n",
    "a = [1,2,3,4,5]\n",
    "type(a)"
   ]
  },
  {
   "cell_type": "code",
   "execution_count": 57,
   "id": "bcfc5c8f",
   "metadata": {},
   "outputs": [
    {
     "data": {
      "text/plain": [
       "tuple"
      ]
     },
     "execution_count": 57,
     "metadata": {},
     "output_type": "execute_result"
    }
   ],
   "source": [
    "a = 1,2,3\n",
    "type(a)"
   ]
  },
  {
   "cell_type": "code",
   "execution_count": 17,
   "id": "245f9ba5",
   "metadata": {},
   "outputs": [
    {
     "data": {
      "text/plain": [
       "15"
      ]
     },
     "execution_count": 17,
     "metadata": {},
     "output_type": "execute_result"
    }
   ],
   "source": [
    "sum(a)"
   ]
  },
  {
   "cell_type": "code",
   "execution_count": 18,
   "id": "8460d25f",
   "metadata": {},
   "outputs": [
    {
     "data": {
      "text/plain": [
       "5"
      ]
     },
     "execution_count": 18,
     "metadata": {},
     "output_type": "execute_result"
    }
   ],
   "source": [
    "max(a)"
   ]
  },
  {
   "cell_type": "code",
   "execution_count": 19,
   "id": "8bbc0ab1",
   "metadata": {},
   "outputs": [
    {
     "data": {
      "text/plain": [
       "1"
      ]
     },
     "execution_count": 19,
     "metadata": {},
     "output_type": "execute_result"
    }
   ],
   "source": [
    "min(a)"
   ]
  },
  {
   "cell_type": "code",
   "execution_count": 20,
   "id": "30accf6b",
   "metadata": {
    "scrolled": true
   },
   "outputs": [
    {
     "name": "stdout",
     "output_type": "stream",
     "text": [
      "합계: 150 평균: 30.0\n"
     ]
    }
   ],
   "source": [
    "# 리스트를 사용하는 이유\n",
    "n1 = 10\n",
    "n2 = 20\n",
    "n3 = 30\n",
    "n4 = 40\n",
    "n5 = 50\n",
    "total = n1 + n2 + n3 + n4 + n5\n",
    "avg = total / 5\n",
    "print('합계:', total, '평균:', avg)"
   ]
  },
  {
   "cell_type": "code",
   "execution_count": 21,
   "id": "eefaec27",
   "metadata": {},
   "outputs": [
    {
     "name": "stdout",
     "output_type": "stream",
     "text": [
      "합계: 150 평균: 30.0\n"
     ]
    }
   ],
   "source": [
    "n = [10,20,30,40,50]\n",
    "total = n[0]+n[1]+n[2]+n[3]+n[4]\n",
    "avg = total / 5\n",
    "print('합계:', total, '평균:', avg)"
   ]
  },
  {
   "cell_type": "code",
   "execution_count": 25,
   "id": "3bcbb216",
   "metadata": {},
   "outputs": [
    {
     "data": {
      "text/plain": [
       "[10, 30, 50]"
      ]
     },
     "execution_count": 25,
     "metadata": {},
     "output_type": "execute_result"
    }
   ],
   "source": [
    "n[::2]"
   ]
  },
  {
   "cell_type": "code",
   "execution_count": 30,
   "id": "85fbb50b",
   "metadata": {},
   "outputs": [],
   "source": [
    "n = [10,20,'박재영','이충민','1B',[10,20]]"
   ]
  },
  {
   "cell_type": "code",
   "execution_count": 31,
   "id": "a2cb6f5f",
   "metadata": {},
   "outputs": [
    {
     "data": {
      "text/plain": [
       "[10, 20]"
      ]
     },
     "execution_count": 31,
     "metadata": {},
     "output_type": "execute_result"
    }
   ],
   "source": [
    "n[-1]"
   ]
  },
  {
   "cell_type": "code",
   "execution_count": 33,
   "id": "40f7524b",
   "metadata": {
    "scrolled": true
   },
   "outputs": [
    {
     "data": {
      "text/plain": [
       "20"
      ]
     },
     "execution_count": 33,
     "metadata": {},
     "output_type": "execute_result"
    }
   ],
   "source": [
    "n[-1][1]"
   ]
  },
  {
   "cell_type": "code",
   "execution_count": 35,
   "id": "04a8f7c7",
   "metadata": {},
   "outputs": [
    {
     "data": {
      "text/plain": [
       "[10, 20, '박재영', '이충민', '1B', '담요']"
      ]
     },
     "execution_count": 35,
     "metadata": {},
     "output_type": "execute_result"
    }
   ],
   "source": [
    "n[-1] = '담요'\n",
    "n"
   ]
  },
  {
   "cell_type": "code",
   "execution_count": 36,
   "id": "8bef30cf",
   "metadata": {},
   "outputs": [
    {
     "data": {
      "text/plain": [
       "6"
      ]
     },
     "execution_count": 36,
     "metadata": {},
     "output_type": "execute_result"
    }
   ],
   "source": [
    "len(n)"
   ]
  },
  {
   "cell_type": "code",
   "execution_count": 39,
   "id": "1497314c",
   "metadata": {},
   "outputs": [
    {
     "data": {
      "text/plain": [
       "'영'"
      ]
     },
     "execution_count": 39,
     "metadata": {},
     "output_type": "execute_result"
    }
   ],
   "source": [
    "n[2][2]"
   ]
  },
  {
   "cell_type": "code",
   "execution_count": 41,
   "id": "7c4333a8",
   "metadata": {},
   "outputs": [
    {
     "data": {
      "text/plain": [
       "30"
      ]
     },
     "execution_count": 41,
     "metadata": {},
     "output_type": "execute_result"
    }
   ],
   "source": [
    "n[0]+n[1]"
   ]
  },
  {
   "cell_type": "code",
   "execution_count": 42,
   "id": "398410b8",
   "metadata": {},
   "outputs": [
    {
     "data": {
      "text/plain": [
       "'이충민담요'"
      ]
     },
     "execution_count": 42,
     "metadata": {},
     "output_type": "execute_result"
    }
   ],
   "source": [
    "n[3]+n[-1]"
   ]
  },
  {
   "cell_type": "code",
   "execution_count": null,
   "id": "f2a5d4b8",
   "metadata": {},
   "outputs": [],
   "source": []
  },
  {
   "cell_type": "code",
   "execution_count": 44,
   "id": "0c6eb4bf",
   "metadata": {},
   "outputs": [],
   "source": [
    "#리스트의 메서드(method) (기능(function:함수, 메서드))\n",
    "#append - 붙이다. #appendix 첨부.\n",
    "#count\n",
    "#copy\n",
    "#clear\n",
    "#insert\n",
    "#index\n",
    "#pop\n",
    "#remove\n",
    "#reverse\n",
    "#sort\n",
    "#extend\n",
    "n.append('메카')"
   ]
  },
  {
   "cell_type": "code",
   "execution_count": 46,
   "id": "bca3234b",
   "metadata": {},
   "outputs": [
    {
     "data": {
      "text/plain": [
       "[10, 20, '박재영', '이충민', '1B', '담요', '메카', '메카', [30, 40], [30, 40]]"
      ]
     },
     "execution_count": 46,
     "metadata": {},
     "output_type": "execute_result"
    }
   ],
   "source": [
    "n.append([30,40])\n",
    "n"
   ]
  },
  {
   "cell_type": "code",
   "execution_count": 48,
   "id": "419c0684",
   "metadata": {},
   "outputs": [
    {
     "data": {
      "text/plain": [
       "[10, 20, '박재영', '이충민', '1B', '담요', '메카', '메카', [30, 40], [30, 40], '메카', '메카']"
      ]
     },
     "execution_count": 48,
     "metadata": {},
     "output_type": "execute_result"
    }
   ],
   "source": [
    "n.append('메카')\n",
    "n"
   ]
  },
  {
   "cell_type": "code",
   "execution_count": 50,
   "id": "e9b9a08e",
   "metadata": {},
   "outputs": [
    {
     "data": {
      "text/plain": [
       "4"
      ]
     },
     "execution_count": 50,
     "metadata": {},
     "output_type": "execute_result"
    }
   ],
   "source": [
    "n.count('메카')"
   ]
  },
  {
   "cell_type": "code",
   "execution_count": 52,
   "id": "231c0146",
   "metadata": {},
   "outputs": [
    {
     "data": {
      "text/plain": [
       "[10, 20, '박재영', '이충민', '1B', '담요', '메카', '메카', [30, 40], [30, 40], '메카', '메카']"
      ]
     },
     "execution_count": 52,
     "metadata": {},
     "output_type": "execute_result"
    }
   ],
   "source": [
    "n1 = n\n",
    "n"
   ]
  },
  {
   "cell_type": "code",
   "execution_count": 51,
   "id": "18b538c9",
   "metadata": {},
   "outputs": [
    {
     "data": {
      "text/plain": [
       "[10, 20, '박재영', '이충민', '1B', '담요', '메카', '메카', [30, 40], [30, 40], '메카', '메카']"
      ]
     },
     "execution_count": 51,
     "metadata": {},
     "output_type": "execute_result"
    }
   ],
   "source": [
    "n1 = n.copy()\n",
    "n1"
   ]
  },
  {
   "cell_type": "code",
   "execution_count": 53,
   "id": "9932a0c7",
   "metadata": {},
   "outputs": [
    {
     "data": {
      "text/plain": [
       "[10, 20, 'park', '이충민', '1B', '담요', '메카', '메카', [30, 40], [30, 40], '메카', '메카']"
      ]
     },
     "execution_count": 53,
     "metadata": {},
     "output_type": "execute_result"
    }
   ],
   "source": [
    "n1 = n #얕은 복사  -> 원본과 사본을 합침\n",
    "n1[2] = 'park'\n",
    "n1"
   ]
  },
  {
   "cell_type": "code",
   "execution_count": 54,
   "id": "3193768c",
   "metadata": {},
   "outputs": [
    {
     "data": {
      "text/plain": [
       "[10, 20, 'park', '이충민', '1B', '담요', '메카', '메카', [30, 40], [30, 40], '메카', '메카']"
      ]
     },
     "execution_count": 54,
     "metadata": {},
     "output_type": "execute_result"
    }
   ],
   "source": [
    "n"
   ]
  },
  {
   "cell_type": "code",
   "execution_count": 55,
   "id": "6b29e38f",
   "metadata": {},
   "outputs": [
    {
     "data": {
      "text/plain": [
       "[10, 20, '박재영', '이충민', '1B', '담요', '메카', '메카', [30, 40], [30, 40], '메카', '메카']"
      ]
     },
     "execution_count": 55,
     "metadata": {},
     "output_type": "execute_result"
    }
   ],
   "source": [
    "n2 = n.copy() # 깊은 복사   -> 원본과 사본을 분리하기위함\n",
    "n2[2] = '박재영'\n",
    "n2"
   ]
  },
  {
   "cell_type": "code",
   "execution_count": 56,
   "id": "bc5ef549",
   "metadata": {},
   "outputs": [
    {
     "data": {
      "text/plain": [
       "[10, 20, 'park', '이충민', '1B', '담요', '메카', '메카', [30, 40], [30, 40], '메카', '메카']"
      ]
     },
     "execution_count": 56,
     "metadata": {},
     "output_type": "execute_result"
    }
   ],
   "source": [
    "n"
   ]
  },
  {
   "cell_type": "code",
   "execution_count": null,
   "id": "3b83c433",
   "metadata": {},
   "outputs": [],
   "source": [
    "# 리스트, 튜플, 딕셔너리, 집합"
   ]
  },
  {
   "cell_type": "code",
   "execution_count": 3,
   "id": "ba658f57",
   "metadata": {},
   "outputs": [
    {
     "name": "stdout",
     "output_type": "stream",
     "text": [
      "[1, 2, 3, 4, 5, 6, '1B', ['이충민', '과대'], 7]\n"
     ]
    }
   ],
   "source": [
    "n = [1,2,3,4,5,6,'1B',['이충민','과대']]\n",
    "len(n) #8\n",
    "type(n) #list\n",
    "# 추가\n",
    "n.append(7) # 마지막에 추가\n",
    "#insert :원하는 인덱스번호에 삽입\n",
    "#extend :확장\n",
    "\n",
    "print(n)\n",
    "# 삭제\n",
    "# 정렬"
   ]
  },
  {
   "cell_type": "code",
   "execution_count": 6,
   "id": "49afe942",
   "metadata": {},
   "outputs": [
    {
     "name": "stdout",
     "output_type": "stream",
     "text": [
      "[1, 2, 3, 4, 5, 6, '1B', ['이충민', '과대'], 7, [8, 9]]\n"
     ]
    }
   ],
   "source": [
    "# print(n)\n",
    "n.append([8,9]) #append는 1개의 원소만 받을 수 있음.\n",
    "print(n)\n",
    "# 삭제\n",
    "# 정렬"
   ]
  },
  {
   "cell_type": "code",
   "execution_count": 7,
   "id": "da15882e",
   "metadata": {},
   "outputs": [
    {
     "data": {
      "text/plain": [
       "1"
      ]
     },
     "execution_count": 7,
     "metadata": {},
     "output_type": "execute_result"
    }
   ],
   "source": [
    "n[0]"
   ]
  },
  {
   "cell_type": "code",
   "execution_count": 8,
   "id": "396d0734",
   "metadata": {},
   "outputs": [
    {
     "data": {
      "text/plain": [
       "[8, 9]"
      ]
     },
     "execution_count": 8,
     "metadata": {},
     "output_type": "execute_result"
    }
   ],
   "source": [
    "n[-1]"
   ]
  },
  {
   "cell_type": "code",
   "execution_count": 10,
   "id": "cf5195ce",
   "metadata": {},
   "outputs": [
    {
     "data": {
      "text/plain": [
       "8"
      ]
     },
     "execution_count": 10,
     "metadata": {},
     "output_type": "execute_result"
    }
   ],
   "source": [
    "n[-1][0]"
   ]
  },
  {
   "cell_type": "code",
   "execution_count": 11,
   "id": "3c407bd8",
   "metadata": {},
   "outputs": [
    {
     "data": {
      "text/plain": [
       "['이충민', '과대']"
      ]
     },
     "execution_count": 11,
     "metadata": {},
     "output_type": "execute_result"
    }
   ],
   "source": [
    "n[7]"
   ]
  },
  {
   "cell_type": "code",
   "execution_count": 12,
   "id": "0eb961e4",
   "metadata": {},
   "outputs": [
    {
     "data": {
      "text/plain": [
       "'이충민'"
      ]
     },
     "execution_count": 12,
     "metadata": {},
     "output_type": "execute_result"
    }
   ],
   "source": [
    "n[7][0]"
   ]
  },
  {
   "cell_type": "code",
   "execution_count": 17,
   "id": "5f06b599",
   "metadata": {},
   "outputs": [
    {
     "name": "stdout",
     "output_type": "stream",
     "text": [
      "[1, 1, 1, 2, 3, 4, 5, 6, '1B', ['이충민', '과대'], 7, [8, 9]]\n"
     ]
    }
   ],
   "source": [
    "print(n)\n",
    "n.insert(1,5)"
   ]
  },
  {
   "cell_type": "code",
   "execution_count": 18,
   "id": "c2d660a5",
   "metadata": {},
   "outputs": [
    {
     "name": "stdout",
     "output_type": "stream",
     "text": [
      "[1, 5, 1, 1, 2, 3, 4, 5, 6, '1B', ['이충민', '과대'], 7, [8, 9]]\n"
     ]
    }
   ],
   "source": [
    "print(n)"
   ]
  },
  {
   "cell_type": "code",
   "execution_count": 20,
   "id": "34fb0358",
   "metadata": {},
   "outputs": [
    {
     "data": {
      "text/plain": [
       "[1, 5, 1, 1, 2, 3, 4, 5, 6, '1B', ['이충민', '과대'], 7, [8, 9], 10, 11, 12]"
      ]
     },
     "execution_count": 20,
     "metadata": {},
     "output_type": "execute_result"
    }
   ],
   "source": [
    "n.extend([10,11,12])\n",
    "n"
   ]
  },
  {
   "cell_type": "code",
   "execution_count": 21,
   "id": "99d068e3",
   "metadata": {},
   "outputs": [
    {
     "data": {
      "text/plain": [
       "[1, 5, 1, 1, 2, 3, 4, 5, 6, '1B', ['이충민', '과대'], 7, [8, 9], 10, 11, 12, 99]"
      ]
     },
     "execution_count": 21,
     "metadata": {},
     "output_type": "execute_result"
    }
   ],
   "source": [
    "n.extend([99])\n",
    "n"
   ]
  },
  {
   "cell_type": "code",
   "execution_count": 22,
   "id": "a5b294ca",
   "metadata": {},
   "outputs": [],
   "source": [
    "n.extend('서원우')"
   ]
  },
  {
   "cell_type": "code",
   "execution_count": 24,
   "id": "05999a8a",
   "metadata": {},
   "outputs": [
    {
     "name": "stdout",
     "output_type": "stream",
     "text": [
      "[1, 5, 1, 1, 2, 3, 4, 5, 6, '1B', ['이충민', '과대'], 7, [8, 9], 10, 11, 12, 99, '서', '원', '우']\n"
     ]
    }
   ],
   "source": [
    "print(n)"
   ]
  },
  {
   "cell_type": "code",
   "execution_count": 26,
   "id": "cb2ec53b",
   "metadata": {},
   "outputs": [
    {
     "data": {
      "text/plain": [
       "'우'"
      ]
     },
     "execution_count": 26,
     "metadata": {},
     "output_type": "execute_result"
    }
   ],
   "source": [
    "n[-1]"
   ]
  },
  {
   "cell_type": "code",
   "execution_count": 28,
   "id": "f01cdb56",
   "metadata": {},
   "outputs": [],
   "source": [
    "n.extend(['파이썬'])"
   ]
  },
  {
   "cell_type": "code",
   "execution_count": 29,
   "id": "aa3e3da0",
   "metadata": {},
   "outputs": [
    {
     "name": "stdout",
     "output_type": "stream",
     "text": [
      "[1, 5, 1, 1, 2, 3, 4, 5, 6, '1B', ['이충민', '과대'], 7, [8, 9], 10, 11, 12, 99, '서', '원', '우', '파이썬']\n"
     ]
    }
   ],
   "source": [
    "print(n)"
   ]
  },
  {
   "cell_type": "code",
   "execution_count": 30,
   "id": "3af31836",
   "metadata": {},
   "outputs": [],
   "source": [
    "#  .extend   extend('문자열'): 문자열을 쪼개서 넣음 , 정수를 이렇게 넣으면 에러\n",
    "#            extend(['문자열']): 문자열을 그대로 넣음  "
   ]
  },
  {
   "cell_type": "code",
   "execution_count": 2,
   "id": "ad50b6d9",
   "metadata": {},
   "outputs": [
    {
     "data": {
      "text/plain": [
       "[0, 1, 2, 3, 4, 5, 6]"
      ]
     },
     "execution_count": 2,
     "metadata": {},
     "output_type": "execute_result"
    }
   ],
   "source": [
    "n1 = [1,2,3]\n",
    "n1.append(4)\n",
    "n1.insert(0,0)\n",
    "n1.extend([5,6])\n",
    "\n",
    "n1"
   ]
  },
  {
   "cell_type": "code",
   "execution_count": 3,
   "id": "d5f59df6",
   "metadata": {},
   "outputs": [],
   "source": [
    "# 삭제\n",
    "# remove()\n",
    "# pop()\n",
    "# clear()\n",
    "n1.remove(2) # 제거하다"
   ]
  },
  {
   "cell_type": "code",
   "execution_count": 50,
   "id": "4b107916",
   "metadata": {},
   "outputs": [
    {
     "data": {
      "text/plain": [
       "[0, 1, 2, 3, 4, 5, 6, 4]"
      ]
     },
     "execution_count": 50,
     "metadata": {},
     "output_type": "execute_result"
    }
   ],
   "source": [
    "n1=[0,1,2,3,4,5,6,4]\n",
    "n1"
   ]
  },
  {
   "cell_type": "code",
   "execution_count": 46,
   "id": "1861f833",
   "metadata": {},
   "outputs": [
    {
     "data": {
      "text/plain": [
       "[0, 1, 3, 5, 6, 4]"
      ]
     },
     "execution_count": 46,
     "metadata": {},
     "output_type": "execute_result"
    }
   ],
   "source": [
    "n1.append(4)\n",
    "n1"
   ]
  },
  {
   "cell_type": "code",
   "execution_count": 51,
   "id": "430ddc56",
   "metadata": {},
   "outputs": [
    {
     "data": {
      "text/plain": [
       "[0, 1, 2, 3, 5, 6, 4]"
      ]
     },
     "execution_count": 51,
     "metadata": {},
     "output_type": "execute_result"
    }
   ],
   "source": [
    "n1.remove(4) # 앞에 있는원소 삭제\n",
    "n1"
   ]
  },
  {
   "cell_type": "code",
   "execution_count": 52,
   "id": "7f4a03f7",
   "metadata": {},
   "outputs": [
    {
     "data": {
      "text/plain": [
       "4"
      ]
     },
     "execution_count": 52,
     "metadata": {},
     "output_type": "execute_result"
    }
   ],
   "source": [
    "n1.pop() # 맨마지막 원소를 제거"
   ]
  },
  {
   "cell_type": "code",
   "execution_count": 53,
   "id": "ac22b2c7",
   "metadata": {},
   "outputs": [
    {
     "data": {
      "text/plain": [
       "[0, 1, 2, 3, 5, 6]"
      ]
     },
     "execution_count": 53,
     "metadata": {},
     "output_type": "execute_result"
    }
   ],
   "source": [
    "n1"
   ]
  },
  {
   "cell_type": "code",
   "execution_count": 54,
   "id": "de109544",
   "metadata": {},
   "outputs": [
    {
     "data": {
      "text/plain": [
       "6"
      ]
     },
     "execution_count": 54,
     "metadata": {},
     "output_type": "execute_result"
    }
   ],
   "source": [
    "n1.pop()"
   ]
  },
  {
   "cell_type": "code",
   "execution_count": 55,
   "id": "ab8ec9a6",
   "metadata": {},
   "outputs": [
    {
     "data": {
      "text/plain": [
       "[0, 1, 2, 3, 5]"
      ]
     },
     "execution_count": 55,
     "metadata": {},
     "output_type": "execute_result"
    }
   ],
   "source": [
    "n1"
   ]
  },
  {
   "cell_type": "code",
   "execution_count": 63,
   "id": "cbe628c9",
   "metadata": {},
   "outputs": [
    {
     "data": {
      "text/plain": [
       "[0, 1, 3, 5]"
      ]
     },
     "execution_count": 63,
     "metadata": {},
     "output_type": "execute_result"
    }
   ],
   "source": [
    "a = n1.pop() #5 제거\n",
    "n1.append(a) #5 삽입\n",
    "n1 =[0,1,3,5]\n",
    "n1"
   ]
  },
  {
   "cell_type": "code",
   "execution_count": 64,
   "id": "8a182153",
   "metadata": {},
   "outputs": [
    {
     "data": {
      "text/plain": [
       "3"
      ]
     },
     "execution_count": 64,
     "metadata": {},
     "output_type": "execute_result"
    }
   ],
   "source": [
    "n1.pop(2) #()는 인덱스 번호 , 입력하지않을경우 맨마지막 인덱스"
   ]
  },
  {
   "cell_type": "code",
   "execution_count": 65,
   "id": "4c5b7bad",
   "metadata": {},
   "outputs": [
    {
     "data": {
      "text/plain": [
       "[0, 1, 5]"
      ]
     },
     "execution_count": 65,
     "metadata": {},
     "output_type": "execute_result"
    }
   ],
   "source": [
    "n1"
   ]
  },
  {
   "cell_type": "code",
   "execution_count": 66,
   "id": "e7e7ae3e",
   "metadata": {},
   "outputs": [
    {
     "data": {
      "text/plain": [
       "[]"
      ]
     },
     "execution_count": 66,
     "metadata": {},
     "output_type": "execute_result"
    }
   ],
   "source": [
    "n1.clear()\n",
    "n1"
   ]
  },
  {
   "cell_type": "code",
   "execution_count": 67,
   "id": "048df4a3",
   "metadata": {},
   "outputs": [
    {
     "data": {
      "text/plain": [
       "[1, 2, 3]"
      ]
     },
     "execution_count": 67,
     "metadata": {},
     "output_type": "execute_result"
    }
   ],
   "source": [
    "n2 = [1,2,3]\n",
    "n2"
   ]
  },
  {
   "cell_type": "code",
   "execution_count": 68,
   "id": "a55cc243",
   "metadata": {},
   "outputs": [
    {
     "data": {
      "text/plain": [
       "[1, 2, 3, 0]"
      ]
     },
     "execution_count": 68,
     "metadata": {},
     "output_type": "execute_result"
    }
   ],
   "source": [
    "n2.append(0)\n",
    "n2"
   ]
  },
  {
   "cell_type": "code",
   "execution_count": 69,
   "id": "f3b22417",
   "metadata": {},
   "outputs": [
    {
     "data": {
      "text/plain": [
       "[1, 2, 5, 3, 0]"
      ]
     },
     "execution_count": 69,
     "metadata": {},
     "output_type": "execute_result"
    }
   ],
   "source": [
    "n2.insert(2,5)\n",
    "n2"
   ]
  },
  {
   "cell_type": "code",
   "execution_count": 70,
   "id": "cf1db15e",
   "metadata": {},
   "outputs": [
    {
     "data": {
      "text/plain": [
       "[1, 2, ['a', 'b'], 5, 3, 0]"
      ]
     },
     "execution_count": 70,
     "metadata": {},
     "output_type": "execute_result"
    }
   ],
   "source": [
    "n2.insert(2,['a','b'])\n",
    "n2"
   ]
  },
  {
   "cell_type": "code",
   "execution_count": 71,
   "id": "579c8229",
   "metadata": {},
   "outputs": [
    {
     "data": {
      "text/plain": [
       "[1, 2, ['a', 'b'], 5, 3, 0, 7, 8]"
      ]
     },
     "execution_count": 71,
     "metadata": {},
     "output_type": "execute_result"
    }
   ],
   "source": [
    "n2.extend([7,8])\n",
    "n2"
   ]
  },
  {
   "cell_type": "code",
   "execution_count": 72,
   "id": "c275b6f5",
   "metadata": {},
   "outputs": [
    {
     "data": {
      "text/plain": [
       "[1, 2, ['a', 'b'], 5, 3, 0, 7]"
      ]
     },
     "execution_count": 72,
     "metadata": {},
     "output_type": "execute_result"
    }
   ],
   "source": [
    "n2.pop()\n",
    "n2"
   ]
  },
  {
   "cell_type": "code",
   "execution_count": 73,
   "id": "8d7bbcef",
   "metadata": {},
   "outputs": [
    {
     "data": {
      "text/plain": [
       "[1, 2, 5, 3, 0, 7]"
      ]
     },
     "execution_count": 73,
     "metadata": {},
     "output_type": "execute_result"
    }
   ],
   "source": [
    "n2.pop(2)\n",
    "n2"
   ]
  },
  {
   "cell_type": "code",
   "execution_count": 75,
   "id": "9146a254",
   "metadata": {},
   "outputs": [
    {
     "data": {
      "text/plain": [
       "[1, 2, 5, 3, 7]"
      ]
     },
     "execution_count": 75,
     "metadata": {},
     "output_type": "execute_result"
    }
   ],
   "source": [
    "n2.remove(0)\n",
    "n2"
   ]
  },
  {
   "cell_type": "code",
   "execution_count": 76,
   "id": "43c8944a",
   "metadata": {},
   "outputs": [
    {
     "data": {
      "text/plain": [
       "5"
      ]
     },
     "execution_count": 76,
     "metadata": {},
     "output_type": "execute_result"
    }
   ],
   "source": [
    "n2.pop(2)"
   ]
  },
  {
   "cell_type": "code",
   "execution_count": 77,
   "id": "7caf6842",
   "metadata": {},
   "outputs": [
    {
     "data": {
      "text/plain": [
       "[1, 2, 3, 7]"
      ]
     },
     "execution_count": 77,
     "metadata": {},
     "output_type": "execute_result"
    }
   ],
   "source": [
    "n2"
   ]
  },
  {
   "cell_type": "code",
   "execution_count": 78,
   "id": "92da957b",
   "metadata": {},
   "outputs": [],
   "source": [
    "n2.clear()"
   ]
  },
  {
   "cell_type": "code",
   "execution_count": 79,
   "id": "d6daf8c8",
   "metadata": {},
   "outputs": [
    {
     "data": {
      "text/plain": [
       "[]"
      ]
     },
     "execution_count": 79,
     "metadata": {},
     "output_type": "execute_result"
    }
   ],
   "source": [
    "n2"
   ]
  },
  {
   "cell_type": "code",
   "execution_count": 80,
   "id": "afe42c1e",
   "metadata": {},
   "outputs": [],
   "source": [
    "# sort()\n",
    "# reverse()\n",
    "# index()\n",
    "# count()"
   ]
  },
  {
   "cell_type": "code",
   "execution_count": 89,
   "id": "a3d39c34",
   "metadata": {},
   "outputs": [
    {
     "data": {
      "text/plain": [
       "[1, 3, 2, 7, 5, 0, 2]"
      ]
     },
     "execution_count": 89,
     "metadata": {},
     "output_type": "execute_result"
    }
   ],
   "source": [
    "n5 = [1,3,2,7,5,0]\n",
    "n5.append(2)\n",
    "n5"
   ]
  },
  {
   "cell_type": "code",
   "execution_count": 82,
   "id": "7748714c",
   "metadata": {},
   "outputs": [
    {
     "data": {
      "text/plain": [
       "1"
      ]
     },
     "execution_count": 82,
     "metadata": {},
     "output_type": "execute_result"
    }
   ],
   "source": [
    "n5.count(1)"
   ]
  },
  {
   "cell_type": "code",
   "execution_count": 83,
   "id": "f4526efd",
   "metadata": {},
   "outputs": [
    {
     "data": {
      "text/plain": [
       "2"
      ]
     },
     "execution_count": 83,
     "metadata": {},
     "output_type": "execute_result"
    }
   ],
   "source": [
    "n5.count(2)"
   ]
  },
  {
   "cell_type": "code",
   "execution_count": 84,
   "id": "dd482821",
   "metadata": {},
   "outputs": [
    {
     "data": {
      "text/plain": [
       "0"
      ]
     },
     "execution_count": 84,
     "metadata": {},
     "output_type": "execute_result"
    }
   ],
   "source": [
    "n5.count(6)"
   ]
  },
  {
   "cell_type": "code",
   "execution_count": 85,
   "id": "31aa6ab2",
   "metadata": {},
   "outputs": [
    {
     "data": {
      "text/plain": [
       "[1, 3, 2, 7, 5, 0, 2]"
      ]
     },
     "execution_count": 85,
     "metadata": {},
     "output_type": "execute_result"
    }
   ],
   "source": [
    "n5"
   ]
  },
  {
   "cell_type": "code",
   "execution_count": 91,
   "id": "589fa17c",
   "metadata": {},
   "outputs": [
    {
     "data": {
      "text/plain": [
       "[1, 3, 2, 7, 5, 0, 2]"
      ]
     },
     "execution_count": 91,
     "metadata": {},
     "output_type": "execute_result"
    }
   ],
   "source": [
    "n5.reverse() # 잘 사용 안함, 2번사용하면 원래대로\n",
    "n5"
   ]
  },
  {
   "cell_type": "code",
   "execution_count": 93,
   "id": "f906341c",
   "metadata": {},
   "outputs": [
    {
     "data": {
      "text/plain": [
       "1"
      ]
     },
     "execution_count": 93,
     "metadata": {},
     "output_type": "execute_result"
    }
   ],
   "source": [
    "n5.index(3) # ()의 인덱스 번호"
   ]
  },
  {
   "cell_type": "code",
   "execution_count": 101,
   "id": "d2f9f51a",
   "metadata": {},
   "outputs": [
    {
     "data": {
      "text/plain": [
       "3"
      ]
     },
     "execution_count": 101,
     "metadata": {},
     "output_type": "execute_result"
    }
   ],
   "source": [
    "n5.index(3)"
   ]
  },
  {
   "cell_type": "code",
   "execution_count": 94,
   "id": "63496ba0",
   "metadata": {},
   "outputs": [
    {
     "data": {
      "text/plain": [
       "2"
      ]
     },
     "execution_count": 94,
     "metadata": {},
     "output_type": "execute_result"
    }
   ],
   "source": [
    "n5.index(2) #중복되면 리스트의 앞에 있는 인덱스번호"
   ]
  },
  {
   "cell_type": "code",
   "execution_count": 95,
   "id": "8781c433",
   "metadata": {},
   "outputs": [
    {
     "data": {
      "text/plain": [
       "[1, 3, 7, 5, 0, 2]"
      ]
     },
     "execution_count": 95,
     "metadata": {},
     "output_type": "execute_result"
    }
   ],
   "source": [
    "n5.count(2) \n",
    "n5.index(2)\n",
    "n5.pop(2)      #보통 이런식으로 조합해서 사용\n",
    "n5"
   ]
  },
  {
   "cell_type": "code",
   "execution_count": 96,
   "id": "bdb177e7",
   "metadata": {},
   "outputs": [
    {
     "data": {
      "text/plain": [
       "[1, 3, 7, 5, 0, 2]"
      ]
     },
     "execution_count": 96,
     "metadata": {},
     "output_type": "execute_result"
    }
   ],
   "source": [
    "n5"
   ]
  },
  {
   "cell_type": "code",
   "execution_count": 98,
   "id": "66cb50d5",
   "metadata": {},
   "outputs": [
    {
     "data": {
      "text/plain": [
       "[0, 1, 2, 3, 5, 7]"
      ]
     },
     "execution_count": 98,
     "metadata": {},
     "output_type": "execute_result"
    }
   ],
   "source": [
    "n5.sort() # 오름차순으로 정렬\n",
    "n5"
   ]
  },
  {
   "cell_type": "code",
   "execution_count": 99,
   "id": "2dfd223b",
   "metadata": {},
   "outputs": [
    {
     "name": "stdout",
     "output_type": "stream",
     "text": [
      "[1, 3, 2, 4, 0]\n",
      "[0, 1, 2, 3, 4]\n"
     ]
    }
   ],
   "source": [
    "n6 = [1,3,2,4,0]\n",
    "n7 = sorted(n6) # 원본을 유지하고 싶으면 sorted 사용\n",
    "print(n6)\n",
    "print(n7)"
   ]
  },
  {
   "cell_type": "code",
   "execution_count": 103,
   "id": "4c1b0487",
   "metadata": {},
   "outputs": [
    {
     "data": {
      "text/plain": [
       "1"
      ]
     },
     "execution_count": 103,
     "metadata": {},
     "output_type": "execute_result"
    }
   ],
   "source": [
    "n6.index(3)"
   ]
  },
  {
   "cell_type": "code",
   "execution_count": 104,
   "id": "a7eb206b",
   "metadata": {},
   "outputs": [
    {
     "data": {
      "text/plain": [
       "[4, 3, 2, 1, 0]"
      ]
     },
     "execution_count": 104,
     "metadata": {},
     "output_type": "execute_result"
    }
   ],
   "source": [
    "n8 = [1,3,2,4,0]\n",
    "n8.sort()\n",
    "n8.reverse()  #sort,reverse 를 같이 사용하면 내림차순 정렬\n",
    "n8"
   ]
  },
  {
   "cell_type": "code",
   "execution_count": 105,
   "id": "cab68e7a",
   "metadata": {},
   "outputs": [
    {
     "data": {
      "text/plain": [
       "[4, 3, 2, 1, 0]"
      ]
     },
     "execution_count": 105,
     "metadata": {},
     "output_type": "execute_result"
    }
   ],
   "source": [
    "# 얕은 복사 (저장되는 주소를 공유한다.)\n",
    "n9 = n8\n",
    "n9"
   ]
  },
  {
   "cell_type": "code",
   "execution_count": 106,
   "id": "772edd83",
   "metadata": {},
   "outputs": [
    {
     "data": {
      "text/plain": [
       "[4, 3, 2, 1, 0]"
      ]
     },
     "execution_count": 106,
     "metadata": {},
     "output_type": "execute_result"
    }
   ],
   "source": [
    "n8"
   ]
  },
  {
   "cell_type": "code",
   "execution_count": 107,
   "id": "29bdf96a",
   "metadata": {},
   "outputs": [
    {
     "data": {
      "text/plain": [
       "[4, 3, 2, 1, 0, 5]"
      ]
     },
     "execution_count": 107,
     "metadata": {},
     "output_type": "execute_result"
    }
   ],
   "source": [
    "n9.append(5)\n",
    "n9"
   ]
  },
  {
   "cell_type": "code",
   "execution_count": 108,
   "id": "18f148c0",
   "metadata": {},
   "outputs": [
    {
     "data": {
      "text/plain": [
       "[4, 3, 2, 1, 0, 5]"
      ]
     },
     "execution_count": 108,
     "metadata": {},
     "output_type": "execute_result"
    }
   ],
   "source": [
    "n8"
   ]
  },
  {
   "cell_type": "code",
   "execution_count": 110,
   "id": "0c55b137",
   "metadata": {},
   "outputs": [
    {
     "data": {
      "text/plain": [
       "[]"
      ]
     },
     "execution_count": 110,
     "metadata": {},
     "output_type": "execute_result"
    }
   ],
   "source": [
    "n8.clear()\n",
    "n8"
   ]
  },
  {
   "cell_type": "code",
   "execution_count": 111,
   "id": "1fdb3501",
   "metadata": {},
   "outputs": [
    {
     "data": {
      "text/plain": [
       "[]"
      ]
     },
     "execution_count": 111,
     "metadata": {},
     "output_type": "execute_result"
    }
   ],
   "source": [
    "n9"
   ]
  },
  {
   "cell_type": "code",
   "execution_count": 112,
   "id": "47a55199",
   "metadata": {},
   "outputs": [
    {
     "data": {
      "text/plain": [
       "[1, 3, 5]"
      ]
     },
     "execution_count": 112,
     "metadata": {},
     "output_type": "execute_result"
    }
   ],
   "source": [
    "n10 = [1,3,5]\n",
    "# n11 = n10  얕은 복사\n",
    "n11 = n10.copy() # 깊은 복사\n",
    "n11"
   ]
  },
  {
   "cell_type": "code",
   "execution_count": 113,
   "id": "f34ab012",
   "metadata": {},
   "outputs": [
    {
     "data": {
      "text/plain": [
       "[]"
      ]
     },
     "execution_count": 113,
     "metadata": {},
     "output_type": "execute_result"
    }
   ],
   "source": [
    "n11.clear()\n",
    "n11"
   ]
  },
  {
   "cell_type": "code",
   "execution_count": 114,
   "id": "e5dce4c5",
   "metadata": {},
   "outputs": [
    {
     "data": {
      "text/plain": [
       "[1, 3, 5]"
      ]
     },
     "execution_count": 114,
     "metadata": {},
     "output_type": "execute_result"
    }
   ],
   "source": [
    "n10"
   ]
  },
  {
   "cell_type": "code",
   "execution_count": 115,
   "id": "280c5dc7",
   "metadata": {},
   "outputs": [
    {
     "data": {
      "text/plain": [
       "[1, 5, 6]"
      ]
     },
     "execution_count": 115,
     "metadata": {},
     "output_type": "execute_result"
    }
   ],
   "source": [
    "n12 = [1,5,6]\n",
    "n13 = n12.copy()\n",
    "n13"
   ]
  },
  {
   "cell_type": "code",
   "execution_count": 117,
   "id": "31247ad7",
   "metadata": {},
   "outputs": [
    {
     "name": "stdout",
     "output_type": "stream",
     "text": [
      "[]\n",
      "[1, 5, 6]\n"
     ]
    }
   ],
   "source": [
    "n12.clear()\n",
    "print(n12)\n",
    "print(n13)"
   ]
  },
  {
   "cell_type": "code",
   "execution_count": 118,
   "id": "25befefb",
   "metadata": {},
   "outputs": [
    {
     "data": {
      "text/plain": [
       "(1, 2, 3)"
      ]
     },
     "execution_count": 118,
     "metadata": {},
     "output_type": "execute_result"
    }
   ],
   "source": [
    "t = 1,2,3 # 하나의 변수의 여러개의 값을 주면 소괄호 생성\n",
    "t"
   ]
  },
  {
   "cell_type": "code",
   "execution_count": 119,
   "id": "fc28dc1b",
   "metadata": {},
   "outputs": [
    {
     "data": {
      "text/plain": [
       "tuple"
      ]
     },
     "execution_count": 119,
     "metadata": {},
     "output_type": "execute_result"
    }
   ],
   "source": [
    "type(t) # tuple: 기본 자료형"
   ]
  },
  {
   "cell_type": "code",
   "execution_count": 120,
   "id": "a908ab54",
   "metadata": {},
   "outputs": [
    {
     "data": {
      "text/plain": [
       "tuple"
      ]
     },
     "execution_count": 120,
     "metadata": {},
     "output_type": "execute_result"
    }
   ],
   "source": [
    "t1 = (1,2,3) # 보통은 괄호를 씌움 \n",
    "type(t1)"
   ]
  },
  {
   "cell_type": "code",
   "execution_count": 121,
   "id": "b153c7c7",
   "metadata": {},
   "outputs": [
    {
     "data": {
      "text/plain": [
       "1"
      ]
     },
     "execution_count": 121,
     "metadata": {},
     "output_type": "execute_result"
    }
   ],
   "source": [
    "t1.count(2)"
   ]
  },
  {
   "cell_type": "code",
   "execution_count": 122,
   "id": "aa440bec",
   "metadata": {},
   "outputs": [
    {
     "data": {
      "text/plain": [
       "2"
      ]
     },
     "execution_count": 122,
     "metadata": {},
     "output_type": "execute_result"
    }
   ],
   "source": [
    "t1.index(3)"
   ]
  },
  {
   "cell_type": "code",
   "execution_count": 123,
   "id": "d521887b",
   "metadata": {},
   "outputs": [
    {
     "data": {
      "text/plain": [
       "'이충민과대'"
      ]
     },
     "execution_count": 123,
     "metadata": {},
     "output_type": "execute_result"
    }
   ],
   "source": [
    "'이충민'+'과대'"
   ]
  },
  {
   "cell_type": "code",
   "execution_count": 131,
   "id": "6d4e0084",
   "metadata": {},
   "outputs": [
    {
     "data": {
      "text/plain": [
       "'보바민충이'"
      ]
     },
     "execution_count": 131,
     "metadata": {},
     "output_type": "execute_result"
    }
   ],
   "source": [
    "s1 = '이충민바보'\n",
    "s1[::-1]"
   ]
  },
  {
   "cell_type": "code",
   "execution_count": 130,
   "id": "93f59cc1",
   "metadata": {},
   "outputs": [
    {
     "data": {
      "text/plain": [
       "[6, 5, 4, 3, 2, 1]"
      ]
     },
     "execution_count": 130,
     "metadata": {},
     "output_type": "execute_result"
    }
   ],
   "source": [
    "l = [1,2,3]+[4,5,6]\n",
    "l[:3]\n",
    "l[::-1]"
   ]
  },
  {
   "cell_type": "code",
   "execution_count": 124,
   "id": "35d39afc",
   "metadata": {},
   "outputs": [
    {
     "data": {
      "text/plain": [
       "[1, 2, 3, 4, 5, 6]"
      ]
     },
     "execution_count": 124,
     "metadata": {},
     "output_type": "execute_result"
    }
   ],
   "source": [
    "[1,2,3]+[4,5,6]"
   ]
  },
  {
   "cell_type": "code",
   "execution_count": 132,
   "id": "a6f44ee0",
   "metadata": {},
   "outputs": [
    {
     "data": {
      "text/plain": [
       "[1, 2, 3, 1, 2, 3, 1, 2, 3]"
      ]
     },
     "execution_count": 132,
     "metadata": {},
     "output_type": "execute_result"
    }
   ],
   "source": [
    "[1,2,3]*3"
   ]
  },
  {
   "cell_type": "code",
   "execution_count": 133,
   "id": "f1a5940c",
   "metadata": {},
   "outputs": [],
   "source": [
    "# 문자와 리스트는 거의 유사하다"
   ]
  },
  {
   "cell_type": "code",
   "execution_count": 134,
   "id": "86501fa9",
   "metadata": {},
   "outputs": [
    {
     "data": {
      "text/plain": [
       "1"
      ]
     },
     "execution_count": 134,
     "metadata": {},
     "output_type": "execute_result"
    }
   ],
   "source": [
    "t1 = (1,2,3)\n",
    "t1[0]"
   ]
  },
  {
   "cell_type": "code",
   "execution_count": 135,
   "id": "91cee828",
   "metadata": {},
   "outputs": [
    {
     "data": {
      "text/plain": [
       "(1, 2, 3)"
      ]
     },
     "execution_count": 135,
     "metadata": {},
     "output_type": "execute_result"
    }
   ],
   "source": [
    "t1[:]"
   ]
  },
  {
   "cell_type": "code",
   "execution_count": 136,
   "id": "ef108fc9",
   "metadata": {},
   "outputs": [
    {
     "data": {
      "text/plain": [
       "(1, 3)"
      ]
     },
     "execution_count": 136,
     "metadata": {},
     "output_type": "execute_result"
    }
   ],
   "source": [
    "t1[::2]"
   ]
  },
  {
   "cell_type": "code",
   "execution_count": 137,
   "id": "8e22a46c",
   "metadata": {},
   "outputs": [
    {
     "data": {
      "text/plain": [
       "(3, 2, 1)"
      ]
     },
     "execution_count": 137,
     "metadata": {},
     "output_type": "execute_result"
    }
   ],
   "source": [
    "t1[::-1]"
   ]
  },
  {
   "cell_type": "code",
   "execution_count": 138,
   "id": "3c71ee17",
   "metadata": {},
   "outputs": [
    {
     "data": {
      "text/plain": [
       "(1, 2, 3, 1, 2, 3, 1, 2, 3)"
      ]
     },
     "execution_count": 138,
     "metadata": {},
     "output_type": "execute_result"
    }
   ],
   "source": [
    "(1,2,3)*3"
   ]
  },
  {
   "cell_type": "code",
   "execution_count": 140,
   "id": "ba1ec1a6",
   "metadata": {},
   "outputs": [
    {
     "data": {
      "text/plain": [
       "(1, 2, 3, 4, 5, 6)"
      ]
     },
     "execution_count": 140,
     "metadata": {},
     "output_type": "execute_result"
    }
   ],
   "source": [
    "(1,2,3)+(4,5,6)"
   ]
  },
  {
   "cell_type": "code",
   "execution_count": 143,
   "id": "246fdf18",
   "metadata": {},
   "outputs": [
    {
     "data": {
      "text/plain": [
       "(1, 2, 3, 4, 5)"
      ]
     },
     "execution_count": 143,
     "metadata": {},
     "output_type": "execute_result"
    }
   ],
   "source": [
    "(1,2,3)+(4,5)"
   ]
  },
  {
   "cell_type": "code",
   "execution_count": 146,
   "id": "6908b46c",
   "metadata": {},
   "outputs": [],
   "source": [
    "t1 = (1,2,3)\n",
    "# 튜플은 값의 변경을 허용하지 않는다.\n"
   ]
  },
  {
   "cell_type": "code",
   "execution_count": 147,
   "id": "494be4f2",
   "metadata": {},
   "outputs": [],
   "source": [
    "n = 1,2,3\n",
    "# t1.count()\n",
    "# t1.index()"
   ]
  },
  {
   "cell_type": "code",
   "execution_count": 151,
   "id": "910d7b9e",
   "metadata": {},
   "outputs": [
    {
     "name": "stdout",
     "output_type": "stream",
     "text": [
      "['홍대', '대학로']\n"
     ]
    }
   ],
   "source": [
    "spot=['명동','가로수길','홍대','대학로']\n",
    "select= spot[2:] #[2:4]\n",
    "print(select)"
   ]
  },
  {
   "cell_type": "code",
   "execution_count": 152,
   "id": "a78321fe",
   "metadata": {},
   "outputs": [
    {
     "name": "stdout",
     "output_type": "stream",
     "text": [
      "[40, 50, 70]\n"
     ]
    }
   ],
   "source": [
    "num=[50,30,70,40]\n",
    "\n",
    "# num.pop(1)\n",
    "num.remove(30)\n",
    "\n",
    "num.sort()\n",
    "\n",
    "print(num)"
   ]
  },
  {
   "cell_type": "code",
   "execution_count": 161,
   "id": "653afaa8",
   "metadata": {},
   "outputs": [
    {
     "name": "stdout",
     "output_type": "stream",
     "text": [
      "['홍일동', '홍이동', '홍삼동']\n",
      "['홍일동', '홍이동', '홍삼동', '홍사동']\n",
      "['홍일동', '홍이동', '홍이동', '홍삼동', '홍사동']\n",
      "2\n",
      "['홍사동', '홍삼동', '홍이동', '홍이동', '홍일동']\n",
      "['홍사동', '홍삼동', '홍이동', '홍이동']\n",
      "['홍이동', '홍이동', '홍삼동', '홍사동']\n",
      "4\n"
     ]
    }
   ],
   "source": [
    "hong = ['홍일동','홍이동','홍삼동']\n",
    "print(hong)\n",
    "\n",
    "hong.append('홍사동')\n",
    "print(hong)\n",
    "\n",
    "hong.insert(2,'홍이동')\n",
    "print(hong)\n",
    "\n",
    "print(hong.count('홍이동'))\n",
    "\n",
    "hong.reverse()\n",
    "print(hong)\n",
    "\n",
    "hong.remove('홍일동') #pop\n",
    "print(hong)\n",
    "\n",
    "hong.sort()\n",
    "hong.reverse()\n",
    "print(hong)\n",
    "\n",
    "print(len(hong))"
   ]
  },
  {
   "cell_type": "markdown",
   "id": "0d989089",
   "metadata": {},
   "source": [
    "# 기말고사 범위"
   ]
  },
  {
   "cell_type": "code",
   "execution_count": 3,
   "id": "476ff699",
   "metadata": {},
   "outputs": [],
   "source": [
    "# 리스트, 튜플\n",
    "# 딕셔너리, 집합\n",
    "# 연습문제, 도전문제"
   ]
  },
  {
   "cell_type": "code",
   "execution_count": 4,
   "id": "9e13dcd9",
   "metadata": {},
   "outputs": [
    {
     "data": {
      "text/plain": [
       "[0, 1, 2, 3]"
      ]
     },
     "execution_count": 4,
     "metadata": {},
     "output_type": "execute_result"
    }
   ],
   "source": [
    "l1 = [1,2,3]\n",
    "l1.insert(0,0)\n",
    "l1"
   ]
  },
  {
   "cell_type": "code",
   "execution_count": 5,
   "id": "b49b89c4",
   "metadata": {},
   "outputs": [
    {
     "data": {
      "text/plain": [
       "[0, 1, 2, 3, 4, 5]"
      ]
     },
     "execution_count": 5,
     "metadata": {},
     "output_type": "execute_result"
    }
   ],
   "source": [
    "l1.extend([4,5])\n",
    "l1"
   ]
  },
  {
   "cell_type": "code",
   "execution_count": 6,
   "id": "3cef54af",
   "metadata": {},
   "outputs": [
    {
     "data": {
      "text/plain": [
       "[0, 1, 2, 3, 4, 5, 6]"
      ]
     },
     "execution_count": 6,
     "metadata": {},
     "output_type": "execute_result"
    }
   ],
   "source": [
    "l1.append(6)\n",
    "l1"
   ]
  },
  {
   "cell_type": "code",
   "execution_count": 7,
   "id": "799c9f79",
   "metadata": {},
   "outputs": [
    {
     "data": {
      "text/plain": [
       "6"
      ]
     },
     "execution_count": 7,
     "metadata": {},
     "output_type": "execute_result"
    }
   ],
   "source": [
    "l1.pop()"
   ]
  },
  {
   "cell_type": "code",
   "execution_count": 8,
   "id": "d49e6878",
   "metadata": {},
   "outputs": [
    {
     "data": {
      "text/plain": [
       "[0, 1, 2, 3, 4, 5]"
      ]
     },
     "execution_count": 8,
     "metadata": {},
     "output_type": "execute_result"
    }
   ],
   "source": [
    "l1"
   ]
  },
  {
   "cell_type": "code",
   "execution_count": 9,
   "id": "8b88977a",
   "metadata": {},
   "outputs": [
    {
     "data": {
      "text/plain": [
       "[0, 1, 2, 4, 5]"
      ]
     },
     "execution_count": 9,
     "metadata": {},
     "output_type": "execute_result"
    }
   ],
   "source": [
    "l1.remove(3)\n",
    "l1"
   ]
  },
  {
   "cell_type": "code",
   "execution_count": 10,
   "id": "4005d45b",
   "metadata": {},
   "outputs": [
    {
     "data": {
      "text/plain": [
       "[1, 2, 4, 5]"
      ]
     },
     "execution_count": 10,
     "metadata": {},
     "output_type": "execute_result"
    }
   ],
   "source": [
    "l1.pop(0)\n",
    "l1"
   ]
  },
  {
   "cell_type": "code",
   "execution_count": 11,
   "id": "9a36a7b6",
   "metadata": {},
   "outputs": [
    {
     "data": {
      "text/plain": [
       "1"
      ]
     },
     "execution_count": 11,
     "metadata": {},
     "output_type": "execute_result"
    }
   ],
   "source": [
    "l1.count(4)"
   ]
  },
  {
   "cell_type": "code",
   "execution_count": 12,
   "id": "374e87fd",
   "metadata": {},
   "outputs": [
    {
     "data": {
      "text/plain": [
       "[5, 4, 2, 1]"
      ]
     },
     "execution_count": 12,
     "metadata": {},
     "output_type": "execute_result"
    }
   ],
   "source": [
    "l1.reverse()\n",
    "l1"
   ]
  },
  {
   "cell_type": "code",
   "execution_count": 13,
   "id": "4b1fd8fe",
   "metadata": {},
   "outputs": [
    {
     "data": {
      "text/plain": [
       "[1, 2, 4, 5]"
      ]
     },
     "execution_count": 13,
     "metadata": {},
     "output_type": "execute_result"
    }
   ],
   "source": [
    "l1.sort()\n",
    "l1"
   ]
  },
  {
   "cell_type": "code",
   "execution_count": 14,
   "id": "728e59eb",
   "metadata": {},
   "outputs": [],
   "source": [
    "l2 = l1  #얕은복사\n",
    "l2.append(6)"
   ]
  },
  {
   "cell_type": "code",
   "execution_count": 15,
   "id": "b7feed5e",
   "metadata": {},
   "outputs": [
    {
     "data": {
      "text/plain": [
       "[1, 2, 4, 5, 6]"
      ]
     },
     "execution_count": 15,
     "metadata": {},
     "output_type": "execute_result"
    }
   ],
   "source": [
    "l2"
   ]
  },
  {
   "cell_type": "code",
   "execution_count": 16,
   "id": "0222844a",
   "metadata": {},
   "outputs": [
    {
     "data": {
      "text/plain": [
       "[1, 2, 4, 5, 6]"
      ]
     },
     "execution_count": 16,
     "metadata": {},
     "output_type": "execute_result"
    }
   ],
   "source": [
    "l1"
   ]
  },
  {
   "cell_type": "code",
   "execution_count": 17,
   "id": "729203cb",
   "metadata": {},
   "outputs": [
    {
     "data": {
      "text/plain": [
       "[1, 2, 4, 5, 6]"
      ]
     },
     "execution_count": 17,
     "metadata": {},
     "output_type": "execute_result"
    }
   ],
   "source": [
    "l3 = l1.copy()\n",
    "l3"
   ]
  },
  {
   "cell_type": "code",
   "execution_count": 18,
   "id": "60b78669",
   "metadata": {},
   "outputs": [
    {
     "data": {
      "text/plain": [
       "0"
      ]
     },
     "execution_count": 18,
     "metadata": {},
     "output_type": "execute_result"
    }
   ],
   "source": [
    "l1.index(1)"
   ]
  },
  {
   "cell_type": "code",
   "execution_count": 19,
   "id": "287b718e",
   "metadata": {},
   "outputs": [
    {
     "data": {
      "text/plain": [
       "(1, 2, 3, 1, 2, 3)"
      ]
     },
     "execution_count": 19,
     "metadata": {},
     "output_type": "execute_result"
    }
   ],
   "source": [
    "t1 = (1,2,3)\n",
    "t1 *2"
   ]
  },
  {
   "cell_type": "code",
   "execution_count": 20,
   "id": "e0a65314",
   "metadata": {},
   "outputs": [
    {
     "data": {
      "text/plain": [
       "(1, 2, 3, 4, 5, 6)"
      ]
     },
     "execution_count": 20,
     "metadata": {},
     "output_type": "execute_result"
    }
   ],
   "source": [
    "t1 + (4,5,6)"
   ]
  },
  {
   "cell_type": "code",
   "execution_count": 21,
   "id": "e7463610",
   "metadata": {},
   "outputs": [
    {
     "data": {
      "text/plain": [
       "(1, 2, 3)"
      ]
     },
     "execution_count": 21,
     "metadata": {},
     "output_type": "execute_result"
    }
   ],
   "source": [
    "t1"
   ]
  },
  {
   "cell_type": "code",
   "execution_count": 22,
   "id": "0a3b22e3",
   "metadata": {},
   "outputs": [
    {
     "data": {
      "text/plain": [
       "1"
      ]
     },
     "execution_count": 22,
     "metadata": {},
     "output_type": "execute_result"
    }
   ],
   "source": [
    "t1[0]"
   ]
  },
  {
   "cell_type": "code",
   "execution_count": 23,
   "id": "437e6c51",
   "metadata": {},
   "outputs": [
    {
     "ename": "TypeError",
     "evalue": "'tuple' object does not support item assignment",
     "output_type": "error",
     "traceback": [
      "\u001b[1;31m---------------------------------------------------------------------------\u001b[0m",
      "\u001b[1;31mTypeError\u001b[0m                                 Traceback (most recent call last)",
      "\u001b[1;32m<ipython-input-23-ef167de23bdc>\u001b[0m in \u001b[0;36m<module>\u001b[1;34m\u001b[0m\n\u001b[1;32m----> 1\u001b[1;33m \u001b[0mt1\u001b[0m\u001b[1;33m[\u001b[0m\u001b[1;36m0\u001b[0m\u001b[1;33m]\u001b[0m \u001b[1;33m=\u001b[0m \u001b[1;36m3\u001b[0m\u001b[1;33m\u001b[0m\u001b[1;33m\u001b[0m\u001b[0m\n\u001b[0m",
      "\u001b[1;31mTypeError\u001b[0m: 'tuple' object does not support item assignment"
     ]
    }
   ],
   "source": [
    "t1[0] = 3"
   ]
  },
  {
   "cell_type": "code",
   "execution_count": 24,
   "id": "92781823",
   "metadata": {},
   "outputs": [
    {
     "data": {
      "text/plain": [
       "{'충민': 4344, '용빈': 187}"
      ]
     },
     "execution_count": 24,
     "metadata": {},
     "output_type": "execute_result"
    }
   ],
   "source": [
    "# 딕셔너리 (dictionary) - dict(), {}\n",
    "# key와 value로 쌍을 이룬다.\n",
    "d1 = {'충민':4344, '용빈':187}\n",
    "d1"
   ]
  },
  {
   "cell_type": "code",
   "execution_count": 26,
   "id": "1471d5f7",
   "metadata": {},
   "outputs": [
    {
     "data": {
      "text/plain": [
       "{'love': '사랑', 'alchol': '참이슬', 'money': '돈', 'tech': '기술', 'believe in': '믿다'}"
      ]
     },
     "execution_count": 26,
     "metadata": {},
     "output_type": "execute_result"
    }
   ],
   "source": [
    "d2 = {'love': '사랑', 'alchol':'참이슬' , 'money':'돈', 'tech':'기술', 'believe in':'믿다'}\n",
    "d2"
   ]
  },
  {
   "cell_type": "code",
   "execution_count": 27,
   "id": "a518b9c7",
   "metadata": {},
   "outputs": [
    {
     "data": {
      "text/plain": [
       "dict"
      ]
     },
     "execution_count": 27,
     "metadata": {},
     "output_type": "execute_result"
    }
   ],
   "source": [
    "type(d2)"
   ]
  },
  {
   "cell_type": "code",
   "execution_count": 28,
   "id": "4b8daa90",
   "metadata": {},
   "outputs": [
    {
     "data": {
      "text/plain": [
       "5"
      ]
     },
     "execution_count": 28,
     "metadata": {},
     "output_type": "execute_result"
    }
   ],
   "source": [
    "len(d2)"
   ]
  },
  {
   "cell_type": "code",
   "execution_count": 29,
   "id": "868e4af6",
   "metadata": {},
   "outputs": [
    {
     "data": {
      "text/plain": [
       "'사랑'"
      ]
     },
     "execution_count": 29,
     "metadata": {},
     "output_type": "execute_result"
    }
   ],
   "source": [
    "d2['love']"
   ]
  },
  {
   "cell_type": "code",
   "execution_count": 32,
   "id": "dbe7c68b",
   "metadata": {},
   "outputs": [
    {
     "data": {
      "text/plain": [
       "'돈'"
      ]
     },
     "execution_count": 32,
     "metadata": {},
     "output_type": "execute_result"
    }
   ],
   "source": [
    "d2['money']"
   ]
  },
  {
   "cell_type": "code",
   "execution_count": 34,
   "id": "8a5c4c67",
   "metadata": {},
   "outputs": [
    {
     "data": {
      "text/plain": [
       "{'love': '사랑',\n",
       " 'alchol': '좋은데이',\n",
       " 'money': '돈',\n",
       " 'tech': '기술',\n",
       " 'believe in': '믿다'}"
      ]
     },
     "execution_count": 34,
     "metadata": {},
     "output_type": "execute_result"
    }
   ],
   "source": [
    "d2['alchol'] = '좋은데이'\n",
    "d2"
   ]
  },
  {
   "cell_type": "code",
   "execution_count": 37,
   "id": "1ea167d2",
   "metadata": {},
   "outputs": [
    {
     "data": {
      "text/plain": [
       "dict_keys(['love', 'alchol', 'money', 'tech', 'believe in'])"
      ]
     },
     "execution_count": 37,
     "metadata": {},
     "output_type": "execute_result"
    }
   ],
   "source": [
    "# keys, values, items, clear, pop, get\n",
    "d2.keys()"
   ]
  },
  {
   "cell_type": "code",
   "execution_count": 38,
   "id": "a3984fe6",
   "metadata": {},
   "outputs": [
    {
     "data": {
      "text/plain": [
       "['love', 'alchol', 'money', 'tech', 'believe in']"
      ]
     },
     "execution_count": 38,
     "metadata": {},
     "output_type": "execute_result"
    }
   ],
   "source": [
    "l1 = list(d2.keys())\n",
    "l1"
   ]
  },
  {
   "cell_type": "code",
   "execution_count": 39,
   "id": "9ddf5596",
   "metadata": {},
   "outputs": [
    {
     "data": {
      "text/plain": [
       "'love'"
      ]
     },
     "execution_count": 39,
     "metadata": {},
     "output_type": "execute_result"
    }
   ],
   "source": [
    "l1[0]"
   ]
  },
  {
   "cell_type": "code",
   "execution_count": 41,
   "id": "6bfcd18d",
   "metadata": {},
   "outputs": [
    {
     "data": {
      "text/plain": [
       "dict_values(['사랑', '좋은데이', '돈', '기술', '믿다'])"
      ]
     },
     "execution_count": 41,
     "metadata": {},
     "output_type": "execute_result"
    }
   ],
   "source": [
    "d2.values()"
   ]
  },
  {
   "cell_type": "code",
   "execution_count": 42,
   "id": "1227aed3",
   "metadata": {},
   "outputs": [
    {
     "data": {
      "text/plain": [
       "['사랑', '좋은데이', '돈', '기술', '믿다']"
      ]
     },
     "execution_count": 42,
     "metadata": {},
     "output_type": "execute_result"
    }
   ],
   "source": [
    "l2 = list(d2.values())\n",
    "l2"
   ]
  },
  {
   "cell_type": "code",
   "execution_count": 43,
   "id": "d2ffcf47",
   "metadata": {},
   "outputs": [
    {
     "data": {
      "text/plain": [
       "'돈'"
      ]
     },
     "execution_count": 43,
     "metadata": {},
     "output_type": "execute_result"
    }
   ],
   "source": [
    "l2[2]"
   ]
  },
  {
   "cell_type": "code",
   "execution_count": 44,
   "id": "116ba0b1",
   "metadata": {},
   "outputs": [
    {
     "data": {
      "text/plain": [
       "dict_items([('love', '사랑'), ('alchol', '좋은데이'), ('money', '돈'), ('tech', '기술'), ('believe in', '믿다')])"
      ]
     },
     "execution_count": 44,
     "metadata": {},
     "output_type": "execute_result"
    }
   ],
   "source": [
    "d2.items()  # key와 vlaue 의 쌍을 튜플로 묶은 값을 반환"
   ]
  },
  {
   "cell_type": "code",
   "execution_count": 45,
   "id": "bf1927f5",
   "metadata": {},
   "outputs": [
    {
     "ename": "TypeError",
     "evalue": "pop expected at least 1 argument, got 0",
     "output_type": "error",
     "traceback": [
      "\u001b[1;31m---------------------------------------------------------------------------\u001b[0m",
      "\u001b[1;31mTypeError\u001b[0m                                 Traceback (most recent call last)",
      "\u001b[1;32m<ipython-input-45-3634e8f77060>\u001b[0m in \u001b[0;36m<module>\u001b[1;34m\u001b[0m\n\u001b[1;32m----> 1\u001b[1;33m \u001b[0md2\u001b[0m\u001b[1;33m.\u001b[0m\u001b[0mpop\u001b[0m\u001b[1;33m(\u001b[0m\u001b[1;33m)\u001b[0m\u001b[1;33m\u001b[0m\u001b[1;33m\u001b[0m\u001b[0m\n\u001b[0m",
      "\u001b[1;31mTypeError\u001b[0m: pop expected at least 1 argument, got 0"
     ]
    }
   ],
   "source": [
    "d2.pop()"
   ]
  },
  {
   "cell_type": "code",
   "execution_count": 46,
   "id": "c0aadb91",
   "metadata": {},
   "outputs": [
    {
     "data": {
      "text/plain": [
       "'좋은데이'"
      ]
     },
     "execution_count": 46,
     "metadata": {},
     "output_type": "execute_result"
    }
   ],
   "source": [
    "d2.pop('alchol')  # key와 value 한 쌍을 제거"
   ]
  },
  {
   "cell_type": "code",
   "execution_count": 47,
   "id": "3c5dc400",
   "metadata": {},
   "outputs": [
    {
     "data": {
      "text/plain": [
       "{'love': '사랑', 'money': '돈', 'tech': '기술', 'believe in': '믿다'}"
      ]
     },
     "execution_count": 47,
     "metadata": {},
     "output_type": "execute_result"
    }
   ],
   "source": []
  },
  {
   "cell_type": "code",
   "execution_count": 48,
   "id": "1584eeb0",
   "metadata": {},
   "outputs": [
    {
     "ename": "KeyError",
     "evalue": "'사랑'",
     "output_type": "error",
     "traceback": [
      "\u001b[1;31m---------------------------------------------------------------------------\u001b[0m",
      "\u001b[1;31mKeyError\u001b[0m                                  Traceback (most recent call last)",
      "\u001b[1;32m<ipython-input-48-6b279ff8e931>\u001b[0m in \u001b[0;36m<module>\u001b[1;34m\u001b[0m\n\u001b[1;32m----> 1\u001b[1;33m \u001b[0md2\u001b[0m\u001b[1;33m.\u001b[0m\u001b[0mpop\u001b[0m\u001b[1;33m(\u001b[0m\u001b[1;34m'사랑'\u001b[0m\u001b[1;33m)\u001b[0m\u001b[1;33m\u001b[0m\u001b[1;33m\u001b[0m\u001b[0m\n\u001b[0m",
      "\u001b[1;31mKeyError\u001b[0m: '사랑'"
     ]
    }
   ],
   "source": [
    "d2.pop('사랑') # value 값을 넣으면 에러 -> key값으로만 사용가능"
   ]
  },
  {
   "cell_type": "code",
   "execution_count": 49,
   "id": "f45051c3",
   "metadata": {},
   "outputs": [
    {
     "data": {
      "text/plain": [
       "'사랑'"
      ]
     },
     "execution_count": 49,
     "metadata": {},
     "output_type": "execute_result"
    }
   ],
   "source": [
    "d2['love']"
   ]
  },
  {
   "cell_type": "code",
   "execution_count": 50,
   "id": "8425167f",
   "metadata": {},
   "outputs": [
    {
     "ename": "KeyError",
     "evalue": "'healthy'",
     "output_type": "error",
     "traceback": [
      "\u001b[1;31m---------------------------------------------------------------------------\u001b[0m",
      "\u001b[1;31mKeyError\u001b[0m                                  Traceback (most recent call last)",
      "\u001b[1;32m<ipython-input-50-eb5e6ebbb20d>\u001b[0m in \u001b[0;36m<module>\u001b[1;34m\u001b[0m\n\u001b[1;32m----> 1\u001b[1;33m \u001b[0md2\u001b[0m\u001b[1;33m[\u001b[0m\u001b[1;34m'healthy'\u001b[0m\u001b[1;33m]\u001b[0m\u001b[1;33m\u001b[0m\u001b[1;33m\u001b[0m\u001b[0m\n\u001b[0m",
      "\u001b[1;31mKeyError\u001b[0m: 'healthy'"
     ]
    }
   ],
   "source": [
    "d2['healthy']  #없는 키 값을 입력하면 에러  -> KeyError"
   ]
  },
  {
   "cell_type": "code",
   "execution_count": 51,
   "id": "5bb61179",
   "metadata": {},
   "outputs": [
    {
     "data": {
      "text/plain": [
       "{'love': '사랑', 'money': '돈', 'tech': '기술', 'believe in': '믿다', 'healthy': '건강'}"
      ]
     },
     "execution_count": 51,
     "metadata": {},
     "output_type": "execute_result"
    }
   ],
   "source": [
    "d2['healthy'] = '건강'\n",
    "d2"
   ]
  },
  {
   "cell_type": "code",
   "execution_count": 53,
   "id": "7035a414",
   "metadata": {},
   "outputs": [
    {
     "data": {
      "text/plain": [
       "{'love': '사랑',\n",
       " 'money': '돈',\n",
       " 'tech': '기술',\n",
       " 'believe in': '믿다',\n",
       " 'healthy': '건강',\n",
       " 'family': '가족'}"
      ]
     },
     "execution_count": 53,
     "metadata": {},
     "output_type": "execute_result"
    }
   ],
   "source": [
    "d2['family'] = '가족'\n",
    "d2"
   ]
  },
  {
   "cell_type": "code",
   "execution_count": 54,
   "id": "cb5d6b9a",
   "metadata": {},
   "outputs": [
    {
     "name": "stdout",
     "output_type": "stream",
     "text": [
      "12\n"
     ]
    },
    {
     "ename": "KeyError",
     "evalue": "'mind'",
     "output_type": "error",
     "traceback": [
      "\u001b[1;31m---------------------------------------------------------------------------\u001b[0m",
      "\u001b[1;31mKeyError\u001b[0m                                  Traceback (most recent call last)",
      "\u001b[1;32m<ipython-input-54-de851b0936cb>\u001b[0m in \u001b[0;36m<module>\u001b[1;34m\u001b[0m\n\u001b[0;32m      1\u001b[0m \u001b[0mprint\u001b[0m\u001b[1;33m(\u001b[0m\u001b[1;36m3\u001b[0m\u001b[1;33m*\u001b[0m\u001b[1;36m4\u001b[0m\u001b[1;33m)\u001b[0m\u001b[1;33m\u001b[0m\u001b[1;33m\u001b[0m\u001b[0m\n\u001b[1;32m----> 2\u001b[1;33m \u001b[0md2\u001b[0m\u001b[1;33m[\u001b[0m\u001b[1;34m'mind'\u001b[0m\u001b[1;33m]\u001b[0m\u001b[1;33m\u001b[0m\u001b[1;33m\u001b[0m\u001b[0m\n\u001b[0m\u001b[0;32m      3\u001b[0m \u001b[0mprint\u001b[0m\u001b[1;33m(\u001b[0m\u001b[1;36m4\u001b[0m\u001b[1;33m*\u001b[0m\u001b[1;36m5\u001b[0m\u001b[1;33m)\u001b[0m\u001b[1;33m\u001b[0m\u001b[1;33m\u001b[0m\u001b[0m\n",
      "\u001b[1;31mKeyError\u001b[0m: 'mind'"
     ]
    }
   ],
   "source": [
    "print(3*4)\n",
    "d2['mind']\n",
    "print(4*5)"
   ]
  },
  {
   "cell_type": "code",
   "execution_count": 60,
   "id": "9acc85a2",
   "metadata": {},
   "outputs": [
    {
     "name": "stdout",
     "output_type": "stream",
     "text": [
      "12\n"
     ]
    },
    {
     "data": {
      "text/plain": [
       "'no'"
      ]
     },
     "execution_count": 60,
     "metadata": {},
     "output_type": "execute_result"
    }
   ],
   "source": [
    "print(3*4)\n",
    "# d2.get('family', 'no')\n",
    "d2.get('mind', 'no') # get -> 올바른 키 값을 입력하면 밸류값이 나오고, 존재하지않는 키값을 입력하면 '정해진 값' 출력"
   ]
  },
  {
   "cell_type": "code",
   "execution_count": 63,
   "id": "32b8d448",
   "metadata": {},
   "outputs": [
    {
     "data": {
      "text/plain": [
       "'없음'"
      ]
     },
     "execution_count": 63,
     "metadata": {},
     "output_type": "execute_result"
    }
   ],
   "source": [
    "d2.get('mind', '없음')  # -> 에러를 발생시키지 않고, 해당명령어가 실행되었는지 확인할 때 사용"
   ]
  },
  {
   "cell_type": "code",
   "execution_count": 64,
   "id": "9ec27f35",
   "metadata": {},
   "outputs": [
    {
     "data": {
      "text/plain": [
       "{}"
      ]
     },
     "execution_count": 64,
     "metadata": {},
     "output_type": "execute_result"
    }
   ],
   "source": [
    "d2.clear()\n",
    "d2"
   ]
  },
  {
   "cell_type": "code",
   "execution_count": 66,
   "id": "4642a315",
   "metadata": {},
   "outputs": [
    {
     "data": {
      "text/plain": [
       "{'man': '사람'}"
      ]
     },
     "execution_count": 66,
     "metadata": {},
     "output_type": "execute_result"
    }
   ],
   "source": [
    "d2['man'] = '사람'\n",
    "d2"
   ]
  },
  {
   "cell_type": "code",
   "execution_count": 67,
   "id": "b7fbac8e",
   "metadata": {},
   "outputs": [
    {
     "data": {
      "text/plain": [
       "[]"
      ]
     },
     "execution_count": 67,
     "metadata": {},
     "output_type": "execute_result"
    }
   ],
   "source": [
    "d3 = []\n",
    "d3"
   ]
  },
  {
   "cell_type": "code",
   "execution_count": 68,
   "id": "289fdca5",
   "metadata": {},
   "outputs": [
    {
     "data": {
      "text/plain": [
       "{}"
      ]
     },
     "execution_count": 68,
     "metadata": {},
     "output_type": "execute_result"
    }
   ],
   "source": [
    "d4 = dict()\n",
    "d4"
   ]
  },
  {
   "cell_type": "code",
   "execution_count": 69,
   "id": "6812edfc",
   "metadata": {},
   "outputs": [
    {
     "data": {
      "text/plain": [
       "{}"
      ]
     },
     "execution_count": 69,
     "metadata": {},
     "output_type": "execute_result"
    }
   ],
   "source": [
    "d5 = {}\n",
    "d5"
   ]
  },
  {
   "cell_type": "code",
   "execution_count": 70,
   "id": "1ee0ec97",
   "metadata": {},
   "outputs": [
    {
     "data": {
      "text/plain": [
       "{'key': 'value'}"
      ]
     },
     "execution_count": 70,
     "metadata": {},
     "output_type": "execute_result"
    }
   ],
   "source": [
    "d4['key'] = 'value'\n",
    "d4"
   ]
  },
  {
   "cell_type": "code",
   "execution_count": 86,
   "id": "069006af",
   "metadata": {},
   "outputs": [
    {
     "ename": "SyntaxError",
     "evalue": "cannot assign to function call (<ipython-input-86-1c8d55303227>, line 1)",
     "output_type": "error",
     "traceback": [
      "\u001b[1;36m  File \u001b[1;32m\"<ipython-input-86-1c8d55303227>\"\u001b[1;36m, line \u001b[1;32m1\u001b[0m\n\u001b[1;33m    d4('keys') = 'values'\u001b[0m\n\u001b[1;37m    ^\u001b[0m\n\u001b[1;31mSyntaxError\u001b[0m\u001b[1;31m:\u001b[0m cannot assign to function call\n"
     ]
    }
   ],
   "source": [
    "d4('keys') = 'values'\n",
    "d4"
   ]
  },
  {
   "cell_type": "code",
   "execution_count": 72,
   "id": "47e1ee1f",
   "metadata": {},
   "outputs": [
    {
     "name": "stdout",
     "output_type": "stream",
     "text": [
      "<class 'list'> <class 'dict'> <class 'dict'>\n"
     ]
    }
   ],
   "source": [
    "print(type(d3),type(d4),type(d5))"
   ]
  },
  {
   "cell_type": "code",
   "execution_count": 73,
   "id": "1038e2b6",
   "metadata": {},
   "outputs": [],
   "source": [
    "# 집합\n",
    "# set() - {10,20}\n",
    "\n",
    "# 중복되지 않는다.\n",
    "# 순서가 없다.\n"
   ]
  },
  {
   "cell_type": "code",
   "execution_count": 74,
   "id": "0a02fd8a",
   "metadata": {},
   "outputs": [
    {
     "data": {
      "text/plain": [
       "{10, 20, 30}"
      ]
     },
     "execution_count": 74,
     "metadata": {},
     "output_type": "execute_result"
    }
   ],
   "source": [
    "s = {10,20,30,20,10}\n",
    "s"
   ]
  },
  {
   "cell_type": "code",
   "execution_count": 75,
   "id": "226aef90",
   "metadata": {},
   "outputs": [
    {
     "data": {
      "text/plain": [
       "{1, 2, 3, 4, 12, 235}"
      ]
     },
     "execution_count": 75,
     "metadata": {},
     "output_type": "execute_result"
    }
   ],
   "source": [
    "b = [1,2,3,4,12,3,4,2,4,12,4,235,1]\n",
    "s1 = set(b) \n",
    "s1  # 중복되지 않는다"
   ]
  },
  {
   "cell_type": "code",
   "execution_count": 76,
   "id": "15fd74ad",
   "metadata": {},
   "outputs": [
    {
     "ename": "TypeError",
     "evalue": "'set' object is not subscriptable",
     "output_type": "error",
     "traceback": [
      "\u001b[1;31m---------------------------------------------------------------------------\u001b[0m",
      "\u001b[1;31mTypeError\u001b[0m                                 Traceback (most recent call last)",
      "\u001b[1;32m<ipython-input-76-bfed54b371ac>\u001b[0m in \u001b[0;36m<module>\u001b[1;34m\u001b[0m\n\u001b[1;32m----> 1\u001b[1;33m \u001b[0ms1\u001b[0m\u001b[1;33m[\u001b[0m\u001b[1;36m0\u001b[0m\u001b[1;33m]\u001b[0m\u001b[1;33m\u001b[0m\u001b[1;33m\u001b[0m\u001b[0m\n\u001b[0m",
      "\u001b[1;31mTypeError\u001b[0m: 'set' object is not subscriptable"
     ]
    }
   ],
   "source": [
    "s1[0] # 순서(index)가 없기때문에 에러"
   ]
  },
  {
   "cell_type": "code",
   "execution_count": 78,
   "id": "8c2192b8",
   "metadata": {},
   "outputs": [
    {
     "data": {
      "text/plain": [
       "{1, 3, 5}"
      ]
     },
     "execution_count": 78,
     "metadata": {},
     "output_type": "execute_result"
    }
   ],
   "source": [
    "a = {1,2,3,4,5}\n",
    "b = {1,3,5,7,9}\n",
    "# 교집합, 합집합, 차집합,         공집합\n",
    "\n",
    "a & b  # 교집합\n",
    "a.intersection(b)  # 암기할 필요는 없음"
   ]
  },
  {
   "cell_type": "code",
   "execution_count": 80,
   "id": "b279e574",
   "metadata": {},
   "outputs": [
    {
     "data": {
      "text/plain": [
       "{1, 2, 3, 4, 5, 7, 9}"
      ]
     },
     "execution_count": 80,
     "metadata": {},
     "output_type": "execute_result"
    }
   ],
   "source": [
    "# 합집합\n",
    "a | b \n",
    "a.union(b) # 몰라도됨"
   ]
  },
  {
   "cell_type": "code",
   "execution_count": 82,
   "id": "eb62d182",
   "metadata": {},
   "outputs": [
    {
     "data": {
      "text/plain": [
       "{2, 4}"
      ]
     },
     "execution_count": 82,
     "metadata": {},
     "output_type": "execute_result"
    }
   ],
   "source": [
    "# 차집합\n",
    "a - b\n",
    "a.difference(b) #몰라도됨"
   ]
  },
  {
   "cell_type": "code",
   "execution_count": 85,
   "id": "a72c94b8",
   "metadata": {},
   "outputs": [
    {
     "data": {
      "text/plain": [
       "{7, 9}"
      ]
     },
     "execution_count": 85,
     "metadata": {},
     "output_type": "execute_result"
    }
   ],
   "source": [
    "b - a"
   ]
  },
  {
   "cell_type": "code",
   "execution_count": 83,
   "id": "21dc7406",
   "metadata": {},
   "outputs": [
    {
     "data": {
      "text/plain": [
       "{1, 2, 3, 4, 5}"
      ]
     },
     "execution_count": 83,
     "metadata": {},
     "output_type": "execute_result"
    }
   ],
   "source": [
    "a"
   ]
  },
  {
   "cell_type": "code",
   "execution_count": 84,
   "id": "fd4ada02",
   "metadata": {},
   "outputs": [
    {
     "data": {
      "text/plain": [
       "set"
      ]
     },
     "execution_count": 84,
     "metadata": {},
     "output_type": "execute_result"
    }
   ],
   "source": [
    "type(a)"
   ]
  },
  {
   "cell_type": "code",
   "execution_count": 87,
   "id": "ad199dd5",
   "metadata": {},
   "outputs": [
    {
     "data": {
      "text/plain": [
       "{1, 2, 3, 4, 5}"
      ]
     },
     "execution_count": 87,
     "metadata": {},
     "output_type": "execute_result"
    }
   ],
   "source": [
    "# add, update,   remove, clear,      pop\n",
    "a.add(3)\n",
    "a"
   ]
  },
  {
   "cell_type": "code",
   "execution_count": 88,
   "id": "25c891e3",
   "metadata": {},
   "outputs": [
    {
     "data": {
      "text/plain": [
       "{1, 2, 3, 4, 5, 6}"
      ]
     },
     "execution_count": 88,
     "metadata": {},
     "output_type": "execute_result"
    }
   ],
   "source": [
    "a.add(6)\n",
    "a"
   ]
  },
  {
   "cell_type": "code",
   "execution_count": 89,
   "id": "5d6fc0a2",
   "metadata": {},
   "outputs": [
    {
     "data": {
      "text/plain": [
       "{0, 1, 2, 3, 4, 5, 6}"
      ]
     },
     "execution_count": 89,
     "metadata": {},
     "output_type": "execute_result"
    }
   ],
   "source": [
    "a.add(0)\n",
    "a"
   ]
  },
  {
   "cell_type": "code",
   "execution_count": 90,
   "id": "8c64a2b9",
   "metadata": {},
   "outputs": [
    {
     "ename": "TypeError",
     "evalue": "'int' object is not iterable",
     "output_type": "error",
     "traceback": [
      "\u001b[1;31m---------------------------------------------------------------------------\u001b[0m",
      "\u001b[1;31mTypeError\u001b[0m                                 Traceback (most recent call last)",
      "\u001b[1;32m<ipython-input-90-0d1ea8450042>\u001b[0m in \u001b[0;36m<module>\u001b[1;34m\u001b[0m\n\u001b[1;32m----> 1\u001b[1;33m \u001b[0ma\u001b[0m\u001b[1;33m.\u001b[0m\u001b[0mupdate\u001b[0m\u001b[1;33m(\u001b[0m\u001b[1;36m7\u001b[0m\u001b[1;33m,\u001b[0m\u001b[1;36m8\u001b[0m\u001b[1;33m)\u001b[0m\u001b[1;33m\u001b[0m\u001b[1;33m\u001b[0m\u001b[0m\n\u001b[0m\u001b[0;32m      2\u001b[0m \u001b[0ma\u001b[0m\u001b[1;33m\u001b[0m\u001b[1;33m\u001b[0m\u001b[0m\n",
      "\u001b[1;31mTypeError\u001b[0m: 'int' object is not iterable"
     ]
    }
   ],
   "source": [
    "a.update(7,8)\n",
    "a"
   ]
  },
  {
   "cell_type": "code",
   "execution_count": 91,
   "id": "63e92a5c",
   "metadata": {},
   "outputs": [
    {
     "data": {
      "text/plain": [
       "{0, 1, 2, 3, 4, 5, 6, 7, 8}"
      ]
     },
     "execution_count": 91,
     "metadata": {},
     "output_type": "execute_result"
    }
   ],
   "source": [
    "a.update([7,8])\n",
    "a"
   ]
  },
  {
   "cell_type": "code",
   "execution_count": 92,
   "id": "16c37012",
   "metadata": {},
   "outputs": [
    {
     "data": {
      "text/plain": [
       "{0, 1, 2, 3, 4, 5, 6, 7}"
      ]
     },
     "execution_count": 92,
     "metadata": {},
     "output_type": "execute_result"
    }
   ],
   "source": [
    "a.remove(8)\n",
    "a"
   ]
  },
  {
   "cell_type": "code",
   "execution_count": 94,
   "id": "be67a866",
   "metadata": {},
   "outputs": [
    {
     "data": {
      "text/plain": [
       "{2, 3, 4, 5, 6, 7}"
      ]
     },
     "execution_count": 94,
     "metadata": {},
     "output_type": "execute_result"
    }
   ],
   "source": [
    "a.pop()\n",
    "a       # 랜덤하게제거   , 잘사용안함"
   ]
  },
  {
   "cell_type": "code",
   "execution_count": 98,
   "id": "44bb67b5",
   "metadata": {},
   "outputs": [
    {
     "data": {
      "text/plain": [
       "set()"
      ]
     },
     "execution_count": 98,
     "metadata": {},
     "output_type": "execute_result"
    }
   ],
   "source": [
    "a.clear()\n",
    "a"
   ]
  },
  {
   "cell_type": "code",
   "execution_count": 99,
   "id": "44ff4163",
   "metadata": {},
   "outputs": [
    {
     "data": {
      "text/plain": [
       "[1, 2, 3, 4, 5]"
      ]
     },
     "execution_count": 99,
     "metadata": {},
     "output_type": "execute_result"
    }
   ],
   "source": [
    "a = list(range(1,6))\n",
    "a"
   ]
  },
  {
   "cell_type": "code",
   "execution_count": 100,
   "id": "a5238094",
   "metadata": {},
   "outputs": [
    {
     "data": {
      "text/plain": [
       "[0, 1, 2, 3, 4, 5]"
      ]
     },
     "execution_count": 100,
     "metadata": {},
     "output_type": "execute_result"
    }
   ],
   "source": [
    "a1 = list(range(6))\n",
    "a1"
   ]
  },
  {
   "cell_type": "code",
   "execution_count": 103,
   "id": "89743703",
   "metadata": {},
   "outputs": [
    {
     "data": {
      "text/plain": [
       "[40, 50, 70]"
      ]
     },
     "execution_count": 103,
     "metadata": {},
     "output_type": "execute_result"
    }
   ],
   "source": [
    "num=[50,30,70,40]\n",
    "num.sort()\n",
    "num.remove(30)\n",
    "num"
   ]
  },
  {
   "cell_type": "code",
   "execution_count": 110,
   "id": "548bb101",
   "metadata": {},
   "outputs": [
    {
     "name": "stdout",
     "output_type": "stream",
     "text": [
      "[100, 200, 300]\n",
      "['yang', 'jang', 'o']\n",
      "[(100, 'yang'), (200, 'jang'), (300, 'o')]\n",
      "jang\n",
      "jang\n",
      "{200: 'jang', 300: 'o'}\n"
     ]
    }
   ],
   "source": [
    "people = {100:'yang', 200:'jang', 300:'o'}\n",
    "print(list(people.keys()))\n",
    "print(list(people.values()))\n",
    "print(list(people.items()))\n",
    "\n",
    "print(people[200])\n",
    "print(people.get(200))  # 이렇게 하는것이 더 좋음\n",
    "\n",
    "del(people[100])\n",
    "# people.pop(100)  # 이렇게 하는것이 일반적\n",
    "\n",
    "print(people)"
   ]
  },
  {
   "cell_type": "code",
   "execution_count": 120,
   "id": "6b4aeda2",
   "metadata": {},
   "outputs": [
    {
     "name": "stdout",
     "output_type": "stream",
     "text": [
      "{'최재원': '010-1111-1234', '최지윤': '010-2222-1234', '김연수': '010-3333-1234', '김연우': '010-4444-1234', '김가현': '010-5555-1234', '김혜현': '010-6666-1234'}\n",
      "\n",
      "['최재원', '최지윤', '김연수', '김연우', '김가현', '김혜현']\n",
      "search name:김연우\n"
     ]
    },
    {
     "data": {
      "text/plain": [
       "'010-4444-1234'"
      ]
     },
     "execution_count": 120,
     "metadata": {},
     "output_type": "execute_result"
    }
   ],
   "source": [
    "addr = {}        # 딕셔너리\n",
    "\n",
    "addr['최재원'] = '010-1111-1234'\n",
    "addr['최지윤'] = '010-2222-1234'\n",
    "addr['김연수'] = '010-3333-1234'\n",
    "addr['김연우'] = '010-4444-1234'\n",
    "addr['김가현'] = '010-5555-1234'\n",
    "addr['김혜현'] = '010-6666-1234'\n",
    "\n",
    "print(addr)\n",
    "print()\n",
    "print(list(addr.keys()))\n",
    "name = input('search name:')\n",
    "addr.get(name, 'not Found')\n"
   ]
  },
  {
   "cell_type": "code",
   "execution_count": 121,
   "id": "90b12b2f",
   "metadata": {},
   "outputs": [
    {
     "data": {
      "text/plain": [
       "{'choi', 'hwang', 'kim', 'lee', 'park'}"
      ]
     },
     "execution_count": 121,
     "metadata": {},
     "output_type": "execute_result"
    }
   ],
   "source": [
    "clubA={'kim', 'park', 'hwang'}\n",
    "clubB={'park', 'lee', 'choi'}\n",
    "\n",
    "clubC= clubA | clubB\n",
    "clubC"
   ]
  },
  {
   "cell_type": "code",
   "execution_count": 122,
   "id": "d724a53d",
   "metadata": {},
   "outputs": [
    {
     "data": {
      "text/plain": [
       "{'park'}"
      ]
     },
     "execution_count": 122,
     "metadata": {},
     "output_type": "execute_result"
    }
   ],
   "source": [
    "clubA & clubB"
   ]
  },
  {
   "cell_type": "code",
   "execution_count": 123,
   "id": "d5ab684c",
   "metadata": {},
   "outputs": [
    {
     "data": {
      "text/plain": [
       "{'hwang', 'kim'}"
      ]
     },
     "execution_count": 123,
     "metadata": {},
     "output_type": "execute_result"
    }
   ],
   "source": [
    "clubA - clubB"
   ]
  },
  {
   "cell_type": "code",
   "execution_count": 124,
   "id": "92f31205",
   "metadata": {},
   "outputs": [
    {
     "data": {
      "text/plain": [
       "{'choi', 'lee'}"
      ]
     },
     "execution_count": 124,
     "metadata": {},
     "output_type": "execute_result"
    }
   ],
   "source": [
    "clubB - clubA"
   ]
  },
  {
   "cell_type": "code",
   "execution_count": 125,
   "id": "71a3552d",
   "metadata": {},
   "outputs": [
    {
     "data": {
      "text/plain": [
       "{'hwang', 'kim', 'park', 'yang'}"
      ]
     },
     "execution_count": 125,
     "metadata": {},
     "output_type": "execute_result"
    }
   ],
   "source": [
    "clubA.add('yang')\n",
    "clubA"
   ]
  },
  {
   "cell_type": "code",
   "execution_count": 126,
   "id": "d4040cce",
   "metadata": {},
   "outputs": [
    {
     "data": {
      "text/plain": [
       "{'choi', 'park'}"
      ]
     },
     "execution_count": 126,
     "metadata": {},
     "output_type": "execute_result"
    }
   ],
   "source": [
    "clubB.remove('lee')\n",
    "clubB"
   ]
  },
  {
   "cell_type": "code",
   "execution_count": 127,
   "id": "63ff216c",
   "metadata": {},
   "outputs": [
    {
     "name": "stdout",
     "output_type": "stream",
     "text": [
      "{'kim', 'yang', 'hwang', 'park'} {'choi', 'park'}\n"
     ]
    }
   ],
   "source": [
    "print(clubA,clubB)"
   ]
  },
  {
   "cell_type": "markdown",
   "id": "0c68c308",
   "metadata": {},
   "source": [
    "# 05-12"
   ]
  },
  {
   "cell_type": "code",
   "execution_count": 1,
   "id": "c705312c",
   "metadata": {},
   "outputs": [],
   "source": [
    "a = {'name':'박재영','키':190,'몸무게':80}"
   ]
  },
  {
   "cell_type": "code",
   "execution_count": 2,
   "id": "0a6fd946",
   "metadata": {},
   "outputs": [
    {
     "data": {
      "text/plain": [
       "dict_values(['박재영', 190, 80])"
      ]
     },
     "execution_count": 2,
     "metadata": {},
     "output_type": "execute_result"
    }
   ],
   "source": [
    "a.values()"
   ]
  },
  {
   "cell_type": "code",
   "execution_count": 3,
   "id": "ee56d531",
   "metadata": {},
   "outputs": [
    {
     "data": {
      "text/plain": [
       "['박재영', 190, 80]"
      ]
     },
     "execution_count": 3,
     "metadata": {},
     "output_type": "execute_result"
    }
   ],
   "source": [
    "list(a.values())"
   ]
  },
  {
   "cell_type": "code",
   "execution_count": 4,
   "id": "441d68f0",
   "metadata": {},
   "outputs": [
    {
     "data": {
      "text/plain": [
       "'박재영'"
      ]
     },
     "execution_count": 4,
     "metadata": {},
     "output_type": "execute_result"
    }
   ],
   "source": [
    "list(a.values())[0]"
   ]
  },
  {
   "cell_type": "code",
   "execution_count": 5,
   "id": "dbfd2a13",
   "metadata": {},
   "outputs": [
    {
     "data": {
      "text/plain": [
       "dict_items([('name', '박재영'), ('키', 190), ('몸무게', 80)])"
      ]
     },
     "execution_count": 5,
     "metadata": {},
     "output_type": "execute_result"
    }
   ],
   "source": [
    "a.items()"
   ]
  },
  {
   "cell_type": "code",
   "execution_count": 6,
   "id": "350641e5",
   "metadata": {},
   "outputs": [
    {
     "data": {
      "text/plain": [
       "190"
      ]
     },
     "execution_count": 6,
     "metadata": {},
     "output_type": "execute_result"
    }
   ],
   "source": [
    "a.get('키')"
   ]
  },
  {
   "cell_type": "code",
   "execution_count": 12,
   "id": "3318de7a",
   "metadata": {},
   "outputs": [
    {
     "ename": "TypeError",
     "evalue": "'dict' object is not callable",
     "output_type": "error",
     "traceback": [
      "\u001b[1;31m---------------------------------------------------------------------------\u001b[0m",
      "\u001b[1;31mTypeError\u001b[0m                                 Traceback (most recent call last)",
      "\u001b[1;32m<ipython-input-12-09041a866664>\u001b[0m in \u001b[0;36m<module>\u001b[1;34m\u001b[0m\n\u001b[1;32m----> 1\u001b[1;33m \u001b[0ma\u001b[0m\u001b[1;33m(\u001b[0m\u001b[1;34m'여자친구'\u001b[0m\u001b[1;33m)\u001b[0m\u001b[1;33m\u001b[0m\u001b[1;33m\u001b[0m\u001b[0m\n\u001b[0m",
      "\u001b[1;31mTypeError\u001b[0m: 'dict' object is not callable"
     ]
    }
   ],
   "source": [
    "a('여자친구')"
   ]
  },
  {
   "cell_type": "code",
   "execution_count": 9,
   "id": "346b1ffd",
   "metadata": {},
   "outputs": [
    {
     "data": {
      "text/plain": [
       "'없다'"
      ]
     },
     "execution_count": 9,
     "metadata": {},
     "output_type": "execute_result"
    }
   ],
   "source": [
    "a.get('여자친구','없다')"
   ]
  },
  {
   "cell_type": "markdown",
   "id": "5bc69657",
   "metadata": {},
   "source": [
    "# 6장 선택문"
   ]
  },
  {
   "cell_type": "code",
   "execution_count": 13,
   "id": "36cb9e27",
   "metadata": {},
   "outputs": [],
   "source": [
    "# 조건문\n",
    "# 조건식과 들여쓰기에 대한 개념"
   ]
  },
  {
   "cell_type": "code",
   "execution_count": 14,
   "id": "9a8a5775",
   "metadata": {},
   "outputs": [],
   "source": [
    "# 기본적인 파이썬에서의 조건문 템플릿\n",
    "# if 조건식:\n",
    "#     문장\n",
    "# 조건식이 만약 참이면, 아래의 문장을 실행하라."
   ]
  },
  {
   "cell_type": "code",
   "execution_count": 21,
   "id": "6a429cbf",
   "metadata": {},
   "outputs": [
    {
     "name": "stdout",
     "output_type": "stream",
     "text": [
      "숫자를 입력:3\n",
      "입력받은수는 양수\n",
      "입력받은 수: 3\n"
     ]
    }
   ],
   "source": [
    "num = int(input('숫자를 입력:'))\n",
    "if num > 0:\n",
    "    print('입력받은수는 양수')\n",
    "    print('입력받은 수:',num)       # 참인 값만 필요한 경우에도 else를 사용하여 값이없더라도(pass) 한번도 고민하는 것이 바람직함."
   ]
  },
  {
   "cell_type": "code",
   "execution_count": 23,
   "id": "dc922ec5",
   "metadata": {},
   "outputs": [
    {
     "ename": "IndentationError",
     "evalue": "unexpected indent (<ipython-input-23-9645c130b854>, line 4)",
     "output_type": "error",
     "traceback": [
      "\u001b[1;36m  File \u001b[1;32m\"<ipython-input-23-9645c130b854>\"\u001b[1;36m, line \u001b[1;32m4\u001b[0m\n\u001b[1;33m    print('입력받은 수:',num)\u001b[0m\n\u001b[1;37m    ^\u001b[0m\n\u001b[1;31mIndentationError\u001b[0m\u001b[1;31m:\u001b[0m unexpected indent\n"
     ]
    }
   ],
   "source": [
    "num = int(input('숫자를 입력:'))\n",
    "if num > 0:\n",
    " print('입력받은수는 양수')     # 조건문에서 들여쓰기는 일정하게 할 것 (공백4칸 권장)\n",
    "    print('입력받은 수:',num) "
   ]
  },
  {
   "cell_type": "code",
   "execution_count": 26,
   "id": "9dc7047f",
   "metadata": {},
   "outputs": [
    {
     "name": "stdout",
     "output_type": "stream",
     "text": [
      "숫자를 입력:3\n",
      "입력받은수는 양수\n",
      "입력받은 수: 3\n"
     ]
    }
   ],
   "source": [
    "num = int(input('숫자를 입력:'))\n",
    "if num > 0:\n",
    "    print('입력받은수는 양수')    \n",
    "print('입력받은 수:',num)          # 이렇게 출력하면 선택문과 상관없이 실행"
   ]
  },
  {
   "cell_type": "code",
   "execution_count": 27,
   "id": "837e68ae",
   "metadata": {},
   "outputs": [
    {
     "ename": "SyntaxError",
     "evalue": "invalid syntax (<ipython-input-27-8db40c46889d>, line 1)",
     "output_type": "error",
     "traceback": [
      "\u001b[1;36m  File \u001b[1;32m\"<ipython-input-27-8db40c46889d>\"\u001b[1;36m, line \u001b[1;32m1\u001b[0m\n\u001b[1;33m    if (num > 0) {\u001b[0m\n\u001b[1;37m                 ^\u001b[0m\n\u001b[1;31mSyntaxError\u001b[0m\u001b[1;31m:\u001b[0m invalid syntax\n"
     ]
    }
   ],
   "source": [
    "if (num > 0) {\n",
    "    print('입력받은 수는 양수')\n",
    "    print('입력받은 수:',num)\n",
    "} "
   ]
  },
  {
   "cell_type": "code",
   "execution_count": 31,
   "id": "33703271",
   "metadata": {},
   "outputs": [
    {
     "name": "stdout",
     "output_type": "stream",
     "text": [
      "숫자를 입력:-3\n",
      "입력받은수는 음수\n",
      "입력받은 수: -3\n"
     ]
    }
   ],
   "source": [
    "# if(만약 조건이 참이라면 ~) -else ( 그 외의 경우)\n",
    "# if 와 else는 반드시 둘 중 하나만 실행한다.\n",
    "# \n",
    "num = int(input('숫자를 입력:'))\n",
    "if num > 0:\n",
    "    print('입력받은수는 양수')\n",
    "    print('입력받은 수:',num)\n",
    "else :\n",
    "    print('입력받은수는 음수')\n",
    "    print('입력받은 수:',num)"
   ]
  },
  {
   "cell_type": "code",
   "execution_count": 36,
   "id": "791e7c83",
   "metadata": {},
   "outputs": [
    {
     "name": "stdout",
     "output_type": "stream",
     "text": [
      "숫자를 하나 입력하시오:2\n",
      "짝수\n"
     ]
    }
   ],
   "source": [
    "# 문제: 숫자를 하나 입력 받고, 그 수가 짝수인지 홀수 인지를 판단하시오.\n",
    "# 짝수면  '짝수'라고 출력하고, 홀수면 '홀수' 라고 출력하시오\n",
    "\n",
    "num = int(input('숫자를 하나 입력하시오:'))\n",
    "num1 = num % 2\n",
    "if num1 > 0 :\n",
    "    print('홀수')\n",
    "else :\n",
    "    print('짝수')"
   ]
  },
  {
   "cell_type": "code",
   "execution_count": 40,
   "id": "515c72b1",
   "metadata": {},
   "outputs": [
    {
     "name": "stdout",
     "output_type": "stream",
     "text": [
      "숫자를 하나 입력하시오:4\n",
      "짝수\n"
     ]
    }
   ],
   "source": [
    "num = int(input('숫자를 하나 입력하시오:'))\n",
    "# num1 = num % 2\n",
    "\n",
    "# if num % 2 == 1 :\n",
    "if num % 2 > 0 :\n",
    "    print('홀수')\n",
    "else :                           \n",
    "    print('짝수')"
   ]
  },
  {
   "cell_type": "code",
   "execution_count": 48,
   "id": "2c3c46ca",
   "metadata": {},
   "outputs": [
    {
     "name": "stdout",
     "output_type": "stream",
     "text": [
      "숫자를 입력:0\n",
      "입력받은 수는 0이다\n"
     ]
    }
   ],
   "source": [
    "num = int(input('숫자를 입력:'))\n",
    "if num > 0:\n",
    "    print('입력받은수는 양수')\n",
    "    print('입력받은 수:',num)\n",
    "else :                                 \n",
    "    if num == 0:                        # 중첩 선택문\n",
    "        print('입력받은 수는 0이다')\n",
    "    else :\n",
    "        print('입력받은수는 음수')\n",
    "        print('입력받은 수:',num)"
   ]
  },
  {
   "cell_type": "code",
   "execution_count": 51,
   "id": "2a87d366",
   "metadata": {},
   "outputs": [
    {
     "name": "stdout",
     "output_type": "stream",
     "text": [
      "학점을 입력하시오:3.9\n",
      "거주지를 입력하시오:창원\n",
      "장학금 비대상자\n"
     ]
    }
   ],
   "source": [
    "# and,  or\n",
    "# 학점이 4.0 이상익, 거주지가 창원이면 장학금 대상자다.\n",
    "score = float(input('학점을 입력하시오:'))\n",
    "town = input('거주지를 입력하시오:')\n",
    "if score >= 4.0 and town == '창원':\n",
    "    print('장학금 대상자')\n",
    "else :\n",
    "    print('장학금 비대상자')\n"
   ]
  },
  {
   "cell_type": "code",
   "execution_count": 58,
   "id": "1bf1320f",
   "metadata": {},
   "outputs": [
    {
     "name": "stdout",
     "output_type": "stream",
     "text": [
      "학점을 입력하시오:4.0\n",
      "거주지를 입력하시오:서울\n"
     ]
    }
   ],
   "source": [
    "score = float(input('학점을 입력하시오:'))\n",
    "town = input('거주지를 입력하시오:')\n",
    "if score >= 4.0 :\n",
    "    if town == '창원':\n",
    "        print('장학금 대상자')\n",
    "    \n",
    "else :\n",
    "    print('장학금 비대상자')\n"
   ]
  },
  {
   "cell_type": "code",
   "execution_count": 59,
   "id": "bba828d3",
   "metadata": {},
   "outputs": [
    {
     "name": "stdout",
     "output_type": "stream",
     "text": [
      "학점을 입력하시오:3.0\n",
      "거주지를 입력하시오:창원\n",
      "장학금 비대상자\n"
     ]
    }
   ],
   "source": [
    "score = float(input('학점을 입력하시오:'))\n",
    "town = input('거주지를 입력하시오:')\n",
    "if score >= 4.0 :\n",
    "    if town == '창원':\n",
    "        print('장학금 대상자')\n",
    "    \n",
    "    else:\n",
    "        print('학점음 충족하나 거주지 문제로 장학금 대상자 아님')\n",
    "else :\n",
    "    print('장학금 비대상자')"
   ]
  },
  {
   "cell_type": "code",
   "execution_count": 60,
   "id": "b7654e3f",
   "metadata": {},
   "outputs": [],
   "source": [
    "# 문제:\n",
    "# 중간고사 점수와 기말고사 점수를 각각 입력 받고,\n",
    "# 두 점수의 평균이 100 ~ 95이상: A+\n",
    "#         95미만 ~ 90 이상 : A\n",
    "#         90미만 ~ 85 이상 : B+\n",
    "#         85미만 : B\n"
   ]
  },
  {
   "cell_type": "code",
   "execution_count": 61,
   "id": "96170a44",
   "metadata": {},
   "outputs": [
    {
     "ename": "SyntaxError",
     "evalue": "invalid syntax (<ipython-input-61-606ea761f7c8>, line 7)",
     "output_type": "error",
     "traceback": [
      "\u001b[1;36m  File \u001b[1;32m\"<ipython-input-61-606ea761f7c8>\"\u001b[1;36m, line \u001b[1;32m7\u001b[0m\n\u001b[1;33m    print(A+)\u001b[0m\n\u001b[1;37m            ^\u001b[0m\n\u001b[1;31mSyntaxError\u001b[0m\u001b[1;31m:\u001b[0m invalid syntax\n"
     ]
    }
   ],
   "source": [
    "midle = int(input('중간고사 점수 입력:'))\n",
    "final = int(input('기말고사 점수 입력:'))\n",
    "score = (midle+final) /2\n",
    "if  score >= 85 and score < 90:\n",
    "    if score >= 90 and score < 95:\n",
    "        if score >= 95:\n",
    "            print(A+)\n",
    "    else:\n",
    "        print(A)\n",
    "    "
   ]
  },
  {
   "cell_type": "code",
   "execution_count": 65,
   "id": "dcdeb3dc",
   "metadata": {},
   "outputs": [
    {
     "name": "stdout",
     "output_type": "stream",
     "text": [
      "중간고사 점수 입력:100\n",
      "기말고사 점수 입력:100\n",
      "A+\n"
     ]
    }
   ],
   "source": [
    "midle = int(input('중간고사 점수 입력:'))\n",
    "final = int(input('기말고사 점수 입력:'))\n",
    "avg = (midle+final)/2\n",
    "\n",
    "if avg <= 100 and avg >= 95:\n",
    "    print('A+')\n",
    "else :\n",
    "    if avg < 95 and avg >= 90:\n",
    "          print('A')\n",
    "    else:\n",
    "          if avg < 90 and avg >= 85:\n",
    "              print ('B+')\n",
    "          else:\n",
    "              print('B')"
   ]
  },
  {
   "cell_type": "code",
   "execution_count": 66,
   "id": "bccbbe7d",
   "metadata": {},
   "outputs": [],
   "source": [
    "# if 조건식1:\n",
    "# elif 조건식2:\n",
    "# elif 조건식3:\n",
    "# print()       X\n",
    "#     else:\n",
    "    \n",
    "# if 와 elif와 else 사이에는 대등한 위치에는 다른 문장(명령문) 이 올수 없다.\n",
    "# 조건식이 만족하는 최초의 부분에서 실행하고 탈출한다."
   ]
  },
  {
   "cell_type": "code",
   "execution_count": 67,
   "id": "e52bad4a",
   "metadata": {},
   "outputs": [
    {
     "name": "stdout",
     "output_type": "stream",
     "text": [
      "A\n"
     ]
    }
   ],
   "source": [
    "midle = 90\n",
    "final = 90\n",
    "avg = (midle+final)/2\n",
    "\n",
    "if avg <= 100 and avg >= 95:\n",
    "    print('A+')\n",
    "elif avg < 95 and avg >= 90:\n",
    "    print('A')\n",
    "elif avg < 90 and avg >= 85:\n",
    "    print ('B+')\n",
    "else:\n",
    "    print('B')"
   ]
  },
  {
   "cell_type": "code",
   "execution_count": 71,
   "id": "336540f7",
   "metadata": {},
   "outputs": [
    {
     "name": "stdout",
     "output_type": "stream",
     "text": [
      "수를 입력:-2\n",
      "음수\n"
     ]
    }
   ],
   "source": [
    "#문제 : 어떤 수를 입력 받아, 그 수가 양수인지 0인지 음수인지 판단하시오.\n",
    "\n",
    "num = int(input('수를 입력:'))\n",
    "if num  > 0:\n",
    "    print('양수')\n",
    "elif num == 0:\n",
    "    print('0')\n",
    "else:\n",
    "    print('음수')"
   ]
  },
  {
   "cell_type": "code",
   "execution_count": 72,
   "id": "ee110a8d",
   "metadata": {},
   "outputs": [
    {
     "name": "stdout",
     "output_type": "stream",
     "text": [
      "A\n"
     ]
    }
   ],
   "source": [
    "midle = 90\n",
    "final = 90\n",
    "avg = (midle+final)/2\n",
    "\n",
    "if  avg >= 95:     # 뒤에 있는 조건식이 만족하더라도 위의 조건식에서 만족하면 빠져나온다.\n",
    "    print('A+')\n",
    "elif  avg >= 90:\n",
    "    print('A')\n",
    "elif  avg >= 85:\n",
    "    print ('B+')\n",
    "else:\n",
    "    print('B')"
   ]
  },
  {
   "cell_type": "code",
   "execution_count": 73,
   "id": "128cc87f",
   "metadata": {},
   "outputs": [
    {
     "name": "stdout",
     "output_type": "stream",
     "text": [
      "A+\n",
      "A\n",
      "B+\n"
     ]
    }
   ],
   "source": [
    "midle = 99\n",
    "final = 99\n",
    "avg = (midle+final)/2\n",
    "\n",
    "if  avg >= 95:     \n",
    "    print('A+')\n",
    "if  avg >= 90:\n",
    "    print('A')\n",
    "if  avg >= 85:\n",
    "    print ('B+')\n",
    "else:\n",
    "    print('B')    "
   ]
  },
  {
   "cell_type": "code",
   "execution_count": 74,
   "id": "7f445511",
   "metadata": {},
   "outputs": [
    {
     "name": "stdout",
     "output_type": "stream",
     "text": [
      "ok\n"
     ]
    }
   ],
   "source": [
    "# if ~ in :\n",
    "# if ~ not in :\n",
    "if 'e' in 'hello':\n",
    "    print('ok')\n",
    "else:\n",
    "    print('NG')"
   ]
  },
  {
   "cell_type": "code",
   "execution_count": 78,
   "id": "71805c44",
   "metadata": {},
   "outputs": [
    {
     "name": "stdout",
     "output_type": "stream",
     "text": [
      "아니\n"
     ]
    }
   ],
   "source": [
    "name = ['아이유','권진아','조째즈','최유리']\n",
    "if '잔나비' in name:\n",
    "    print('어')\n",
    "else:\n",
    "    print('아니')"
   ]
  },
  {
   "cell_type": "code",
   "execution_count": 77,
   "id": "05a03814",
   "metadata": {},
   "outputs": [
    {
     "name": "stdout",
     "output_type": "stream",
     "text": [
      "어\n"
     ]
    }
   ],
   "source": [
    "name = ['아이유','권진아','조째즈','최유리']\n",
    "if '잔나비' not in name:\n",
    "    print('어')\n",
    "else:\n",
    "    print('아니')"
   ]
  },
  {
   "cell_type": "code",
   "execution_count": 80,
   "id": "d0af1922",
   "metadata": {},
   "outputs": [],
   "source": [
    "# 90 점 이상이고 95점 미만이면\n",
    "# if score >= 90 and score < 95\n",
    "#if 90 <= score < 95:  -> 파이썬에서만 가능하기때문에 추천하지 않음.\n"
   ]
  },
  {
   "cell_type": "code",
   "execution_count": 82,
   "id": "496c9d39",
   "metadata": {},
   "outputs": [
    {
     "name": "stdout",
     "output_type": "stream",
     "text": [
      "년도 입력:2000\n",
      "윤년\n"
     ]
    }
   ],
   "source": [
    "year = int(input('년도 입력:'))\n",
    "if year % 4 == 0 and year % 100 != 0 or year % 400 == 0:\n",
    "    print('윤년')\n",
    "else:\n",
    "    print('평년')\n",
    "# 4로 나누어떨어지면 윤년\n",
    "# 하지만 100으로 나누어떨어지면 평년\n",
    "# 단. 400으로 나누어 떨어지면 다시 윤년"
   ]
  },
  {
   "cell_type": "code",
   "execution_count": 86,
   "id": "a4083054",
   "metadata": {},
   "outputs": [
    {
     "name": "stdout",
     "output_type": "stream",
     "text": [
      "정수 입력: 0\n",
      "0은 0\n"
     ]
    }
   ],
   "source": [
    "num = int(input('정수 입력: '))\n",
    "if num > 0 :\n",
    "    print(f'{num}은 양수')\n",
    "elif num < 0 :\n",
    "    print(f'{num}은 음수')\n",
    "elif num == 0 :\n",
    "    print(f'{num}은 0')"
   ]
  },
  {
   "cell_type": "code",
   "execution_count": 95,
   "id": "2d2861d7",
   "metadata": {},
   "outputs": [
    {
     "name": "stdout",
     "output_type": "stream",
     "text": [
      "어떤 수를 입력:120\n",
      "3과 4 모두의 배수\n"
     ]
    }
   ],
   "source": [
    "# 어떤 수를 입력 받아 그 수가 3의 배수인지, 4의 배수인지, \n",
    "# 또는 3과 4 모두의 배수인지를 판단하시오.\n",
    "num = int(input('어떤 수를 입력:'))\n",
    "if num % 3 == 0 and num % 4 == 0 :       # 선택문(조건문)의 순서가 중요함.\n",
    "    print('3과 4 모두의 배수')\n",
    "elif num % 3 == 0 :\n",
    "    print('3의 배수')\n",
    "elif num % 4 == 0 :\n",
    "    print('4의 배수')\n",
    "else :\n",
    "    pass"
   ]
  },
  {
   "cell_type": "code",
   "execution_count": 98,
   "id": "aab50fe7",
   "metadata": {},
   "outputs": [
    {
     "name": "stdout",
     "output_type": "stream",
     "text": [
      "어떤 수를 입력:12\n",
      "4의 배수\n"
     ]
    }
   ],
   "source": [
    "num = int(input('어떤 수를 입력:'))\n",
    "if num % 4 == 0 :       # 선택문(조건문)의 순서가 중요함.\n",
    "    print('4의 배수')\n",
    "elif num % 3 == 0 :\n",
    "    print('3의 배수')\n",
    "elif num % 3 == 0 and num % 4 == 0 :\n",
    "    print('3과 4 모두의 배수')\n",
    "else :\n",
    "    pass"
   ]
  },
  {
   "cell_type": "code",
   "execution_count": 103,
   "id": "136f9f21",
   "metadata": {},
   "outputs": [
    {
     "name": "stdout",
     "output_type": "stream",
     "text": [
      "첫번째 정수 입력:10\n",
      "두번째 정수 입력:10\n",
      "같습니다\n"
     ]
    }
   ],
   "source": [
    "# 두 정수를 입력받아 큰 수를 출력하되, 같으면 '같습니다' 출력.\n",
    "num1 = int(input('첫번째 정수 입력:'))\n",
    "num2 = int(input('두번째 정수 입력:'))\n",
    "if num1 == num2 :\n",
    "    print('같습니다')\n",
    "elif num1 > num2 :\n",
    "    print(num1)\n",
    "elif num1 < num2 :\n",
    "    print(num2)\n"
   ]
  },
  {
   "cell_type": "code",
   "execution_count": 110,
   "id": "38abfa94",
   "metadata": {},
   "outputs": [
    {
     "name": "stdout",
     "output_type": "stream",
     "text": [
      "첫번째 정수 입력:13\n",
      "두번째 정수 입력:13\n",
      "같습니다\n"
     ]
    }
   ],
   "source": [
    "num1 = int(input('첫번째 정수 입력:'))\n",
    "num2 = int(input('두번째 정수 입력:'))\n",
    "if num1 > num2 :\n",
    "    print(num1)\n",
    "elif num1 == num2 :\n",
    "    print('같습니다')\n",
    "else:\n",
    "    print(num2)"
   ]
  },
  {
   "cell_type": "code",
   "execution_count": 1,
   "id": "b8fd7de7",
   "metadata": {},
   "outputs": [
    {
     "name": "stdout",
     "output_type": "stream",
     "text": [
      "n1: 10\n",
      "n2: 20\n",
      "n3: 30\n",
      "30\n"
     ]
    }
   ],
   "source": [
    "# 세 수를 비교해서 큰 순서대로 출력하시오.\n",
    "n1 = int(input('n1: '))\n",
    "n2 = int(input('n2: '))\n",
    "n3 = int(input('n3: '))\n",
    "\n",
    "if n1 > n2 and n1 > n3:\n",
    "    print(n1)\n",
    "elif n2 > n3 :\n",
    "    print(n2)\n",
    "else:\n",
    "    print(n3)"
   ]
  },
  {
   "cell_type": "code",
   "execution_count": 5,
   "id": "eb10c432",
   "metadata": {},
   "outputs": [
    {
     "name": "stdout",
     "output_type": "stream",
     "text": [
      "n1: 5\n",
      "n2: 2\n",
      "n3: 1\n",
      "5 2 1\n"
     ]
    }
   ],
   "source": [
    "# 세 수를 비교해서 큰 순서대로 출력하시오.\n",
    "\n",
    "# n1 >= n2 >= n3\n",
    "# n1 >= n3 >= n2\n",
    "# n2 >= n1 >= n3\n",
    "# n2 >= n3 >= n1\n",
    "# n3 >= n1 >= n2\n",
    "# n3 >= n2 >= n3\n",
    "\n",
    "n1 = int(input('n1: '))\n",
    "n2 = int(input('n2: '))\n",
    "n3 = int(input('n3: '))\n",
    "if n1 >= n2 and n2 >= n3:\n",
    "    print(n1,n2,n3)\n",
    "elif n1 >= n3 and n3 >= n2:\n",
    "    print(n1,n3,n2)\n",
    "elif n2 >= n1 and n1 >= n3:\n",
    "    print(n2,n1,n3)\n",
    "elif n2 >= n3 and n3 >= n1:\n",
    "    print(n2,n3,n1)\n",
    "elif n3 >= n1 and n1 >= n2:\n",
    "    print(n3,n1,n2)\n",
    "elif n3 >= n2 and n2 >= n1:\n",
    "    print(n3,n2,n1)\n",
    "else:\n",
    "    pass"
   ]
  },
  {
   "cell_type": "code",
   "execution_count": 8,
   "id": "4b65230c",
   "metadata": {},
   "outputs": [
    {
     "name": "stdout",
     "output_type": "stream",
     "text": [
      "NG\n"
     ]
    }
   ],
   "source": [
    "a = 'hello'\n",
    "if 'x' in a:\n",
    "    print('ok')\n",
    "else:\n",
    "    print('NG')"
   ]
  },
  {
   "cell_type": "code",
   "execution_count": 12,
   "id": "b5ad854e",
   "metadata": {},
   "outputs": [
    {
     "name": "stdout",
     "output_type": "stream",
     "text": [
      "정수 입력:0\n",
      "0 는 짝수\n"
     ]
    }
   ],
   "source": [
    "# 도전 1-1\n",
    "num = int(input('정수 입력:'))\n",
    "if num %2 == 1:\n",
    "    print('%d 는 홀수' % num)\n",
    "else:\n",
    "    print('%d 는 짝수' % num)"
   ]
  },
  {
   "cell_type": "code",
   "execution_count": 15,
   "id": "bdceeaea",
   "metadata": {},
   "outputs": [
    {
     "name": "stdout",
     "output_type": "stream",
     "text": [
      "정수 입력:-5\n",
      "음수\n"
     ]
    }
   ],
   "source": [
    "# 도전 1-2\n",
    "num = int(input('정수 입력:'))\n",
    "if num  > 0:\n",
    "    print('양수')\n",
    "elif num < 0:\n",
    "    print('음수')\n",
    "else:\n",
    "    print(0)"
   ]
  },
  {
   "cell_type": "code",
   "execution_count": 18,
   "id": "479c4bc3",
   "metadata": {},
   "outputs": [
    {
     "name": "stdout",
     "output_type": "stream",
     "text": [
      "아이디 입력: admin\n",
      "비밀번호 입력:pw1234\n",
      "로그인성공\n"
     ]
    }
   ],
   "source": [
    "# 도전 1-3\n",
    "id_ = input('아이디 입력: ')\n",
    "pwd = input('비밀번호 입력:')\n",
    "if id_ == 'admin' and pwd == 'pw1234':\n",
    "    print('로그인성공')\n",
    "else:\n",
    "    print('아이디나 비밀번호가 틀려 로그인 실패')"
   ]
  },
  {
   "cell_type": "code",
   "execution_count": 21,
   "id": "a76022af",
   "metadata": {},
   "outputs": [
    {
     "name": "stdout",
     "output_type": "stream",
     "text": [
      "아이디 입력: admin\n",
      "비밀번호 입력:pw1234\n",
      "로그인성공\n"
     ]
    }
   ],
   "source": [
    "id_ = input('아이디 입력: ')\n",
    "pwd = input('비밀번호 입력:')\n",
    "\n",
    "if id_ == 'admin':\n",
    "    if pwd == 'pw1234':\n",
    "        print('로그인성공')\n",
    "    else :\n",
    "        print('비밀번호 확인바람')\n",
    "else:\n",
    "    print('아이디 확인바람')"
   ]
  },
  {
   "cell_type": "code",
   "execution_count": 23,
   "id": "f2a0d7c3",
   "metadata": {},
   "outputs": [
    {
     "name": "stdout",
     "output_type": "stream",
     "text": [
      "아이디 입력: admin\n",
      "비밀번호 입력: 13\n",
      "비밀번호 확인 바람\n",
      "비밀번호 다시 입력: pw1234\n",
      "로그인 성공\n"
     ]
    }
   ],
   "source": [
    "# 비밀번호가 틀린 경우, 한번 더 입력 받고, 맞으면 로그인성공\n",
    "# 틀리면, 비밀번호 오류\n",
    "\n",
    "id_ = input('아이디 입력: ')\n",
    "pwd = input('비밀번호 입력: ')\n",
    "\n",
    "if id_ == 'admin':\n",
    "    if pwd == 'pw1234':\n",
    "        print('로그인 성공')\n",
    "    else:\n",
    "        print('비밀번호 확인 바람')\n",
    "        pwd = input('비밀번호 다시 입력: ')\n",
    "        if pwd == 'pw1234':\n",
    "            print('로그인 성공')\n",
    "        else:\n",
    "            print('비밀번호 오류')\n",
    "else:\n",
    "    print('아이디 확인바람')\n",
    "        "
   ]
  },
  {
   "cell_type": "code",
   "execution_count": 56,
   "id": "19da19c9",
   "metadata": {},
   "outputs": [
    {
     "name": "stdout",
     "output_type": "stream",
     "text": [
      "첫 번째 수 입력: 5\n",
      "두 번째 수 입력: 3\n",
      "원하는 연산 기호 하나 입력: (+ - * /)/\n",
      "5 / 3 = 1.67\n"
     ]
    }
   ],
   "source": [
    "# 도전 2-1\n",
    "num1 = int(input('첫 번째 수 입력: '))\n",
    "num2 = int(input('두 번째 수 입력: '))\n",
    "aaa = input('원하는 연산 기호 하나 입력: (+ - * /)' )\n",
    "if aaa == '+':\n",
    "    print(f'{num1} + {num2} = {num1+num2}')\n",
    "elif aaa == '-':\n",
    "    print(f'{num1} - {num2} = {num1-num2}')\n",
    "elif aaa == '*':\n",
    "    print(f'{num1} * {num2} = {num1*num2}')\n",
    "elif aaa == '/':\n",
    "    print(f'{num1} / {num2} = {num1/num2:.2f}')\n",
    "else:\n",
    "    print('잘못된 연산 기호')"
   ]
  },
  {
   "cell_type": "code",
   "execution_count": 50,
   "id": "cd09c5b2",
   "metadata": {},
   "outputs": [
    {
     "name": "stdout",
     "output_type": "stream",
     "text": [
      "1차 점수 입력: 70\n",
      "2차 점수 입력: 60\n",
      "불합격\n"
     ]
    }
   ],
   "source": [
    "# 도전 2-2\n",
    "score1 = int(input('1차 점수 입력: '))\n",
    "score2 = int(input('2차 점수 입력: '))\n",
    "avg = (score1 + score2) / 2\n",
    "if avg >= 70 and score1 >= 50 and score2 >= 50:\n",
    "    print('합격')\n",
    "# elif score1 < 50 or score2 < 50:\n",
    "#     print('과락')\n",
    "else:\n",
    "    print('불합격')"
   ]
  },
  {
   "cell_type": "code",
   "execution_count": 55,
   "id": "33911b29",
   "metadata": {},
   "outputs": [
    {
     "name": "stdout",
     "output_type": "stream",
     "text": [
      "1차 점수 입력: 40\n",
      "2차 점수 입력: 100\n",
      "1차 점수 과락으로 불합격\n"
     ]
    }
   ],
   "source": [
    "score1 = int(input('1차 점수 입력: '))\n",
    "score2 = int(input('2차 점수 입력: '))\n",
    "avg = (score1 + score2) / 2\n",
    "\n",
    "if avg >= 70:\n",
    "    if score1 >= 50:\n",
    "        if score2 >= 50:\n",
    "            print('합격')\n",
    "        else:\n",
    "            print('2차 점수 과락으로 불합격')\n",
    "    else:\n",
    "        print('1차 점수 과락으로 불합격')\n",
    "else:\n",
    "    print('평균 70점 미만으로 불합격')"
   ]
  },
  {
   "cell_type": "code",
   "execution_count": 49,
   "id": "422269a4",
   "metadata": {},
   "outputs": [
    {
     "name": "stdout",
     "output_type": "stream",
     "text": [
      "점수 입력: 59\n",
      "F\n"
     ]
    }
   ],
   "source": [
    "# 도전 2-3\n",
    "score = int(input('점수 입력: '))\n",
    "if score <= 100:\n",
    "    if score >= 90:\n",
    "        print('A')\n",
    "    elif score >= 80:\n",
    "        print('B')\n",
    "    elif score >= 70:\n",
    "        print('C')\n",
    "    elif score >= 60:\n",
    "        print('D')\n",
    "    else:\n",
    "        print('F')\n",
    "else:\n",
    "    print('잘못된 점수 입력')"
   ]
  },
  {
   "cell_type": "markdown",
   "id": "5e149c10",
   "metadata": {},
   "source": [
    "# 7장. 반복문"
   ]
  },
  {
   "cell_type": "code",
   "execution_count": 57,
   "id": "a0244489",
   "metadata": {},
   "outputs": [],
   "source": [
    "# 파이썬 반복문에 대하여 이해할 수 있다.\n",
    "# 파이썬 반복문의 종류와 구조를 이해하고 활용할 수 있다.\n",
    "# 파이썬 중첩 반복문의 다양한 형태를 이해하고 표현할 수 있다.\n",
    "# 파이썬 기타 제어문의 종류와 구조를 이해하고 용도에 맞게 활용할 수 있다."
   ]
  },
  {
   "cell_type": "code",
   "execution_count": 59,
   "id": "10354260",
   "metadata": {},
   "outputs": [],
   "source": [
    "# 반복문 - for(~ 하는 동안에), while(~하는 동안에)\n",
    "for ~ in ~:"
   ]
  },
  {
   "cell_type": "code",
   "execution_count": 60,
   "id": "3519dbd7",
   "metadata": {},
   "outputs": [
    {
     "name": "stdout",
     "output_type": "stream",
     "text": [
      "충민\n",
      "충민\n",
      "충민\n",
      "충민\n",
      "충민\n"
     ]
    }
   ],
   "source": [
    "for i in 'hello':\n",
    "    print('충민')"
   ]
  },
  {
   "cell_type": "code",
   "execution_count": 61,
   "id": "83afde3e",
   "metadata": {},
   "outputs": [
    {
     "name": "stdout",
     "output_type": "stream",
     "text": [
      "메카\n",
      "메카\n",
      "메카\n"
     ]
    }
   ],
   "source": [
    "for i in '폴리텍':\n",
    "    print('메카')"
   ]
  },
  {
   "cell_type": "code",
   "execution_count": 63,
   "id": "e79d77f4",
   "metadata": {},
   "outputs": [
    {
     "name": "stdout",
     "output_type": "stream",
     "text": [
      "메카\n",
      "메카\n",
      "메카\n",
      "메카\n",
      "메카\n"
     ]
    }
   ],
   "source": [
    "for i in [1,2,3,4,5]:\n",
    "    print('메카')"
   ]
  },
  {
   "cell_type": "code",
   "execution_count": 64,
   "id": "ccba30d0",
   "metadata": {},
   "outputs": [
    {
     "name": "stdout",
     "output_type": "stream",
     "text": [
      "h\n",
      "e\n",
      "l\n",
      "l\n",
      "o\n"
     ]
    }
   ],
   "source": [
    "for i in 'hello':\n",
    "    print(i)"
   ]
  },
  {
   "cell_type": "code",
   "execution_count": 65,
   "id": "d4f08bae",
   "metadata": {},
   "outputs": [
    {
     "name": "stdout",
     "output_type": "stream",
     "text": [
      "1\n",
      "2\n",
      "3\n",
      "4\n",
      "5\n"
     ]
    }
   ],
   "source": [
    "for j in [1,2,3,4,5]:\n",
    "    print(j)"
   ]
  },
  {
   "cell_type": "code",
   "execution_count": 71,
   "id": "767e2000",
   "metadata": {},
   "outputs": [
    {
     "name": "stdout",
     "output_type": "stream",
     "text": [
      "폴리텍"
     ]
    }
   ],
   "source": [
    "for i in '폴리텍':\n",
    "    print(i, end = '')"
   ]
  },
  {
   "cell_type": "code",
   "execution_count": 72,
   "id": "81f59fe2",
   "metadata": {},
   "outputs": [
    {
     "name": "stdout",
     "output_type": "stream",
     "text": [
      "폴 리 텍 "
     ]
    }
   ],
   "source": [
    "for i in '폴리텍':\n",
    "    print(i, end = ' ')"
   ]
  },
  {
   "cell_type": "code",
   "execution_count": 73,
   "id": "4cc88832",
   "metadata": {},
   "outputs": [
    {
     "name": "stdout",
     "output_type": "stream",
     "text": [
      "*\n",
      "**\n",
      "***\n",
      "****\n",
      "*****\n"
     ]
    }
   ],
   "source": [
    "for i in [1,2,3,4,5]:\n",
    "    print('*' * i)"
   ]
  },
  {
   "cell_type": "code",
   "execution_count": 77,
   "id": "7a16b672",
   "metadata": {},
   "outputs": [
    {
     "data": {
      "text/plain": [
       "[1, 3, 5, 7, 9]"
      ]
     },
     "execution_count": 77,
     "metadata": {},
     "output_type": "execute_result"
    }
   ],
   "source": [
    "list(range(1,10,2))"
   ]
  },
  {
   "cell_type": "code",
   "execution_count": 79,
   "id": "f3574c35",
   "metadata": {},
   "outputs": [
    {
     "name": "stdout",
     "output_type": "stream",
     "text": [
      "0\n",
      "1\n",
      "2\n",
      "3\n",
      "4\n"
     ]
    }
   ],
   "source": [
    "for i in range(5):\n",
    "    print(i)"
   ]
  },
  {
   "cell_type": "code",
   "execution_count": 82,
   "id": "880aa286",
   "metadata": {},
   "outputs": [
    {
     "name": "stdout",
     "output_type": "stream",
     "text": [
      "2 4 6 8 10 "
     ]
    }
   ],
   "source": [
    "odd = [1,3,5,7,9]\n",
    "for i in odd:\n",
    "    print(i+1, end = ' ')"
   ]
  },
  {
   "cell_type": "code",
   "execution_count": 83,
   "id": "59e89965",
   "metadata": {},
   "outputs": [
    {
     "name": "stdout",
     "output_type": "stream",
     "text": [
      "3 * 1 = 3\n",
      "3 * 2 = 6\n",
      "3 * 3 = 9\n",
      "3 * 4 = 12\n",
      "3 * 5 = 15\n",
      "3 * 6 = 18\n",
      "3 * 7 = 21\n",
      "3 * 8 = 24\n",
      "3 * 9 = 27\n"
     ]
    }
   ],
   "source": [
    "# 구구단 중 3단을 출력하시오.\n",
    "# 3*1 = 3\n",
    "# ~~~\n",
    "# 3*9 = 27\n",
    "num= list(range(1,10))\n",
    "for i in num:\n",
    "    print(f'3 * {i} = {3*i}' )"
   ]
  },
  {
   "cell_type": "code",
   "execution_count": 84,
   "id": "db62892d",
   "metadata": {},
   "outputs": [
    {
     "name": "stdout",
     "output_type": "stream",
     "text": [
      "3 * 1 = 3\n",
      "3 * 2 = 6\n",
      "3 * 3 = 9\n",
      "3 * 4 = 12\n",
      "3 * 5 = 15\n",
      "3 * 6 = 18\n",
      "3 * 7 = 21\n",
      "3 * 8 = 24\n",
      "3 * 9 = 27\n"
     ]
    }
   ],
   "source": [
    "for i in range(1,10):\n",
    "    print('3 * {} = {}'.format(i,3*i))"
   ]
  },
  {
   "cell_type": "code",
   "execution_count": 85,
   "id": "08306795",
   "metadata": {},
   "outputs": [],
   "source": [
    "# while\n",
    "# 중첩 반복문\n",
    "# continue, break\n",
    "# enumerate\n"
   ]
  },
  {
   "cell_type": "markdown",
   "id": "1d7529b1",
   "metadata": {},
   "source": [
    "# while 반복문"
   ]
  },
  {
   "cell_type": "code",
   "execution_count": null,
   "id": "5b3b5a24",
   "metadata": {},
   "outputs": [],
   "source": [
    "# 조건식이 참인 동안에 계속 반복을 한다.\n",
    "while 조건식:\n",
    "    반복할 문장"
   ]
  },
  {
   "cell_type": "code",
   "execution_count": 88,
   "id": "f678404c",
   "metadata": {},
   "outputs": [
    {
     "name": "stdout",
     "output_type": "stream",
     "text": [
      "mecha\n",
      "mecha\n",
      "mecha\n",
      "mecha\n",
      "mecha\n"
     ]
    }
   ],
   "source": [
    "n = 1\n",
    "while n <= 5:\n",
    "    print('mecha')\n",
    "    n += 1"
   ]
  },
  {
   "cell_type": "code",
   "execution_count": 90,
   "id": "98da28d5",
   "metadata": {},
   "outputs": [
    {
     "name": "stdout",
     "output_type": "stream",
     "text": [
      "mecha\n",
      "mecha\n",
      "mecha\n",
      "mecha\n",
      "mecha\n"
     ]
    }
   ],
   "source": [
    "n = 5\n",
    "while n > 0:\n",
    "    print('mecha')\n",
    "    n -= 1"
   ]
  },
  {
   "cell_type": "code",
   "execution_count": 97,
   "id": "7d3308ed",
   "metadata": {},
   "outputs": [
    {
     "name": "stdout",
     "output_type": "stream",
     "text": [
      "반복 횟수: 5\n",
      "메카\n",
      "메카\n",
      "메카\n",
      "메카\n",
      "메카\n"
     ]
    }
   ],
   "source": [
    "# 입력 받은 횟수 만큼 '메카'를 출력한다.\n",
    "i = 1\n",
    "num = int(input('반복 횟수: '))\n",
    "while i <= num:\n",
    "    print('메카')\n",
    "    i += 1"
   ]
  },
  {
   "cell_type": "code",
   "execution_count": 95,
   "id": "45a7a279",
   "metadata": {},
   "outputs": [
    {
     "name": "stdout",
     "output_type": "stream",
     "text": [
      "n : 5\n",
      "메카\n",
      "메카\n",
      "메카\n",
      "메카\n",
      "메카\n"
     ]
    }
   ],
   "source": [
    "# 입력 받은 횟수 만큼 '메카'를 출력한다.\n",
    "num = int(input('n : '))\n",
    "\n",
    "n = 1\n",
    "while n <= num :\n",
    "    print('메카')\n",
    "    n += 1"
   ]
  },
  {
   "cell_type": "code",
   "execution_count": 98,
   "id": "f2b6fac4",
   "metadata": {},
   "outputs": [
    {
     "name": "stdout",
     "output_type": "stream",
     "text": [
      "n: 5\n",
      "메카\n",
      "메카\n",
      "메카\n",
      "메카\n",
      "메카\n"
     ]
    }
   ],
   "source": [
    "# 입력 받은 횟수 만큼 '메카'를 출력한다.\n",
    "num = int(input('n: '))\n",
    "for n in range(num):\n",
    "    print('메카')"
   ]
  },
  {
   "cell_type": "code",
   "execution_count": 101,
   "id": "2e568ea8",
   "metadata": {},
   "outputs": [
    {
     "name": "stdout",
     "output_type": "stream",
     "text": [
      "3 * 1 = 3\n",
      "3 * 2 = 6\n",
      "3 * 3 = 9\n",
      "3 * 4 = 12\n",
      "3 * 5 = 15\n",
      "3 * 6 = 18\n",
      "3 * 7 = 21\n",
      "3 * 8 = 24\n",
      "3 * 9 = 27\n"
     ]
    }
   ],
   "source": [
    "# while  반복문을 이용하여 구구단 중 3단을 출력해보자.\n",
    "n = 1\n",
    "while n <= 9:\n",
    "    print(f'3 * {n} = {3*n}')\n",
    "    n += 1"
   ]
  },
  {
   "cell_type": "code",
   "execution_count": 102,
   "id": "3297dd35",
   "metadata": {},
   "outputs": [
    {
     "name": "stdout",
     "output_type": "stream",
     "text": [
      "파이썬 최고!\n",
      "종료하려면 y1\n",
      "파이썬 최고!\n",
      "종료하려면 y1\n",
      "파이썬 최고!\n",
      "종료하려면 y2\n",
      "파이썬 최고!\n",
      "종료하려면 y3\n",
      "파이썬 최고!\n",
      "종료하려면 yㄷ\n",
      "파이썬 최고!\n",
      "종료하려면 yㄹ\n",
      "파이썬 최고!\n",
      "종료하려면 yㅎ\n",
      "파이썬 최고!\n",
      "종료하려면 yy\n",
      "종료\n"
     ]
    }
   ],
   "source": [
    "# 사용자로 부터 y를 입력 받기 전까지 계쏙해서 파이썬 최고! 출력하자.\n",
    "con = 0\n",
    "while con != 'y':\n",
    "    print('파이썬 최고!')\n",
    "    con = input('종료하려면 y')\n",
    "print('종료') "
   ]
  },
  {
   "cell_type": "code",
   "execution_count": null,
   "id": "5766c492",
   "metadata": {},
   "outputs": [],
   "source": []
  }
 ],
 "metadata": {
  "kernelspec": {
   "display_name": "Python 3",
   "language": "python",
   "name": "python3"
  },
  "language_info": {
   "codemirror_mode": {
    "name": "ipython",
    "version": 3
   },
   "file_extension": ".py",
   "mimetype": "text/x-python",
   "name": "python",
   "nbconvert_exporter": "python",
   "pygments_lexer": "ipython3",
   "version": "3.8.8"
  }
 },
 "nbformat": 4,
 "nbformat_minor": 5
}
