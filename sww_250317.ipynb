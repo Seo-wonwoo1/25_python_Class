{
 "cells": [
  {
   "cell_type": "markdown",
   "id": "8e1c024f",
   "metadata": {},
   "source": [
    "3*4"
   ]
  },
  {
   "cell_type": "code",
   "execution_count": 15,
   "id": "cd841238",
   "metadata": {
    "scrolled": false
   },
   "outputs": [
    {
     "name": "stdout",
     "output_type": "stream",
     "text": [
      "********************\n",
      "서원우서원우\n",
      "********************\n"
     ]
    }
   ],
   "source": [
    "#주석은 프로그램에 영향을 전혀 주지않음.\n",
    "print('*' *20) #문자표시는 소따옴표를 사용\n",
    "print('서원우' *2)\n",
    "print('*' *20)"
   ]
  },
  {
   "cell_type": "code",
   "execution_count": null,
   "id": "47312a44",
   "metadata": {},
   "outputs": [],
   "source": [
    "#모드- 에드트 모드, 컨트롤 모드\n",
    "#에디트 모드 - 프로그램 작성 편집모드라고 한다.\n",
    "#컨트롤 모드 - 셀간 이동이나 단축키 적용을 위한, 제어모드\n",
    "#단축키 - \n",
    "# b: 아래에 빈셀을 추가\n",
    "# a: 위에 빈셀을 추가\n",
    "# c: 셀 복사\n",
    "# v: 셀 붙여넣기\n",
    "# dd: 셀 삭제\n",
    "# x: 셀 삭제\n",
    "# z: 되돌리기\n",
    "# m: 마크다운 모드\n",
    "# y: 코드 모드\n",
    "# ctrl + enter: 그냥실행\n",
    "# shift + enter: 아레셀로 이동(셀이없을경우 생성)\n",
    "# alt + enter: 아레셀 추가 및 이동"
   ]
  },
  {
   "cell_type": "code",
   "execution_count": null,
   "id": "e393fd8f",
   "metadata": {},
   "outputs": [],
   "source": [
    "# Code - 코드 편집(작성)을 위한 모드\n",
    "# Markdown - 문서 편집을 위한 모드"
   ]
  },
  {
   "cell_type": "markdown",
   "id": "23f54de2",
   "metadata": {},
   "source": [
    "# 동해물과 백두산이\n",
    "## 마르고 닳도록\n",
    "### 하느님이 보우하사 우리나라 만세\n",
    "#### 무궁화 삼천리 화려강산 \n",
    "##### 대한사람 대한으로 길이 보전하세.\n",
    "- 과대 : 이충민\n",
    "- 총무 : 박재영\n",
    "1. 김규민 - 2002\n",
    "2. 김규민 - 2005  \n",
    "메카트로닉스과  \n",
    "화이팅"
   ]
  },
  {
   "cell_type": "markdown",
   "id": "5954efbf",
   "metadata": {},
   "source": [
    "# 2장 - 변수와 연산자"
   ]
  },
  {
   "cell_type": "code",
   "execution_count": 25,
   "id": "ada841a1",
   "metadata": {},
   "outputs": [
    {
     "data": {
      "text/plain": [
       "'서원우서원우서원우서원우서원우'"
      ]
     },
     "execution_count": 25,
     "metadata": {},
     "output_type": "execute_result"
    }
   ],
   "source": [
    "'서원우'*5"
   ]
  },
  {
   "cell_type": "code",
   "execution_count": null,
   "id": "cb0b0698",
   "metadata": {},
   "outputs": [],
   "source": [
    "# 파이썬의 기본 자료형\n",
    "# 4가지 : int, float, bool, str.\n",
    "n = 10 # 정수 ( 양, 0, 음), integer\n",
    "n = 서원우 # 문자 (문자열) '', 이때 \"\" 상관없다. str\n",
    "n = 3.14 # 실수 (부동소수점) float\n",
    "n = False # 불형 (True / False), bool\n",
    "# 리스트, 딕셔너리 , 튜플, set."
   ]
  },
  {
   "cell_type": "code",
   "execution_count": 27,
   "id": "3b703aeb",
   "metadata": {},
   "outputs": [
    {
     "name": "stdout",
     "output_type": "stream",
     "text": [
      "3.14\n"
     ]
    }
   ],
   "source": [
    "x = 3.14\n",
    "print (x)"
   ]
  },
  {
   "cell_type": "code",
   "execution_count": 3,
   "id": "d0d9ede4",
   "metadata": {},
   "outputs": [
    {
     "name": "stdout",
     "output_type": "stream",
     "text": [
      "이름 : 서원우 , 나이 : 24\n"
     ]
    }
   ],
   "source": [
    "name = '서원우'\n",
    "age = 24\n",
    "sex = 'man'\n",
    "town = '남해'\n",
    "\n",
    "print ('이름',':',name,',', '나이',':',age)"
   ]
  },
  {
   "cell_type": "code",
   "execution_count": null,
   "id": "de70da11",
   "metadata": {},
   "outputs": [],
   "source": [
    "a = 1\n",
    "num = 1\n",
    "num1 = 100\n",
    "num2 = 90\n",
    "num3 = 80"
   ]
  },
  {
   "cell_type": "code",
   "execution_count": null,
   "id": "6e7f17d3",
   "metadata": {},
   "outputs": [],
   "source": [
    "# 변수 이름(변수명)을 정하는 규칙\n",
    "# 1. 변수에 할당되는 데이터의 의미에 맞도록 만들자.\n",
    "# 2. 변수명을 만들때, 영어, 숫자, 특수문자 사용가능\n",
    "# 3. 변수의 맨 앞에는 숫자가 올 수 없다. (num3 (o), 3num (x) )\n",
    "# 4. 특수문자는 오로지 _(언더바)만 사용이 가능하다.\n",
    "# !@#$%^ (x) _ (o)\n",
    "# 5. 대소문자가 구별된다.\n",
    "# 6. 띄어쓰기는 허용하지 않는다. (manage) (x), (man_age) (o)\n",
    "        man_age, manAge, ManAge\n",
    "# 7. 예약어는 사용할 수 없다. \n",
    "# print, for, if, while, else, def, False, True, int"
   ]
  },
  {
   "cell_type": "code",
   "execution_count": 37,
   "id": "845c05b0",
   "metadata": {},
   "outputs": [
    {
     "name": "stdout",
     "output_type": "stream",
     "text": [
      "서원우 24\n"
     ]
    }
   ],
   "source": [
    "name = '서원우'\n",
    "age = 24\n",
    "print (name,    age)"
   ]
  },
  {
   "cell_type": "code",
   "execution_count": null,
   "id": "038ae96c",
   "metadata": {},
   "outputs": [],
   "source": [
    "# type() : 변수의 타입을 확인할 때 사용."
   ]
  },
  {
   "cell_type": "code",
   "execution_count": 42,
   "id": "50d1a223",
   "metadata": {},
   "outputs": [
    {
     "name": "stdout",
     "output_type": "stream",
     "text": [
      "이름 : 서원우 , 나이 : 24\n"
     ]
    },
    {
     "data": {
      "text/plain": [
       "bool"
      ]
     },
     "execution_count": 42,
     "metadata": {},
     "output_type": "execute_result"
    }
   ],
   "source": [
    "name = '서원우'\n",
    "age = 24\n",
    "sex = 'man'\n",
    "town = '남해'\n",
    "pi = 3.14\n",
    "con = False\n",
    "print ('이름',':',name,',', '나이',':',age)\n",
    "\n",
    "type(con)"
   ]
  },
  {
   "cell_type": "code",
   "execution_count": 7,
   "id": "77299dd1",
   "metadata": {},
   "outputs": [
    {
     "name": "stdout",
     "output_type": "stream",
     "text": [
      "3.0\n",
      "1\n",
      "2\n",
      "0\n",
      "65536\n",
      "1.4142135623730951\n"
     ]
    }
   ],
   "source": [
    "# 연산자 (operator)\n",
    "# 대입(할당)연산자\n",
    "\n",
    "# num = num+4 (복합할당연산자)\n",
    "# num = num +1 <=> num += 1\n",
    "# num = num -2 <=> num -= 2\n",
    "# num = num *3 <=> num *= 3\n",
    "# num = num /4 <=> num /= 4\n",
    "\n",
    "num = 3\n",
    "print(9 / num) #  // 연산의 경우 항상 실수형으로 표시\n",
    "\n",
    "# 산술연산자(숫자의 계산)\n",
    "# +, -, *, /, %(나머지), //(몫), **(지수)\n",
    "\n",
    "print(5//3) #// 몫 1\n",
    "print(5%3) # % 나머지 2\n",
    "print(15%3)\n",
    "print(2**16) #2**16 =65536, 2**10 =1024, 2**8 =256\n",
    "print(2**(1/2))\n",
    "# 비교연산자\n",
    "\n",
    "# 논리연산자"
   ]
  },
  {
   "cell_type": "code",
   "execution_count": 44,
   "id": "97b01949",
   "metadata": {},
   "outputs": [
    {
     "name": "stdout",
     "output_type": "stream",
     "text": [
      "25\n"
     ]
    }
   ],
   "source": [
    "age = 24\n",
    "age += 1\n",
    "print (age)"
   ]
  },
  {
   "cell_type": "code",
   "execution_count": 2,
   "id": "ffb2250c",
   "metadata": {},
   "outputs": [
    {
     "name": "stdout",
     "output_type": "stream",
     "text": [
      "사탕은 66 개 살 수 있고  100 원이 남는다\n"
     ]
    }
   ],
   "source": [
    "# 문제: 10,000원 내면, 150 사탕을 몇개 사고,\n",
    "#        또, 잔돈은 얼마가 남는가?\n",
    "money = 10000\n",
    "candy = 150\n",
    "# 몫\n",
    "num = money // candy\n",
    "# 나머지\n",
    "change = money % candy\n",
    "print (\"사탕은\", num,\"개 살 수 있고 \", change, \"원이 남는다\")"
   ]
  },
  {
   "cell_type": "code",
   "execution_count": 4,
   "id": "6588c7ae",
   "metadata": {},
   "outputs": [],
   "source": [
    "#03-24"
   ]
  },
  {
   "cell_type": "code",
   "execution_count": 6,
   "id": "62b7b295",
   "metadata": {},
   "outputs": [
    {
     "name": "stdout",
     "output_type": "stream",
     "text": [
      "500원 2 개\n",
      "100원 10 개\n",
      "50원 20 개\n"
     ]
    }
   ],
   "source": [
    "# 1000원짜리 지폐를 500원으로, 100원짜리 동전으로 교환\n",
    "money = 1000\n",
    "won_500 = money//500\n",
    "won_100 = money//100\n",
    "won_50 = money//50\n",
    "print('500원', won_500, '개')\n",
    "print('100원', won_100, '개')\n",
    "print('50원', won_50, '개')"
   ]
  },
  {
   "cell_type": "code",
   "execution_count": 8,
   "id": "a5ed5b2d",
   "metadata": {},
   "outputs": [
    {
     "name": "stdout",
     "output_type": "stream",
     "text": [
      "구매가능한 수: 66 개\n",
      "잔돈: 100 원\n"
     ]
    }
   ],
   "source": [
    "# 구입 가능한 사탕의 수\n",
    "money = 10000\n",
    "candy = 150\n",
    "# 사탕을 몇개 살 수 있고, 잔돈은 얼마인가?\n",
    "candy_num = money // candy\n",
    "change = money%candy\n",
    "print('구매가능한 수:', candy_num, '개')\n",
    "print('잔돈:', change, '원')"
   ]
  },
  {
   "cell_type": "code",
   "execution_count": 14,
   "id": "af49102b",
   "metadata": {},
   "outputs": [],
   "source": [
    "n1 = 10"
   ]
  },
  {
   "cell_type": "code",
   "execution_count": 16,
   "id": "07ff2ebc",
   "metadata": {},
   "outputs": [
    {
     "data": {
      "text/plain": [
       "12"
      ]
     },
     "execution_count": 16,
     "metadata": {},
     "output_type": "execute_result"
    }
   ],
   "source": [
    "n1 += 1\n",
    "n1"
   ]
  },
  {
   "cell_type": "markdown",
   "id": "c6ce5ae5",
   "metadata": {},
   "source": [
    "비교 연산자"
   ]
  },
  {
   "cell_type": "code",
   "execution_count": 20,
   "id": "9745706c",
   "metadata": {},
   "outputs": [],
   "source": [
    "# >\n",
    "# <\n",
    "# == (같다)\n",
    "# >=\n",
    "# <=\n",
    "# != (같지않다)\n",
    "# 6개의 연산자가 사용되고,\n",
    "#연산의 결과는 참(True)과 거짓(false)으로 반환한다."
   ]
  },
  {
   "cell_type": "code",
   "execution_count": 19,
   "id": "c3d55a8c",
   "metadata": {},
   "outputs": [
    {
     "data": {
      "text/plain": [
       "True"
      ]
     },
     "execution_count": 19,
     "metadata": {},
     "output_type": "execute_result"
    }
   ],
   "source": [
    "5 > 3"
   ]
  },
  {
   "cell_type": "markdown",
   "id": "4bd72e22",
   "metadata": {},
   "source": [
    "### 논리연산자"
   ]
  },
  {
   "cell_type": "code",
   "execution_count": 27,
   "id": "3aadf3e6",
   "metadata": {},
   "outputs": [],
   "source": [
    "# 논리연산의 결과는 True 또는 False으로 나온다.\n",
    "# and ex) 비교연산식 and 비교연산식  (5 > 3) and (7 > 2)\n",
    "# or      비교연산식 or 비교연산식   (5 > 3) or (7 > 2)\n",
    "# not     not 비교연산식    not 5 > 3\n",
    "\n",
    "# and\n",
    "# True and True -> True\n",
    "# True and False -> False\n",
    "# False and False -> False\n",
    "# False and True -> False\n",
    "\n",
    "# or\n",
    "# True or True -> True\n",
    "# True or False -> True\n",
    "# False or False -> False\n",
    "# False or True -> True\n",
    "\n",
    "# not\n",
    "# not True -> False\n",
    "# not False -> True"
   ]
  },
  {
   "cell_type": "code",
   "execution_count": 28,
   "id": "d0812592",
   "metadata": {},
   "outputs": [
    {
     "data": {
      "text/plain": [
       "False"
      ]
     },
     "execution_count": 28,
     "metadata": {},
     "output_type": "execute_result"
    }
   ],
   "source": [
    "not 5 > 3"
   ]
  },
  {
   "cell_type": "markdown",
   "id": "11d6d56d",
   "metadata": {},
   "source": [
    "# 문자열 연산자"
   ]
  },
  {
   "cell_type": "code",
   "execution_count": 41,
   "id": "b7c4f330",
   "metadata": {},
   "outputs": [
    {
     "data": {
      "text/plain": [
       "' 이충민  과대 30세'"
      ]
     },
     "execution_count": 41,
     "metadata": {},
     "output_type": "execute_result"
    }
   ],
   "source": [
    "' 이충민 ' + ' 과대 ' +'30세'"
   ]
  },
  {
   "cell_type": "code",
   "execution_count": 42,
   "id": "c8d87023",
   "metadata": {},
   "outputs": [
    {
     "data": {
      "text/plain": [
       "' 이충민  이충민 '"
      ]
     },
     "execution_count": 42,
     "metadata": {},
     "output_type": "execute_result"
    }
   ],
   "source": [
    "' 이충민 ' *2"
   ]
  },
  {
   "cell_type": "code",
   "execution_count": 50,
   "id": "972315bf",
   "metadata": {},
   "outputs": [
    {
     "name": "stdout",
     "output_type": "stream",
     "text": [
      "잔돈:  900 원\n",
      "500원: 1 개\n",
      "100원: 4 개\n"
     ]
    }
   ],
   "source": [
    "money1 = 2900  # 투입한 돈\n",
    "price = 1000   # 물건 값\n",
    "\n",
    "change1 = money1 % price  # 잔돈\n",
    "print('잔돈: ', change1 , '원')\n",
    "\n",
    "won_1 = change1 // 500\n",
    "won_2 = change1 % 500\n",
    "won_3 = won_2 // 100\n",
    "print('500원:', won_1, '개')\n",
    "print('100원:', won_3, '개')"
   ]
  },
  {
   "cell_type": "code",
   "execution_count": 58,
   "id": "16b5bd04",
   "metadata": {},
   "outputs": [
    {
     "name": "stdout",
     "output_type": "stream",
     "text": [
      "합은: 255  평균은: 85.0\n"
     ]
    }
   ],
   "source": [
    "# 세 과목에 대한 성적을 각각 변수에 저장한 후 합계와 평균을 출력\n",
    "kor,eng,math=100,75,80\n",
    "\n",
    "kor,eng,math\n",
    "sum = kor+eng+math\n",
    "avg = sum/3 \n",
    "print('합은:',sum, ' 평균은:', avg)"
   ]
  },
  {
   "cell_type": "code",
   "execution_count": 60,
   "id": "e537a5f3",
   "metadata": {},
   "outputs": [],
   "source": [
    "# 학년이 1학년이고, 평균 취득 학점이 4.5 이상을 만족하는 조건식\n",
    "# year == 1 and score >= 4.5"
   ]
  },
  {
   "cell_type": "code",
   "execution_count": null,
   "id": "290bfafb",
   "metadata": {},
   "outputs": [],
   "source": [
    "addr == '서울' or addr == '경기도'\n",
    "toeic >= 800 or com =='A학점'"
   ]
  },
  {
   "cell_type": "code",
   "execution_count": 66,
   "id": "3e144dc0",
   "metadata": {},
   "outputs": [
    {
     "name": "stdout",
     "output_type": "stream",
     "text": [
      "3 8 4\n"
     ]
    }
   ],
   "source": [
    "n = 384\n",
    "# d100 = n // 100\n",
    "# n = n % 100 \n",
    "# d10 = n // 10\n",
    "# n = n % 10\n",
    "# d1 = n // 1\n",
    "# n = n % 1\n",
    "\n",
    "d100 = n //100\n",
    "d10 = (n % 100) // 10\n",
    "d1 = n % 10\n",
    "print(d100, d10, d1)\n",
    "\n"
   ]
  },
  {
   "cell_type": "code",
   "execution_count": 74,
   "id": "9448555a",
   "metadata": {},
   "outputs": [
    {
     "name": "stdout",
     "output_type": "stream",
     "text": [
      "1 h 2 m 30 s\n"
     ]
    }
   ],
   "source": [
    "time = 3750\n",
    "minute = time // 60\n",
    "second = time % 60\n",
    "\n",
    "hour = minute // 60\n",
    "minute = minute % 60\n",
    "print(hour, 'h', minute,'m', second,'s')"
   ]
  },
  {
   "cell_type": "code",
   "execution_count": 105,
   "id": "205b2ab2",
   "metadata": {},
   "outputs": [
    {
     "ename": "TypeError",
     "evalue": "'str' object is not callable",
     "output_type": "error",
     "traceback": [
      "\u001b[1;31m---------------------------------------------------------------------------\u001b[0m",
      "\u001b[1;31mTypeError\u001b[0m                                 Traceback (most recent call last)",
      "\u001b[1;32m<ipython-input-105-49565be3bff0>\u001b[0m in \u001b[0;36m<module>\u001b[1;34m\u001b[0m\n\u001b[0;32m      4\u001b[0m \u001b[0msecond\u001b[0m \u001b[1;33m=\u001b[0m \u001b[0mtime\u001b[0m \u001b[1;33m%\u001b[0m \u001b[1;36m60\u001b[0m\u001b[1;33m\u001b[0m\u001b[1;33m\u001b[0m\u001b[0m\n\u001b[0;32m      5\u001b[0m \u001b[0msecond\u001b[0m\u001b[1;33m\u001b[0m\u001b[1;33m\u001b[0m\u001b[0m\n\u001b[1;32m----> 6\u001b[1;33m \u001b[0mprint\u001b[0m\u001b[1;33m(\u001b[0m\u001b[0mhour\u001b[0m\u001b[1;33m,\u001b[0m\u001b[0mminute\u001b[0m\u001b[1;33m,\u001b[0m\u001b[0msecond\u001b[0m\u001b[1;33m)\u001b[0m\u001b[1;33m\u001b[0m\u001b[1;33m\u001b[0m\u001b[0m\n\u001b[0m",
      "\u001b[1;31mTypeError\u001b[0m: 'str' object is not callable"
     ]
    }
   ],
   "source": [
    "time = 3700\n",
    "hour = time // (60 * 60)\n",
    "minute = time % (60*60) // 60\n",
    "second = time % 60\n",
    "second\n",
    "print(hour,minute,second)"
   ]
  },
  {
   "cell_type": "code",
   "execution_count": 84,
   "id": "669f509e",
   "metadata": {},
   "outputs": [
    {
     "name": "stdout",
     "output_type": "stream",
     "text": [
      "총 매출액: 110000 원\n",
      "순이익: 10000 원\n"
     ]
    }
   ],
   "source": [
    "ame = 2000\n",
    "cafelatee = 3000\n",
    "cafemoca = 4000\n",
    "total = (ame*20) +(cafelatee*10)+(cafemoca*10)\n",
    "mat_price = 100000\n",
    "profit= total - mat_price\n",
    "print('총 매출액:',total, '원')\n",
    "print('순이익:',profit, '원')"
   ]
  },
  {
   "cell_type": "markdown",
   "id": "0cd0c052",
   "metadata": {},
   "source": [
    "### 3장 입력과 출력"
   ]
  },
  {
   "cell_type": "code",
   "execution_count": 104,
   "id": "189e0b94",
   "metadata": {},
   "outputs": [
    {
     "ename": "TypeError",
     "evalue": "'str' object is not callable",
     "output_type": "error",
     "traceback": [
      "\u001b[1;31m---------------------------------------------------------------------------\u001b[0m",
      "\u001b[1;31mTypeError\u001b[0m                                 Traceback (most recent call last)",
      "\u001b[1;32m<ipython-input-104-950aea5aa185>\u001b[0m in \u001b[0;36m<module>\u001b[1;34m\u001b[0m\n\u001b[1;32m----> 1\u001b[1;33m \u001b[0mprint\u001b[0m\u001b[1;33m(\u001b[0m\u001b[1;34m'당신의 이름은 무엇입니까?'\u001b[0m\u001b[1;33m)\u001b[0m\u001b[1;33m\u001b[0m\u001b[1;33m\u001b[0m\u001b[0m\n\u001b[0m\u001b[0;32m      2\u001b[0m \u001b[0mneme\u001b[0m \u001b[1;33m=\u001b[0m \u001b[0minput\u001b[0m\u001b[1;33m(\u001b[0m\u001b[1;33m)\u001b[0m\u001b[1;33m\u001b[0m\u001b[1;33m\u001b[0m\u001b[0m\n\u001b[0;32m      3\u001b[0m \u001b[0mprint\u001b[0m\u001b[1;33m(\u001b[0m\u001b[1;34m'이름:'\u001b[0m\u001b[1;33m,\u001b[0m\u001b[0mname\u001b[0m\u001b[1;33m)\u001b[0m\u001b[1;33m\u001b[0m\u001b[1;33m\u001b[0m\u001b[0m\n",
      "\u001b[1;31mTypeError\u001b[0m: 'str' object is not callable"
     ]
    }
   ],
   "source": [
    "print('당신의 이름은 무엇입니까?')\n",
    "neme = input()\n",
    "print('이름:',name)"
   ]
  },
  {
   "cell_type": "code",
   "execution_count": 88,
   "id": "c23eaff5",
   "metadata": {},
   "outputs": [
    {
     "name": "stdout",
     "output_type": "stream",
     "text": [
      "당신의 혈액형은 무엇입니까?\n",
      "ab\n",
      "ab\n"
     ]
    }
   ],
   "source": [
    "print('당신의 혈액형은 무엇입니까?')\n",
    "b_type = input()\n",
    "print(b_type)"
   ]
  },
  {
   "cell_type": "code",
   "execution_count": 89,
   "id": "d25a0a3b",
   "metadata": {},
   "outputs": [
    {
     "name": "stdout",
     "output_type": "stream",
     "text": [
      "당신의 이름은 무엇입니까?서원우\n"
     ]
    }
   ],
   "source": [
    "name = input('당신의 이름은 무엇입니까?')\n",
    "print =(name*3)"
   ]
  },
  {
   "cell_type": "code",
   "execution_count": 3,
   "id": "c44e79fd",
   "metadata": {},
   "outputs": [
    {
     "name": "stdout",
     "output_type": "stream",
     "text": [
      "당신은 몇살 입니까?20\n",
      "2020\n"
     ]
    }
   ],
   "source": [
    "age = input('당신은 몇살 입니까?')\n",
    "print(age*2)\n",
    "#input()을 통해 입력받은 데이터는 무조건 문자로 저장된다."
   ]
  },
  {
   "cell_type": "code",
   "execution_count": 2,
   "id": "8439a597",
   "metadata": {
    "scrolled": true
   },
   "outputs": [
    {
     "name": "stdout",
     "output_type": "stream",
     "text": [
      "첫번째 수를 입력하시오10\n",
      "두번째 수를 입력하시오20\n",
      "두 수의 합은 30\n"
     ]
    }
   ],
   "source": [
    "n1 = input('첫번째 수를 입력하시오')\n",
    "n2 = input('두번째 수를 입력하시오')\n",
    "print('두 수의 합은', int(n1)+int(n2))"
   ]
  },
  {
   "cell_type": "code",
   "execution_count": 6,
   "id": "f9b160c3",
   "metadata": {
    "scrolled": true
   },
   "outputs": [
    {
     "name": "stdout",
     "output_type": "stream",
     "text": [
      "첫번째 수를 입력하시오10\n",
      "두번째 수를 입력하시오20\n",
      "두 수의 합은 30\n"
     ]
    }
   ],
   "source": [
    "n1 = int(input('첫번째 수를 입력하시오'))\n",
    "n2 = int(input('두번째 수를 입력하시오'))\n",
    "print('두 수의 합은',n1+n2)"
   ]
  },
  {
   "cell_type": "code",
   "execution_count": 1,
   "id": "ed8c0de6",
   "metadata": {},
   "outputs": [
    {
     "name": "stdout",
     "output_type": "stream",
     "text": [
      "박재영은 25 세이다\n",
      "박재영은25세이다\n"
     ]
    }
   ],
   "source": [
    "#'박재영은 25세이다'\n",
    "print('박재영은',25,'세이다')\n",
    "print('박재영은'+str(25)+'세이다')"
   ]
  },
  {
   "cell_type": "code",
   "execution_count": 7,
   "id": "5b5a61b1",
   "metadata": {},
   "outputs": [
    {
     "name": "stdout",
     "output_type": "stream",
     "text": [
      "3.4\n"
     ]
    }
   ],
   "source": [
    "c=float(input())"
   ]
  },
  {
   "cell_type": "code",
   "execution_count": 10,
   "id": "4a35ac2c",
   "metadata": {},
   "outputs": [
    {
     "name": "stdout",
     "output_type": "stream",
     "text": [
      "이름 입력: 서원우\n",
      "당신의 이름은 서원우입니다\n",
      "당신의 이름은  서원우 입니다\n"
     ]
    }
   ],
   "source": [
    "name =  input('이름 입력: ')\n",
    "print(\"당신의 이름은 \"+ name+ '입니다')\n",
    "print(\"당신의 이름은 \", name, '입니다')"
   ]
  },
  {
   "cell_type": "code",
   "execution_count": 14,
   "id": "e96d950c",
   "metadata": {},
   "outputs": [
    {
     "name": "stdout",
     "output_type": "stream",
     "text": [
      "이름 입력: 서원우\n",
      "당신의 이름은 서원우입니다yes\n",
      "안녕하세요 서원우님\n"
     ]
    }
   ],
   "source": [
    "name =  input('이름 입력: ')\n",
    "que = input(\"당신의 이름은 \"+ name+ '입니다')\n",
    "if que == 'y' or que == 'y' or que == 'yes' or que == 'yes':\n",
    "    print(\"안녕하세요 \"+name+'님')\n",
    "else :\n",
    "    print(\"이름을 다시 입력하세요\")"
   ]
  },
  {
   "cell_type": "code",
   "execution_count": 17,
   "id": "364a078f",
   "metadata": {},
   "outputs": [
    {
     "name": "stdout",
     "output_type": "stream",
     "text": [
      "5 + 10 = 15\n"
     ]
    }
   ],
   "source": [
    "#format 연산자\n",
    "print(\"{} + {} = {}\".format(5,10,5+10))"
   ]
  },
  {
   "cell_type": "code",
   "execution_count": 20,
   "id": "6af815a6",
   "metadata": {},
   "outputs": [
    {
     "name": "stdout",
     "output_type": "stream",
     "text": [
      "서원우는  24세이고, 혈액형은 ab이다.\n"
     ]
    }
   ],
   "source": [
    "print(\"{}는  {}세이고, 혈액형은 {}이다.\".format('서원우',24,'ab'))"
   ]
  },
  {
   "cell_type": "code",
   "execution_count": 2,
   "id": "0438f2ea",
   "metadata": {},
   "outputs": [
    {
     "name": "stdout",
     "output_type": "stream",
     "text": [
      "당신의 이름은 :서원우\n"
     ]
    }
   ],
   "source": [
    "name = input('당신의 이름은 :')"
   ]
  },
  {
   "cell_type": "code",
   "execution_count": 3,
   "id": "e46b0312",
   "metadata": {},
   "outputs": [
    {
     "name": "stdout",
     "output_type": "stream",
     "text": [
      "서원우\n"
     ]
    }
   ],
   "source": [
    "print(name)"
   ]
  },
  {
   "cell_type": "code",
   "execution_count": 6,
   "id": "7f3380cd",
   "metadata": {},
   "outputs": [
    {
     "name": "stdout",
     "output_type": "stream",
     "text": [
      "첫 번째 수를 입력하시오3\n"
     ]
    },
    {
     "data": {
      "text/plain": [
       "3"
      ]
     },
     "execution_count": 6,
     "metadata": {},
     "output_type": "execute_result"
    }
   ],
   "source": [
    "num1 = int(input('첫 번째 수를 입력하시오'))\n",
    "num1"
   ]
  },
  {
   "cell_type": "code",
   "execution_count": 7,
   "id": "bf50411b",
   "metadata": {},
   "outputs": [
    {
     "name": "stdout",
     "output_type": "stream",
     "text": [
      "당신의 이름은 :서원우\n",
      "당신의 나이는 :24\n",
      "당신의 혈액형은 :AB\n"
     ]
    }
   ],
   "source": [
    "name = input('당신의 이름은 :')\n",
    "age = input('당신의 나이는 :')\n",
    "b_t = input('당신의 혈액형은 :')"
   ]
  },
  {
   "cell_type": "markdown",
   "id": "17152617",
   "metadata": {},
   "source": [
    "#  출력형태\n",
    "1. ',' 출력\n",
    "2. %형식지정자\n",
    "3. .format 형식\n",
    "4. f-string 형식"
   ]
  },
  {
   "cell_type": "code",
   "execution_count": 10,
   "id": "5a20a0fc",
   "metadata": {},
   "outputs": [
    {
     "name": "stdout",
     "output_type": "stream",
     "text": [
      "당신의 이름은 서원우이고 나이는 24세 혈액형은 AB형 이다.\n"
     ]
    }
   ],
   "source": [
    "# 1. ',' 출력\n",
    "# 당신의 이름은 이충민이고, 나이는 30세, 혈액형은 O형이다.\n",
    "print('당신의 이름은',name+'이고', '나이는', age+'세','혈액형은',b_t+'형 이다.' )"
   ]
  },
  {
   "cell_type": "code",
   "execution_count": null,
   "id": "8357644f",
   "metadata": {},
   "outputs": [],
   "source": []
  },
  {
   "cell_type": "code",
   "execution_count": 12,
   "id": "7581fb63",
   "metadata": {},
   "outputs": [
    {
     "name": "stdout",
     "output_type": "stream",
     "text": [
      "당신의 이름은 서원우이고 나이는 24세 혈액형은 AB형 이다.\n"
     ]
    }
   ],
   "source": [
    "# 1. ',' 출력\n",
    "# 당신의 이름은 이충민이고, 나이는 30세, 혈액형은 O형이다.\n",
    "print('당신의 이름은 %s이고 나이는 %s세 혈액형은 %s형 이다.' %(name,age,b_t))"
   ]
  },
  {
   "cell_type": "markdown",
   "id": "42c8f9ea",
   "metadata": {},
   "source": [
    "# .fomat"
   ]
  },
  {
   "cell_type": "code",
   "execution_count": 13,
   "id": "6f779169",
   "metadata": {},
   "outputs": [
    {
     "name": "stdout",
     "output_type": "stream",
     "text": [
      "당신의 이름은 서원우이고 나이는 24세 혈액형은 AB형 이다.\n"
     ]
    }
   ],
   "source": [
    "print('당신의 이름은 {}이고 나이는 {}세 혈액형은 {}형 이다.' .format(name,age,b_t))"
   ]
  },
  {
   "cell_type": "code",
   "execution_count": 15,
   "id": "5b69ae85",
   "metadata": {},
   "outputs": [
    {
     "name": "stdout",
     "output_type": "stream",
     "text": [
      "개굴 개굴 개구리 노래를 한다.\n"
     ]
    }
   ],
   "source": [
    "print('{} {} {} 노래를 한다.' .format('개굴','개굴','개구리'))"
   ]
  },
  {
   "cell_type": "code",
   "execution_count": 16,
   "id": "84b25635",
   "metadata": {},
   "outputs": [
    {
     "name": "stdout",
     "output_type": "stream",
     "text": [
      "개굴 개굴 개구리 노래를 한다.\n"
     ]
    }
   ],
   "source": [
    "print('{1} {2} {0} 노래를 한다.' .format('개구리','개굴','개굴'))"
   ]
  },
  {
   "cell_type": "code",
   "execution_count": 17,
   "id": "6d819b94",
   "metadata": {},
   "outputs": [
    {
     "name": "stdout",
     "output_type": "stream",
     "text": [
      "개굴 개굴 개구리 노래를 한다.\n"
     ]
    }
   ],
   "source": [
    "print('{1} {1} {0} 노래를 한다.' .format('개구리','개굴'))"
   ]
  },
  {
   "cell_type": "markdown",
   "id": "209ee426",
   "metadata": {},
   "source": [
    "# f-string"
   ]
  },
  {
   "cell_type": "code",
   "execution_count": 25,
   "id": "0a0394e8",
   "metadata": {},
   "outputs": [
    {
     "name": "stdout",
     "output_type": "stream",
     "text": [
      "서원우의 나이는24세 이고, 혈액형은AB형이다.\n"
     ]
    }
   ],
   "source": [
    "print('{}의 나이는{}세 이고, 혈액형은{}형이다.' .format(name,age,b_t))"
   ]
  },
  {
   "cell_type": "code",
   "execution_count": 19,
   "id": "f2af3e33",
   "metadata": {
    "scrolled": false
   },
   "outputs": [
    {
     "ename": "SyntaxError",
     "evalue": "invalid syntax (<ipython-input-19-7cf18f205ea8>, line 1)",
     "output_type": "error",
     "traceback": [
      "\u001b[1;36m  File \u001b[1;32m\"<ipython-input-19-7cf18f205ea8>\"\u001b[1;36m, line \u001b[1;32m1\u001b[0m\n\u001b[1;33m    print(f '{'개굴'} {'개굴'} {'개구리'} 노래를 한다.')\u001b[0m\n\u001b[1;37m            ^\u001b[0m\n\u001b[1;31mSyntaxError\u001b[0m\u001b[1;31m:\u001b[0m invalid syntax\n"
     ]
    }
   ],
   "source": [
    "print(f '{'개굴'} {'개굴'} {'개구리'} 노래를 한다.')"
   ]
  },
  {
   "cell_type": "code",
   "execution_count": 27,
   "id": "2007bb9f",
   "metadata": {},
   "outputs": [
    {
     "name": "stdout",
     "output_type": "stream",
     "text": [
      "서원우의 나이는24세이고, 혈액형은AB형이다\n"
     ]
    }
   ],
   "source": [
    "print(f'{name}의 나이는{age}세이고, 혈액형은{b_t}형이다')"
   ]
  },
  {
   "cell_type": "code",
   "execution_count": 28,
   "id": "44777eaf",
   "metadata": {},
   "outputs": [
    {
     "name": "stdout",
     "output_type": "stream",
     "text": [
      "1 + 2 = 3\n"
     ]
    }
   ],
   "source": [
    "print(1, '+', 2, '=', 1+2)"
   ]
  },
  {
   "cell_type": "code",
   "execution_count": 29,
   "id": "33d756f4",
   "metadata": {},
   "outputs": [
    {
     "name": "stdout",
     "output_type": "stream",
     "text": [
      "1 + 2 = 3\n"
     ]
    }
   ],
   "source": [
    "print('%d + %d = %d'%(1,2,1+2))"
   ]
  },
  {
   "cell_type": "code",
   "execution_count": 31,
   "id": "9756a068",
   "metadata": {},
   "outputs": [
    {
     "name": "stdout",
     "output_type": "stream",
     "text": [
      "1 + 2 = 3\n"
     ]
    }
   ],
   "source": [
    "print('{} + {} = {}' .format(1,2,1+2))"
   ]
  },
  {
   "cell_type": "code",
   "execution_count": 30,
   "id": "8c8ead27",
   "metadata": {},
   "outputs": [
    {
     "name": "stdout",
     "output_type": "stream",
     "text": [
      "1+2=3\n"
     ]
    }
   ],
   "source": [
    "print(f'{1}+{2}={1+2}')"
   ]
  },
  {
   "cell_type": "code",
   "execution_count": 47,
   "id": "5837f791",
   "metadata": {},
   "outputs": [
    {
     "name": "stdout",
     "output_type": "stream",
     "text": [
      "원주율은 3.14이다.\n"
     ]
    }
   ],
   "source": [
    "pi = 3.141592\n",
    "\"원주율은 3.14이다.\"\n",
    "print('원주율은 {:.2f}이다.' .format(pi))"
   ]
  },
  {
   "cell_type": "code",
   "execution_count": 50,
   "id": "3146b616",
   "metadata": {},
   "outputs": [
    {
     "name": "stdout",
     "output_type": "stream",
     "text": [
      "원주율은 3.14이다.\n"
     ]
    }
   ],
   "source": [
    "print(f'원주율은 {pi:.2f}이다.')"
   ]
  },
  {
   "cell_type": "code",
   "execution_count": 34,
   "id": "48c94680",
   "metadata": {},
   "outputs": [
    {
     "name": "stdout",
     "output_type": "stream",
     "text": [
      "학번 입력:2517110136\n",
      "이름 입력:서원우\n",
      "학번은 2517110136 이고, 이름은 서원우 입니다.\n"
     ]
    }
   ],
   "source": [
    "hakbun = input('학번 입력:')\n",
    "name = input('이름 입력:')\n",
    "print('학번은',hakbun,'이고, 이름은',name,'입니다.')"
   ]
  },
  {
   "cell_type": "code",
   "execution_count": 39,
   "id": "a8102a08",
   "metadata": {},
   "outputs": [
    {
     "name": "stdout",
     "output_type": "stream",
     "text": [
      "반지름 입력:5\n",
      "원의 넓이는 78.50 입니다.\n"
     ]
    }
   ],
   "source": [
    "radius = int(input('반지름 입력:'))\n",
    "area = 3.14 * radius * radius\n",
    "print('원의 넓이는 %.2f 입니다.' %area)"
   ]
  },
  {
   "cell_type": "code",
   "execution_count": 58,
   "id": "e0177c4b",
   "metadata": {},
   "outputs": [
    {
     "name": "stdout",
     "output_type": "stream",
     "text": [
      "시간의 전체 초 입력: 3700\n",
      "3700은, 61분, 40초 \n",
      "3700 초: 61 분 40 초\n",
      "3700초: 61분 40초\n"
     ]
    }
   ],
   "source": [
    "# f-string\n",
    "total = int(input('시간의 전체 초 입력: '))\n",
    "minute = total // 60\n",
    "sec = total %60\n",
    "print(f'{total}은, {minute}분, {sec}초 ') # f-string\n",
    "print(total,'초:',minute,'분',sec,'초')   # 콤마\n",
    "print('{}초: {}분 {}초' .format(total,minute,sec)) # .format"
   ]
  },
  {
   "cell_type": "code",
   "execution_count": 67,
   "id": "713616f6",
   "metadata": {},
   "outputs": [
    {
     "name": "stdout",
     "output_type": "stream",
     "text": [
      "이름 입력:서원우\n",
      "출생년도 입력:2002\n",
      "서원우님의 한국 나이는 24살.\n",
      "서원우님의 한국 나이는 24살.\n",
      "서원우 님의 한국 나이는 24 살.\n",
      "서원우님의 한국 나이는 24살.\n"
     ]
    }
   ],
   "source": [
    "name = input('이름 입력:')\n",
    "year = int(input('출생년도 입력:'))\n",
    "age = 2025 - year +1\n",
    "print(f'{name}님의 한국 나이는 {age}살.')\n",
    "print('{}님의 한국 나이는 {}살.' .format(name,age))\n",
    "print(name,'님의 한국 나이는',age,'살.')\n",
    "print(name+'님의 한국 나이는',str(age) + '살.')"
   ]
  },
  {
   "cell_type": "code",
   "execution_count": 76,
   "id": "f2ba6d31",
   "metadata": {},
   "outputs": [
    {
     "name": "stdout",
     "output_type": "stream",
     "text": [
      "밑변의 길이:3.5\n",
      "높이의 길이:9.7\n",
      "밑변 3.50, 높이 9.70 인 삼각형의 넓이: 16.97\n"
     ]
    }
   ],
   "source": [
    "base = float(input('밑변의 길이:'))\n",
    "height = float(input('높이의 길이:'))\n",
    "area = base * height / 2\n",
    "print(f'밑변 {base:.2f}, 높이 {height:.2f} 인 삼각형의 넓이: {area:.2f}')"
   ]
  },
  {
   "cell_type": "code",
   "execution_count": 82,
   "id": "ea36a22e",
   "metadata": {},
   "outputs": [
    {
     "ename": "SyntaxError",
     "evalue": "invalid syntax (<ipython-input-82-e830203bfeea>, line 4)",
     "output_type": "error",
     "traceback": [
      "\u001b[1;36m  File \u001b[1;32m\"<ipython-input-82-e830203bfeea>\"\u001b[1;36m, line \u001b[1;32m4\u001b[0m\n\u001b[1;33m    print('밑변',base, '높이',height, '인 삼각형의 넓이:',area:.2f)\u001b[0m\n\u001b[1;37m                                                   ^\u001b[0m\n\u001b[1;31mSyntaxError\u001b[0m\u001b[1;31m:\u001b[0m invalid syntax\n"
     ]
    }
   ],
   "source": [
    "base = float(input('밑변의 길이:'))\n",
    "height = float(input('높이의 길이:'))\n",
    "area = base * height / 2\n",
    "print('밑변',base, '높이',height, '인 삼각형의 넓이:',area:.2f)\n",
    "# 콤마로는 실수를 표현할 수 없다."
   ]
  },
  {
   "cell_type": "code",
   "execution_count": 8,
   "id": "1105c905",
   "metadata": {},
   "outputs": [
    {
     "name": "stdout",
     "output_type": "stream",
     "text": [
      "키 입력:180\n",
      "키 180cm 의 표준 체중은 72kg 입니다.\n",
      "키 180 cm 의 표준 체중은 72 kg 입니다.\n",
      "키 180cm 의 표준 체중은 72kg 입니다.\n",
      "키 180cm 의 표준 체중은 72kg 입니다.\n",
      "키 180.0cm 의 표준 체중은 72.0kg 입니다.\n"
     ]
    }
   ],
   "source": [
    "height = float(input('키 입력:'))\n",
    "weight = (height - 100)*0.9\n",
    "print(f'키 {height:.0f}cm 의 표준 체중은 {weight:.0f}kg 입니다.')\n",
    "print('키 %d cm 의 표준 체중은 %d kg 입니다.' %(height,weight))\n",
    "\n",
    "print('키 {}cm 의 표준 체중은 {}kg 입니다.' .format(int(height),int(weight)))\n",
    "print('키 {:.0f}cm 의 표준 체중은 {:.0f}kg 입니다.' .format(height,weight))\n",
    "print('키 {}cm 의 표준 체중은 {}kg 입니다.' .format(height,weight))"
   ]
  },
  {
   "cell_type": "code",
   "execution_count": 9,
   "id": "3f44c24d",
   "metadata": {},
   "outputs": [
    {
     "name": "stdout",
     "output_type": "stream",
     "text": [
      "키 18cm 의 표준 체중은 18kg 입니다.\n",
      "키 19cm 의 표준 체중은 19kg 입니다.\n"
     ]
    }
   ],
   "source": [
    "print('키 {}cm 의 표준 체중은 {}kg 입니다.' .format(int(18.8),int(18.8)))\n",
    "print('키 {:.0f}cm 의 표준 체중은 {:.0f}kg 입니다.' .format(18.8,18.8))\n",
    "# int로 형을 변환하게 되면, 소숫점을 버림 처리한다.\n",
    "# 보통은 반올림함"
   ]
  },
  {
   "cell_type": "code",
   "execution_count": 15,
   "id": "c6a1df70",
   "metadata": {},
   "outputs": [
    {
     "name": "stdout",
     "output_type": "stream",
     "text": [
      "국어점수86\n",
      "영어점수82\n",
      "수학점수97\n",
      "국어:86점, 영어:82점, 수학:97점 => 총점:265.00, 평균:88.33\n"
     ]
    }
   ],
   "source": [
    "kor = int(input('국어점수'))\n",
    "eng = int(input('영어점수'))\n",
    "met = int(input('수학점수'))\n",
    "sum1 = kor + eng + met \n",
    "avg = sum1 / 3\n",
    "print(f'국어:{kor}점, 영어:{eng}점, 수학:{met}점 => 총점:{sum1:.2f}, 평균:{avg:.2f}')"
   ]
  },
  {
   "cell_type": "markdown",
   "id": "86bd85da",
   "metadata": {},
   "source": [
    "# 4장. 기본 자료형"
   ]
  },
  {
   "cell_type": "code",
   "execution_count": 6,
   "id": "531214a6",
   "metadata": {},
   "outputs": [
    {
     "name": "stdout",
     "output_type": "stream",
     "text": [
      "첫번째 수를 입력하시오2\n",
      "두번째 수를 입력하시오4\n"
     ]
    },
    {
     "data": {
      "text/plain": [
       "6"
      ]
     },
     "execution_count": 6,
     "metadata": {},
     "output_type": "execute_result"
    }
   ],
   "source": [
    "# 다음주 - 리스트, 튜플, 딕셔너리, 집합\n",
    "# 기본 자료형 - int, str, float, bool\n",
    "# type(3.14)\n",
    "# 문자의 인덱싱과 슬라이싱\n",
    "num1 = input('첫번째 수를 입력하시오')\n",
    "num2 = input('두번째 수를 입력하시오')\n",
    "int(num1) + int(num2)"
   ]
  },
  {
   "cell_type": "code",
   "execution_count": 8,
   "id": "06ada0b0",
   "metadata": {},
   "outputs": [
    {
     "name": "stdout",
     "output_type": "stream",
     "text": [
      "첫번째 수를 입력하시오2\n",
      "두번째 수를 입력하시오5\n"
     ]
    },
    {
     "data": {
      "text/plain": [
       "7"
      ]
     },
     "execution_count": 8,
     "metadata": {},
     "output_type": "execute_result"
    }
   ],
   "source": [
    "num1 = int(input('첫번째 수를 입력하시오'))\n",
    "num2 = int(input('두번째 수를 입력하시오'))\n",
    "num1 + num2"
   ]
  },
  {
   "cell_type": "code",
   "execution_count": 11,
   "id": "faeaf907",
   "metadata": {},
   "outputs": [
    {
     "name": "stdout",
     "output_type": "stream",
     "text": [
      "첫번째 수를 입력하시오3.25\n",
      "<class 'float'> 3.25\n"
     ]
    }
   ],
   "source": [
    "num1 = float(input('첫번째 수를 입력하시오'))\n",
    "print (type(num1), num1)"
   ]
  },
  {
   "cell_type": "code",
   "execution_count": 12,
   "id": "efa59e5b",
   "metadata": {},
   "outputs": [
    {
     "data": {
      "text/plain": [
       "2.0"
      ]
     },
     "execution_count": 12,
     "metadata": {},
     "output_type": "execute_result"
    }
   ],
   "source": [
    "4/2 # 항상 실수"
   ]
  },
  {
   "cell_type": "code",
   "execution_count": 13,
   "id": "c67110e8",
   "metadata": {},
   "outputs": [
    {
     "data": {
      "text/plain": [
       "6.0"
      ]
     },
     "execution_count": 13,
     "metadata": {},
     "output_type": "execute_result"
    }
   ],
   "source": [
    " 3 + 3.0"
   ]
  },
  {
   "cell_type": "code",
   "execution_count": 14,
   "id": "1444dc21",
   "metadata": {},
   "outputs": [
    {
     "data": {
      "text/plain": [
       "3"
      ]
     },
     "execution_count": 14,
     "metadata": {},
     "output_type": "execute_result"
    }
   ],
   "source": [
    "int(3.94)"
   ]
  },
  {
   "cell_type": "code",
   "execution_count": 15,
   "id": "e554f1b4",
   "metadata": {},
   "outputs": [
    {
     "data": {
      "text/plain": [
       "9.0"
      ]
     },
     "execution_count": 15,
     "metadata": {},
     "output_type": "execute_result"
    }
   ],
   "source": [
    "3 * 3.0"
   ]
  },
  {
   "cell_type": "code",
   "execution_count": 19,
   "id": "c3a8ea6a",
   "metadata": {},
   "outputs": [
    {
     "data": {
      "text/plain": [
       "6"
      ]
     },
     "execution_count": 19,
     "metadata": {},
     "output_type": "execute_result"
    }
   ],
   "source": [
    "name = '이충민박재영'\n",
    "len(name)"
   ]
  },
  {
   "cell_type": "code",
   "execution_count": 18,
   "id": "a7812c78",
   "metadata": {},
   "outputs": [
    {
     "data": {
      "text/plain": [
       "25"
      ]
     },
     "execution_count": 18,
     "metadata": {},
     "output_type": "execute_result"
    }
   ],
   "source": [
    "s = 'wfwdfdfgdfgdlkfgjdsl;kfgd'\n",
    "len(s)"
   ]
  },
  {
   "cell_type": "code",
   "execution_count": 22,
   "id": "b86f193d",
   "metadata": {},
   "outputs": [
    {
     "data": {
      "text/plain": [
       "7"
      ]
     },
     "execution_count": 22,
     "metadata": {},
     "output_type": "execute_result"
    }
   ],
   "source": [
    "# 문자는 문자와 결합(덧셈)된다\n",
    "s1 ='이충민'+'박재영'+' '\n",
    "len(s1)"
   ]
  },
  {
   "cell_type": "code",
   "execution_count": 23,
   "id": "d0e6eebb",
   "metadata": {},
   "outputs": [
    {
     "data": {
      "text/plain": [
       "'이충민박재영 이충민박재영 '"
      ]
     },
     "execution_count": 23,
     "metadata": {},
     "output_type": "execute_result"
    }
   ],
   "source": [
    "# 문자는 곱셈도 된다.\n",
    "s1 *2"
   ]
  },
  {
   "cell_type": "code",
   "execution_count": 25,
   "id": "eb7fc4e7",
   "metadata": {},
   "outputs": [
    {
     "data": {
      "text/plain": [
       "'이충민'"
      ]
     },
     "execution_count": 25,
     "metadata": {},
     "output_type": "execute_result"
    }
   ],
   "source": [
    "# 인덱싱 - indexing - 인덱스 번호로 데이터를 추출하는 행위\n",
    "s1[1]\n",
    "s1[0] + s1[1] + s1[2]"
   ]
  },
  {
   "cell_type": "code",
   "execution_count": 26,
   "id": "cced8333",
   "metadata": {},
   "outputs": [
    {
     "data": {
      "text/plain": [
       "' '"
      ]
     },
     "execution_count": 26,
     "metadata": {},
     "output_type": "execute_result"
    }
   ],
   "source": [
    "s1[6]"
   ]
  },
  {
   "cell_type": "code",
   "execution_count": 46,
   "id": "755f27a9",
   "metadata": {},
   "outputs": [
    {
     "data": {
      "text/plain": [
       "'?'"
      ]
     },
     "execution_count": 46,
     "metadata": {},
     "output_type": "execute_result"
    }
   ],
   "source": [
    "s2 = 'mechatronics fighting!!!?'\n",
    "len(s2)\n",
    "s2[len(s2)-1]"
   ]
  },
  {
   "cell_type": "code",
   "execution_count": 35,
   "id": "464bb74b",
   "metadata": {},
   "outputs": [
    {
     "data": {
      "text/plain": [
       "'?'"
      ]
     },
     "execution_count": 35,
     "metadata": {},
     "output_type": "execute_result"
    }
   ],
   "source": [
    "s2[24]"
   ]
  },
  {
   "cell_type": "code",
   "execution_count": 36,
   "id": "51f073ec",
   "metadata": {},
   "outputs": [
    {
     "data": {
      "text/plain": [
       "'?'"
      ]
     },
     "execution_count": 36,
     "metadata": {},
     "output_type": "execute_result"
    }
   ],
   "source": [
    "s2[-1]"
   ]
  },
  {
   "cell_type": "code",
   "execution_count": 37,
   "id": "5f9358a3",
   "metadata": {},
   "outputs": [
    {
     "data": {
      "text/plain": [
       "'!'"
      ]
     },
     "execution_count": 37,
     "metadata": {},
     "output_type": "execute_result"
    }
   ],
   "source": [
    "s2[-2]"
   ]
  },
  {
   "cell_type": "code",
   "execution_count": 43,
   "id": "6c46d9d1",
   "metadata": {},
   "outputs": [
    {
     "data": {
      "text/plain": [
       "'mach'"
      ]
     },
     "execution_count": 43,
     "metadata": {},
     "output_type": "execute_result"
    }
   ],
   "source": [
    "#슬라이싱 - ~부터 ~ 까지 잘라내는 행위\n",
    "s2[0:4] # 시작 인덱스 번호는 포함하고, 끝 인덱스 범위는 포함하지 않는다"
   ]
  },
  {
   "cell_type": "code",
   "execution_count": 47,
   "id": "d7752dad",
   "metadata": {},
   "outputs": [
    {
     "data": {
      "text/plain": [
       "'mechatronics'"
      ]
     },
     "execution_count": 47,
     "metadata": {},
     "output_type": "execute_result"
    }
   ],
   "source": [
    "s2[0:12]"
   ]
  },
  {
   "cell_type": "code",
   "execution_count": 48,
   "id": "d355257f",
   "metadata": {},
   "outputs": [
    {
     "data": {
      "text/plain": [
       "'mechatronics'"
      ]
     },
     "execution_count": 48,
     "metadata": {},
     "output_type": "execute_result"
    }
   ],
   "source": [
    "s2[:12]"
   ]
  },
  {
   "cell_type": "code",
   "execution_count": 50,
   "id": "c06cfa78",
   "metadata": {},
   "outputs": [
    {
     "data": {
      "text/plain": [
       "'mechatronics fighting!!!'"
      ]
     },
     "execution_count": 50,
     "metadata": {},
     "output_type": "execute_result"
    }
   ],
   "source": [
    "s2[:-1]"
   ]
  },
  {
   "cell_type": "code",
   "execution_count": 52,
   "id": "a25d9812",
   "metadata": {},
   "outputs": [
    {
     "data": {
      "text/plain": [
       "'mechatronics fighting!!!?'"
      ]
     },
     "execution_count": 52,
     "metadata": {},
     "output_type": "execute_result"
    }
   ],
   "source": [
    "s2[:]"
   ]
  },
  {
   "cell_type": "code",
   "execution_count": 53,
   "id": "dfcd61c6",
   "metadata": {},
   "outputs": [
    {
     "data": {
      "text/plain": [
       "'mechatronics fightin'"
      ]
     },
     "execution_count": 53,
     "metadata": {},
     "output_type": "execute_result"
    }
   ],
   "source": [
    "s2[:-5]"
   ]
  },
  {
   "cell_type": "code",
   "execution_count": 63,
   "id": "cf681e17",
   "metadata": {},
   "outputs": [
    {
     "data": {
      "text/plain": [
       "'ma'"
      ]
     },
     "execution_count": 63,
     "metadata": {},
     "output_type": "execute_result"
    }
   ],
   "source": [
    "s2[0:5:4] #[시작:끝:스텝]"
   ]
  },
  {
   "cell_type": "code",
   "execution_count": 68,
   "id": "c0ae3856",
   "metadata": {},
   "outputs": [
    {
     "data": {
      "text/plain": [
       "'mcarnc ihig!?'"
      ]
     },
     "execution_count": 68,
     "metadata": {},
     "output_type": "execute_result"
    }
   ],
   "source": [
    "s2[::2]"
   ]
  },
  {
   "cell_type": "code",
   "execution_count": 72,
   "id": "3f407961",
   "metadata": {},
   "outputs": [
    {
     "name": "stdout",
     "output_type": "stream",
     "text": [
      "hong\n"
     ]
    }
   ],
   "source": [
    "name = 'hong gilding'\n",
    "family_name= name[:4]\n",
    "print(family_name)"
   ]
  },
  {
   "cell_type": "code",
   "execution_count": 74,
   "id": "11d9d4ac",
   "metadata": {},
   "outputs": [
    {
     "name": "stdout",
     "output_type": "stream",
     "text": [
      "연필개수:4\n",
      "펜 개수:5\n",
      "5600\n"
     ]
    }
   ],
   "source": [
    "pencil=int(input('연필개수:'))\n",
    "pen=int(input('펜 개수:'))\n",
    "total_price=pencil*400+pen*800\n",
    "print(total_price)"
   ]
  },
  {
   "cell_type": "code",
   "execution_count": 1,
   "id": "d1a7f8ad",
   "metadata": {},
   "outputs": [
    {
     "name": "stdout",
     "output_type": "stream",
     "text": [
      "A과목:90\n",
      "B과목:80\n",
      "C과목:70\n",
      "평균:80.0\n",
      "평균: 80.0\n",
      "평균:80.0\n",
      "평균:80\n",
      "총합:240\n"
     ]
    }
   ],
   "source": [
    "A=int(input('A과목:'))\n",
    "B=int(input('B과목:'))\n",
    "C=int(input('C과목:'))\n",
    "total= A+B+C\n",
    "avg= total/3\n",
    "\n",
    "print(f'평균:{avg}')\n",
    "print('평균:',avg)\n",
    "print('평균:{}'.format(avg))\n",
    "print('평균:%d'%(avg))\n",
    "\n",
    "\n",
    "print(f'총합:{total}')"
   ]
  },
  {
   "cell_type": "code",
   "execution_count": 4,
   "id": "d6506138",
   "metadata": {},
   "outputs": [
    {
     "name": "stdout",
     "output_type": "stream",
     "text": [
      "구입 음악 개수 :9\n",
      "총 가격:3600원\n",
      "할인금액 : 1080원\n",
      "총 구입 가격: 2520원\n"
     ]
    }
   ],
   "source": [
    "music=int(input('구입 음악 개수 :'))\n",
    "total = music*400\n",
    "sale = total*0.3\n",
    "price = total-price\n",
    "print(f'총 가격:{total}원')\n",
    "print(f'할인금액 : {sale:.0f}원')\n",
    "print(f'총 구입 가격: {price:.0f}원')\n"
   ]
  },
  {
   "cell_type": "code",
   "execution_count": 11,
   "id": "62ad416f",
   "metadata": {},
   "outputs": [
    {
     "name": "stdout",
     "output_type": "stream",
     "text": [
      "이름 :서원우\n",
      "연락처 :010-5347-3227\n",
      "서원우 01053473227\n"
     ]
    }
   ],
   "source": [
    "name = input('이름 :')\n",
    "phone = input('연락처 :')\n",
    "print(name, phone[:3]+phone[4:8]+phone[9:])"
   ]
  },
  {
   "cell_type": "markdown",
   "id": "35b93c11",
   "metadata": {},
   "source": [
    "# 5장, 컬렉션 자료형(collection type)\n",
    "### 리스트, 튜플, 딕셔너리. 집합(set)"
   ]
  },
  {
   "cell_type": "code",
   "execution_count": 16,
   "id": "d801020e",
   "metadata": {
    "scrolled": true
   },
   "outputs": [
    {
     "data": {
      "text/plain": [
       "list"
      ]
     },
     "execution_count": 16,
     "metadata": {},
     "output_type": "execute_result"
    }
   ],
   "source": [
    "# 리스트 (중요)\n",
    "a = [1,2,3,4,5]\n",
    "type(a)"
   ]
  },
  {
   "cell_type": "code",
   "execution_count": 57,
   "id": "bcfc5c8f",
   "metadata": {},
   "outputs": [
    {
     "data": {
      "text/plain": [
       "tuple"
      ]
     },
     "execution_count": 57,
     "metadata": {},
     "output_type": "execute_result"
    }
   ],
   "source": [
    "a = 1,2,3\n",
    "type(a)"
   ]
  },
  {
   "cell_type": "code",
   "execution_count": 17,
   "id": "245f9ba5",
   "metadata": {},
   "outputs": [
    {
     "data": {
      "text/plain": [
       "15"
      ]
     },
     "execution_count": 17,
     "metadata": {},
     "output_type": "execute_result"
    }
   ],
   "source": [
    "sum(a)"
   ]
  },
  {
   "cell_type": "code",
   "execution_count": 18,
   "id": "8460d25f",
   "metadata": {},
   "outputs": [
    {
     "data": {
      "text/plain": [
       "5"
      ]
     },
     "execution_count": 18,
     "metadata": {},
     "output_type": "execute_result"
    }
   ],
   "source": [
    "max(a)"
   ]
  },
  {
   "cell_type": "code",
   "execution_count": 19,
   "id": "8bbc0ab1",
   "metadata": {},
   "outputs": [
    {
     "data": {
      "text/plain": [
       "1"
      ]
     },
     "execution_count": 19,
     "metadata": {},
     "output_type": "execute_result"
    }
   ],
   "source": [
    "min(a)"
   ]
  },
  {
   "cell_type": "code",
   "execution_count": 20,
   "id": "30accf6b",
   "metadata": {
    "scrolled": true
   },
   "outputs": [
    {
     "name": "stdout",
     "output_type": "stream",
     "text": [
      "합계: 150 평균: 30.0\n"
     ]
    }
   ],
   "source": [
    "# 리스트를 사용하는 이유\n",
    "n1 = 10\n",
    "n2 = 20\n",
    "n3 = 30\n",
    "n4 = 40\n",
    "n5 = 50\n",
    "total = n1 + n2 + n3 + n4 + n5\n",
    "avg = total / 5\n",
    "print('합계:', total, '평균:', avg)"
   ]
  },
  {
   "cell_type": "code",
   "execution_count": 21,
   "id": "eefaec27",
   "metadata": {},
   "outputs": [
    {
     "name": "stdout",
     "output_type": "stream",
     "text": [
      "합계: 150 평균: 30.0\n"
     ]
    }
   ],
   "source": [
    "n = [10,20,30,40,50]\n",
    "total = n[0]+n[1]+n[2]+n[3]+n[4]\n",
    "avg = total / 5\n",
    "print('합계:', total, '평균:', avg)"
   ]
  },
  {
   "cell_type": "code",
   "execution_count": 25,
   "id": "3bcbb216",
   "metadata": {},
   "outputs": [
    {
     "data": {
      "text/plain": [
       "[10, 30, 50]"
      ]
     },
     "execution_count": 25,
     "metadata": {},
     "output_type": "execute_result"
    }
   ],
   "source": [
    "n[::2]"
   ]
  },
  {
   "cell_type": "code",
   "execution_count": 30,
   "id": "85fbb50b",
   "metadata": {},
   "outputs": [],
   "source": [
    "n = [10,20,'박재영','이충민','1B',[10,20]]"
   ]
  },
  {
   "cell_type": "code",
   "execution_count": 31,
   "id": "a2cb6f5f",
   "metadata": {},
   "outputs": [
    {
     "data": {
      "text/plain": [
       "[10, 20]"
      ]
     },
     "execution_count": 31,
     "metadata": {},
     "output_type": "execute_result"
    }
   ],
   "source": [
    "n[-1]"
   ]
  },
  {
   "cell_type": "code",
   "execution_count": 33,
   "id": "40f7524b",
   "metadata": {
    "scrolled": true
   },
   "outputs": [
    {
     "data": {
      "text/plain": [
       "20"
      ]
     },
     "execution_count": 33,
     "metadata": {},
     "output_type": "execute_result"
    }
   ],
   "source": [
    "n[-1][1]"
   ]
  },
  {
   "cell_type": "code",
   "execution_count": 35,
   "id": "04a8f7c7",
   "metadata": {},
   "outputs": [
    {
     "data": {
      "text/plain": [
       "[10, 20, '박재영', '이충민', '1B', '담요']"
      ]
     },
     "execution_count": 35,
     "metadata": {},
     "output_type": "execute_result"
    }
   ],
   "source": [
    "n[-1] = '담요'\n",
    "n"
   ]
  },
  {
   "cell_type": "code",
   "execution_count": 36,
   "id": "8bef30cf",
   "metadata": {},
   "outputs": [
    {
     "data": {
      "text/plain": [
       "6"
      ]
     },
     "execution_count": 36,
     "metadata": {},
     "output_type": "execute_result"
    }
   ],
   "source": [
    "len(n)"
   ]
  },
  {
   "cell_type": "code",
   "execution_count": 39,
   "id": "1497314c",
   "metadata": {},
   "outputs": [
    {
     "data": {
      "text/plain": [
       "'영'"
      ]
     },
     "execution_count": 39,
     "metadata": {},
     "output_type": "execute_result"
    }
   ],
   "source": [
    "n[2][2]"
   ]
  },
  {
   "cell_type": "code",
   "execution_count": 41,
   "id": "7c4333a8",
   "metadata": {},
   "outputs": [
    {
     "data": {
      "text/plain": [
       "30"
      ]
     },
     "execution_count": 41,
     "metadata": {},
     "output_type": "execute_result"
    }
   ],
   "source": [
    "n[0]+n[1]"
   ]
  },
  {
   "cell_type": "code",
   "execution_count": 42,
   "id": "398410b8",
   "metadata": {},
   "outputs": [
    {
     "data": {
      "text/plain": [
       "'이충민담요'"
      ]
     },
     "execution_count": 42,
     "metadata": {},
     "output_type": "execute_result"
    }
   ],
   "source": [
    "n[3]+n[-1]"
   ]
  },
  {
   "cell_type": "code",
   "execution_count": null,
   "id": "f2a5d4b8",
   "metadata": {},
   "outputs": [],
   "source": []
  },
  {
   "cell_type": "code",
   "execution_count": 44,
   "id": "0c6eb4bf",
   "metadata": {},
   "outputs": [],
   "source": [
    "#리스트의 메서드(method) (기능(function:함수, 메서드))\n",
    "#append - 붙이다. #appendix 첨부.\n",
    "#count\n",
    "#copy\n",
    "#clear\n",
    "#insert\n",
    "#index\n",
    "#pop\n",
    "#remove\n",
    "#reverse\n",
    "#sort\n",
    "n.append('메카')"
   ]
  },
  {
   "cell_type": "code",
   "execution_count": 46,
   "id": "bca3234b",
   "metadata": {},
   "outputs": [
    {
     "data": {
      "text/plain": [
       "[10, 20, '박재영', '이충민', '1B', '담요', '메카', '메카', [30, 40], [30, 40]]"
      ]
     },
     "execution_count": 46,
     "metadata": {},
     "output_type": "execute_result"
    }
   ],
   "source": [
    "n.append([30,40])\n",
    "n"
   ]
  },
  {
   "cell_type": "code",
   "execution_count": 48,
   "id": "419c0684",
   "metadata": {},
   "outputs": [
    {
     "data": {
      "text/plain": [
       "[10, 20, '박재영', '이충민', '1B', '담요', '메카', '메카', [30, 40], [30, 40], '메카', '메카']"
      ]
     },
     "execution_count": 48,
     "metadata": {},
     "output_type": "execute_result"
    }
   ],
   "source": [
    "n.append('메카')\n",
    "n"
   ]
  },
  {
   "cell_type": "code",
   "execution_count": 50,
   "id": "e9b9a08e",
   "metadata": {},
   "outputs": [
    {
     "data": {
      "text/plain": [
       "4"
      ]
     },
     "execution_count": 50,
     "metadata": {},
     "output_type": "execute_result"
    }
   ],
   "source": [
    "n.count('메카')"
   ]
  },
  {
   "cell_type": "code",
   "execution_count": 52,
   "id": "231c0146",
   "metadata": {},
   "outputs": [
    {
     "data": {
      "text/plain": [
       "[10, 20, '박재영', '이충민', '1B', '담요', '메카', '메카', [30, 40], [30, 40], '메카', '메카']"
      ]
     },
     "execution_count": 52,
     "metadata": {},
     "output_type": "execute_result"
    }
   ],
   "source": [
    "n1 = n\n",
    "n"
   ]
  },
  {
   "cell_type": "code",
   "execution_count": 51,
   "id": "18b538c9",
   "metadata": {},
   "outputs": [
    {
     "data": {
      "text/plain": [
       "[10, 20, '박재영', '이충민', '1B', '담요', '메카', '메카', [30, 40], [30, 40], '메카', '메카']"
      ]
     },
     "execution_count": 51,
     "metadata": {},
     "output_type": "execute_result"
    }
   ],
   "source": [
    "n1 = n.copy()\n",
    "n1"
   ]
  },
  {
   "cell_type": "code",
   "execution_count": 53,
   "id": "9932a0c7",
   "metadata": {},
   "outputs": [
    {
     "data": {
      "text/plain": [
       "[10, 20, 'park', '이충민', '1B', '담요', '메카', '메카', [30, 40], [30, 40], '메카', '메카']"
      ]
     },
     "execution_count": 53,
     "metadata": {},
     "output_type": "execute_result"
    }
   ],
   "source": [
    "n1 = n #얕은 복사  -> 원본과 사본을 합침\n",
    "n1[2] = 'park'\n",
    "n1"
   ]
  },
  {
   "cell_type": "code",
   "execution_count": 54,
   "id": "3193768c",
   "metadata": {},
   "outputs": [
    {
     "data": {
      "text/plain": [
       "[10, 20, 'park', '이충민', '1B', '담요', '메카', '메카', [30, 40], [30, 40], '메카', '메카']"
      ]
     },
     "execution_count": 54,
     "metadata": {},
     "output_type": "execute_result"
    }
   ],
   "source": [
    "n"
   ]
  },
  {
   "cell_type": "code",
   "execution_count": 55,
   "id": "6b29e38f",
   "metadata": {},
   "outputs": [
    {
     "data": {
      "text/plain": [
       "[10, 20, '박재영', '이충민', '1B', '담요', '메카', '메카', [30, 40], [30, 40], '메카', '메카']"
      ]
     },
     "execution_count": 55,
     "metadata": {},
     "output_type": "execute_result"
    }
   ],
   "source": [
    "n2 = n.copy() # 깊은 복사   -> 원본과 사본을 분리하기위함\n",
    "n2[2] = '박재영'\n",
    "n2"
   ]
  },
  {
   "cell_type": "code",
   "execution_count": 56,
   "id": "bc5ef549",
   "metadata": {},
   "outputs": [
    {
     "data": {
      "text/plain": [
       "[10, 20, 'park', '이충민', '1B', '담요', '메카', '메카', [30, 40], [30, 40], '메카', '메카']"
      ]
     },
     "execution_count": 56,
     "metadata": {},
     "output_type": "execute_result"
    }
   ],
   "source": [
    "n"
   ]
  }
 ],
 "metadata": {
  "kernelspec": {
   "display_name": "Python 3",
   "language": "python",
   "name": "python3"
  },
  "language_info": {
   "codemirror_mode": {
    "name": "ipython",
    "version": 3
   },
   "file_extension": ".py",
   "mimetype": "text/x-python",
   "name": "python",
   "nbconvert_exporter": "python",
   "pygments_lexer": "ipython3",
   "version": "3.8.8"
  }
 },
 "nbformat": 4,
 "nbformat_minor": 5
}
